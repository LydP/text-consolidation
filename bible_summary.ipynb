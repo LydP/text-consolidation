{
 "cells": [
  {
   "cell_type": "markdown",
   "id": "ee689ef3-e4d5-476f-a59c-77fa77d1ae20",
   "metadata": {},
   "source": [
    "This notebook shows the effects of using the long-form text consolidation and summarization functions I made in the consolidation-comparison.ipynb notebook on the Bible. I ran them on the whole Bible, the New Testament, the Old Testament, and each book. I've included the description of those techniques below for the sake of completeness. I did this purely out of curiosity; this is not meant to serve as any form of conclusive analysis.\n",
    "\n",
    "# Methods\n",
    "\n",
    "## TF-IDF\n",
    "\n",
    "Term frequency-inverse document frequency gives high weights to words that are present in a given document (term frequency), but rare across the entire corpus (inverse document frequency). I wanted to explore the utility of using this techinque for consolidating long texts. I used the follow process:\n",
    "\n",
    "1. Turn text into a list of sentences.\n",
    "2. Create the sparse TF-IDF matrix from these sentences. Each sentence is a document, and the full collection of sentences is the corpus.\n",
    "3. Pool the vectors in this matrix using either max or sum pooling.\n",
    "    - Max pooling captures the maximum TF-IDF score for each word. Broadly speaking, this vector represents the text's most important topics.\n",
    "    - Sum pooling sums all TF-IDF scores for each word. Broadly speaking, this vector represents the text's recurring themes.\n",
    "5. Use MMR to select sentences based on their TF-IDF vectors.\n",
    "\n",
    "## Transformers\n",
    "\n",
    "This approach uses sentence transformers in fundamentally the same process as I used for TF-IDF consolidation.\n",
    "\n",
    "1. Chunk text into either sentences or fixed-size chunks.\n",
    "2. Embed text chunks.\n",
    "3. Mean pool embeddings.\n",
    "4. Use MMR to select sentences based on their embeddings.\n",
    "\n",
    "NB: `transformers_consolidation()` contains options for length weighted mean pooling and semantic centrality pooling, which aren't implemented in this notebook, but were implemented in another notebook not in this repository. Length weighted mean pooling finds the average of the vectors weighted by the length of the sentence each vector represents. Semantic centrality pooling weights each embedding by its average cosine similarity to all other embeddings. \n",
    "\n",
    "## Hugging Face Summarization Pipeline\n",
    "\n",
    "The approach iteratively summarizes long-form text using Hugging Face's summarization pipeline. \n",
    "\n",
    "1. Determine token limit of summarization model.\n",
    "2. Chunk text into pieces ~50% of model's token limit.\n",
    "3. Summarize each chunk to 30-90% of its original length.\n",
    "4. Concatentate chunks.\n",
    "5. Repeat chunking and summarization process of concatenated text until concatenated text is within defined limits.\n",
    "\n",
    "NB: `summarization_pipeline_consolidation()` contains options for paragraph chunking and semantic chunking, which aren't implemented in this notebook. Where `semantic_chunking()` is implemnented, it uses LangChain's SemanticChunker (`from langchain_experimental.text_splitter import SemanticChunker`). \n",
    "\n",
    "# Observations\n",
    "\n",
    "There's a lot of text in this notebook, so I haven't read through all of it yet, but here are some of my more immediate observations.\n",
    "\n",
    "- TF-IDF consolidation with max pooling produced identical results for the whole Bible and the Old Testament.\n",
    "- Transformers consolidation with chunk pooling produced very similar results for the whole Bible and the Old Testament. The only difference was a single sentence, \"And Araunah said unto David, Let my lord the king take and offer up what seemeth good unto him: behold, here be oxen for burnt sacrifice, and threshing instruments and other instruments of the oxen for wood,\" which is present in the consolidation for the whole Bible but not the Old Testament.\n",
    "- Much of the text returned by `summarization_pipeline_consolidation()` is similar between the whole Bible and the Old Testament. The whole Bible summarization has several more sentences at the end, however.\n",
    "\n",
    "I expect that the previous three observations simply result from the fact that the Old Testament is a much larger portion of the Bible than the New Testament. Changing the MMR lambda value may produce different results.\n",
    "\n",
    "Part of the inspiration for this project was curiosity about what would happen if I tried to condense the Bible into a single, discourse coherent paragraph. However, the summarization pipeline results overall seem too noisy to be usable in any meaningful way. They're better for the individual books, espeically the shorter ones, but not for the full testaments and the whole Bible. Iteratively summarizing text like I did opens up too many opportunities for artifacts to appear, which they certainly did. I'm sure I'd get usable results if I used one of the big LLMs (ChatGPT, Claude, etc.) or did some careful model selection and parameter tuning. \n",
    "\n",
    "I first tried to use the pegasus-x-large model because it produced such good results in the consolidation_comparison.ipynb notebook before it devolved into repetition. I thought that, with some parameter tuning, it could give me what I was hoping for. However, running it locally on the entire Bible proved too resource intensive (i.e. it was taking too long and I got impatient), so I opted for sshleifer/distilbart-cnn-12-6, which produced sufficiently passable results in the other notebook.\n",
    "\n",
    "One thing to keep in mind with these results is that, due to the nature of NLP, these results are semantically important, but not necessarily theologically important. Studying the overlap between semantic and theological importance could be an an interesting project for later."
   ]
  },
  {
   "cell_type": "markdown",
   "id": "da02cec0-2361-401f-ae17-2aa8089c25e7",
   "metadata": {},
   "source": [
    "# Imports and Functions"
   ]
  },
  {
   "cell_type": "code",
   "execution_count": 1,
   "id": "2dcc4fe0-1757-46e1-9d5d-85b1d0025569",
   "metadata": {},
   "outputs": [
    {
     "name": "stderr",
     "output_type": "stream",
     "text": [
      "C:\\MyStuff\\Applications\\Productivity\\Programming\\Python\\jupyter-env-313\\Lib\\site-packages\\tqdm\\auto.py:21: TqdmWarning: IProgress not found. Please update jupyter and ipywidgets. See https://ipywidgets.readthedocs.io/en/stable/user_install.html\n",
      "  from .autonotebook import tqdm as notebook_tqdm\n"
     ]
    }
   ],
   "source": [
    "import numpy as np\n",
    "import ebooklib\n",
    "from bs4 import BeautifulSoup\n",
    "from ebooklib import epub\n",
    "from sentence_transformers import SentenceTransformer\n",
    "from nltk.tokenize import sent_tokenize\n",
    "from sklearn.feature_extraction.text import TfidfVectorizer\n",
    "from sklearn.metrics.pairwise import cosine_similarity\n",
    "from transformers import AutoConfig, AutoTokenizer, pipeline\n",
    "from transformers import logging\n",
    "\n",
    "import math\n",
    "import re\n",
    "import warnings\n",
    "import requests\n",
    "\n",
    "logging.set_verbosity_error()"
   ]
  },
  {
   "cell_type": "markdown",
   "id": "1e58e104-9019-48fb-9d22-db71e0e867b5",
   "metadata": {},
   "source": [
    "## Bible Parsing Functions"
   ]
  },
  {
   "cell_type": "code",
   "execution_count": 2,
   "id": "30a78780-f687-4f21-9257-3357b48d0c3a",
   "metadata": {},
   "outputs": [],
   "source": [
    "def get_book_text(book: str, bible: dict) -> str:\n",
    "    \"\"\"\n",
    "    Extract and concatenate all chapter text from a specific book of the Bible.\n",
    "    \n",
    "    Args:\n",
    "        book (str): Name of the biblical book (e.g., 'Genesis', 'Luke')\n",
    "        bible (dict): Dictionary with book names as keys and nested dictionaries as values.\n",
    "            Each nested dictionary has chapter numbers (int) as keys and chapter text (str) as values.\n",
    "            Structure: {book_name: {chapter_number: chapter_text}}\n",
    "    \n",
    "    Returns:\n",
    "        str: Complete text of the specified book with chapters concatenated and \n",
    "            separated by newlines\n",
    "    \n",
    "    Raises:\n",
    "        ValueError: If the specified book is not found in the Bible dictionary\n",
    "    \"\"\"\n",
    "    if book not in bible:\n",
    "        raise ValueError(f\"Book '{book}' not found in Bible\")\n",
    "    \n",
    "    return '\\n'.join(text for _, text in bible[book].items())\n",
    "\n",
    "\n",
    "def get_chapter_text(book: str, chapter: int, bible: dict) -> str:\n",
    "    \"\"\"\n",
    "    Extract the text from a specific chapter of a biblical book.\n",
    "    \n",
    "    Args:\n",
    "        book (str): Name of the biblical book (e.g., 'Genesis', 'Luke')\n",
    "        chapter (int): Chapter number (e.g., 1, 2, 3)\n",
    "        bible (dict): Dictionary with book names as keys and nested dictionaries as values.\n",
    "            Each nested dictionary has chapter numbers (int) as keys and chapter text (str) as values.\n",
    "            Structure: {book_name: {chapter_number: chapter_text}}\n",
    "    \n",
    "    Returns:\n",
    "        str: Text content of the specified chapter\n",
    "    \n",
    "    Raises:\n",
    "        ValueError: If the specified book is not found in the Bible dictionary\n",
    "        ValueError: If the specified chapter is not found in the book\n",
    "    \"\"\"\n",
    "    if book not in bible:\n",
    "        raise ValueError(f\"Book '{book}' not found in Bible\")\n",
    "\n",
    "    for chapter_title, chapter_text in bible[book]:\n",
    "        if chapter_title == chapter:\n",
    "            return chapter_text\n",
    "    \n",
    "    raise ValueError(f\"Chapter '{chapter}' not found in book '{book}'. \"\n",
    "                     f\"'{book}' has {len(bible[book])} chapters.\")"
   ]
  },
  {
   "cell_type": "markdown",
   "id": "e7e48c6b-f8cc-4423-ab86-843b1ad442be",
   "metadata": {},
   "source": [
    "## NLP Functions"
   ]
  },
  {
   "cell_type": "code",
   "execution_count": 3,
   "id": "261b36b6-9fa8-435c-adf4-edf34471e0ce",
   "metadata": {},
   "outputs": [],
   "source": [
    "def mean_pooling(embeddings: np.ndarray) -> np.ndarray:\n",
    "    \"\"\"\n",
    "    Compute the mean pooling of embeddings.\n",
    "    \n",
    "    Args:\n",
    "        embeddings (np.ndarray): Input embeddings array\n",
    "       \n",
    "    Returns:\n",
    "        np.ndarray: Mean-pooled vector\n",
    "    \"\"\"\n",
    "    text_vector = np.mean(embeddings, axis=0)\n",
    "\n",
    "    return text_vector\n",
    "    \n",
    "\n",
    "def fixed_size_chunking(text: str, model_name: str = 'sentence-transformers/all-MiniLM-L6-v2', doc_size: int = None, full_sentences: bool = True) -> list[str]:\n",
    "    \"\"\"\n",
    "    Split text into fixed-size chunks based on token count.\n",
    "\n",
    "    When full_sentences=True, tries to keep sentences intact but will split oversized\n",
    "    sentences. When False, splits text purely by token count regardless of boundaries.\n",
    "    \n",
    "    Args:\n",
    "        text (str): Input text to chunk\n",
    "        model_name (str): HuggingFace model name for tokenizer. \n",
    "            Defaults to 'sentence-transformers/all-MiniLM-L6-v2'.\n",
    "        doc_size (int | None): Maximum tokens per chunk. If None, uses model's max \n",
    "            length with a buffer for safety. Defaults to None.\n",
    "        full_sentences (bool): If True, preserves sentence boundaries when possible.\n",
    "            Defaults to True.\n",
    "       \n",
    "    Returns:\n",
    "        list[str]: List of text chunks, each within the token limit\n",
    "    \"\"\"\n",
    "    tokenizer = AutoTokenizer.from_pretrained(model_name)\n",
    "    if doc_size is None:\n",
    "        doc_size = get_model_max_length(model_name)[0] - 50  # -50 b/c sometimes I reach token limits without it\n",
    "\n",
    "    docs = []\n",
    "    \n",
    "    if full_sentences:\n",
    "        sentences = sent_tokenize(text)\n",
    "\n",
    "        encoded_sentences = [tokenizer.encode(sent) for sent in sentences]\n",
    "        current_tokens = 0\n",
    "        current_chunk = []\n",
    "        for sent, encoded_sent in zip(sentences, encoded_sentences):\n",
    "            # If adding this sentence would exceed the limit, finalize current chunk and reset everything\n",
    "            if len(encoded_sent) + current_tokens > doc_size and current_chunk:\n",
    "                chunk_text = ' '.join(current_chunk)\n",
    "                docs.append(chunk_text)\n",
    "                current_chunk = []\n",
    "                current_tokens = 0\n",
    "\n",
    "            # If a single sentence exceeds doc_size, split it up\n",
    "            if len(encoded_sent) > doc_size:\n",
    "                if current_chunk:\n",
    "                    # First, add any accumulated sentences\n",
    "                    chunk_text = ' '.join(current_chunk)\n",
    "                    docs.append(chunk_text)\n",
    "                    current_chunk = []\n",
    "                    current_tokens = 0\n",
    "\n",
    "                for i in range(0, len(encoded_sent), doc_size):\n",
    "                    chunk_tokens = encoded_sent[i:i + doc_size]\n",
    "                    doc_text = tokenizer.decode(chunk_tokens, skip_special_tokens=True, clean_up_tokenization_spaces=True)\n",
    "                    docs.append(doc_text)\n",
    "            else:\n",
    "                # Add sentence to current chunk\n",
    "                current_chunk.append(sent)\n",
    "                current_tokens += len(encoded_sent)\n",
    "\n",
    "        if current_chunk:\n",
    "            chunk_text = ' '.join(current_chunk)\n",
    "            docs.append(chunk_text)\n",
    "            \n",
    "    else:\n",
    "        tokens = tokenizer.encode(text)        \n",
    "        \n",
    "        for i in range(0, len(tokens), doc_size):\n",
    "            chunk_tokens = tokens[i:i + doc_size]\n",
    "            doc_text = tokenizer.decode(chunk_tokens, skip_special_tokens=True, clean_up_tokenization_spaces=True)\n",
    "            docs.append(doc_text)\n",
    "    \n",
    "    return docs"
   ]
  },
  {
   "cell_type": "code",
   "execution_count": 4,
   "id": "e282b1e5-8dcc-4baa-bb1d-fda0c3425846",
   "metadata": {},
   "outputs": [],
   "source": [
    "def get_model_max_length(model_name: str) -> tuple[int, str]:\n",
    "    \"\"\"\n",
    "    Get the maximum sequence length for a given model.\n",
    "\n",
    "    Tries multiple common config attributes in order of preference, falls back to \n",
    "    tokenizer.model_max_length, then defaults to 512 if nothing reasonable is found.\n",
    "    Filters out unreasonably large values (>1M) that are likely placeholder defaults.\n",
    "    \n",
    "    Args:\n",
    "        model_name (str): HuggingFace model identifier\n",
    "       \n",
    "    Returns:\n",
    "        tuple[int, str]: A tuple containing:\n",
    "            - max_length (int): Maximum sequence length\n",
    "            - source_attribute (str): Which attribute was used to determine the length\n",
    "            \n",
    "    Raises:\n",
    "        Warning: If model cannot be loaded or no reliable max length found\n",
    "    \"\"\"\n",
    "    try:\n",
    "        max_reasonable_length = 1_000_000\n",
    "        \n",
    "        config = AutoConfig.from_pretrained(model_name)\n",
    "        tokenizer = AutoTokenizer.from_pretrained(model_name)\n",
    "        \n",
    "        # List of possible attributes that indicate max length\n",
    "        # Order matters - more specific attributes first\n",
    "        length_attributes = [\n",
    "            'max_source_positions',     # BART, Pegasus\n",
    "            'max_position_embeddings',  # BERT, GPT, many others\n",
    "            'n_positions',              # GPT-2, GPT-J\n",
    "            'max_sequence_length',      # Some custom models\n",
    "            'model_max_length',         # Tokenizer (fallback)\n",
    "            'max_len',                  # Some older models\n",
    "        ]\n",
    "        \n",
    "        found_length = None\n",
    "        used_attribute = None\n",
    "        \n",
    "        # Check config first\n",
    "        for attr in length_attributes[:-1]:  # Exclude model_max_length for now\n",
    "            if hasattr(config, attr):\n",
    "                value = getattr(config, attr)\n",
    "                # Filter out unreasonably large values (likely defaults)\n",
    "                if value and value < max_reasonable_length:\n",
    "                    found_length = value\n",
    "                    used_attribute = f\"config.{attr}\"\n",
    "                    break\n",
    "        \n",
    "        # If no reasonable value found in config, check tokenizer as fallback\n",
    "        if found_length is None:\n",
    "            tokenizer_max = tokenizer.model_max_length\n",
    "            if tokenizer_max < max_reasonable_length:\n",
    "                found_length = tokenizer_max\n",
    "                used_attribute = \"tokenizer.model_max_length\"\n",
    "            else:\n",
    "                # Last resort - use a conservative default\n",
    "                found_length = 512\n",
    "                used_attribute = \"default (no reliable max found)\"\n",
    "                warnings.warn(f\"Could not determine max length for {model_name}, using conservative default of 512\")\n",
    "        \n",
    "        return found_length, used_attribute\n",
    "        \n",
    "    except Exception as e:\n",
    "        warnings.warn(f\"Error getting max length for {model_name}: {e}. Using default of 512.\")\n",
    "        return 512, \"default (error occurred)\""
   ]
  },
  {
   "cell_type": "code",
   "execution_count": 5,
   "id": "86461813-ab89-40cf-a3f1-9d2242bce30b",
   "metadata": {},
   "outputs": [],
   "source": [
    "def mmr(doc_embeddings: np.ndarray, query_embedding: np.ndarray, max_tokens: int, chunked_sentences: list[tuple], lambda_param: float = 0.5) -> list:\n",
    "    \"\"\"\n",
    "    Maximal Marginal Relevance with token budget constraint.\n",
    "    \n",
    "    Args:\n",
    "        doc_embeddings (np.ndarray): Document embeddings matrix of shape (n_docs, embedding_dim)\n",
    "        query_embedding (np.ndarray): Query embedding vector of shape (embedding_dim,)\n",
    "        max_tokens (int): Maximum token budget for selected sentences\n",
    "        chunked_sentences (list[tuple]): List of (text, token_list) tuples where \n",
    "            text is the sentence string and token_list is the tokenized representation\n",
    "        lambda_param (float): Relevance vs diversity trade-off parameter. \n",
    "            1.0 = pure relevance, 0.0 = pure diversity. Defaults to 0.5.\n",
    "    \n",
    "    Returns:\n",
    "        list[tuple]: Selected sentences as (text, token_list) tuples within token budget\n",
    "    \"\"\"\n",
    "    query_similarities = cosine_similarity(doc_embeddings, [query_embedding]).flatten()\n",
    "\n",
    "    selected = []\n",
    "    remaining = list(range(len(doc_embeddings)))\n",
    "    token_count = 0\n",
    "    \n",
    "    while remaining and token_count < max_tokens:\n",
    "        if not selected:\n",
    "            idx = np.argmax(query_similarities)\n",
    "        else:\n",
    "            mmr_scores = []\n",
    "            for i in remaining:\n",
    "                max_selected_similarity = np.max(cosine_similarity([doc_embeddings[i]], doc_embeddings[selected]))\n",
    "                mmr = lambda_param * query_similarities[i] - (1 - lambda_param) * max_selected_similarity\n",
    "                mmr_scores.append(mmr)\n",
    "\n",
    "            best_idx = np.argmax(mmr_scores)            \n",
    "            idx = remaining[best_idx]  \n",
    "\n",
    "        # Check if adding this sentence would exceed token limit\n",
    "        sentence_tokens = len(chunked_sentences[idx][1])\n",
    "        if token_count + sentence_tokens > max_tokens:\n",
    "            break\n",
    "            \n",
    "        selected.append(idx)\n",
    "        remaining.remove(idx)\n",
    "        token_count += sentence_tokens\n",
    "\n",
    "    return [chunked_sentences[i] for i in selected]"
   ]
  },
  {
   "cell_type": "code",
   "execution_count": 6,
   "id": "401c0d1e-d90e-46c5-8fd3-c87667fc7ed5",
   "metadata": {},
   "outputs": [],
   "source": [
    "def tfidf_consolidation(text: str, model_name: str = 'sentence-transformers/all-MiniLM-L6-v2', output: str = 'text', pooling: str = 'max', max_tokens: int = None, mmr_lambda: float = 0.5) -> list:\n",
    "    \"\"\"\n",
    "    Consolidate text by selecting most important sentences using TF-IDF and MMR.\n",
    "\n",
    "    Splits text into sentences, calculates TF-IDF vectors for each sentence, creates\n",
    "    a document centroid using pooling, then applies Maximal Marginal Relevance (MMR)\n",
    "    to select sentences that balance relevance to the document centroid with diversity.\n",
    "    \n",
    "    Args:\n",
    "        text (str): Input text to consolidate\n",
    "        model_name (str): HuggingFace model name used to determine token limits and \n",
    "            tokenization. Defaults to 'sentence-transformers/all-MiniLM-L6-v2'.\n",
    "        output (str): Output format - 'tokens' returns token lists, 'text' returns \n",
    "            strings. Defaults to 'text'.\n",
    "        pooling (str): Pooling method for document centroid - 'max' (element-wise \n",
    "            maximum) or 'sum' (element-wise sum). Defaults to 'max'.\n",
    "        max_tokens (int | None): Maximum tokens in output. If None, uses model's \n",
    "            maximum length. Defaults to None.\n",
    "        mmr_lambda (float): MMR relevance vs diversity trade-off parameter \n",
    "            (1.0=pure relevance, 0.0=pure diversity). Defaults to 0.5.\n",
    "       \n",
    "    Returns:\n",
    "        list[list[int]] | list[str]: Selected sentences as token lists or text strings \n",
    "            based on output parameter\n",
    "            \n",
    "    Raises:\n",
    "        ValueError: If no sentences found in input text\n",
    "    \"\"\"\n",
    "    # Initialize tokenizer from model name\n",
    "    tokenizer = AutoTokenizer.from_pretrained(model_name)\n",
    "        \n",
    "    # Auto-detect model's token limit\n",
    "    if max_tokens is None:\n",
    "        max_tokens = get_model_max_length(model_name)[0]\n",
    "\n",
    "    # Split text into sentences (NB: does not split along newlines)\n",
    "    sentences = sent_tokenize(text)\n",
    "    if not sentences:\n",
    "        raise ValueError(\"No sentences found in text.\")\n",
    "    encoded_sentences = [(sentence, tokenizer.encode(sentence)) for sentence in sentences]\n",
    "\n",
    "    # Check if consolidation is needed\n",
    "    text_tokens = sum(len(item[1]) for item in encoded_sentences)\n",
    "    if text_tokens <= max_tokens: # No consolidation needed\n",
    "        if output == 'tokens':\n",
    "            return [item[1] for item in encoded_sentences]\n",
    "        elif output == 'text':\n",
    "            return [item[0] for item in encoded_sentences]\n",
    "        else:\n",
    "            warnings.warn('Invalid output. Defaulting to tokens.')\n",
    "            return [item[1] for item in encoded_sentences]\n",
    "    \n",
    "    chunked_sentences = []\n",
    "    for sentence, encoded in encoded_sentences:\n",
    "        if len(encoded) <= max_tokens:            \n",
    "            chunked_sentences.append((sentence, encoded))\n",
    "        else:\n",
    "            # Break apart sentences that are longer than max_tokens\n",
    "            # TODO this approach is inefficient, but works for now\n",
    "            for i in range(0, len(encoded), max_tokens):\n",
    "                segment_text = tokenizer.decode(encoded[i:i + max_tokens], skip_special_tokens=True, clean_up_tokenization_spaces=True)\n",
    "                segment_tokens = encoded[i:i + max_tokens]\n",
    "                chunked_sentences.append((segment_text, segment_tokens))\n",
    "    \n",
    "    # Calculate sentence importance using TF-IDF\n",
    "    vectorizer = TfidfVectorizer(stop_words='english')\n",
    "    \n",
    "    # Create document-term matrix (each sentence is a document)\n",
    "    try:\n",
    "        sentence_vectors = vectorizer.fit_transform([item[0] for item in chunked_sentences])\n",
    "    except ValueError:\n",
    "        # Handle case with too few sentences or no features, which can occur when document is empty or consists of only stop words\n",
    "        # Fallback: take first sentences up to token limit\n",
    "        selected_sentences = []\n",
    "        total_tokens = 0\n",
    "        \n",
    "        for sentence, encoded in chunked_sentences:  # Use chunked_sentences for consistency\n",
    "            sentence_tokens = len(encoded)\n",
    "            if total_tokens + sentence_tokens <= max_tokens:\n",
    "                selected_sentences.append((sentence, encoded))\n",
    "                total_tokens += sentence_tokens\n",
    "            else:\n",
    "                break\n",
    "        \n",
    "        if output == 'tokens':\n",
    "            return [item[1] for item in selected_sentences]\n",
    "        elif output == 'text':\n",
    "            return [item[0] for item in selected_sentences]\n",
    "        else:\n",
    "            warnings.warn('Invalid output. Defaulting to text.')\n",
    "            return [item[0] for item in selected_sentences]\n",
    "    \n",
    "    if pooling == 'max':\n",
    "        doc_centroid = np.max(sentence_vectors.toarray(), axis=0)\n",
    "    elif pooling == 'sum':\n",
    "        doc_centroid = np.sum(sentence_vectors.toarray(), axis=0)\n",
    "    else:\n",
    "        warnings.warn('Invalid pooling method. Defaulting to max pooling.')\n",
    "        doc_centroid = np.max(sentence_vectors.toarray(), axis=0)\n",
    "\n",
    "    mmr_selection = mmr(sentence_vectors.toarray(), doc_centroid, max_tokens=max_tokens, chunked_sentences=chunked_sentences, lambda_param=mmr_lambda)\n",
    "    \n",
    "    if output == 'tokens':\n",
    "        return [selected[1] for selected in mmr_selection]\n",
    "    elif output == 'text':\n",
    "        return [selected[0] for selected in mmr_selection]\n",
    "    else:\n",
    "        warnings.warn('Invalid output. Defaulting to text.')\n",
    "        return [selected[0] for selected in mmr_selection]"
   ]
  },
  {
   "cell_type": "code",
   "execution_count": 7,
   "id": "c90f71c2-e5b6-4658-9287-0286cc5282ee",
   "metadata": {},
   "outputs": [],
   "source": [
    "def transformers_consolidation(text: str,\n",
    "                               pooling: str = 'mean',\n",
    "                               model_name: str = 'sentence-transformers/all-MiniLM-L6-v2',\n",
    "                               output: str = 'text',\n",
    "                               chunking_method: str = 'sentence',\n",
    "                               max_tokens: int = None,\n",
    "                              mmr_lambda: float = 0.5) -> list:\n",
    "    \"\"\"\n",
    "    Consolidate text by selecting sentences using embeddings and MMR algorithm.\n",
    "\n",
    "    Embeds all sentences, computes a document centroid using specified chunking method \n",
    "    and pooling strategy, then applies Maximal Marginal Relevance (MMR) to select \n",
    "    sentences that balance similarity to the centroid with diversity among selections.\n",
    "    \n",
    "    Args:\n",
    "        text (str): Input text to consolidate\n",
    "        pooling (str): Pooling method for document centroid. Options: 'mean' (implemented), \n",
    "            'len_weighted', 'semantic_centrality' (not implemented). Defaults to 'mean'.\n",
    "        model_name (str): SentenceTransformer model name for embeddings. \n",
    "            Defaults to 'sentence-transformers/all-MiniLM-L6-v2'.\n",
    "        output (str): Output format - 'tokens' returns token lists, 'text' returns \n",
    "            strings. Defaults to 'text'.\n",
    "        chunking_method (str): Method for computing document centroid:\n",
    "            - 'sentence': Use sentence embeddings for centroid calculation\n",
    "            - 'chunks': Use fixed-size chunk embeddings for centroid calculation\n",
    "            Defaults to 'sentence'.\n",
    "        max_tokens (int | None): Maximum tokens in output. If None, uses model's \n",
    "            maximum length. Defaults to None.\n",
    "        mmr_lambda (float): MMR relevance vs diversity trade-off parameter \n",
    "            (1.0=pure relevance, 0.0=pure diversity). Defaults to 0.5.\n",
    "       \n",
    "    Returns:\n",
    "        list[list[int]] | list[str]: Selected sentences as token lists or text strings \n",
    "            based on output parameter, ordered by MMR selection algorithm\n",
    "            \n",
    "    Raises:\n",
    "        ValueError: If no sentences found in input text\n",
    "    \"\"\"\n",
    "    # Initialize embedder\n",
    "    embedder = SentenceTransformer(model_name)\n",
    "    tokenizer = embedder.tokenizer\n",
    "        \n",
    "    # Auto-detect model's token limit\n",
    "    if max_tokens is None:\n",
    "        max_tokens = get_model_max_length(model_name)[0]\n",
    "    \n",
    "    # Split text into sentences (NB: does not split along newlines)\n",
    "    sentences = sent_tokenize(text)\n",
    "    if not sentences:\n",
    "        raise ValueError(\"No sentences found in text.\")\n",
    "    encoded_sentences = [(sentence, tokenizer.encode(sentence)) for sentence in sentences]\n",
    "\n",
    "    # Check if consolidation is needed\n",
    "    text_tokens = sum(len(item[1]) for item in encoded_sentences)\n",
    "    if text_tokens <= max_tokens: # No consolidation needed\n",
    "        if output == 'tokens':\n",
    "            return [item[1] for item in encoded_sentences]\n",
    "        elif output == 'text':\n",
    "            return [item[0] for item in encoded_sentences]\n",
    "        else:\n",
    "            warnings.warn('Invalid output. Defaulting to tokens.')\n",
    "            return [item[1] for item in encoded_sentences]\n",
    "\n",
    "    # Break apart sentences that are longer than max_tokens\n",
    "    chunked_sentences = []\n",
    "    for sentence, encoded in encoded_sentences:\n",
    "        if len(encoded) <= max_tokens:            \n",
    "            chunked_sentences.append((sentence, encoded))\n",
    "        else:\n",
    "            # TODO this approach is inefficient, but works for now\n",
    "            for i in range(0, len(encoded), max_tokens):\n",
    "                segment_text = tokenizer.decode(encoded[i:i + max_tokens], skip_special_tokens=True, clean_up_tokenization_spaces=True)\n",
    "                segment_tokens = encoded[i:i + max_tokens]\n",
    "                chunked_sentences.append((segment_text, segment_tokens))\n",
    "\n",
    "    # Always embed sentences for selection\n",
    "    sentence_embeddings = embedder.encode([item[0] for item in chunked_sentences], normalize_embeddings=False)\n",
    "    \n",
    "    # Embed and pool using pooling method of choice\n",
    "    if chunking_method == 'sentence':        \n",
    "        centroid_embeddings = sentence_embeddings  # Use sentence embeddings for centroid\n",
    "    elif chunking_method == 'chunks':\n",
    "        chunks = fixed_size_chunking(text, model_name=model_name)\n",
    "        centroid_embeddings = embedder.encode(chunks, normalize_embeddings=False)  # Use chunk embeddings for centroid\n",
    "    else:\n",
    "        warnings.warn('Invalid chunking method. Defaulting to sentence chunking.')\n",
    "        centroid_embeddings = sentence_embeddings\n",
    "\n",
    "    if pooling == 'mean':\n",
    "        doc_centroid = mean_pooling(centroid_embeddings)\n",
    "    elif pooling == 'len_weighted':\n",
    "        doc_centroid = len_weighted_mean_pooling(centroid_embeddings)\n",
    "    elif pooling == 'semantic_centrality':\n",
    "        doc_centroid = semantic_centrality_weighting(centroid_embeddings)\n",
    "    else:\n",
    "        warnings.warn('Invalid pooling method. Defaulting to mean pooling.')\n",
    "        doc_centroid = mean_pooling(centroid_embeddings)\n",
    "    \n",
    "    mmr_selection = mmr(sentence_embeddings, doc_centroid, max_tokens=max_tokens, chunked_sentences=chunked_sentences, lambda_param=mmr_lambda)\n",
    "    \n",
    "    if output == 'tokens':\n",
    "        return [selected[1] for selected in mmr_selection]\n",
    "    elif output == 'text':\n",
    "        return [selected[0] for selected in mmr_selection]\n",
    "    else:\n",
    "        warnings.warn('Invalid output. Defaulting to text.')\n",
    "        return [selected[0] for selected in mmr_selection]"
   ]
  },
  {
   "cell_type": "code",
   "execution_count": 8,
   "id": "2180c1f5-b636-41b1-a234-dcbee4c4d5be",
   "metadata": {},
   "outputs": [],
   "source": [
    "def summarization_pipeline_consolidation(text: str, model: str = 'sshleifer/distilbart-cnn-12-6', summary_size: int = None) -> str:\n",
    "    \"\"\"\n",
    "    Consolidate text using iterative summarization until target size is reached.\n",
    "\n",
    "    Chunks the input text and summarizes each chunk, then iteratively re-chunks \n",
    "    and re-summarizes the combined summaries until the result fits within the \n",
    "    target token limit. Uses a chunk ratio of 0.5 times the model's token limit \n",
    "    for processing chunks.\n",
    "    \n",
    "    Args:\n",
    "        text (str): Input text to consolidate\n",
    "        model (str): HuggingFace summarization model name. \n",
    "            Defaults to 'facebook/bart-large-cnn'.\n",
    "        chunking_method (str): Method for chunking text. Options: 'fixed_size' \n",
    "            (implemented), 'paragraph', 'semantic' (may not be implemented). \n",
    "            Defaults to 'fixed_size'.\n",
    "        summary_size (int | None): Target summary size in tokens. If None, \n",
    "            uses model's maximum length. Defaults to None.\n",
    "       \n",
    "    Returns:\n",
    "        str: Consolidated summary text within the target token limit\n",
    "    \"\"\"\n",
    "    summarizer = pipeline('summarization', model=model)\n",
    "    tokenizer = AutoTokenizer.from_pretrained(model)\n",
    "    model_token_limit = get_model_max_length(model)[0] \n",
    "\n",
    "    if summary_size is None:\n",
    "        summary_size = model_token_limit\n",
    "\n",
    "    if len(tokenizer.encode(text, truncation=False)) <= summary_size: # No consolidation needed\n",
    "        return text\n",
    "\n",
    "    chunk_ratio = 0.6\n",
    "    doc_size = int(model_token_limit * chunk_ratio)\n",
    "    docs = fixed_size_chunking(text, model_name=model, doc_size=doc_size)\n",
    "\n",
    "    # directly summarize text without iterating, if possible\n",
    "    if (len(docs) == 1) and (summary_size <= doc_size):\n",
    "        doc_tokens = len(tokenizer.encode(docs[0]))\n",
    "        min_length = min(math.ceil(doc_tokens * 0.3), math.ceil(summary_size * 0.6))\n",
    "        \n",
    "        return summarizer(\n",
    "                docs[0],\n",
    "                max_new_tokens=summary_size,\n",
    "                max_length=summary_size,\n",
    "                min_length=min_length,\n",
    "                repetition_penalty=2.0,\n",
    "                do_sample=False,\n",
    "                num_beams=4,\n",
    "                early_stopping=True\n",
    "            )[0]['summary_text']\n",
    "\n",
    "    while(True):   \n",
    "        summaries = ''\n",
    "        for doc in docs:\n",
    "            doc_tokens = len(tokenizer.encode(doc))\n",
    "\n",
    "            max_length = math.ceil(doc_tokens * 0.9)                                    \n",
    "            min_length = math.ceil(doc_tokens * 0.3)\n",
    "\n",
    "            # For debugging\n",
    "            # print(f\"About to summarize chunk with {doc_tokens} tokens. Limit: {summary_size}. max_length: {max_length}\")\n",
    "            # if doc_tokens > summary_size:\n",
    "            #     print(f\"WARNING: Chunk exceeds model limit!\")\n",
    "            \n",
    "            summary = summarizer(\n",
    "                doc,\n",
    "                max_new_tokens=max_length,\n",
    "                max_length=max_length,\n",
    "                min_length=min_length,\n",
    "                repetition_penalty=2.0,\n",
    "                do_sample=False,\n",
    "                num_beams=4,\n",
    "                early_stopping=True\n",
    "            )[0]['summary_text']\n",
    "    \n",
    "            summaries += summary + ' '\n",
    "\n",
    "        summaries_tokenized = tokenizer.encode(summaries)\n",
    "\n",
    "        # for debugging\n",
    "        # print(len(summaries_tokenized))\n",
    "        # TODO need a failsafe infinite loops. Maybe if len(summaries_tokenized) doesn't change, then break   \n",
    "        if len(summaries_tokenized) <= summary_size:\n",
    "            break\n",
    "            \n",
    "        docs = fixed_size_chunking(summaries, model_name=model, doc_size=int(model_token_limit * chunk_ratio))\n",
    "    \n",
    "    return summaries"
   ]
  },
  {
   "cell_type": "code",
   "execution_count": 9,
   "id": "47b12987-563d-4375-81f4-1373ae154d67",
   "metadata": {},
   "outputs": [],
   "source": [
    "def printing(text: str) -> None:\n",
    "    print('*' * len('*** TF-IDF Consolidation ***'))\n",
    "    print('*** TF-IDF Consolidation ***')\n",
    "    print('*' * len('*** TF-IDF Consolidation ***'))\n",
    "    print('Max pooling:')\n",
    "    print('-' * len('Max pooling:'))\n",
    "    print(' '.join(tfidf_consolidation(text, pooling='max')))\n",
    "    print('=' * 60)\n",
    "    print('Sum pooling:')\n",
    "    print('-' * len('Sum pooling:'))\n",
    "    print(' '.join(tfidf_consolidation(text, pooling='sum')))\n",
    "\n",
    "    print()\n",
    "    \n",
    "    print('*' * len('*** Transformers Consolidation ***'))\n",
    "    print('*** Transformers Consolidation ***')\n",
    "    print('*' * len('*** Transformers Consolidation ***'))\n",
    "    print('Sentence pooling:')\n",
    "    print('-' * len('Sentence pooling:'))\n",
    "    print(' '.join(transformers_consolidation(text, chunking_method='sentence')))\n",
    "    print('=' * 60)\n",
    "    print('Chunk pooling:')\n",
    "    print('-' * len('Chunk pooling:'))\n",
    "    print(' '.join(transformers_consolidation(text, chunking_method='chunks')))"
   ]
  },
  {
   "cell_type": "markdown",
   "id": "116781fa-46f9-45c4-af5d-ffe701154576",
   "metadata": {},
   "source": [
    "# Text Parsing"
   ]
  },
  {
   "cell_type": "code",
   "execution_count": 10,
   "id": "dc312520-90f5-4052-a824-557e03741a22",
   "metadata": {},
   "outputs": [],
   "source": [
    "king_james_bible = epub.read_epub('KJV.epub')"
   ]
  },
  {
   "cell_type": "code",
   "execution_count": 11,
   "id": "909010d2-16fe-4aa5-a221-25736de195f5",
   "metadata": {},
   "outputs": [],
   "source": [
    "bible = {}\n",
    "current_book = None\n",
    "\n",
    "for item in king_james_bible.get_items():\n",
    "    if item.get_type() == ebooklib.ITEM_DOCUMENT:\n",
    "        soup = BeautifulSoup(item.get_content(), 'html.parser').find('body')\n",
    "        \n",
    "        # book and chapter, e.g. Genesis 1\n",
    "        title = soup.find('h2').get_text().strip()\n",
    "        \n",
    "        # remove book, chapter, and verse numbers from body text\n",
    "        soup.find('h2').decompose()\n",
    "        for span in soup.find_all('span'):\n",
    "            span.decompose()\n",
    "        \n",
    "        # clean up whitespace and replace carriage returns with newlines\n",
    "        body = soup.get_text().strip()\n",
    "        body = body.replace('\\r', '\\n')\n",
    "\n",
    "        # separate book from chapters\n",
    "        if re.search(r'\\d+$', title):\n",
    "            if current_book:\n",
    "                # Extract just the chapter number/name\n",
    "                chapter_key = title.replace(current_book, '').strip()\n",
    "                bible[current_book][int(chapter_key)] = body\n",
    "        else:\n",
    "            current_book = title\n",
    "            bible[current_book] = {}"
   ]
  },
  {
   "cell_type": "markdown",
   "id": "8db7029d-4588-46b2-a598-86a49e264d81",
   "metadata": {},
   "source": [
    "# Whole Bible"
   ]
  },
  {
   "cell_type": "code",
   "execution_count": 12,
   "id": "e72d4de0-17db-45ac-ab2a-a0b1a23e5800",
   "metadata": {},
   "outputs": [],
   "source": [
    "old_testament_books = [\n",
    "    'Genesis', 'Exodus', 'Leviticus', 'Numbers', 'Deuteronomy', 'Joshua', 'Judges', 'Ruth', '1 Samuel', '2 Samuel',\n",
    "    '1 Kings', '2 Kings', '1 Chronicles', '2 Chronicles', 'Ezra', 'Nehemiah', 'Esther', 'Job', 'Psalms', 'Proverbs',\n",
    "    'Ecclesiastes', 'Song of Solomon', 'Isaiah', 'Jeremiah', 'Lamentations', 'Ezekiel', 'Daniel', 'Hosea', 'Joel',\n",
    "    'Amos', 'Obadiah', 'Jonah', 'Micah', 'Nahum', 'Habakkuk', 'Zephaniah', 'Haggai', 'Zechariah', 'Malachi'\n",
    "]\n",
    "\n",
    "new_testament_books = [\n",
    "    'Matthew', 'Mark', 'Luke', 'John', 'Acts', 'Romans', '1 Corinthians', '2 Corinthians', 'Galatians',\n",
    "    'Ephesians', 'Philippians', 'Colossians', '1 Thessalonians', '2 Thessalonians', '1 Timothy', '2 Timothy',\n",
    "    'Titus', 'Philemon', 'Hebrews', 'James', '1 Peter', '2 Peter', '1 John', '2 John', '3 John', 'Jude',\n",
    "    'Revelation'\n",
    "]\n",
    "\n",
    "all_books = old_testament_books + new_testament_books\n",
    "\n",
    "bible_text = '\\n'.join(get_book_text(book, bible) for book in all_books)\n",
    "old_testament = '\\n'.join(get_book_text(book, bible) for book in old_testament_books)\n",
    "new_testament = '\\n'.join(get_book_text(book, bible) for book in new_testament_books)"
   ]
  },
  {
   "cell_type": "code",
   "execution_count": 161,
   "id": "fad9c35d-25f9-4361-a9e3-961d39084a23",
   "metadata": {},
   "outputs": [
    {
     "name": "stdout",
     "output_type": "stream",
     "text": [
      "****************************\n",
      "*** TF-IDF Consolidation ***\n",
      "****************************\n",
      "Max pooling:\n",
      "------------\n",
      "behold, thou hast made the heaven and the earth by thy great power and stretched out arm, and there is nothing too hard for thee:\n",
      "  Thou shewest lovingkindness unto thousands, and recompensest the iniquity of the fathers into the bosom of their children after them: the Great, the Mighty God, the LORD of hosts, is his name,\n",
      "  Great in counsel, and mighty in work: for thine eyes are open upon all the ways of the sons of men: to give every one according to his ways, and according to the fruit of his doings:\n",
      "  Which hast set signs and wonders in the land of Egypt, even unto this day, and in Israel, and among other men; and hast made thee a name, as at this day;\n",
      "  And hast brought forth thy people Israel out of the land of Egypt with signs, and with wonders, and with a strong hand, and with a stretched out arm, and with great terror;\n",
      "  And hast given them this land, which thou didst swear to their fathers to give them, a land flowing with milk and honey;\n",
      "  And they came in, and possessed it; but they obeyed not thy voice, neither walked in thy law; they have done nothing of all that thou commandedst them to do: therefore thou hast caused all this evil to come upon them:\n",
      "  Behold the mounts, they are come unto the city to take it; and the city is given into the hand of the Chaldeans, that fight against it, because of the sword, and of the famine, and of the pestilence: and what thou hast spoken is come to pass; and, behold, thou seest it.\n",
      "============================================================\n",
      "Sum pooling:\n",
      "------------\n",
      "Ye shall not do so unto the LORD your God. Moreover concerning the stranger, which is not of thy people Israel, but is come from a far country for thy great name's sake, and thy mighty hand, and thy stretched out arm; if they come and pray in this house;\n",
      "  Then hear thou from the heavens, even from thy dwelling place, and do according to all that the stranger calleth to thee for; that all people of the earth may know thy name, and fear thee, as doth thy people Israel, and may know that this house which I have built is called by thy name. And they said, So do, as thou hast said. And in the morning came the word of the LORD unto me, saying,\n",
      "  Son of man, hath not the house of Israel, the rebellious house, said unto thee, What doest thou? And he said unto him, Fear not: for the hand of Saul my father shall not find thee; and thou shalt be king over Israel, and I shall be next unto thee; and that also Saul my father knoweth. And I came this day unto the well, and said, O LORD God of my master Abraham, if now thou do prosper my way which I go:\n",
      "  Behold, I stand by the well of water; and it shall come to pass, that when the virgin cometh forth to draw water, and I say to her, Give me, I pray thee, a little water of thy pitcher to drink;\n",
      "  And she say to me, Both drink thou, and I will also draw for thy camels: let the same be the woman whom the LORD hath appointed out for my master's son. And thou shalt do that which is right and good in the sight of the LORD: that it may be well with thee, and that thou mayest go in and possess the good land which the LORD sware unto thy fathers,\n",
      "  To cast out all thine enemies from before thee, as the LORD hath spoken. And Shimei the son of Gera fell down before the king, as he was come over Jordan;\n",
      "  And said unto the king, Let not my lord impute iniquity unto me, neither do thou remember that which thy servant did perversely the day that my lord the king went out of Jerusalem, that the king should take it to his heart.\n",
      "\n",
      "**********************************\n",
      "*** Transformers Consolidation ***\n",
      "**********************************\n",
      "Sentence pooling:\n",
      "-----------------\n",
      "And he shall deliver their kings into thine hand, and thou shalt destroy their name from under heaven: there shall no man be able to stand before thee, until thou have destroyed them. And the barbarous people shewed us no little kindness: for they kindled a fire, and received us every one, because of the present rain, and because of the cold. He went his way therefore, and washed, and came seeing. Then were assembled unto me every one that trembled at the words of the God of Israel, because of the transgression of those that had been carried away; and I sat astonied until the evening sacrifice. So the servants of the householder came and said unto him, Sir, didst not thou sow good seed in thy field? And she sent and called Barak the son of Abinoam out of Kedeshnaphtali, and said unto him, Hath not the LORD God of Israel commanded, saying, Go and draw toward mount Tabor, and take with thee ten thousand men of the children of Naphtali and of the children of Zebulun? Send me now therefore a man cunning to work in gold, and in silver, and in brass, and in iron, and in purple, and crimson, and blue, and that can skill to grave with the cunning men that are with me in Judah and in Jerusalem, whom David my father did provide. And when they were come to the land of Zuph, Saul said to his servant that was with him, Come, and let us return; lest my father leave caring for the asses, and take thought for us. And it came to pass, as he had made an end of speaking all these words, that the ground clave asunder that was under them:\n",
      "  And the earth opened her mouth, and swallowed them up, and their houses, and all the men that appertained unto Korah, and all their goods. Hear ye this, O priests; and hearken, ye house of Israel; and give ye ear, O house of the king; for judgment is toward you, because ye have been a snare on Mizpah, and a net spread upon Tabor. The voice of one crying in the wilderness, Prepare ye the way of the Lord, make his paths straight.\n",
      "============================================================\n",
      "Chunk pooling:\n",
      "--------------\n",
      "behold, thou hast made the heaven and the earth by thy great power and stretched out arm, and there is nothing too hard for thee:\n",
      "  Thou shewest lovingkindness unto thousands, and recompensest the iniquity of the fathers into the bosom of their children after them: the Great, the Mighty God, the LORD of hosts, is his name,\n",
      "  Great in counsel, and mighty in work: for thine eyes are open upon all the ways of the sons of men: to give every one according to his ways, and according to the fruit of his doings:\n",
      "  Which hast set signs and wonders in the land of Egypt, even unto this day, and in Israel, and among other men; and hast made thee a name, as at this day;\n",
      "  And hast brought forth thy people Israel out of the land of Egypt with signs, and with wonders, and with a strong hand, and with a stretched out arm, and with great terror;\n",
      "  And hast given them this land, which thou didst swear to their fathers to give them, a land flowing with milk and honey;\n",
      "  And they came in, and possessed it; but they obeyed not thy voice, neither walked in thy law; they have done nothing of all that thou commandedst them to do: therefore thou hast caused all this evil to come upon them:\n",
      "  Behold the mounts, they are come unto the city to take it; and the city is given into the hand of the Chaldeans, that fight against it, because of the sword, and of the famine, and of the pestilence: and what thou hast spoken is come to pass; and, behold, thou seest it. And Araunah said unto David, Let my lord the king take and offer up what seemeth good unto him: behold, here be oxen for burnt sacrifice, and threshing instruments and other instruments of the oxen for wood. For thus saith the LORD, the God of Israel, concerning the houses of this city, and concerning the houses of the kings of Judah, which are thrown down by the mounts, and by the sword;\n",
      "  They come to fight with the Chaldeans, but it is to fill them with the dead bodies of men, whom I have slain in mine anger and in my fury, and for all whose wickedness I have hid my face from this city.\n"
     ]
    }
   ],
   "source": [
    "printing(bible_text)"
   ]
  },
  {
   "cell_type": "code",
   "execution_count": 13,
   "id": "bc04cddc-3669-49ba-9247-56d4301b3e5a",
   "metadata": {},
   "outputs": [
    {
     "name": "stderr",
     "output_type": "stream",
     "text": [
      "C:\\MyStuff\\Applications\\Productivity\\Programming\\Python\\jupyter-env-313\\Lib\\site-packages\\huggingface_hub\\file_download.py:143: UserWarning: `huggingface_hub` cache-system uses symlinks by default to efficiently store duplicated files but your machine does not support them in C:\\Users\\lydp7\\.cache\\huggingface\\hub\\models--sshleifer--distilbart-cnn-12-6. Caching files will still work but in a degraded version that might require more space on your disk. This warning can be disabled by setting the `HF_HUB_DISABLE_SYMLINKS_WARNING` environment variable. For more details, see https://huggingface.co/docs/huggingface_hub/how-to-cache#limitations.\n",
      "To support symlinks on Windows, you either need to activate Developer Mode or to run Python as an administrator. In order to activate developer mode, see this article: https://docs.microsoft.com/en-us/windows/apps/get-started/enable-your-device-for-development\n",
      "  warnings.warn(message)\n"
     ]
    },
    {
     "data": {
      "text/plain": [
       "' Noah begat three sons, Shem, Ham, and Japheth:\\xa0and Noah was five hundred years old when the flood of waters was upon the earth . Noah went into the ark with his sons, his wife, and his sons\\' wives with him . Afterward he vowed a vow, saying, \\'If God will be with me,  then shall the LORD be my God\\' Joseph was brought down to Egypt; and Potiphar, an officer of Pharaoh, captain of the guard, an Egyptian, bought him of the hands of the Ishmeelites . He shaved himself, and changed his raiment, and came in unto Pharaoh . And, behold, seven thin ears of corn came up upon one stalk, rank and good, and devoured the seven rank and full ears . So Joseph said, \"God forbid that I should  \"To obey is better than sacrifice, and to hearken than the fat of rams,\" says Abraham Abrahams son-in-law Sarah Abrahams daughter-to-son-of-law . Delilah made him shave off seven locks of his head, and she began to afflict him daily with her words . One of the sons of Ahimlech named Abiathar escaped, but David stooped with his face to the earth, and bowed himself . Ahab spake unto Naboth, saying, Give me thy vineyard for money; or else, if it please thee, I will give thee a better vineyard than it . Jezebel his wife said, Dost thou now govern the kingdom of Israel? She wrote letters in Ahab\\'s name, sealed them with his seal, and sent the letters to the elders and to the nobles that were in his city dwelling with Naboth .  A Psalm of David was written by David David, the chief Musician of the Bible . Shiggaion of David is a Psalm for the people who put their trust in thee and defend them . The Psalm contains a list of Psalms from the Bible, which includes Psalms about God and his people . It is said to be one of the most popular versions of the Psalms in the world . For example, no mention will be made to coral or pearls . No mention also made to pearls or coral . Job: God will not cast away a perfect man, neither will he help evil doers . Zophar the Naamathite said, \"I have heard the check of my reproach, and the spirit of my understanding causeth me to answer\" He said: \"He has destroyed me on every side  Jeremiah prophesied in the name of the LORD, saying, This house shall be like Shiloh, and this city shall be desolate without an inhabitant . Jeremiah bought the field of Hanameel my uncle\\'s son, and weighed him the money, even seventeen shekels of silver . Daniel purposed in his heart that he would not defile himself with the meat . Daniel had understanding in all visions and dreams . God gave them knowledge and skill in all learning and wisdom . At the end of ten days their countenances appeared fairer and fatter in flesh than all the children which did eat the portion of the King\\'s meat . Zechariah was angry with the people who refused to listen to the law . He said: Execute true judgment, and shew mercy and compassions every man to his brother . But he that taketh warning shall deliver his soul  Pilate was willing to release Jesus, but he delivered Jesus to their will . Two malefactors, one on the right hand and the other on the left, led with him to be put to death . Lazarus had lain in the grave four days already when Jesus came to Bethany . Martha met him, but Mary sat still in the house; she went to the grave to weep there . Caiaphas, being the high priest that same year said  Jesus walked no more openly among the Jews; but went to a country near to the wilderness, into Ephraim . Simon Peter asked Jesus to wash his feet, but said he would never wash his hands and his head . '"
      ]
     },
     "execution_count": 13,
     "metadata": {},
     "output_type": "execute_result"
    }
   ],
   "source": [
    "summarization_pipeline_consolidation(bible_text)"
   ]
  },
  {
   "cell_type": "code",
   "execution_count": 13,
   "id": "d65e1f89-6d34-48b9-b23b-136f53dfe88b",
   "metadata": {},
   "outputs": [
    {
     "name": "stderr",
     "output_type": "stream",
     "text": [
      "C:\\MyStuff\\Applications\\Productivity\\Programming\\Python\\jupyter-env-313\\Lib\\site-packages\\sklearn\\feature_extraction\\text.py:402: UserWarning: Your stop_words may be inconsistent with your preprocessing. Tokenizing the stop words generated tokens ['articl', 'mon'] not in stop_words.\n",
      "  warnings.warn(\n"
     ]
    },
    {
     "name": "stdout",
     "output_type": "stream",
     "text": [
      "\n",
      "Old Testament:\n",
      "  lord: 0.6175\n",
      "  god: 0.2644\n",
      "  israel: 0.2132\n",
      "  king: 0.2090\n",
      "  son: 0.1681\n",
      "\n",
      "New Testament:\n",
      "  jesus: 0.4256\n",
      "  god: 0.4227\n",
      "  man: 0.2797\n",
      "  christ: 0.2472\n",
      "  things: 0.2246\n"
     ]
    }
   ],
   "source": [
    "# from https://gist.github.com/sebleier/554280?permalink_comment_id=3813988#gistcomment-3813988 \n",
    "# english stopwords list wasn't cutting it for KJV\n",
    "stopwords_list = requests.get(\"https://gist.githubusercontent.com/rg089/35e00abf8941d72d419224cfd5b5925d/raw/12d899b70156fd0041fa9778d657330b024b959c/stopwords.txt\").content\n",
    "stopwords = list(set(stopwords_list.decode().splitlines())) + ['thy', 'thee', 'thine', 'shalt', 'ye', 'hath', 'hast', 'saith', 'doeth', 'art']\n",
    "\n",
    "vectorizer = TfidfVectorizer(ngram_range=(1, 3), stop_words=stopwords)\n",
    "    \n",
    "testament_vectors = vectorizer.fit_transform([old_testament, new_testament])\n",
    "feature_names = vectorizer.get_feature_names_out()\n",
    "\n",
    "# Find top 5 words for each book\n",
    "for i, testament in enumerate(['Old Testament', 'New Testament']):\n",
    "    # TF-IDF scores for current book\n",
    "    testament_tfidf = testament_vectors[i].toarray().flatten()    \n",
    "    # Indices of top 5 scores\n",
    "    top_indices = testament_tfidf.argsort()[-5:][::-1]    \n",
    "    # Words and their scores\n",
    "    top_words = [(feature_names[idx], testament_tfidf[idx]) for idx in top_indices]\n",
    "    \n",
    "    print(f\"\\n{testament}:\")\n",
    "    for word, score in top_words:\n",
    "        print(f\"  {word}: {score:.4f}\")"
   ]
  },
  {
   "cell_type": "code",
   "execution_count": 30,
   "id": "5c7f18ce-b3bd-4cd1-8b46-262f1ff734ec",
   "metadata": {},
   "outputs": [
    {
     "name": "stdout",
     "output_type": "stream",
     "text": [
      "\n",
      "Genesis:\n",
      "  jacob: 0.2118\n",
      "  joseph: 0.2064\n",
      "  land: 0.1669\n",
      "  abraham: 0.1628\n",
      "  father: 0.1561\n",
      "\n",
      "Exodus:\n",
      "  moses: 0.3317\n",
      "  lord: 0.2877\n",
      "  aaron: 0.1809\n",
      "  pharaoh: 0.1750\n",
      "  israel: 0.1482\n",
      "\n",
      "Leviticus:\n",
      "  offering: 0.3312\n",
      "  lord: 0.2442\n",
      "  priest: 0.2329\n",
      "  unclean: 0.1550\n",
      "  aaron: 0.1374\n",
      "\n",
      "Numbers:\n",
      "  lord: 0.2469\n",
      "  offering: 0.2439\n",
      "  moses: 0.2308\n",
      "  israel: 0.1785\n",
      "  children: 0.1733\n",
      "\n",
      "Deuteronomy:\n",
      "  lord: 0.4679\n",
      "  lord god: 0.3581\n",
      "  god: 0.2896\n",
      "  land: 0.2021\n",
      "  people: 0.0960\n",
      "\n",
      "Joshua:\n",
      "  joshua: 0.4302\n",
      "  lord: 0.2241\n",
      "  children: 0.2035\n",
      "  israel: 0.1898\n",
      "  suburbs: 0.1654\n",
      "\n",
      "Judges:\n",
      "  israel: 0.2737\n",
      "  lord: 0.2176\n",
      "  gideon: 0.1963\n",
      "  samson: 0.1741\n",
      "  children: 0.1698\n",
      "\n",
      "Ruth:\n",
      "  naomi: 0.3761\n",
      "  boaz: 0.2854\n",
      "  ruth: 0.1956\n",
      "  kinsman: 0.1855\n",
      "  mother law: 0.1355\n",
      "\n",
      "1 Samuel:\n",
      "  saul: 0.5958\n",
      "  david: 0.3444\n",
      "  samuel: 0.2628\n",
      "  lord: 0.2421\n",
      "  philistines: 0.1741\n",
      "\n",
      "2 Samuel:\n",
      "  david: 0.4374\n",
      "  king: 0.3305\n",
      "  absalom: 0.2898\n",
      "  joab: 0.2627\n",
      "  lord: 0.1758\n",
      "\n",
      "1 Kings:\n",
      "  king: 0.3290\n",
      "  solomon: 0.3193\n",
      "  lord: 0.2607\n",
      "  israel: 0.2235\n",
      "  house: 0.1736\n",
      "\n",
      "2 Kings:\n",
      "  king: 0.3842\n",
      "  lord: 0.2607\n",
      "  elisha: 0.1858\n",
      "  israel: 0.1778\n",
      "  son: 0.1343\n",
      "\n",
      "1 Chronicles:\n",
      "  sons: 0.3653\n",
      "  son: 0.3150\n",
      "  david: 0.3056\n",
      "  begat: 0.1743\n",
      "  lord: 0.1679\n",
      "\n",
      "2 Chronicles:\n",
      "  lord: 0.3317\n",
      "  king: 0.2847\n",
      "  judah: 0.2096\n",
      "  israel: 0.1968\n",
      "  house: 0.1948\n",
      "\n",
      "Ezra:\n",
      "  children: 0.2587\n",
      "  god: 0.1970\n",
      "  king: 0.1874\n",
      "  house: 0.1558\n",
      "  jerusalem: 0.1508\n",
      "\n",
      "Nehemiah:\n",
      "  children: 0.2256\n",
      "  son: 0.2213\n",
      "  repaired: 0.1943\n",
      "  levites: 0.1737\n",
      "  god: 0.1316\n",
      "\n",
      "Esther:\n",
      "  king: 0.4077\n",
      "  esther: 0.3779\n",
      "  haman: 0.3576\n",
      "  mordecai: 0.3312\n",
      "  ahasuerus: 0.1656\n",
      "\n",
      "Job:\n",
      "  job: 0.2920\n",
      "  god: 0.1748\n",
      "  man: 0.1475\n",
      "  almighty: 0.1223\n",
      "  earth: 0.0895\n",
      "\n",
      "Psalms:\n",
      "  lord: 0.4809\n",
      "  god: 0.2551\n",
      "  psalm: 0.1699\n",
      "  praise: 0.1686\n",
      "  selah: 0.1526\n",
      "\n",
      "Proverbs:\n",
      "  man: 0.2508\n",
      "  wicked: 0.1969\n",
      "  fool: 0.1532\n",
      "  wise: 0.1342\n",
      "  wisdom: 0.1331\n",
      "\n",
      "Ecclesiastes:\n",
      "  vanity: 0.2313\n",
      "  man: 0.1843\n",
      "  sun: 0.1566\n",
      "  wisdom: 0.1444\n",
      "  heart: 0.1345\n",
      "\n",
      "Song of Solomon:\n",
      "  beloved: 0.2237\n",
      "  love: 0.1334\n",
      "  daughters jerusalem: 0.1141\n",
      "  spouse: 0.1074\n",
      "  fair: 0.0964\n",
      "\n",
      "Isaiah:\n",
      "  lord: 0.4383\n",
      "  people: 0.1434\n",
      "  god: 0.1180\n",
      "  lord hosts: 0.1106\n",
      "  hosts: 0.1104\n",
      "\n",
      "Jeremiah:\n",
      "  lord: 0.4422\n",
      "  jeremiah: 0.2301\n",
      "  babylon: 0.2199\n",
      "  king: 0.1808\n",
      "  judah: 0.1697\n",
      "\n",
      "Lamentations:\n",
      "  lord: 0.1954\n",
      "  zion: 0.1402\n",
      "  daughter: 0.1301\n",
      "  daughter zion: 0.0949\n",
      "  enemy: 0.0768\n",
      "\n",
      "Ezekiel:\n",
      "  lord: 0.3181\n",
      "  lord god: 0.2168\n",
      "  god: 0.1781\n",
      "  israel: 0.1668\n",
      "  son man: 0.1561\n",
      "\n",
      "Daniel:\n",
      "  king: 0.3533\n",
      "  daniel: 0.3404\n",
      "  nebuchadnezzar: 0.1398\n",
      "  interpretation: 0.1223\n",
      "  kingdom: 0.1174\n",
      "\n",
      "Hosea:\n",
      "  ephraim: 0.2520\n",
      "  israel: 0.1850\n",
      "  lord: 0.1597\n",
      "  god: 0.0975\n",
      "  whoredom: 0.0822\n",
      "\n",
      "Joel:\n",
      "  lord: 0.1855\n",
      "  people: 0.0902\n",
      "  zion: 0.0866\n",
      "  land: 0.0790\n",
      "  children: 0.0667\n",
      "\n",
      "Amos:\n",
      "  lord: 0.3055\n",
      "  lord god: 0.1374\n",
      "  israel: 0.1334\n",
      "  lord transgressions: 0.1204\n",
      "  turn punishment: 0.1204\n",
      "\n",
      "Obadiah:\n",
      "  esau: 0.1951\n",
      "  mount esau: 0.1733\n",
      "  shouldest: 0.1283\n",
      "  day: 0.1242\n",
      "  possess: 0.1168\n",
      "\n",
      "Jonah:\n",
      "  jonah: 0.4486\n",
      "  nineveh: 0.1707\n",
      "  lord: 0.1701\n",
      "  gourd: 0.1369\n",
      "  god: 0.1001\n",
      "\n",
      "Micah:\n",
      "  lord: 0.2022\n",
      "  people: 0.1048\n",
      "  zion: 0.0954\n",
      "  jacob: 0.0886\n",
      "  house: 0.0760\n",
      "\n",
      "Nahum:\n",
      "  lord: 0.0950\n",
      "  cankerworm: 0.0835\n",
      "  nineveh: 0.0636\n",
      "  lord revengeth: 0.0612\n",
      "  revengeth: 0.0612\n",
      "\n",
      "Habakkuk:\n",
      "  lord: 0.0889\n",
      "  violence: 0.0805\n",
      "  selah: 0.0727\n",
      "  didst: 0.0713\n",
      "  woe: 0.0643\n",
      "\n",
      "Zephaniah:\n",
      "  lord: 0.2250\n",
      "  day: 0.1390\n",
      "  desolation: 0.0949\n",
      "  day lord: 0.0810\n",
      "  people: 0.0606\n",
      "\n",
      "Haggai:\n",
      "  lord: 0.2299\n",
      "  haggai: 0.2252\n",
      "  lord hosts: 0.2075\n",
      "  hosts: 0.1803\n",
      "  zerubbabel: 0.1456\n",
      "\n",
      "Zechariah:\n",
      "  lord: 0.3665\n",
      "  lord hosts: 0.3109\n",
      "  hosts: 0.2702\n",
      "  jerusalem: 0.1576\n",
      "  angel talked: 0.1088\n",
      "\n",
      "Malachi:\n",
      "  lord hosts: 0.3187\n",
      "  lord: 0.2883\n",
      "  hosts: 0.2770\n",
      "  treacherously: 0.0853\n",
      "  offering: 0.0702\n",
      "\n",
      "Matthew:\n",
      "  jesus: 0.3627\n",
      "  disciples: 0.2556\n",
      "  man: 0.1547\n",
      "  kingdom heaven: 0.1392\n",
      "  pharisees: 0.1093\n",
      "\n",
      "Mark:\n",
      "  jesus: 0.3029\n",
      "  disciples: 0.2452\n",
      "  man: 0.1610\n",
      "  john: 0.1329\n",
      "  scribes: 0.0964\n",
      "\n",
      "Luke:\n",
      "  jesus: 0.2246\n",
      "  son: 0.1894\n",
      "  man: 0.1750\n",
      "  god: 0.1527\n",
      "  lord: 0.1344\n",
      "\n",
      "John:\n",
      "  jesus: 0.5339\n",
      "  disciples: 0.2314\n",
      "  father: 0.1753\n",
      "  jews: 0.1641\n",
      "  jesus answered: 0.1611\n",
      "\n",
      "Acts:\n",
      "  paul: 0.3288\n",
      "  god: 0.1847\n",
      "  peter: 0.1787\n",
      "  jews: 0.1606\n",
      "  jesus: 0.1330\n",
      "\n",
      "Romans:\n",
      "  god: 0.3314\n",
      "  christ: 0.2515\n",
      "  law: 0.2047\n",
      "  faith: 0.1443\n",
      "  jesus: 0.1406\n",
      "\n",
      "1 Corinthians:\n",
      "  christ: 0.2711\n",
      "  god: 0.2269\n",
      "  man: 0.1936\n",
      "  things: 0.1714\n",
      "  lord: 0.1530\n",
      "\n",
      "2 Corinthians:\n",
      "  christ: 0.2686\n",
      "  god: 0.2219\n",
      "  jesus: 0.1096\n",
      "  glory: 0.1056\n",
      "  perils: 0.1036\n",
      "\n",
      "Galatians:\n",
      "  christ: 0.3125\n",
      "  law: 0.1731\n",
      "  faith: 0.1677\n",
      "  god: 0.1358\n",
      "  jesus: 0.1296\n",
      "\n",
      "Ephesians:\n",
      "  christ: 0.3540\n",
      "  jesus: 0.1616\n",
      "  god: 0.1371\n",
      "  lord: 0.1086\n",
      "  jesus christ: 0.0942\n",
      "\n",
      "Philippians:\n",
      "  christ: 0.3496\n",
      "  jesus: 0.2024\n",
      "  things: 0.1499\n",
      "  god: 0.1142\n",
      "  whatsoever things: 0.1104\n",
      "\n",
      "Colossians:\n",
      "  christ: 0.2624\n",
      "  god: 0.1199\n",
      "  things: 0.1116\n",
      "  laodicea: 0.0808\n",
      "  jesus: 0.0807\n",
      "\n",
      "1 Thessalonians:\n",
      "  god: 0.2249\n",
      "  jesus: 0.1816\n",
      "  lord: 0.1508\n",
      "  christ: 0.1496\n",
      "  lord jesus: 0.1334\n",
      "\n",
      "2 Thessalonians:\n",
      "  christ: 0.1868\n",
      "  lord jesus: 0.1794\n",
      "  lord jesus christ: 0.1788\n",
      "  jesus: 0.1724\n",
      "  lord: 0.1703\n",
      "\n",
      "1 Timothy:\n",
      "  faith: 0.1634\n",
      "  godliness: 0.1458\n",
      "  christ: 0.1376\n",
      "  jesus: 0.1204\n",
      "  good: 0.1186\n",
      "\n",
      "2 Timothy:\n",
      "  christ: 0.1616\n",
      "  jesus: 0.1508\n",
      "  christ jesus: 0.1127\n",
      "  lord: 0.1034\n",
      "  god: 0.0872\n",
      "\n",
      "Titus:\n",
      "  saviour: 0.0990\n",
      "  sober: 0.0973\n",
      "  god: 0.0955\n",
      "  good: 0.0897\n",
      "  things: 0.0871\n",
      "\n",
      "Philemon:\n",
      "  jesus: 0.1615\n",
      "  christ: 0.1615\n",
      "  philemon: 0.1091\n",
      "  prisoner jesus christ: 0.0993\n",
      "  onesimus: 0.0993\n",
      "\n",
      "Hebrews:\n",
      "  god: 0.1964\n",
      "  faith: 0.1618\n",
      "  things: 0.1235\n",
      "  priest: 0.1197\n",
      "  melchisedec: 0.1075\n",
      "\n",
      "James:\n",
      "  faith: 0.1472\n",
      "  faith works: 0.1385\n",
      "  man: 0.1371\n",
      "  brethren: 0.0949\n",
      "  works: 0.0919\n",
      "\n",
      "1 Peter:\n",
      "  god: 0.1918\n",
      "  christ: 0.1865\n",
      "  jesus: 0.0977\n",
      "  jesus christ: 0.0815\n",
      "  conversation: 0.0784\n",
      "\n",
      "2 Peter:\n",
      "  jesus: 0.1034\n",
      "  lord saviour: 0.0988\n",
      "  lord: 0.0973\n",
      "  jesus christ: 0.0937\n",
      "  saviour jesus christ: 0.0919\n",
      "\n",
      "1 John:\n",
      "  god: 0.2983\n",
      "  love: 0.1930\n",
      "  love god: 0.1444\n",
      "  son: 0.1155\n",
      "  born god: 0.1115\n",
      "\n",
      "2 John:\n",
      "  god speed: 0.1396\n",
      "  abideth doctrine: 0.1396\n",
      "  abideth doctrine christ: 0.1396\n",
      "  doctrine christ: 0.1270\n",
      "  lady: 0.1270\n",
      "\n",
      "3 John:\n",
      "  truth beloved: 0.1356\n",
      "  truth: 0.1222\n",
      "  church: 0.0974\n",
      "  beloved: 0.0770\n",
      "  record: 0.0713\n",
      "\n",
      "Jude:\n",
      "  ungodly: 0.1614\n",
      "  jesus christ: 0.0933\n",
      "  jesus: 0.0915\n",
      "  christ: 0.0915\n",
      "  lord: 0.0723\n",
      "\n",
      "Revelation:\n",
      "  angel: 0.1794\n",
      "  god: 0.1703\n",
      "  earth: 0.1670\n",
      "  beast: 0.1403\n",
      "  great: 0.1376\n"
     ]
    }
   ],
   "source": [
    "# from https://gist.github.com/sebleier/554280?permalink_comment_id=3813988#gistcomment-3813988 \n",
    "# english stopwords list wasn't cutting it for KJV\n",
    "stopwords_list = requests.get(\"https://gist.githubusercontent.com/rg089/35e00abf8941d72d419224cfd5b5925d/raw/12d899b70156fd0041fa9778d657330b024b959c/stopwords.txt\").content\n",
    "stopwords = list(set(stopwords_list.decode().splitlines())) + ['thy', 'thee', 'thine', 'shalt', 'ye', 'hath', 'hast', 'saith', 'doeth', 'art']\n",
    "\n",
    "vectorizer = TfidfVectorizer(ngram_range=(1, 3), stop_words=stopwords)\n",
    "    \n",
    "book_vectors = vectorizer.fit_transform([get_book_text(book, bible) for book in all_books])\n",
    "feature_names = vectorizer.get_feature_names_out()\n",
    "\n",
    "# Find top 5 words for each book\n",
    "for i, book in enumerate(all_books):\n",
    "    # TF-IDF scores for current book\n",
    "    book_tfidf = book_vectors[i].toarray().flatten()    \n",
    "    # Indices of top 5 scores\n",
    "    top_indices = book_tfidf.argsort()[-5:][::-1]    \n",
    "    # Words and their scores\n",
    "    top_words = [(feature_names[idx], book_tfidf[idx]) for idx in top_indices]\n",
    "    \n",
    "    print(f\"\\n{book}:\")\n",
    "    for word, score in top_words:\n",
    "        print(f\"  {word}: {score:.4f}\")"
   ]
  },
  {
   "cell_type": "markdown",
   "id": "b7f44baf-2958-4842-9461-577f294e2472",
   "metadata": {},
   "source": [
    "# Old Testament"
   ]
  },
  {
   "cell_type": "markdown",
   "id": "f84e8835-4f0e-495a-b867-e7e25b7c1ccf",
   "metadata": {},
   "source": [
    "## Full Old Testament"
   ]
  },
  {
   "cell_type": "code",
   "execution_count": 18,
   "id": "46304ad4-f4a0-470a-a9c9-1974ea4f627a",
   "metadata": {},
   "outputs": [
    {
     "name": "stdout",
     "output_type": "stream",
     "text": [
      "****************************\n",
      "*** TF-IDF Consolidation ***\n",
      "****************************\n",
      "Max pooling:\n",
      "------------\n",
      "behold, thou hast made the heaven and the earth by thy great power and stretched out arm, and there is nothing too hard for thee:\n",
      "  Thou shewest lovingkindness unto thousands, and recompensest the iniquity of the fathers into the bosom of their children after them: the Great, the Mighty God, the LORD of hosts, is his name,\n",
      "  Great in counsel, and mighty in work: for thine eyes are open upon all the ways of the sons of men: to give every one according to his ways, and according to the fruit of his doings:\n",
      "  Which hast set signs and wonders in the land of Egypt, even unto this day, and in Israel, and among other men; and hast made thee a name, as at this day;\n",
      "  And hast brought forth thy people Israel out of the land of Egypt with signs, and with wonders, and with a strong hand, and with a stretched out arm, and with great terror;\n",
      "  And hast given them this land, which thou didst swear to their fathers to give them, a land flowing with milk and honey;\n",
      "  And they came in, and possessed it; but they obeyed not thy voice, neither walked in thy law; they have done nothing of all that thou commandedst them to do: therefore thou hast caused all this evil to come upon them:\n",
      "  Behold the mounts, they are come unto the city to take it; and the city is given into the hand of the Chaldeans, that fight against it, because of the sword, and of the famine, and of the pestilence: and what thou hast spoken is come to pass; and, behold, thou seest it.\n",
      "============================================================\n",
      "Sum pooling:\n",
      "------------\n",
      "Ye shall not do so unto the LORD your God. Moreover concerning the stranger, which is not of thy people Israel, but is come from a far country for thy great name's sake, and thy mighty hand, and thy stretched out arm; if they come and pray in this house;\n",
      "  Then hear thou from the heavens, even from thy dwelling place, and do according to all that the stranger calleth to thee for; that all people of the earth may know thy name, and fear thee, as doth thy people Israel, and may know that this house which I have built is called by thy name. And he said, Thou shalt not go through. And in the morning came the word of the LORD unto me, saying,\n",
      "  Son of man, hath not the house of Israel, the rebellious house, said unto thee, What doest thou? And the men of David said unto him, Behold the day of which the LORD said unto thee, Behold, I will deliver thine enemy into thine hand, that thou mayest do to him as it shall seem good unto thee. And Shimei the son of Gera fell down before the king, as he was come over Jordan;\n",
      "  And said unto the king, Let not my lord impute iniquity unto me, neither do thou remember that which thy servant did perversely the day that my lord the king went out of Jerusalem, that the king should take it to his heart. Therefore, behold, the days come, saith the LORD, that it shall no more be said, The LORD liveth, that brought up the children of Israel out of the land of Egypt;\n",
      "  But, The LORD liveth, that brought up the children of Israel from the land of the north, and from all the lands whither he had driven them: and I will bring them again into their land that I gave unto their fathers. And many nations shall be joined to the LORD in that day, and shall be my people: and I will dwell in the midst of thee, and thou shalt know that the LORD of hosts hath sent me unto thee.\n",
      "\n",
      "**********************************\n",
      "*** Transformers Consolidation ***\n",
      "**********************************\n",
      "Sentence pooling:\n",
      "-----------------\n",
      "The word of the LORD came again unto me, saying,\n",
      "  Son of man, set thy face against the Ammonites, and prophesy against them;\n",
      "  And say unto the Ammonites, Hear the word of the Lord GOD; Thus saith the Lord GOD; Because thou saidst, Aha, against my sanctuary, when it was profaned; and against the land of Israel, when it was desolate; and against the house of Judah, when they went into captivity;\n",
      "  Behold, therefore I will deliver thee to the men of the east for a possession, and they shall set their palaces in thee, and make their dwellings in thee: they shall eat thy fruit, and they shall drink thy milk. And he smote him that he died. As the cloud is consumed and vanisheth away: so he that goeth down to the grave shall come up no more. And king Solomon passed all the kings of the earth in riches and wisdom. And as a yearly hired servant shall he be with him: and the other shall not rule with rigour over him in thy sight. And he returned unto him, and, lo, he stood by his burnt sacrifice, he, and all the princes of Moab. Therefore now let your hands be strengthened, and be ye valiant: for your master Saul is dead, and also the house of Judah have anointed me king over them. And thou shalt make them linen breeches to cover their nakedness; from the loins even unto the thighs they shall reach:\n",
      "  And they shall be upon Aaron, and upon his sons, when they come in unto the tabernacle of the congregation, or when they come near unto the altar to minister in the holy place; that they bear not iniquity, and die: it shall be a statute for ever unto him and his seed after him. And the elders of that city shall take that man and chastise him;\n",
      "  And they shall amerce him in an hundred shekels of silver, and give them unto the father of the damsel, because he hath brought up an evil name upon a virgin of Israel: and she shall be his wife; he may not put her away all his days.\n",
      "============================================================\n",
      "Chunk pooling:\n",
      "--------------\n",
      "behold, thou hast made the heaven and the earth by thy great power and stretched out arm, and there is nothing too hard for thee:\n",
      "  Thou shewest lovingkindness unto thousands, and recompensest the iniquity of the fathers into the bosom of their children after them: the Great, the Mighty God, the LORD of hosts, is his name,\n",
      "  Great in counsel, and mighty in work: for thine eyes are open upon all the ways of the sons of men: to give every one according to his ways, and according to the fruit of his doings:\n",
      "  Which hast set signs and wonders in the land of Egypt, even unto this day, and in Israel, and among other men; and hast made thee a name, as at this day;\n",
      "  And hast brought forth thy people Israel out of the land of Egypt with signs, and with wonders, and with a strong hand, and with a stretched out arm, and with great terror;\n",
      "  And hast given them this land, which thou didst swear to their fathers to give them, a land flowing with milk and honey;\n",
      "  And they came in, and possessed it; but they obeyed not thy voice, neither walked in thy law; they have done nothing of all that thou commandedst them to do: therefore thou hast caused all this evil to come upon them:\n",
      "  Behold the mounts, they are come unto the city to take it; and the city is given into the hand of the Chaldeans, that fight against it, because of the sword, and of the famine, and of the pestilence: and what thou hast spoken is come to pass; and, behold, thou seest it. For thus saith the LORD, the God of Israel, concerning the houses of this city, and concerning the houses of the kings of Judah, which are thrown down by the mounts, and by the sword;\n",
      "  They come to fight with the Chaldeans, but it is to fill them with the dead bodies of men, whom I have slain in mine anger and in my fury, and for all whose wickedness I have hid my face from this city.\n"
     ]
    }
   ],
   "source": [
    "printing(old_testament)"
   ]
  },
  {
   "cell_type": "code",
   "execution_count": 47,
   "id": "b02d1d06-3771-449d-b0a4-fa966bccac6a",
   "metadata": {},
   "outputs": [
    {
     "data": {
      "text/plain": [
       "' Noah begat three sons, Shem, Ham, and Japheth:\\xa0and Noah was five hundred years old when the flood of waters was upon the earth . Noah went into the ark with his sons, his wife, and his sons\\' wives with him . Afterward he vowed a vow, saying, \\'If God will be with me,  then shall the LORD be my God\\' Joseph was brought down to Egypt; and Potiphar, an officer of Pharaoh, captain of the guard, an Egyptian, bought him of the hands of the Ishmeelites . He shaved himself, and changed his raiment, and came in unto Pharaoh . And, behold, seven thin ears of corn came up upon one stalk, rank and good, and devoured the seven rank and full ears . So Joseph said, \"God forbid that I should  \"To obey is better than sacrifice, and to hearken than the fat of rams,\" says Abraham Abrahams son-in-law Sarah Abrahams daughter-to-son-of-law . Delilah made him shave off seven locks of his head, and she began to afflict him daily with her words . One of the sons of Ahimlech named Abiathar escaped, but David stooped with his face to the earth, and bowed himself . Ahab spake unto Naboth, saying, Give me thy vineyard for money; or else, if it please thee, I will give thee a better vineyard than it . Jezebel his wife said, Dost thou now govern the kingdom of Israel? She wrote letters in Ahab\\'s name, sealed them with his seal, and sent the letters to the elders and to the nobles that were in his city dwelling with Naboth .  A Psalm of David was written by David David, the chief Musician of the Bible . Shiggaion of David is a Psalm for the people who put their trust in thee and defend them . The Psalm contains a list of Psalms from the Bible, which includes Psalms about God and his people . It is said to be one of the most popular versions of the Psalms in the world . For example, no mention will be made to coral or pearls . No mention also made to pearls or coral . Job: God will not cast away a perfect man, neither will he help evil doers . Zophar the Naamathite said, \"I have heard the check of my reproach, and the spirit of my understanding causeth me to answer\" He said: \"He has destroyed me on every side  Jeremiah prophesied in the name of the LORD, saying, This house shall be like Shiloh, and this city shall be desolate without an inhabitant . Jeremiah bought the field of Hanameel my uncle\\'s son, and weighed him the money, even seventeen shekels of silver . The day that cometh to spoil all the Philistines, and to cut off from Tyrus and Zidon every helper that remaineth: for the LORD will spoil them . There shall be no more praise of Moab: in Heshbon they have devised evil against it; come, and let us cut it off from being a nation . Declare ye among the nations, and publish, and set up a standard; publish not . '"
      ]
     },
     "execution_count": 47,
     "metadata": {},
     "output_type": "execute_result"
    }
   ],
   "source": [
    "summarization_pipeline_consolidation(old_testament)"
   ]
  },
  {
   "cell_type": "markdown",
   "id": "6845720d-3d41-4f1c-b2df-d512fe47ef7b",
   "metadata": {},
   "source": [
    "## Genesis"
   ]
  },
  {
   "cell_type": "code",
   "execution_count": 15,
   "id": "21a9202f-d902-4fd5-af89-319682c75f84",
   "metadata": {},
   "outputs": [],
   "source": [
    "genesis = get_book_text('Genesis', bible)"
   ]
  },
  {
   "cell_type": "code",
   "execution_count": 16,
   "id": "989c1c79-1b83-40fe-b950-4fa53d819197",
   "metadata": {},
   "outputs": [
    {
     "name": "stdout",
     "output_type": "stream",
     "text": [
      "****************************\n",
      "*** TF-IDF Consolidation ***\n",
      "****************************\n",
      "Max pooling:\n",
      "------------\n",
      "And the LORD appeared unto him in the plains of Mamre: and he sat in the tent door in the heat of the day;\n",
      "  And he lift up his eyes and looked, and, lo, three men stood by him: and when he saw them, he ran to meet them from the tent door, and bowed himself toward the ground,\n",
      "  And said, My Lord, if now I have found favour in thy sight, pass not away, I pray thee, from thy servant:\n",
      "  Let a little water, I pray you, be fetched, and wash your feet, and rest yourselves under the tree:\n",
      "  And I will fetch a morsel of bread, and comfort ye your hearts; after that ye shall pass on: for therefore are ye come to your servant. And Abram took Sarai his wife, and Lot his brother's son, and all their substance that they had gathered, and the souls that they had gotten in Haran; and they went forth to go into the land of Canaan; and into the land of Canaan they came. Now the sons of Jacob were twelve:\n",
      "  The sons of Leah; Reuben, Jacob's firstborn, and Simeon, and Levi, and Judah, and Issachar, and Zebulun:\n",
      "  The sons of Rachel; Joseph, and Benjamin:\n",
      "  And the sons of Bilhah, Rachel's handmaid; Dan, and Naphtali:\n",
      "  And the sons of Zilpah, Leah's handmaid; Gad, and Asher: these are the sons of Jacob, which were born to him in Padanaram. Then spake the chief butler unto Pharaoh, saying, I do remember my faults this day:\n",
      "  Pharaoh was wroth with his servants, and put me in ward in the captain of the guard's house, both me and the chief baker:\n",
      "  And we dreamed a dream in one night, I and he; we dreamed each man according to the interpretation of his dream. And Abraham drew near, and said, Wilt thou also destroy the righteous with the wicked?\n",
      "============================================================\n",
      "Sum pooling:\n",
      "------------\n",
      "The LORD God of heaven, which took me from my father's house, and from the land of my kindred, and which spake unto me, and that sware unto me, saying, Unto thy seed will I give this land; he shall send his angel before thee, and thou shalt take a wife unto my son from thence. And she said, I will go. And Joseph brought in Jacob his father, and set him before Pharaoh: and Jacob blessed Pharaoh. And God said unto him, Thy name is Jacob: thy name shall not be called any more Jacob, but Israel shall be thy name: and he called his name Israel. But God came to Abimelech in a dream by night, and said to him, Behold, thou art but a dead man, for the woman which thou hast taken; for she is a man's wife. And I came this day unto the well, and said, O LORD God of my master Abraham, if now thou do prosper my way which I go:\n",
      "  Behold, I stand by the well of water; and it shall come to pass, that when the virgin cometh forth to draw water, and I say to her, Give me, I pray thee, a little water of thy pitcher to drink;\n",
      "  And she say to me, Both drink thou, and I will also draw for thy camels: let the same be the woman whom the LORD hath appointed out for my master's son. And Jacob came out of the field in the evening, and Leah went out to meet him, and said, Thou must come in unto me; for surely I have hired thee with my son's mandrakes. And he said, I am God, the God of thy father: fear not to go down into Egypt; for I will there make of thee a great nation:\n",
      "  I will go down with thee into Egypt; and I will also surely bring thee up again: and Joseph shall put his hand upon thine eyes. And Joseph said unto his father, They are my sons, whom God hath given me in this place. And Isaac answered and said unto Esau, Behold, I have made him thy lord, and all his brethren have I given to him for servants; and with corn and wine have I sustained him: and what shall I do now unto thee, my son?\n",
      "\n",
      "**********************************\n",
      "*** Transformers Consolidation ***\n",
      "**********************************\n",
      "Sentence pooling:\n",
      "-----------------\n",
      "And he lifted up his eyes, and saw the women and the children; and said, Who are those with thee? Gather yourselves together, and hear, ye sons of Jacob; and hearken unto Israel your father. Then Isaac sowed in that land, and received in the same year an hundredfold: and the LORD blessed him. This is the thing which I have spoken unto Pharaoh: What God is about to do he sheweth unto Pharaoh. And unto Joseph were born two sons before the years of famine came, which Asenath the daughter of Potipherah priest of On bare unto him. And God said unto Abraham, Thou shalt keep my covenant therefore, thou, and thy seed after thee in their generations. And he said unto them, Know ye Laban the son of Nahor? And in process of time the daughter of Shuah Judah's wife died; and Judah was comforted, and went up unto his sheepshearers to Timnath, he and his friend Hirah the Adullamite. And he also had made savoury meat, and brought it unto his father, and said unto his father, Let my father arise, and eat of his son's venison, that thy soul may bless me. And they took Lot, Abram's brother's son, who dwelt in Sodom, and his goods, and departed. And Reuben said unto them, Shed no blood, but cast him into this pit that is in the wilderness, and lay no hand upon him; that he might rid him out of their hands, to deliver him to his father again. And they gave unto Jacob all the strange gods which were in their hand, and all their earrings which were in their ears; and Jacob hid them under the oak which was by Shechem. And Joseph said unto his brethren, and unto his father's house, I will go up, and shew Pharaoh, and say unto him, My brethren, and my father's house, which were in the land of Canaan, are come unto me;\n",
      "  And the men are shepherds, for their trade hath been to feed cattle; and they have brought their flocks, and their herds, and all that they have.\n",
      "============================================================\n",
      "Chunk pooling:\n",
      "--------------\n",
      "And Joseph said unto his brethren, and unto his father's house, I will go up, and shew Pharaoh, and say unto him, My brethren, and my father's house, which were in the land of Canaan, are come unto me;\n",
      "  And the men are shepherds, for their trade hath been to feed cattle; and they have brought their flocks, and their herds, and all that they have. For Sarah conceived, and bare Abraham a son in his old age, at the set time of which God had spoken to him. Therefore the children of Israel eat not of the sinew which shrank, which is upon the hollow of the thigh, unto this day: because he touched the hollow of Jacob's thigh in the sinew that shrank. And Er, Judah's firstborn, was wicked in the sight of the LORD; and the LORD slew him. And Rebekah took goodly raiment of her eldest son Esau, which were with her in the house, and put them upon Jacob her younger son:\n",
      "  And she put the skins of the kids of the goats upon his hands, and upon the smooth of his neck:\n",
      "  And she gave the savoury meat and the bread, which she had prepared, into the hand of her son Jacob. And he said, Take now thy son, thine only son Isaac, whom thou lovest, and get thee into the land of Moriah; and offer him there for a burnt offering upon one of the mountains which I will tell thee of. Then Jacob said unto his household, and to all that were with him, Put away the strange gods that are among you, and be clean, and change your garments:\n",
      "  And let us arise, and go up to Bethel; and I will make there an altar unto God, who answered me in the day of my distress, and was with me in the way which I went. Unto Shem also, the father of all the children of Eber, the brother of Japheth the elder, even to him were children born. And Onan knew that the seed should not be his; and it came to pass, when he went in unto his brother's wife, that he spilled it on the ground, lest that he should give seed to his brother.\n"
     ]
    }
   ],
   "source": [
    "printing(genesis)"
   ]
  },
  {
   "cell_type": "code",
   "execution_count": 50,
   "id": "99495a68-dcef-44a2-b876-a59379071bcb",
   "metadata": {},
   "outputs": [
    {
     "data": {
      "text/plain": [
       "' Adam said, This is now bone of my bones, and flesh of my flesh: she shall be called Woman, because she was taken out of Man . So God created man in his own image, in the image of God created he created he him; male and female created he them . Noah begat three sons, Shem, Ham, and Japheth:\\xa0and Noah was five hundred years old when the flood of waters was upon the earth . Noah went into the ark with his sons, his wife, and his sons\\' wives with him . After the end of the hundred-and-fifty days the waters were abated. And all flesh died both of fowl, and of cattle, and beast, and each man . All in whose nostrils was the breath of life  Abraham said to his eldest servant of his house, that he would not take a wife to my son of the daughters of the Canaanites, among whom I dwell:  But thou shalt go to my kindred, and take a marriage unto my child Isaac . Abraham\\'s servant took ten camels of his master, and departed . He arose, and went to Mesopotamia, unto the city of Nahor . Esau took Mahalath the daughter of Ishmael Abraham\\'s son, the sister of Nebajoth, to be his wife . Afterward he vowed a vow, saying, \\'If God will be with me,  then shall the LORD be my God\\' Joseph was brought down to Egypt; and Potiphar, an officer of Pharaoh, captain of the guard, an Egyptian, bought him of the hands of the Ishmeelites  Pharaoh sent and called Joseph, and they brought him hastily out of the dungeon . He shaved himself, and changed his raiment, and came in unto Pharaoh . And, behold, seven thin ears of corn came up upon one stalk, rank and good, and devoured the seven rank and full ears . Joseph said, \"God forbid that I should do so: but the man in whose hand the cup is found, he shall be my servant\" Then they rent their clothes, and laded every man his ass, and returned to the city . They speedily took down every man  Joseph sold into Egypt . '"
      ]
     },
     "execution_count": 50,
     "metadata": {},
     "output_type": "execute_result"
    }
   ],
   "source": [
    "summarization_pipeline_consolidation(genesis)"
   ]
  },
  {
   "cell_type": "markdown",
   "id": "c0f7012d-c8e7-4245-a23c-b1d777d9e71f",
   "metadata": {},
   "source": [
    "## Exodus"
   ]
  },
  {
   "cell_type": "code",
   "execution_count": 19,
   "id": "e0c77ebc-b528-4caf-9d90-8c66bcb254fa",
   "metadata": {},
   "outputs": [],
   "source": [
    "exodus = get_book_text('Exodus', bible)"
   ]
  },
  {
   "cell_type": "code",
   "execution_count": 20,
   "id": "194fd941-2b57-457b-9a5b-ae2440f8ca78",
   "metadata": {},
   "outputs": [
    {
     "name": "stdout",
     "output_type": "stream",
     "text": [
      "****************************\n",
      "*** TF-IDF Consolidation ***\n",
      "****************************\n",
      "Max pooling:\n",
      "------------\n",
      "And they brought the tabernacle unto Moses, the tent, and all his furniture, his taches, his boards, his bars, and his pillars, and his sockets,\n",
      "  And the covering of rams' skins dyed red, and the covering of badgers' skins, and the vail of the covering,\n",
      "  The ark of the testimony, and the staves thereof, and the mercy seat,\n",
      "  The table, and all the vessels thereof, and the shewbread,\n",
      "  The pure candlestick, with the lamps thereof, even with the lamps to be set in order, and all the vessels thereof, and the oil for light,\n",
      "  And the golden altar, and the anointing oil, and the sweet incense, and the hanging for the tabernacle door,\n",
      "  The brasen altar, and his grate of brass, his staves, and all his vessels, the laver and his foot,\n",
      "  The hangings of the court, his pillars, and his sockets, and the hanging for the court gate, his cords, and his pins, and all the vessels of the service of the tabernacle, for the tent of the congregation,\n",
      "  The cloths of service to do service in the holy place, and the holy garments for Aaron the priest, and his sons' garments, to minister in the priest's office. And they shall hearken to thy voice: and thou shalt come, thou and the elders of Israel, unto the king of Egypt, and ye shall say unto him, The LORD God of the Hebrews hath met with us: and now let us go, we beseech thee, three days' journey into the wilderness, that we may sacrifice to the LORD our God. And it came to pass, as soon as he came nigh unto the camp, that he saw the calf, and the dancing: and Moses' anger waxed hot, and he cast the tables out of his hands, and brake them beneath the mount. And he made the breastplate of cunning work, like the work of the ephod; of gold, blue, and purple, and scarlet, and fine twined linen.\n",
      "============================================================\n",
      "Sum pooling:\n",
      "------------\n",
      "And Moses and Aaron were brought again unto Pharaoh: and he said unto them, Go, serve the LORD your God: but who are they that shall go? And thou shalt make the breastplate of judgment with cunning work; after the work of the ephod thou shalt make it; of gold, of blue, and of purple, and of scarlet, and of fine twined linen, shalt thou make it. And thou shalt shew thy son in that day, saying, This is done because of that which the LORD did unto me when I came forth out of Egypt. And it shall be when the LORD shall bring thee into the land of the Canaanites, as he sware unto thee and to thy fathers, and shall give it thee,\n",
      "  That thou shalt set apart unto the LORD all that openeth the matrix, and every firstling that cometh of a beast which thou hast; the males shall be the LORD'S. And they shall hearken to thy voice: and thou shalt come, thou and the elders of Israel, unto the king of Egypt, and ye shall say unto him, The LORD God of the Hebrews hath met with us: and now let us go, we beseech thee, three days' journey into the wilderness, that we may sacrifice to the LORD our God.\n",
      "\n",
      "**********************************\n",
      "*** Transformers Consolidation ***\n",
      "**********************************\n",
      "Sentence pooling:\n",
      "-----------------\n",
      "And the LORD said unto Moses, Go down, charge the people, lest they break through unto the LORD to gaze, and many of them perish. And he made two rings of gold for it under the crown thereof, by the two corners of it, upon the two sides thereof, to be places for the staves to bear it withal. And thou shalt set upon the table shewbread before me alway. And the holy garments of Aaron shall be his sons' after him, to be anointed therein, and to be consecrated in them. And he received them at their hand, and fashioned it with a graving tool, after he had made it a molten calf: and they said, These be thy gods, O Israel, which brought thee up out of the land of Egypt. Then wrought Bezaleel and Aholiab, and every wise hearted man, in whom the LORD put wisdom and understanding to know how to work all manner of work for the service of the sanctuary, according to all that the LORD had commanded. And thou shalt burn the whole ram upon the altar: it is a burnt offering unto the LORD: it is a sweet savour, an offering made by fire unto the LORD. And thou shalt shew thy son in that day, saying, This is done because of that which the LORD did unto me when I came forth out of Egypt. And he set up the hanging at the door of the tabernacle. And thou shalt put the staves into the rings by the sides of the ark, that the ark may be borne with them. And the LORD descended in the cloud, and stood with him there, and proclaimed the name of the LORD. And the fish that is in the river shall die, and the river shall stink; and the Egyptians shall lothe to drink of the water of the river. And the LORD said unto Moses and unto Aaron, Take to you handfuls of ashes of the furnace, and let Moses sprinkle it toward the heaven in the sight of Pharaoh. And he said, Draw not nigh hither: put off thy shoes from off thy feet, for the place whereon thou standest is holy ground.\n",
      "============================================================\n",
      "Chunk pooling:\n",
      "--------------\n",
      "And the LORD said unto Moses and unto Aaron, Take to you handfuls of ashes of the furnace, and let Moses sprinkle it toward the heaven in the sight of Pharaoh. And they brought the tabernacle unto Moses, the tent, and all his furniture, his taches, his boards, his bars, and his pillars, and his sockets,\n",
      "  And the covering of rams' skins dyed red, and the covering of badgers' skins, and the vail of the covering,\n",
      "  The ark of the testimony, and the staves thereof, and the mercy seat,\n",
      "  The table, and all the vessels thereof, and the shewbread,\n",
      "  The pure candlestick, with the lamps thereof, even with the lamps to be set in order, and all the vessels thereof, and the oil for light,\n",
      "  And the golden altar, and the anointing oil, and the sweet incense, and the hanging for the tabernacle door,\n",
      "  The brasen altar, and his grate of brass, his staves, and all his vessels, the laver and his foot,\n",
      "  The hangings of the court, his pillars, and his sockets, and the hanging for the court gate, his cords, and his pins, and all the vessels of the service of the tabernacle, for the tent of the congregation,\n",
      "  The cloths of service to do service in the holy place, and the holy garments for Aaron the priest, and his sons' garments, to minister in the priest's office. Take heed to thyself, lest thou make a covenant with the inhabitants of the land whither thou goest, lest it be for a snare in the midst of thee:\n",
      "  But ye shall destroy their altars, break their images, and cut down their groves:\n",
      "  For thou shalt worship no other god: for the LORD, whose name is Jealous, is a jealous God:\n",
      "  Lest thou make a covenant with the inhabitants of the land, and they go a whoring after their gods, and do sacrifice unto their gods, and one call thee, and thou eat of his sacrifice;\n",
      "  And thou take of their daughters unto thy sons, and their daughters go a whoring after their gods, and make thy sons go a whoring after their gods.\n"
     ]
    }
   ],
   "source": [
    "printing(exodus)"
   ]
  },
  {
   "cell_type": "code",
   "execution_count": 53,
   "id": "bca50e71-b8f9-496d-994c-42558ca4cc9f",
   "metadata": {},
   "outputs": [
    {
     "data": {
      "text/plain": [
       "\" The children of Israel journeyed from Rameses to Succoth, about six hundred thousand on foot that were men, beside children . And they baked unleavened cakes of the dough which they brought forth out of Egypt, for it was not leavened . A foreigner and an hired servant shall not eat thereof . In one house shall not a dog move his tongue, nor shall ye break a bone thereof . And thus shall ye eat it; with your loins girded, your shoes on your feet, and your staff in your hand; and ye shall eat it in haste: it is the LORD'S passover . Miriam the prophetess, the sister of Aaron, took a timbrel in her hand; all the women went out after her . Jethro said, 'I am a jealous God, visiting the iniquity of the fathers upon the children  Aaron, Nadab and Abihu, Eleazar and Ithamar, Aaron's sons, shall make holy garments for Aaron thy brother . And they shall make the ephod of gold, of blue, and purple, and scarlet, and fine twined linen, with cunning work . Two onyx stones, and grave on them the names of the children of Israel:  Six of their names on one stone, and the other six names of rest on the other stone, according to their birth . Neither shall ye eat any flesh that is torn of beasts in the field; ye shall cast it to the dogs . The breastplate is made of a breastplate of judgment upon his heart, when he goeth in unto the holy place before the Lord, and when he cometh out, that he die not . This is the sum of the Tabernacle counted  And thus was  a bell and a pompegranate, a bell round about the hem of the robe to minister in; as the Lord \""
      ]
     },
     "execution_count": 53,
     "metadata": {},
     "output_type": "execute_result"
    }
   ],
   "source": [
    "summarization_pipeline_consolidation(exodus)"
   ]
  },
  {
   "cell_type": "markdown",
   "id": "ad33d519-1f94-4a49-b08d-543c7c47bc71",
   "metadata": {},
   "source": [
    "## Leviticus"
   ]
  },
  {
   "cell_type": "code",
   "execution_count": 21,
   "id": "bde6004c-d693-4cca-9047-e2834e82e694",
   "metadata": {},
   "outputs": [],
   "source": [
    "leviticus = get_book_text('Leviticus', bible)"
   ]
  },
  {
   "cell_type": "code",
   "execution_count": 22,
   "id": "73ab1239-20bf-400b-a246-706981e867e8",
   "metadata": {},
   "outputs": [
    {
     "name": "stdout",
     "output_type": "stream",
     "text": [
      "****************************\n",
      "*** TF-IDF Consolidation ***\n",
      "****************************\n",
      "Max pooling:\n",
      "------------\n",
      "And the LORD spake unto Moses, saying,\n",
      "  If a soul commit a trespass, and sin through ignorance, in the holy things of the LORD; then he shall bring for his trespass unto the LORD a ram without blemish out of the flocks, with thy estimation by shekels of silver, after the shekel of the sanctuary, for a trespass offering:\n",
      "  And he shall make amends for the harm that he hath done in the holy thing, and shall add the fifth part thereto, and give it unto the priest: and the priest shall make an atonement for him with the ram of the trespass offering, and it shall be forgiven him. This is the law for all manner of plague of leprosy, and scall,\n",
      "  And for the leprosy of a garment, and of a house,\n",
      "  And for a rising, and for a scab, and for a bright spot:\n",
      "  To teach when it is unclean, and when it is clean: this is the law of leprosy. And whatsoever man there be of the children of Israel, or of the strangers that sojourn among you, which hunteth and catcheth any beast or fowl that may be eaten; he shall even pour out the blood thereof, and cover it with dust. Neither shalt thou take a wife to her sister, to vex her, to uncover her nakedness, beside the other in her life time. If ye walk in my statutes, and keep my commandments, and do them;\n",
      "  Then I will give you rain in due season, and the land shall yield her increase, and the trees of the field shall yield their fruit. And he that let go the goat for the scapegoat shall wash his clothes, and bathe his flesh in water, and afterward come into the camp.\n",
      "============================================================\n",
      "Sum pooling:\n",
      "------------\n",
      "And on the eighth day he shall take to him two turtledoves, or two young pigeons, and come before the LORD unto the door of the tabernacle of the congregation, and give them unto the priest:\n",
      "  And the priest shall offer them, the one for a sin offering, and the other for a burnt offering; and the priest shall make an atonement for him before the LORD for his issue. Of their flesh shall ye not eat, and their carcase shall ye not touch; they are unclean to you. And Moses spake unto Aaron, and unto Eleazar and unto Ithamar, his sons that were left, Take the meat offering that remaineth of the offerings of the LORD made by fire, and eat it without leaven beside the altar: for it is most holy:\n",
      "  And ye shall eat it in the holy place, because it is thy due, and thy sons' due, of the sacrifices of the LORD made by fire: for so I am commanded. And the LORD spake unto Moses, saying,\n",
      "  Again, thou shalt say to the children of Israel, Whosoever he be of the children of Israel, or of the strangers that sojourn in Israel, that giveth any of his seed unto Molech; he shall surely be put to death: the people of the land shall stone him with stones. But ye shall offer an offering made by fire unto the LORD seven days: in the seventh day is an holy convocation: ye shall do no servile work therein. And unto the children of Israel thou shalt speak, saying, Take ye a kid of the goats for a sin offering; and a calf and a lamb, both of the first year, without blemish, for a burnt offering;\n",
      "  Also a bullock and a ram for peace offerings, to sacrifice before the LORD; and a meat offering mingled with oil: for to day the LORD will appear unto you.\n",
      "\n",
      "**********************************\n",
      "*** Transformers Consolidation ***\n",
      "**********************************\n",
      "Sentence pooling:\n",
      "-----------------\n",
      "And he shall go out unto the altar that is before the LORD, and make an atonement for it; and shall take of the blood of the bullock, and of the blood of the goat, and put it upon the horns of the altar round about. And when I have broken the staff of your bread, ten women shall bake your bread in one oven, and they shall deliver you your bread again by weight: and ye shall eat, and not be satisfied. And every garment, and every skin, whereon is the seed of copulation, shall be washed with water, and be unclean until the even. And Moses said unto Aaron, and unto Eleazar and unto Ithamar, his sons, Uncover not your heads, neither rend your clothes; lest ye die, and lest wrath come upon all the people: but let your brethren, the whole house of Israel, bewail the burning which the LORD hath kindled. There shall no stranger eat of the holy thing: a sojourner of the priest, or an hired servant, shall not eat of the holy thing. The land also shall be left of them, and shall enjoy her sabbaths, while she lieth desolate without them: and they shall accept of the punishment of their iniquity: because, even because they despised my judgments, and because their soul abhorred my statutes. And that which remaineth of the flesh and of the bread shall ye burn with fire. Ye shall not offer unto the LORD that which is bruised, or crushed, or broken, or cut; neither shall ye make any offering thereof in your land. And if any of the flesh of the sacrifice of his peace offerings be eaten at all on the third day, it shall not be accepted, neither shall it be imputed unto him that offereth it: it shall be an abomination, and the soul that eateth of it shall bear his iniquity. And whatsoever man there be of the children of Israel, or of the strangers that sojourn among you, which hunteth and catcheth any beast or fowl that may be eaten; he shall even pour out the blood thereof, and cover it with dust.\n",
      "============================================================\n",
      "Chunk pooling:\n",
      "--------------\n",
      "And the LORD spake unto Moses, saying,\n",
      "  Speak unto Aaron, and unto his sons, and unto all the children of Israel, and say unto them; This is the thing which the LORD hath commanded, saying,\n",
      "  What man soever there be of the house of Israel, that killeth an ox, or lamb, or goat, in the camp, or that killeth it out of the camp,\n",
      "  And bringeth it not unto the door of the tabernacle of the congregation, to offer an offering unto the LORD before the tabernacle of the LORD; blood shall be imputed unto that man; he hath shed blood; and that man shall be cut off from among his people:\n",
      "  To the end that the children of Israel may bring their sacrifices, which they offer in the open field, even that they may bring them unto the LORD, unto the door of the tabernacle of the congregation, unto the priest, and offer them for peace offerings unto the LORD. Ye shall therefore put difference between clean beasts and unclean, and between unclean fowls and clean: and ye shall not make your souls abominable by beast, or by fowl, or by any manner of living thing that creepeth on the ground, which I have separated from you as unclean. For every meat offering for the priest shall be wholly burnt: it shall not be eaten. And if the priest look on the plague of the scall, and, behold, it be not in sight deeper than the skin, and that there is no black hair in it; then the priest shall shut up him that hath the plague of the scall seven days:\n",
      "  And in the seventh day the priest shall look on the plague: and, behold, if the scall spread not, and there be in it no yellow hair, and the scall be not in sight deeper than the skin;\n",
      "  He shall be shaven, but the scall shall he not shave; and the priest shall shut up him that hath the scall seven days more:\n",
      "  And in the seventh day the priest shall look on the scall: and, behold, if the scall be not spread in the skin, nor be in sight deeper than the skin; then the priest shall pronounce him clean: and he shall wash his clothes, and be clean.\n"
     ]
    }
   ],
   "source": [
    "printing(leviticus)"
   ]
  },
  {
   "cell_type": "code",
   "execution_count": 56,
   "id": "9147a500-1b2a-477b-a101-f54b21737e42",
   "metadata": {},
   "outputs": [
    {
     "data": {
      "text/plain": [
       "\" Moses spoke to the children of Israel, and say: If any man of you bring an offering unto the LORD, ye shall bring your offering of the cattle, even of the herd, and of the flock . And if his offering be a burnt sacrifice, let him offer a male without blemish: he shall offer it of his own voluntary will at the door of the tabernacle of the congregation before the LORD . But his inwards and his legs shall he wash in water:   When any will offer a meat offering to the Lord, his offering shall be of fine flour; and he shall pour oil upon it, and put frankincense thereon:  And he shall bring it to Aaron's sons the priests . And the priest shall burn it upon the altar, upon the wood that is upon the fire which is on the altar .  The flesh that toucheth any unclean thing shall not be eaten; it shall be burnt with fire . But the soul that eateth of  peace offerings, having his uncleanness upon him, even that soul shall be cut off from his people . Aaron slew the calf of the sin offering, which was for himself, and slew it for the people . His sons dipped his finger in the blood, and put it upon the altar, and poured out the blood at the bottom of the altar . And they put the fat upon the breasts and the right shoulder of Aaron waved for a wave offering before the LORD; as Moses commanded . Heave shoulder and wave breast shall be thine, and thy sons' with thee, by a statute for ever; as the LORD hath commanded . Then Moses said, All fowls that creep, going upon all four  Moses spake unto Moses, saying, 'This shall be the law  of the leper in the day of his cleansing' The garment also that the plague of leprosy is in, whether it be a woollen garment, or a linen garment;  Whether it be in the warp, or woof; of linen, or of woollen; of any thing made of skin; it is unclean . And if the plague be greenish or reddish in the garment, for it is a fretting lepers; it shall be burnt in the fire . Then the priest shall command that they wash the thing wherein the plague is, and he shall shut it up seven days more:  And the priest will look upon the plague, and shut up it that hath the plague seven days . Aaron shall bring the goat upon which the LORD'S lot fell, and offer him for a sin offering .  Moses spoke to the children of Israel, and say, I am the LORD your God. No soul of you shall eat blood, neither shall any stranger that sojourneth among you eat blood . And I will even set my face against that soul that eateth blood, and will cut him off from among his people . This shall be a statute for ever unto them throughout their generations . Not to uncover the nakedness of thy brother's wife, as long as she is put apart for her uncleanness . Neither shall any woman stand before a beast to lie down thereto: it is confusion . Do not prostitute thy daughter, to cause her to be a whore; lest the land fall to whoredom . Regard not them that have familiar spirits, neither seek after wizards, to be defiled by them  The seventh year shall be a sabbath of rest unto the land, a sabath for the LORD . He that blasphemeth the name of the Lord, he shall surely be put to death, and all the congregation shall certainly stone him . And he that killeth a beast shall make it good; beast for beast . Breach for breach, eye for eye, tooth for tooth: as he caused a man's blemish in his neighbour; as he hath done, so shall it be done . I am the LORD your God, which brought you forth out of Egypt, that ye should not be their bondmen . Then I will chase your enemies, and they shall fall before you by the sword . If ye walk contrary unto me, and will not hearken unto me; I will bring seven times more plagues upon you according to your sins  An homer of barley seed shall be valued at fifty shekel of silver . But if he sanctifies his field after the jubile, then the priest reckon unto him the money . Only the firstling of the beasts, which should be the LORD'S firstling, no man shall sanctify it . \""
      ]
     },
     "execution_count": 56,
     "metadata": {},
     "output_type": "execute_result"
    }
   ],
   "source": [
    "summarization_pipeline_consolidation(leviticus)"
   ]
  },
  {
   "cell_type": "markdown",
   "id": "482d8e27-9138-41ef-9352-2332047d7d3d",
   "metadata": {},
   "source": [
    "## Numbers"
   ]
  },
  {
   "cell_type": "code",
   "execution_count": 23,
   "id": "ceabf526-5d24-4318-85b8-91dd6148b352",
   "metadata": {},
   "outputs": [],
   "source": [
    "numbers = get_book_text('Numbers', bible)"
   ]
  },
  {
   "cell_type": "code",
   "execution_count": 24,
   "id": "3f6181bd-f5cd-4993-b720-75e9103513e9",
   "metadata": {},
   "outputs": [
    {
     "name": "stdout",
     "output_type": "stream",
     "text": [
      "****************************\n",
      "*** TF-IDF Consolidation ***\n",
      "****************************\n",
      "Max pooling:\n",
      "------------\n",
      "And Moses sent messengers from Kadesh unto the king of Edom, Thus saith thy brother Israel, Thou knowest all the travail that hath befallen us:\n",
      "  How our fathers went down into Egypt, and we have dwelt in Egypt a long time; and the Egyptians vexed us, and our fathers:\n",
      "  And when we cried unto the LORD, he heard our voice, and sent an angel, and hath brought us forth out of Egypt: and, behold, we are in Kadesh, a city in the uttermost of thy border:\n",
      "  Let us pass, I pray thee, through thy country: we will not pass through the fields, or through the vineyards, neither will we drink of the water of the wells: we will go by the king's high way, we will not turn to the right hand nor to the left, until we have passed thy borders. On the second day Nethaneel the son of Zuar, prince of Issachar, did offer:\n",
      "  He offered for his offering one silver charger, the weight whereof was an hundred and thirty shekels, one silver bowl of seventy shekels, after the shekel of the sanctuary; both of them full of fine flour mingled with oil for a meat offering:\n",
      "  One spoon of gold of ten shekels, full of incense:\n",
      "  One young bullock, one ram, one lamb of the first year, for a burnt offering:\n",
      "  One kid of the goats for a sin offering:\n",
      "  And for a sacrifice of peace offerings, two oxen, five rams, five he goats, five lambs of the first year: this was the offering of Nethaneel the son of Zuar. This shall be the service of the sons of Kohath in the tabernacle of the congregation, about the most holy things:\n",
      "  And when the camp setteth forward, Aaron shall come, and his sons, and they shall take down the covering vail, and cover the ark of testimony with it:\n",
      "  And shall put thereon the covering of badgers' skins, and shall spread over it a cloth wholly of blue, and shall put in the staves thereof.\n",
      "============================================================\n",
      "Sum pooling:\n",
      "------------\n",
      "And the LORD spake unto Moses, saying,\n",
      "  Speak unto the children of Israel, and say unto them, When ye come into the land whither I bring you,\n",
      "  Then it shall be, that, when ye eat of the bread of the land, ye shall offer up an heave offering unto the LORD. These are they that were numbered of the families of the sons of Gershon, of all that might do service in the tabernacle of the congregation, whom Moses and Aaron did number according to the commandment of the LORD. For the LORD had spoken unto Moses, saying,\n",
      "  Only thou shalt not number the tribe of Levi, neither take the sum of them among the children of Israel:\n",
      "  But thou shalt appoint the Levites over the tabernacle of testimony, and over all the vessels thereof, and over all things that belong to it: they shall bear the tabernacle, and all the vessels thereof; and they shall minister unto it, and shall encamp round about the tabernacle. And of the children of Israel's half, which Moses divided from the men that warred,\n",
      "  (Now the half that pertained unto the congregation was three hundred thousand and thirty thousand and seven thousand and five hundred sheep,\n",
      "  And thirty and six thousand beeves,\n",
      "  And thirty thousand asses and five hundred,\n",
      "  And sixteen thousand persons;)\n",
      "  Even of the children of Israel's half, Moses took one portion of fifty, both of man and of beast, and gave them unto the Levites, which kept the charge of the tabernacle of the LORD; as the LORD commanded Moses. And the chief fathers of the families of the children of Gilead, the son of Machir, the son of Manasseh, of the families of the sons of Joseph, came near, and spake before Moses, and before the princes, the chief fathers of the children of Israel:\n",
      "  And they said, The LORD commanded my lord to give the land for an inheritance by lot to the children of Israel: and my lord was commanded by the LORD to give the inheritance of Zelophehad our brother unto his daughters.\n",
      "\n",
      "**********************************\n",
      "*** Transformers Consolidation ***\n",
      "**********************************\n",
      "Sentence pooling:\n",
      "-----------------\n",
      "And they went and came to Moses, and to Aaron, and to all the congregation of the children of Israel, unto the wilderness of Paran, to Kadesh; and brought back word unto them, and unto all the congregation, and shewed them the fruit of the land. He shall not make himself unclean for his father, or for his mother, for his brother, or for his sister, when they die: because the consecration of his God is upon his head. And one kid of the goats for a sin offering unto the LORD shall be offered, beside the continual burnt offering, and his drink offering. And the chief of the house of the father of the Gershonites shall be Eliasaph the son of Lael. And of the children of Israel's half, thou shalt take one portion of fifty, of the persons, of the beeves, of the asses, and of the flocks, of all manner of beasts, and give them unto the Levites, which keep the charge of the tabernacle of the LORD. He sent messengers therefore unto Balaam the son of Beor to Pethor, which is by the river of the land of the children of his people, to call him, saying, Behold, there is a people come out from Egypt: behold, they cover the face of the earth, and they abide over against me:\n",
      "  Come now therefore, I pray thee, curse me this people; for they are too mighty for me: peradventure I shall prevail, that we may smite them, and that I may drive them out of the land: for I wot that he whom thou blessest is blessed, and he whom thou cursest is cursed. And the LORD said unto Moses, Is the LORD'S hand waxed short? Say unto them, As truly as I live, saith the LORD, as ye have spoken in mine ears, so will I do to you:\n",
      "  Your carcases shall fall in this wilderness; and all that were numbered of you, according to your whole number, from twenty years old and upward, which have murmured against me,\n",
      "  Doubtless ye shall not come into the land, concerning which I sware to make you dwell therein, save Caleb the son of Jephunneh, and Joshua the son of Nun.\n",
      "============================================================\n",
      "Chunk pooling:\n",
      "--------------\n",
      "So concerning them Moses commanded Eleazar the priest, and Joshua the son of Nun, and the chief fathers of the tribes of the children of Israel:\n",
      "  And Moses said unto them, If the children of Gad and the children of Reuben will pass with you over Jordan, every man armed to battle, before the LORD, and the land shall be subdued before you; then ye shall give them the land of Gilead for a possession:\n",
      "  But if they will not pass over with you armed, they shall have possessions among you in the land of Canaan. And on the sabbath day two lambs of the first year without spot, and two tenth deals of flour for a meat offering, mingled with oil, and the drink offering thereof:\n",
      "  This is the burnt offering of every sabbath, beside the continual burnt offering, and his drink offering. And the LORD came down in a cloud, and spake unto him, and took of the spirit that was upon him, and gave it unto the seventy elders: and it came to pass, that, when the spirit rested upon them, they prophesied, and did not cease. And the LORD spake unto Moses and unto Aaron, saying,\n",
      "  This is the ordinance of the law which the LORD hath commanded, saying, Speak unto the children of Israel, that they bring thee a red heifer without spot, wherein is no blemish, and upon which never came yoke:\n",
      "  And ye shall give her unto Eleazar the priest, that he may bring her forth without the camp, and one shall slay her before his face:\n",
      "  And Eleazar the priest shall take of her blood with his finger, and sprinkle of her blood directly before the tabernacle of the congregation seven times:\n",
      "  And one shall burn the heifer in his sight; her skin, and her flesh, and her blood, with her dung, shall he burn:\n",
      "  And the priest shall take cedar wood, and hyssop, and scarlet, and cast it into the midst of the burning of the heifer. These were they that were numbered of the families of the Kohathites, all that might do service in the tabernacle of the congregation, which Moses and Aaron did number according to the commandment of the LORD by the hand of Moses.\n"
     ]
    }
   ],
   "source": [
    "printing(numbers)"
   ]
  },
  {
   "cell_type": "code",
   "execution_count": 59,
   "id": "1d8450d6-c780-4d9a-91c7-87e1e6fb8c39",
   "metadata": {},
   "outputs": [
    {
     "data": {
      "text/plain": [
       "\" The children of Reuben, Israel's eldest son, by their generations, after their families, by the house of their fathers, with the number of their names . From twenty years old and upward, all that are able to go forth to war in Israel: thou and Aaron shall number them by their armies . With you there shall be a man of every tribe; every one head of the house  of his fathers . This also are the generations of Aaron and Moses in the day that the LORD spake with Moses in mount Sinai . Those that were numbered of the camps throughout their hosts were six hundred thousand and three thousand and five hundred and fifty . But the Levite were not numbered among the children of Israel; as the LORD commanded Moses .  Moses commanded the children of Israel to make fringes in the borders of their garments throughout their generations . If any soul sin through ignorance, then he shall bring a goat of the first year for a sin offering . Two hundred and fifty men that offered incense were consumed by a fire from the LORD . The rod of Aaron for the house of Levi was budded, and brought forth buds, and bloomed blossoms, and yielded almonds . The people spake against God, and against Moses, for there is no bread, neither is there any water; and our soul loatheth this light bread . Then Israel sang this song, Spring up, O well; sing ye unto it:  The princes digged the well, the nobles of the people digged it, by the direction of the lawgiver, with their staves .  Moses: The LORD spake unto Moses, saying, When ye be come over Jordan into the land of Canaan;  Then ye shall appoint you cities to be cities of refuge for you . Of these cities which ye shall give six cities, they shall have for refuge . Reuben built Heshbon, and Elealeh, and Kirjathaim, (their names being changed,) and Shibmah . \""
      ]
     },
     "execution_count": 59,
     "metadata": {},
     "output_type": "execute_result"
    }
   ],
   "source": [
    "summarization_pipeline_consolidation(numbers)"
   ]
  },
  {
   "cell_type": "markdown",
   "id": "4b48e689-9177-4468-9f48-e17b7bc8b4ed",
   "metadata": {},
   "source": [
    "## Deuteronomy"
   ]
  },
  {
   "cell_type": "code",
   "execution_count": 25,
   "id": "f8ffdf95-b6c7-4575-b68a-20a5a113ef1d",
   "metadata": {},
   "outputs": [],
   "source": [
    "deuteronomy = get_book_text('Deuteronomy', bible)"
   ]
  },
  {
   "cell_type": "code",
   "execution_count": 26,
   "id": "27aaa344-a2c4-4801-955e-038c782dbef6",
   "metadata": {},
   "outputs": [
    {
     "name": "stdout",
     "output_type": "stream",
     "text": [
      "****************************\n",
      "*** TF-IDF Consolidation ***\n",
      "****************************\n",
      "Max pooling:\n",
      "------------\n",
      "Neither with you only do I make this covenant and this oath;\n",
      "  But with him that standeth here with us this day before the LORD our God, and also with him that is not here with us this day:\n",
      "  (For ye know how we have dwelt in the land of Egypt; and how we came through the nations which ye passed by;\n",
      "  And ye have seen their abominations, and their idols, wood and stone, silver and gold, which were among them:)\n",
      "  Lest there should be among you man, or woman, or family, or tribe, whose heart turneth away this day from the LORD our God, to go and serve the gods of these nations; lest there should be among you a root that beareth gall and wormwood;\n",
      "  And it come to pass, when he heareth the words of this curse, that he bless himself in his heart, saying, I shall have peace, though I walk in the imagination of mine heart, to add drunkenness to thirst:\n",
      "  The LORD will not spare him, but then the anger of the LORD and his jealousy shall smoke against that man, and all the curses that are written in this book shall lie upon him, and the LORD shall blot out his name from under heaven. Thou shalt observe the feast of tabernacles seven days, after that thou hast gathered in thy corn and thy wine:\n",
      "  And thou shalt rejoice in thy feast, thou, and thy son, and thy daughter, and thy manservant, and thy maidservant, and the Levite, the stranger, and the fatherless, and the widow, that are within thy gates. Then Moses severed three cities on this side Jordan toward the sunrising;\n",
      "  That the slayer might flee thither, which should kill his neighbour unawares, and hated him not in times past; and that fleeing unto one of these cities he might live:\n",
      "  Namely, Bezer in the wilderness, in the plain country, of the Reubenites; and Ramoth in Gilead, of the Gadites; and Golan in Bashan, of the Manassites. He is the Rock, his work is perfect: for all his ways are judgment: a God of truth and without iniquity, just and right is he.\n",
      "============================================================\n",
      "Sum pooling:\n",
      "------------\n",
      "And it shall be, when thou art come in unto the land which the LORD thy God giveth thee for an inheritance, and possessest it, and dwellest therein;\n",
      "  That thou shalt take of the first of all the fruit of the earth, which thou shalt bring of thy land that the LORD thy God giveth thee, and shalt put it in a basket, and shalt go unto the place which the LORD thy God shall choose to place his name there. Ye shall not do so unto the LORD your God. Thou hast avouched the LORD this day to be thy God, and to walk in his ways, and to keep his statutes, and his commandments, and his judgments, and to hearken unto his voice:\n",
      "  And the LORD hath avouched thee this day to be his peculiar people, as he hath promised thee, and that thou shouldest keep all his commandments;\n",
      "  And to make thee high above all nations which he hath made, in praise, and in name, and in honour; and that thou mayest be an holy people unto the LORD thy God, as he hath spoken. The LORD thy God, he will go over before thee, and he will destroy these nations from before thee, and thou shalt possess them: and Joshua, he shall go over before thee, as the LORD hath said. And the LORD shall make thee the head, and not the tail; and thou shalt be above only, and thou shalt not be beneath; if that thou hearken unto the commandments of the LORD thy God, which I command thee this day, to observe and to do them:\n",
      "  And thou shalt not go aside from any of the words which I command thee this day, to the right hand, or to the left, to go after other gods to serve them. Thou shalt surely give him, and thine heart shall not be grieved when thou givest unto him: because that for this thing the LORD thy God shall bless thee in all thy works, and in all that thou puttest thine hand unto.\n",
      "\n",
      "**********************************\n",
      "*** Transformers Consolidation ***\n",
      "**********************************\n",
      "Sentence pooling:\n",
      "-----------------\n",
      "And it shall come to pass, when all these things are come upon thee, the blessing and the curse, which I have set before thee, and thou shalt call them to mind among all the nations, whither the LORD thy God hath driven thee,\n",
      "  And shalt return unto the LORD thy God, and shalt obey his voice according to all that I command thee this day, thou and thy children, with all thine heart, and with all thy soul;\n",
      "  That then the LORD thy God will turn thy captivity, and have compassion upon thee, and will return and gather thee from all the nations, whither the LORD thy God hath scattered thee. And he buried him in a valley in the land of Moab, over against Bethpeor: but no man knoweth of his sepulchre unto this day. And he shall say, Where are their gods, their rock in whom they trusted,\n",
      "  Which did eat the fat of their sacrifices, and drank the wine of their drink offerings? And thou shalt remember that thou wast a bondman in Egypt: and thou shalt observe and do these statutes. And he shall deliver their kings into thine hand, and thou shalt destroy their name from under heaven: there shall no man be able to stand before thee, until thou have destroyed them. Thou shalt not sacrifice unto the LORD thy God any bullock, or sheep, wherein is blemish, or any evilfavouredness: for that is an abomination unto the LORD thy God. Remember thy servants, Abraham, Isaac, and Jacob; look not unto the stubbornness of this people, nor to their wickedness, nor to their sin:\n",
      "  Lest the land whence thou broughtest us out say, Because the LORD was not able to bring them into the land which he promised them, and because he hated them, he hath brought them out to slay them in the wilderness. Thou shalt not plant thee a grove of any trees near unto the altar of the LORD thy God, which thou shalt make thee.\n",
      "============================================================\n",
      "Chunk pooling:\n",
      "--------------\n",
      "Beware that thou forget not the LORD thy God, in not keeping his commandments, and his judgments, and his statutes, which I command thee this day:\n",
      "  Lest when thou hast eaten and art full, and hast built goodly houses, and dwelt therein;\n",
      "  And when thy herds and thy flocks multiply, and thy silver and thy gold is multiplied, and all that thou hast is multiplied;\n",
      "  Then thine heart be lifted up, and thou forget the LORD thy God, which brought thee forth out of the land of Egypt, from the house of bondage;\n",
      "  Who led thee through that great and terrible wilderness, wherein were fiery serpents, and scorpions, and drought, where there was no water; who brought thee forth water out of the rock of flint;\n",
      "  Who fed thee in the wilderness with manna, which thy fathers knew not, that he might humble thee, and that he might prove thee, to do thee good at thy latter end;\n",
      "  And thou say in thine heart, My power and the might of mine hand hath gotten me this wealth. And if the man like not to take his brother's wife, then let his brother's wife go up to the gate unto the elders, and say, My husband's brother refuseth to raise up unto his brother a name in Israel, he will not perform the duty of my husband's brother. And the LORD shall separate him unto evil out of all the tribes of Israel, according to all the curses of the covenant that are written in this book of the law:\n",
      "  So that the generation to come of your children that shall rise up after you, and the stranger that shall come from a far land, shall say, when they see the plagues of that land, and the sicknesses which the LORD hath laid upon it;\n",
      "  And that the whole land thereof is brimstone, and salt, and burning, that it is not sown, nor beareth, nor any grass groweth therein, like the overthrow of Sodom, and Gomorrah, Admah, and Zeboim, which the LORD overthrew in his anger, and in his wrath:\n",
      "  Even all nations shall say, Wherefore hath the LORD done thus unto this land?\n"
     ]
    }
   ],
   "source": [
    "printing(deuteronomy)"
   ]
  },
  {
   "cell_type": "code",
   "execution_count": 62,
   "id": "5da7b345-e79f-4421-b534-8417a9dc24f6",
   "metadata": {},
   "outputs": [
    {
     "data": {
      "text/plain": [
       "\" Moses spake unto all Israel on this side Jordan in the wilderness, in the plain over against the Red sea . Behold, I have set the land before you  The Amorites came to Kadeshbarnea, a mountain of the Amorite . And I commanded you at that time all the things which ye should do . Ye shall not respect persons in judgment; but ye shall hear the small as well as the great . For the judgment is God's: and the cause that is too hard for you, bring it unto me, and I will hear it . Joshua the son of Nun, which standeth before thee, he shall go in thither: encourage him: for he shall cause Israel to inherit it . This day will I begin to put the dread of thee and the fear of thee upon the nations that are under the whole heaven,  Aaron made an ark of shittim wood, and hewed two tables of stone like unto the first . The children of Israel took their journey from Beeroth of the children of Jaakan to Mosera . Aaron died, and there he was buried; and Eleazar his son ministered in the priest's office in his stead . And I turned myself and came down from the mount, and put the tables in the ark which I had made; and there they be, as the LORD commanded me . But when thy herds and thy flocks multiply, and thy silver and thy gold is multiplied,  Then then then then thou shalt bless the LORD thyGod for the good land which he gave thee . Lest when thouht, the heaven and the heaven of heavens is the LORD'S thy God,  Every place whereon the soles of your feet shall tread shall be yours: from the river, the river Euphrates, even into the uttermost sea shall your coast be . And ye mayest eat flesh in all thy gates, whatsoever thy soul lusteth after, according to the blessing of the LORD thy God which he has given thee . Only ye shall not eat the blood; ye shall pour it upon the earth as water . The prophet, or that dreamer of dreams, shall be put to death; because he has spoken to turn you away from the LORD your God . Of all clean birds ye shall eat: the eagle, and the glede, and kite, and vulture after his kind . At the end of every seven years thou shalt make a release: Every creditor that lendeth ought unto his neighbour shall release it .  There shall not be found among you any one that maketh his son or his daughter to pass through the fire, or that useth divination . The prophet, which shall presume to speak a word in my name, which I have not commanded him to speak, even that prophet shall die . If a false witness rise up against any man to testify against him that which is wrong;  Then both the men, between whom the controversy is, shall stand before the LORD, before the priests and the judges . Even the elders of that city, that are next unto the slain man, shall wash their hands over the heifer that is beheaded in the valley:  And they shall answer and say, Our hands have not shed this blood, neither have our eyes seen it . And the blood shall be forgiven them. So so so so shalt thou put away the guilt of innocent blood from among you, when thee go to war  The Bible says, 'The Levites shall speak, and say unto all the men of Israel with a loud voice,  Cursed be he that maketh any graven or molten image, an abomination unto the LORD' And there will be a place to offer burnt offerings thereon unto the Lord thy God, and offer peace offerings, and eat there, and rejoice before the LORD . If the wicked man be worthy to be beaten, that the judge shall cause him to lie down, according to his fault, by a certain number . Also shall not leave thee either corn, wine, or oil, or the increase of thy kine, or flocks of thy sheep, until he has destroyed thee . He will set thee on high above all nations of the earth:  And all these blessings shall come on thee, and overtake thee, if thou  Moses wrote this law, and delivered it to the priests the sons of Levi, which bare the ark of the covenant of the LORD, and unto all the elders of Israel . Therefore choose life, that both thou and thy seed may live: for he is thy life, and the length of thy days . Jeshurun waxed fat, and kicked: then he forsook God which made him, and lightly esteemed the Rock of his salvation . They sacrificed unto devils, not to God . Then will they turn unto other gods, and serve them, and provoke me, and break my covenant . And I will surely hide my face in that day for all the evils which they have wrought' \""
      ]
     },
     "execution_count": 62,
     "metadata": {},
     "output_type": "execute_result"
    }
   ],
   "source": [
    "summarization_pipeline_consolidation(deuteronomy)"
   ]
  },
  {
   "cell_type": "markdown",
   "id": "923a008c-367f-4a21-bd74-0cf4a7a3435c",
   "metadata": {},
   "source": [
    "## Joshua"
   ]
  },
  {
   "cell_type": "code",
   "execution_count": 27,
   "id": "ee2d0799-47b4-46b4-bc93-8ce0f7b1eedc",
   "metadata": {},
   "outputs": [],
   "source": [
    "joshua = get_book_text('Joshua', bible)"
   ]
  },
  {
   "cell_type": "code",
   "execution_count": 28,
   "id": "0df0f855-7c53-4350-8d1a-eee9b33df6b4",
   "metadata": {},
   "outputs": [
    {
     "name": "stdout",
     "output_type": "stream",
     "text": [
      "****************************\n",
      "*** TF-IDF Consolidation ***\n",
      "****************************\n",
      "Max pooling:\n",
      "------------\n",
      "Now therefore divide this land for an inheritance unto the nine tribes, and the half tribe of Manasseh,\n",
      "  With whom the Reubenites and the Gadites have received their inheritance, which Moses gave them, beyond Jordan eastward, even as Moses the servant of the LORD gave them;\n",
      "  From Aroer, that is upon the bank of the river Arnon, and the city that is in the midst of the river, and all the plain of Medeba unto Dibon;\n",
      "  And all the cities of Sihon king of the Amorites, which reigned in Heshbon, unto the border of the children of Ammon;\n",
      "  And Gilead, and the border of the Geshurites and Maachathites, and all mount Hermon, and all Bashan unto Salcah;\n",
      "  All the kingdom of Og in Bashan, which reigned in Ashtaroth and in Edrei, who remained of the remnant of the giants: for these did Moses smite, and cast them out. And it came to pass after three days, that the officers went through the host;\n",
      "  And they commanded the people, saying, When ye see the ark of the covenant of the LORD your God, and the priests the Levites bearing it, then ye shall remove from your place, and go after it. And the men of Gibeon sent unto Joshua to the camp to Gilgal, saying, Slack not thy hand from thy servants; come up to us quickly, and save us, and help us: for all the kings of the Amorites that dwell in the mountains are gathered together against us.\n",
      "============================================================\n",
      "Sum pooling:\n",
      "------------\n",
      "So Joshua took the whole land, according to all that the LORD said unto Moses; and Joshua gave it for an inheritance unto Israel according to their divisions by their tribes. For the LORD hath made Jordan a border between us and you, ye children of Reuben and children of Gad; ye have no part in the LORD: so shall your children make our children cease from fearing the LORD. And the LORD said unto Joshua, Fear not, neither be thou dismayed: take all the people of war with thee, and arise, go up to Ai: see, I have given into thy hand the king of Ai, and his people, and his city, and his land:\n",
      "  And thou shalt do to Ai and her king as thou didst unto Jericho and her king: only the spoil thereof, and the cattle thereof, shall ye take for a prey unto yourselves: lay thee an ambush for the city behind it. And the people answered and said, God forbid that we should forsake the LORD, to serve other gods;\n",
      "  For the LORD our God, he it is that brought us up and our fathers out of the land of Egypt, from the house of bondage, and which did those great signs in our sight, and preserved us in all the way wherein we went, and among all the people through whom we passed:\n",
      "  And the LORD drave out from before us all the people, even the Amorites which dwelt in the land: therefore will we also serve the LORD; for he is our God. And unto the children of Gershon, of the families of the Levites, out of the other half tribe of Manasseh they gave Golan in Bashan with her suburbs, to be a city of refuge for the slayer; and Beeshterah with her suburbs; two cities. And the children of Israel journeyed, and came unto their cities on the third day. Then Joshua called the twelve men, whom he had prepared of the children of Israel, out of every tribe a man:\n",
      "  And Joshua said unto them, Pass over before the ark of the LORD your God into the midst of Jordan, and take ye up every man of you a stone upon his shoulder, according unto the number of the tribes of the children of Israel:\n",
      "  That this may be a sign among you, that when your children ask their fathers in time to come, saying, What mean ye by these stones?\n",
      "\n",
      "**********************************\n",
      "*** Transformers Consolidation ***\n",
      "**********************************\n",
      "Sentence pooling:\n",
      "-----------------\n",
      "And they took them out of the midst of the tent, and brought them unto Joshua, and unto all the children of Israel, and laid them out before the LORD. Only be thou strong and very courageous, that thou mayest observe to do according to all the law, which Moses my servant commanded thee: turn not from it to the right hand or to the left, that thou mayest prosper whithersoever thou goest. There was also a lot for the tribe of Manasseh; for he was the firstborn of Joseph; to wit, for Machir the firstborn of Manasseh, the father of Gilead: because he was a man of war, therefore he had Gilead and Bashan. And to the Reubenites, and to the Gadites, and to half the tribe of Manasseh, spake Joshua, saying,\n",
      "  Remember the word which Moses the servant of the LORD commanded you, saying, The LORD your God hath given you rest, and hath given you this land. And he shall dwell in that city, until he stand before the congregation for judgment, and until the death of the high priest that shall be in those days: then shall the slayer return, and come unto his own city, and unto his own house, unto the city from whence he fled. Therefore the children of Israel could not stand before their enemies, but turned their backs before their enemies, because they were accursed: neither will I be with you any more, except ye destroy the accursed from among you. And they gave them the city of Arba the father of Anak, which city is Hebron, in the hill country of Judah, with the suburbs thereof round about it. For we have heard how the LORD dried up the water of the Red sea for you, when ye came out of Egypt; and what ye did unto the two kings of the Amorites, that were on the other side Jordan, Sihon and Og, whom ye utterly destroyed. Only the cattle and the spoil of that city Israel took for a prey unto themselves, according unto the word of the LORD which he commanded Joshua.\n",
      "============================================================\n",
      "Chunk pooling:\n",
      "--------------\n",
      "Now therefore divide this land for an inheritance unto the nine tribes, and the half tribe of Manasseh,\n",
      "  With whom the Reubenites and the Gadites have received their inheritance, which Moses gave them, beyond Jordan eastward, even as Moses the servant of the LORD gave them;\n",
      "  From Aroer, that is upon the bank of the river Arnon, and the city that is in the midst of the river, and all the plain of Medeba unto Dibon;\n",
      "  And all the cities of Sihon king of the Amorites, which reigned in Heshbon, unto the border of the children of Ammon;\n",
      "  And Gilead, and the border of the Geshurites and Maachathites, and all mount Hermon, and all Bashan unto Salcah;\n",
      "  All the kingdom of Og in Bashan, which reigned in Ashtaroth and in Edrei, who remained of the remnant of the giants: for these did Moses smite, and cast them out. And Joshua said unto the people, Ye are witnesses against yourselves that ye have chosen you the LORD, to serve him. And it came to pass, when Joshua and the children of Israel had made an end of slaying them with a very great slaughter, till they were consumed, that the rest which remained of them entered into fenced cities. And it shall come to pass, as soon as the soles of the feet of the priests that bear the ark of the LORD, the Lord of all the earth, shall rest in the waters of Jordan, that the waters of Jordan shall be cut off from the waters that come down from above; and they shall stand upon an heap. And they came unto the children of Reuben, and to the children of Gad, and to the half tribe of Manasseh, unto the land of Gilead, and they spake with them, saying,\n",
      "  Thus saith the whole congregation of the LORD, What trespass is this that ye have committed against the God of Israel, to turn away this day from following the LORD, in that ye have builded you an altar, that ye might rebel this day against the LORD?\n"
     ]
    }
   ],
   "source": [
    "printing(joshua)"
   ]
  },
  {
   "cell_type": "code",
   "execution_count": 65,
   "id": "7590b1cd-6a47-482e-b93e-44655134529c",
   "metadata": {},
   "outputs": [
    {
     "data": {
      "text/plain": [
       "' Joshua the son of Nun, Moses\\' minister, said, \"Now therefore arise, go over this Jordan, thou, and all this people, unto the land which I do give to them, even to the children of Israel\" Joshua commanded the officers of the people, saying, Pass through the host, and command the people . Rahab the harlot hid messengers, which Joshua sent to spy out Jericho, and she hid them . But she said, I know that the LORD  Moses spake unto Joshua, saying , Command the priests that bear the ark of the testimony, that they come up out of Jordan . And it came to pass, when all the people were clean passed over, that the arks of the LORD passed over . The children of Reuben and Gad, and half the tribe of Manasseh, passed over armed  In the morning therefore ye shall be brought according to your tribes: and it shall be, that the tribe which the LORD taketh shall come according to the families thereof . So Joshua rose up early in the morning, and brought Israel by their tribes; and the tribe of Judah was taken . And he brought the family of the Zarhites man by man; and Zabdi was taken:  And all Israel stoned him with stones, and burned them with fire, after they had stoned them with stones . All the Israelites returned unto Ai, and smote it  The king of Ai he hanged on a tree until eventide: and as soon as the sun was down, Joshua commanded that they should take his carcase down from the tree, and cast it at the entering of the gate of the city, and raise thereon a great heap of stones .  There was none of the Anakims left in the land of the children of Israel: only in Gaza, in Gath, and in Ashdod, there remained . So Joshua took the whole land, according to all that the LORD said unto Moses; and Joshua gave it for an inheritance unto Israel according to their divisions by their tribes . This is the land that still remaineth  Moses distributed for inheritance in the plains of Moab, on the other side Jordan, by Jericho, eastward . But unto the tribe of Levi Moses gave not any inheritance: the LORD God of Israel was their inheritance . The name of Hebron before was Kirjatharba; which Arba was a great man among the Ankims . Even to the border of Edom the wilderness of Zin southward was the uttermost part of the south coast  Eleazar the priest, and Joshua the son of Nun, divided for an inheritance by lot in Shiloh before the LORD . The second lot came forth to Simeon, even for the tribe of the  children of Benjamin according to his families . The third lot came up for the children of Zebulun according to their families . And the seventh lot came out for the tribes of Dan and Naphtali . And then the coast turneth to Ramah and to the strong city Tyre; and the coast turnedeth to Hosah . From thence passeth on on on the east to Gittahhepher, to Ittahkazin, and goeth out to Remmonmethoar to Neah . Bezer in the wilderness upon the plain out of Reuben, Ramoth in Gilead  Balak the son of Zippor, king of Moab, arose and warred against Israel, and sent and called Balaam the Son of Beor to curse you . But I would not hearken unto Balaaam; therefore he blessed you still: so I delivered you out of his hand . Now therefore fear the LORD, and serve him in sincerity and in truth . '"
      ]
     },
     "execution_count": 65,
     "metadata": {},
     "output_type": "execute_result"
    }
   ],
   "source": [
    "summarization_pipeline_consolidation(joshua)"
   ]
  },
  {
   "cell_type": "markdown",
   "id": "4b7fc2c4-781b-495f-907d-285f00c40385",
   "metadata": {},
   "source": [
    "## Judges"
   ]
  },
  {
   "cell_type": "code",
   "execution_count": 29,
   "id": "4bbab857-28c9-44a2-bbdf-220e1c74504a",
   "metadata": {},
   "outputs": [],
   "source": [
    "judges = get_book_text('Judges', bible)"
   ]
  },
  {
   "cell_type": "code",
   "execution_count": 151,
   "id": "d26e5909-bc06-47b8-bd9e-e8780dcb4c8f",
   "metadata": {},
   "outputs": [
    {
     "name": "stdout",
     "output_type": "stream",
     "text": [
      "****************************\n",
      "*** TF-IDF Consolidation ***\n",
      "****************************\n",
      "Max pooling:\n",
      "------------\n",
      "And it came to pass, when the children of Israel cried unto the LORD because of the Midianites,\n",
      "  That the LORD sent a prophet unto the children of Israel, which said unto them, Thus saith the LORD God of Israel, I brought you up from Egypt, and brought you forth out of the house of bondage;\n",
      "  And I delivered you out of the hand of the Egyptians, and out of the hand of all that oppressed you, and drave them out from before you, and gave you their land;\n",
      "  And I said unto you, I am the LORD your God; fear not the gods of the Amorites, in whose land ye dwell: but ye have not obeyed my voice. Now therefore up by night, thou and the people that is with thee, and lie in wait in the field:\n",
      "  And it shall be, that in the morning, as soon as the sun is up, thou shalt rise early, and set upon the city: and, behold, when he and the people that is with him come out against thee, then mayest thou do to them as thou shalt find occasion. Therefore on that day he called him Jerubbaal, saying, Let Baal plead against him, because he hath thrown down his altar. And they slew of Moab at that time about ten thousand men, all lusty, and all men of valour; and there escaped not a man. And Gideon the son of Joash died in a good old age, and was buried in the sepulchre of Joash his father, in Ophrah of the Abiezrites. Neither did Zebulun drive out the inhabitants of Kitron, nor the inhabitants of Nahalol; but the Canaanites dwelt among them, and became tributaries. Howbeit Sisera fled away on his feet to the tent of Jael the wife of Heber the Kenite: for there was peace between Jabin the king of Hazor and the house of Heber the Kenite. And Samson went down to Timnath, and saw a woman in Timnath of the daughters of the Philistines. Her wise ladies answered her, yea, she returned answer to herself,\n",
      "  Have they not sped? Also Judah took Gaza with the coast thereof, and Askelon with the coast thereof, and Ekron with the coast thereof.\n",
      "============================================================\n",
      "Sum pooling:\n",
      "------------\n",
      "And it came to pass, when the children of Israel cried unto the LORD because of the Midianites,\n",
      "  That the LORD sent a prophet unto the children of Israel, which said unto them, Thus saith the LORD God of Israel, I brought you up from Egypt, and brought you forth out of the house of bondage;\n",
      "  And I delivered you out of the hand of the Egyptians, and out of the hand of all that oppressed you, and drave them out from before you, and gave you their land;\n",
      "  And I said unto you, I am the LORD your God; fear not the gods of the Amorites, in whose land ye dwell: but ye have not obeyed my voice. And Manoah arose, and went after his wife, and came to the man, and said unto him, Art thou the man that spakest unto the woman? Then Gideon took ten men of his servants, and did as the LORD had said unto him: and so it was, because he feared his father's household, and the men of the city, that he could not do it by day, that he did it by night. And she said unto him, The Philistines be upon thee, Samson. Then the men of Israel said unto Gideon, Rule thou over us, both thou, and thy son, and thy son's son also: for thou hast delivered us from the hand of Midian. And the LORD said unto Gideon, By the three hundred men that lapped will I save you, and deliver the Midianites into thine hand: and let all the other people go every man unto his place. And the children of Benjamin went out against the people, and were drawn away from the city; and they began to smite of the people, and kill, as at other times, in the highways, of which one goeth up to the house of God, and the other to Gibeah in the field, about thirty men of Israel. And she sent and called Barak the son of Abinoam out of Kedeshnaphtali, and said unto him, Hath not the LORD God of Israel commanded, saying, Go and draw toward mount Tabor, and take with thee ten thousand men of the children of Naphtali and of the children of Zebulun?\n",
      "\n",
      "**********************************\n",
      "*** Transformers Consolidation ***\n",
      "**********************************\n",
      "Sentence pooling:\n",
      "-----------------\n",
      "And the LORD looked upon him, and said, Go in this thy might, and thou shalt save Israel from the hand of the Midianites: have not I sent thee? And they cried unto the children of Dan. And they slew of Moab at that time about ten thousand men, all lusty, and all men of valour; and there escaped not a man. And the woman bare a son, and called his name Samson: and the child grew, and the LORD blessed him. And Abimelech came unto the tower, and fought against it, and went hard unto the door of the tower to burn it with fire. And the house of Joseph, they also went up against Bethel: and the LORD was with them. So he brought him into his house, and gave provender unto the asses: and they washed their feet, and did eat and drink. And Jephthah said unto them, I and my people were at great strife with the children of Ammon; and when I called you, ye delivered me not out of their hands. Then the men of the city said unto Joash, Bring out thy son, that he may die: because he hath cast down the altar of Baal, and because he hath cut down the grove that was by it. And Zebul said unto him, Thou seest the shadow of the mountains as if they were men. And the LORD discomfited Sisera, and all his chariots, and all his host, with the edge of the sword before Barak; so that Sisera lighted down off his chariot, and fled away on his feet. And he gathered unto him the children of Ammon and Amalek, and went and smote Israel, and possessed the city of palm trees. And he bowed himself with all his might; and the house fell upon the lords, and upon all the people that were therein. And it came to pass, when he was come, that he blew a trumpet in the mountain of Ephraim, and the children of Israel went down with him from the mount, and he before them. And Manoah arose, and went after his wife, and came to the man, and said unto him, Art thou the man that spakest unto the woman?\n",
      "============================================================\n",
      "Chunk pooling:\n",
      "--------------\n",
      "And it came to pass, when the children of Israel cried unto the LORD because of the Midianites,\n",
      "  That the LORD sent a prophet unto the children of Israel, which said unto them, Thus saith the LORD God of Israel, I brought you up from Egypt, and brought you forth out of the house of bondage;\n",
      "  And I delivered you out of the hand of the Egyptians, and out of the hand of all that oppressed you, and drave them out from before you, and gave you their land;\n",
      "  And I said unto you, I am the LORD your God; fear not the gods of the Amorites, in whose land ye dwell: but ye have not obeyed my voice. And Gideon the son of Joash returned from battle before the sun was up,\n",
      "  And caught a young man of the men of Succoth, and enquired of him: and he described unto him the princes of Succoth, and the elders thereof, even threescore and seventeen men. And they buried him in the border of his inheritance in Timnathheres, in the mount of Ephraim, on the north side of the hill Gaash. And the LORD was with Judah; and he drave out the inhabitants of the mountain; but could not drive out the inhabitants of the valley, because they had chariots of iron. Thus God rendered the wickedness of Abimelech, which he did unto his father, in slaying his seventy brethren:\n",
      "  And all the evil of the men of Shechem did God render upon their heads: and upon them came the curse of Jotham the son of Jerubbaal. Then the elders of the congregation said, How shall we do for wives for them that remain, seeing the women are destroyed out of Benjamin? And Benjamin went forth against them out of Gibeah the second day, and destroyed down to the ground of the children of Israel again eighteen thousand men; all these drew the sword. And she dwelt under the palm tree of Deborah between Ramah and Bethel in mount Ephraim: and the children of Israel came up to her for judgment. Delilah therefore took new ropes, and bound him therewith, and said unto him, The Philistines be upon thee, Samson.\n"
     ]
    }
   ],
   "source": [
    "printing(judges)"
   ]
  },
  {
   "cell_type": "code",
   "execution_count": 68,
   "id": "32844756-dac4-4fe1-b5f2-0ee0d57dd072",
   "metadata": {},
   "outputs": [
    {
     "data": {
      "text/plain": [
       "' The children of Israel asked the LORD, saying, Who shall go up for us against the Canaanites first, to fight against them? And the LORD said, Judah will go up: behold, I have delivered the land into his hand . And Judah went up; and the LORD delivered the Canaanite and the Perizzites into their hand . But Adonibezek fled; and they pursued after him, and cut off his thumbs and his great toes . He said, Threescore and ten kings, having their thumbs and their great toes cut off, gathered their meat under my table: as I have done, so God hath requited me . And they brought him to Jerusalem, and there he died . They gave Hebron unto Caleb, as Moses said: and he expelled the three sons of Anak .  Gideon put a fleece of wool in the floor, and wringed the dew out of the fleece, a bowl full of water . The men of the city said to Joash, Bring out thy son, that he may die: because he has cast down the altar of Baal . And Joash said to all that stood against him, Will ye plead for Baal? will ye save him? He that will plead for him, let him be put to death whilst it is still morning  Gideon sent messengers throughout all mount Ephraim, saying, Come down against the Midianites, and take before them the waters unto Bethbarah and Jordan . And they took two princes of the midianite, Oreb and Zeeb; and they slew Oreb upon the rock Oreb .  The children of Ammon were subdued before the children of Israel . Jephthah vowed a vow to deliver them into his hands . His daughter said, \"Let me alone two months, and I may go up and down upon the mountains, and bewail my virginity\" Then Israel possessed all the coasts of the Amorites, from Arnon even unto Jabbok, and unto Jordan . A certain man of Zorah, of the family of the Danites, appeared to be an angel of God . He said, Behold, thou shalt conceive, and bear a son; and no razor shall come on his head: for the child shall be a Nazarite unto God from the womb . Samson went down to Timnath, and saw a woman bare a son, and called his name Samson . But they could not in three days expound the riddle  Samson was buried between Zorah and Eshtaol in the buryingplace of Manoah his father . Gazites laid wait for him all night in the gate of the city, saying, In the morning, when it is day, we shall kill him . But God clave an hollow place that was in the jaw, and there came water thereout; and when he had drunk, his spirit came again, and he revived . And he called the name thereof Enhakkore, which is in Lehi unto this day . The children of Dan sent of their family five men from their coasts, men of valour, to spy out the land, and to search it . When they were by the house of Micah, they knew the voice of the young man the Levite .  They found among the inhabitants of Jabeshgilead four hundred virgins, that had known no man by lying with any male . Also they set on fire all the cities that they came to  There is a feast of the LORD in Shiloh yearly in a place which is on the north side of Bethel, on the east side of the highway that goes up from Bethel to Shechem . '"
      ]
     },
     "execution_count": 68,
     "metadata": {},
     "output_type": "execute_result"
    }
   ],
   "source": [
    "summarization_pipeline_consolidation(judges)"
   ]
  },
  {
   "cell_type": "markdown",
   "id": "2caea8bb-c4d6-4932-85cc-bfb49b305a94",
   "metadata": {},
   "source": [
    "## Ruth"
   ]
  },
  {
   "cell_type": "code",
   "execution_count": 31,
   "id": "518d429d-be78-4ca8-a93b-dd3021465117",
   "metadata": {},
   "outputs": [],
   "source": [
    "ruth = get_book_text('Ruth', bible)"
   ]
  },
  {
   "cell_type": "code",
   "execution_count": 32,
   "id": "2a983cf0-43e0-40a7-a088-6283c36b8d18",
   "metadata": {},
   "outputs": [
    {
     "name": "stdout",
     "output_type": "stream",
     "text": [
      "****************************\n",
      "*** TF-IDF Consolidation ***\n",
      "****************************\n",
      "Max pooling:\n",
      "------------\n",
      "And the servant that was set over the reapers answered and said, It is the Moabitish damsel that came back with Naomi out of the country of Moab:\n",
      "  And she said, I pray you, let me glean and gather after the reapers among the sheaves: so she came, and hath continued even from the morning until now, that she tarried a little in the house. And now, my daughter, fear not; I will do to thee all that thou requirest: for all the city of my people doth know that thou art a virtuous woman. Moreover Ruth the Moabitess, the wife of Mahlon, have I purchased to be my wife, to raise up the name of the dead upon his inheritance, that the name of the dead be not cut off from among his brethren, and from the gate of his place: ye are witnesses this day. And she went down unto the floor, and did according to all that her mother in law bade her. And he turned aside, and sat down. Now this was the manner in former time in Israel concerning redeeming and concerning changing, for to confirm all things; a man plucked off his shoe, and gave it to his neighbour: and this was a testimony in Israel. Turn again, my daughters, go your way; for I am too old to have an husband. Now these are the generations of Pharez: Pharez begat Hezron,\n",
      "  And Hezron begat Ram, and Ram begat Amminadab,\n",
      "  And Amminadab begat Nahshon, and Nahshon begat Salmon,\n",
      "  And Salmon begat Boaz, and Boaz begat Obed,\n",
      "  And Obed begat Jesse, and Jesse begat David. So she gleaned in the field until even, and beat out that she had gleaned: and it was about an ephah of barley. Then she kissed them; and they lifted up their voice, and wept. are there yet any more sons in my womb, that they may be your husbands? And the kinsman said, I cannot redeem it for myself, lest I mar mine own inheritance: redeem thou my right to thyself; for I cannot redeem it.\n",
      "============================================================\n",
      "Sum pooling:\n",
      "------------\n",
      "And when she came to her mother in law, she said, Who art thou, my daughter? And the women said unto Naomi, Blessed be the LORD, which hath not left thee this day without a kinsman, that his name may be famous in Israel. And they said unto her, Surely we will return with thee unto thy people. Then went Boaz up to the gate, and sat him down there: and, behold, the kinsman of whom Boaz spake came by; unto whom he said, Ho, such a one! Then said Boaz, What day thou buyest the field of the hand of Naomi, thou must buy it also of Ruth the Moabitess, the wife of the dead, to raise up the name of the dead upon his inheritance. And he took ten men of the elders of the city, and said, Sit ye down here. Then she said, Let me find favour in thy sight, my lord; for that thou hast comforted me, and for that thou hast spoken friendly unto thine handmaid, though I be not like unto one of thine handmaidens. And Naomi said unto her two daughters in law, Go, return each to her mother's house: the LORD deal kindly with you, as ye have dealt with the dead, and with me. If thou wilt redeem it, redeem it: but if thou wilt not redeem it, then tell me, that I may know: for there is none to redeem it beside thee; and I am after thee. And Boaz said unto the elders, and unto all the people, Ye are witnesses this day, that I have bought all that was Elimelech's, and all that was Chilion's and Mahlon's, of the hand of Naomi. And the servant that was set over the reapers answered and said, It is the Moabitish damsel that came back with Naomi out of the country of Moab:\n",
      "  And she said, I pray you, let me glean and gather after the reapers among the sheaves: so she came, and hath continued even from the morning until now, that she tarried a little in the house.\n",
      "\n",
      "**********************************\n",
      "*** Transformers Consolidation ***\n",
      "**********************************\n",
      "Sentence pooling:\n",
      "-----------------\n",
      "And Naomi said unto her daughter in law, Blessed be he of the LORD, who hath not left off his kindness to the living and to the dead. And when she held it, he measured six measures of barley, and laid it on her: and she went into the city. Go not to glean in another field, neither go from hence, but abide here fast by my maidens:\n",
      "  Let thine eyes be on the field that they do reap, and go thou after them: have I not charged the young men that they shall not touch thee? And Boaz said unto her, At mealtime come thou hither, and eat of the bread, and dip thy morsel in the vinegar. And Ruth the Moabitess said, He said unto me also, Thou shalt keep fast by my young men, until they have ended all my harvest. And she answered, I am Ruth thine handmaid: spread therefore thy skirt over thine handmaid; for thou art a near kinsman. Now this was the manner in former time in Israel concerning redeeming and concerning changing, for to confirm all things; a man plucked off his shoe, and gave it to his neighbour: and this was a testimony in Israel. And he said, Who art thou? And they said unto her, Surely we will return with thee unto thy people. Then said Boaz unto Ruth, Hearest thou not, my daughter? And he said unto the kinsman, Naomi, that is come again out of the country of Moab, selleth a parcel of land, which was our brother Elimelech's:\n",
      "  And I thought to advertise thee, saying, Buy it before the inhabitants, and before the elders of my people. And they lifted up their voice, and wept again: and Orpah kissed her mother in law; but Ruth clave unto her. The LORD grant you that ye may find rest, each of you in the house of her husband. The LORD make the woman that is come into thine house like Rachel and like Leah, which two did build the house of Israel: and do thou worthily in Ephratah, and be famous in Bethlehem:\n",
      "  And let thy house be like the house of Pharez, whom Tamar bare unto Judah, of the seed which the LORD shall give thee of this young woman.\n",
      "============================================================\n",
      "Chunk pooling:\n",
      "--------------\n",
      "Then said Boaz, What day thou buyest the field of the hand of Naomi, thou must buy it also of Ruth the Moabitess, the wife of the dead, to raise up the name of the dead upon his inheritance. Wherefore she went forth out of the place where she was, and her two daughters in law with her; and they went on the way to return unto the land of Judah. And now it is true that I am thy near kinsman: howbeit there is a kinsman nearer than I.\n",
      "  Tarry this night, and it shall be in the morning, that if he will perform unto thee the part of a kinsman, well; let him do the kinsman's part: but if he will not do the part of a kinsman to thee, then will I do the part of a kinsman to thee, as the LORD liveth: lie down until the morning. And Ruth said, Intreat me not to leave thee, or to return from following after thee: for whither thou goest, I will go; and where thou lodgest, I will lodge: thy people shall be my people, and thy God my God:\n",
      "  Where thou diest, will I die, and there will I be buried: the LORD do so to me, and more also, if ought but death part thee and me. And Boaz answered and said unto her, It hath fully been shewed me, all that thou hast done unto thy mother in law since the death of thine husband: and how thou hast left thy father and thy mother, and the land of thy nativity, and art come unto a people which thou knewest not heretofore. And Naomi said unto Ruth her daughter in law, It is good, my daughter, that thou go out with his maidens, that they meet thee not in any other field. And the servant that was set over the reapers answered and said, It is the Moabitish damsel that came back with Naomi out of the country of Moab:\n",
      "  And she said, I pray you, let me glean and gather after the reapers among the sheaves: so she came, and hath continued even from the morning until now, that she tarried a little in the house.\n"
     ]
    }
   ],
   "source": [
    "printing(ruth)"
   ]
  },
  {
   "cell_type": "code",
   "execution_count": 71,
   "id": "b660d8d3-9107-44e0-8cba-db181bc1cc39",
   "metadata": {},
   "outputs": [
    {
     "data": {
      "text/plain": [
       "\" A certain man of Bethlehemjudah went to sojourn in the country of Moab, he and his wife, and his two sons . Elimelech Naomi's husband died; and she was left, and her two sons Mahlon and Chilion . She arose with her daughters in law, that she might return to the land of Judah . And Naomi said, Turn again, my daughters: why will ye go with me? Are there yet any more sons in my womb, that they may be your husbands? For it grieveth me much for your sakes that the hand of the LORD is gone out against me . But Orpah kissed her mother in law; but Ruth clave unto her. And she said, Behold, thy sister in law is gone back unto her people, and unto her gods: return  Naomi had a kinsman of her husband's, a mighty man of wealth, of the family of Elimelech; and his name was Boaz . Naomi returned, and Ruth the Moabitess, her daughter in law, with her, which returned out of the country of Moab . They came to Bethlehem in the beginning of barley harvest . And Ruth said, Intreat me not to leave thee, or to return from following after thee: for whither thou goest, I will go; and where thy people shall be my people, and thy God my God:  Where thou diest, will I die, and there will I be buried: the LORD do so to me, and more also, if ought but death part thee and me. So they two went until they come to Bethlehem .  Naomi gleaned an ephah of barley, and took it up, and went into the city . Her mother in law saw what she had gleaned, and gave it to her that she had reserved after she was sufficed . Then she said, Why have I found grace in thine eyes, that thou shouldest take knowledge of me, seeing I am a stranger? And Boaz said, It hath fully been shewed me, all that thou hast done  since the death of thine husband . The LORD recompense thy work, and a full reward be given thee of the LORD God of Israel, under whose wings thou art come to trust. Go not to glean in another field, neither go from hence, but abide here fast by my maidens:  Let thine Eyes be on the field that they do reap, and  Ruth the Moabitess kept fast by the maidens of Boaz to glean unto the end of barley harvest and of wheat harvest . Naomi her mother in law said, My daughter, shall I not seek rest for thee, that it may be well with thee? And Naomi said, It is good, my daughter, that thou go out with his maidens, that they meet thee not in any other field . So she went down to the floor, and did according to all that her mother-in-law bade her to do . When Boaz had eaten and drunk, and his heart was merry, he went to lie down at a heap of corn: and she came softly, and uncovered his feet, and laid her down . And it came to pass at midnight, that the man was afraid  Naomi, a kinsman of whom Boaz spake came by; unto whom he said, Ho, such a one! turn aside, sit down here . And the kinsman said, I cannot redeem it for myself, lest I mar mine own inheritance: redeem thou my right to thyself . But if thou wilt not redeem it, then tell me, that I may know: for there is none to redeem it beside thee; and I am after thee . And she said, These six measures of barley gave he me; for he said to me, Go not empty unto thy mother in law. Then said, Sit still, my daughter, until thou know how the matter will fall: for the man will not be in rest, until he have finished the thing this day . The woman rose up before one could know another. She went into the city  Boaz bought all that was Elimelech's, Chilion's and Mahlon's, of the hand of Naomi . Ruth the Moabitess, the wife of Mahlon, have I purchased to be my wife, to raise up the name of the dead upon his inheritance . So Boaz took Ruth, and she was his wife: and when he went in unto her, the LORD gave her conception,. and she bare a son . And Naomi took the child, and laid it in her bosom, and became nurse unto it . And the women her neighbours gave it a name, saying, There is a son born to Naomi; and they called his name Obed: he is the father of Jesse, the father for Jesse, and Jesse begat David. Now these are the generations of \""
      ]
     },
     "execution_count": 71,
     "metadata": {},
     "output_type": "execute_result"
    }
   ],
   "source": [
    "summarization_pipeline_consolidation(ruth)"
   ]
  },
  {
   "cell_type": "markdown",
   "id": "47c10146-8a0a-4e0a-8cd1-f0c02e116706",
   "metadata": {},
   "source": [
    "## 1 Samuel"
   ]
  },
  {
   "cell_type": "code",
   "execution_count": 33,
   "id": "9b42624a-e2f4-4600-ba5d-efd1461204b8",
   "metadata": {},
   "outputs": [],
   "source": [
    "samuel1 = get_book_text('1 Samuel', bible)"
   ]
  },
  {
   "cell_type": "code",
   "execution_count": 34,
   "id": "27a531a2-5493-421b-8352-f4444b514e90",
   "metadata": {},
   "outputs": [
    {
     "name": "stdout",
     "output_type": "stream",
     "text": [
      "****************************\n",
      "*** TF-IDF Consolidation ***\n",
      "****************************\n",
      "Max pooling:\n",
      "------------\n",
      "And Jonathan spake good of David unto Saul his father, and said unto him, Let not the king sin against his servant, against David; because he hath not sinned against thee, and because his works have been to thee-ward very good:\n",
      "  For he did put his life in his hand, and slew the Philistine, and the LORD wrought a great salvation for all Israel: thou sawest it, and didst rejoice: wherefore then wilt thou sin against innocent blood, to slay David without a cause? And they answered them, and said, He is; behold, he is before you: make haste now, for he came to day to the city; for there is a sacrifice of the people to day in the high place:\n",
      "  As soon as ye be come into the city, ye shall straightway find him, before he go up to the high place to eat: for the people will not eat until he come, because he doth bless the sacrifice; and afterwards they eat that be bidden. And when the inhabitants of Jabeshgilead heard of that which the Philistines had done to Saul;\n",
      "  All the valiant men arose, and went all night, and took the body of Saul and the bodies of his sons from the wall of Bethshan, and came to Jabesh, and burnt them there. And they rose up in the morning early, and worshipped before the LORD, and returned, and came to their house to Ramah: and Elkanah knew Hannah his wife; and the LORD remembered her. Now there was a man of Benjamin, whose name was Kish, the son of Abiel, the son of Zeror, the son of Bechorath, the son of Aphiah, a Benjamite, a mighty man of power. And they of Bethshemesh were reaping their wheat harvest in the valley: and they lifted up their eyes, and saw the ark, and rejoiced to see it. Then Jesse called Abinadab, and made him pass before Samuel. And as for thine asses that were lost three days ago, set not thy mind on them; for they are found. We made an invasion upon the south of the Cherethites, and upon the coast which belongeth to Judah, and upon the south of Caleb; and we burned Ziklag with fire.\n",
      "============================================================\n",
      "Sum pooling:\n",
      "------------\n",
      "And Saul said unto David, Go, and the LORD be with thee. And now, behold, I know well that thou shalt surely be king, and that the kingdom of Israel shall be established in thine hand. And Samuel sent all the people away, every man to his house. So it came to pass in the day of battle, that there was neither sword nor spear found in the hand of any of the people that were with Saul and Jonathan: but with Saul and with Jonathan his son was there found. And the messenger answered and said, Israel is fled before the Philistines, and there hath been also a great slaughter among the people, and thy two sons also, Hophni and Phinehas, are dead, and the ark of God is taken. And Samuel called the people together unto the LORD to Mizpeh;\n",
      "  And said unto the children of Israel, Thus saith the LORD God of Israel, I brought up Israel out of Egypt, and delivered you out of the hand of the Egyptians, and out of the hand of all kingdoms, and of them that oppressed you:\n",
      "  And ye have this day rejected your God, who himself saved you out of all your adversities and your tribulations; and ye have said unto him, Nay, but set a king over us. Wherefore David arose and went, he and his men, and slew of the Philistines two hundred men; and David brought their foreskins, and they gave them in full tale to the king, that he might be the king's son in law. Then all the elders of Israel gathered themselves together, and came to Samuel unto Ramah,\n",
      "  And said unto him, Behold, thou art old, and thy sons walk not in thy ways: now make us a king to judge us like all the nations. Now the LORD had told Samuel in his ear a day before Saul came, saying,\n",
      "  To morrow about this time I will send thee a man out of the land of Benjamin, and thou shalt anoint him to be captain over my people Israel, that he may save my people out of the hand of the Philistines: for I have looked upon my people, because their cry is come unto me.\n",
      "\n",
      "**********************************\n",
      "*** Transformers Consolidation ***\n",
      "**********************************\n",
      "Sentence pooling:\n",
      "-----------------\n",
      "And Saul said unto David, Go, and the LORD be with thee. And he smote the men of Bethshemesh, because they had looked into the ark of the LORD, even he smote of the people fifty thousand and threescore and ten men: and the people lamented, because the LORD had smitten many of the people with a great slaughter. And they answered them, and said, He is; behold, he is before you: make haste now, for he came to day to the city; for there is a sacrifice of the people to day in the high place:\n",
      "  As soon as ye be come into the city, ye shall straightway find him, before he go up to the high place to eat: for the people will not eat until he come, because he doth bless the sacrifice; and afterwards they eat that be bidden. and did I give unto the house of thy father all the offerings made by fire of the children of Israel? and with whom hast thou left those few sheep in the wilderness? Then said Samuel, Bring ye hither to me Agag the king of the Amalekites. And they sent messengers to the inhabitants of Kirjathjearim, saying, The Philistines have brought again the ark of the LORD; come ye down, and fetch it up to you. But his servants, together with the woman, compelled him; and he hearkened unto their voice. And Samuel judged the children of Israel in Mizpeh. And they found an Egyptian in the field, and brought him to David, and gave him bread, and he did eat; and they made him drink water;\n",
      "  And they gave him a piece of a cake of figs, and two clusters of raisins: and when he had eaten, his spirit came again to him: for he had eaten no bread, nor drunk any water, three days and three nights. And David laid up these words in his heart, and was sore afraid of Achish the king of Gath. Then said Jonathan, My father hath troubled the land: see, I pray you, how mine eyes have been enlightened, because I tasted a little of this honey.\n",
      "============================================================\n",
      "Chunk pooling:\n",
      "--------------\n",
      "When Saul heard that David was discovered, and the men that were with him, (now Saul abode in Gibeah under a tree in Ramah, having his spear in his hand, and all his servants were standing about him;)\n",
      "  Then Saul said unto his servants that stood about him, Hear now, ye Benjamites; will the son of Jesse give every one of you fields and vineyards, and make you all captains of thousands, and captains of hundreds;\n",
      "  That all of you have conspired against me, and there is none that sheweth me that my son hath made a league with the son of Jesse, and there is none of you that is sorry for me, or sheweth unto me that my son hath stirred up my servant against me, to lie in wait, as at this day? And the ark of the LORD was in the country of the Philistines seven months. And when David came to Ziklag, he sent of the spoil unto the elders of Judah, even to his friends, saying, Behold a present for you of the spoil of the enemies of the LORD;\n",
      "  To them which were in Bethel, and to them which were in south Ramoth, and to them which were in Jattir,\n",
      "  And to them which were in Aroer, and to them which were in Siphmoth, and to them which were in Eshtemoa,\n",
      "  And to them which were in Rachal, and to them which were in the cities of the Jerahmeelites, and to them which were in the cities of the Kenites,\n",
      "  And to them which were in Hormah, and to them which were in Chorashan, and to them which were in Athach,\n",
      "  And to them which were in Hebron, and to all the places where David himself and his men were wont to haunt. And the children of Israel said to Samuel, Cease not to cry unto the LORD our God for us, that he will save us out of the hand of the Philistines. And when Abigail saw David, she hasted, and lighted off the ass, and fell before David on her face, and bowed herself to the ground,\n",
      "  And fell at his feet, and said, Upon me, my lord, upon me let this iniquity be: and let thine handmaid, I pray thee, speak in thine audience, and hear the words of thine handmaid.\n"
     ]
    }
   ],
   "source": [
    "printing(samuel1)"
   ]
  },
  {
   "cell_type": "code",
   "execution_count": 74,
   "id": "cb8671ae-008c-499a-a32e-d416aa2e5dda",
   "metadata": {},
   "outputs": [
    {
     "data": {
      "text/plain": [
       "\" Hannah was in bitterness of soul, and prayed unto the LORD, and wept sore . She vowed a vow, and said, O LORD of hosts, if thou wilt indeed look on the affliction of thine handmaid, and remember me, then I will give him all the days of his life, and there shall no razor come upon his head . But it came to pass, as she continued praying before the Lord, that Eli marked her mouth . And therefore I have sworn unto the house of Eli, that the iniquity of Eli's house shall not be purged with sacrifice nor offering for ever . Now Israel went out against the Philistines to battle, and pitched beside Ebenezer: and there was a very great slaughter; for there fell of Israel thirty thousand footmen . The bows of the mighty men are broken, and they  The children of Israel did put away Baalim and Ashtoth, and served the LORD only . But the Philistines drew near to battle against Israel: but the LORD thundered with a great thunder on that day, and discomfited them; and they were smitten before Israel . Then Samuel took a stone, and called it Ebenezer, and said, Hitherto hath the LORD helped us . So the Philistsines were subdued, and they came no more than  Samuel's firstborn was Joel Saul . Three men going up to God to Bethel, one carrying three kids, and another carrying three loaves of bread, and  another carrying a bottle of wine:  And they will salute thee, and give thee  Saul . And as for thine asses that were lost three days ago, set not thy mind  Jonathan said to the young man that bare his armour, Come, and let us go over unto the garrison of these uncircumcised men: it may be that the LORD will work for us . And his armourbearer said,  Saul asked counsel of God, Shall I go down after the Philistines? wilt thou deliver them into the hand of Israel? But there was not a man among all the people that answered him . Then Saul said to Jonathan, Tell me what he had done, and said, I did but taste a little honey with the end of the rod that was in mine hand, and, lo, I must die . So the people rescued Jonathan, that he died not: for he wrought with God this day . Samuel mourned for Saul: and the LORD repented that he had made Saul king over Israel  Saul sought to smite David even to the wall with the javelin, but he slipped away out of Saul's presence, and he smote it into the wall . But Jonathan Saul's son delighted much in David: and Jonathan told David, saying, Saul my father seeketh to kill thee: now therefore, I pray thee, take heed to thyself until the morning, and abide in a secret place, and hide thyself . Then said Jonathan, Behold, to morrow is the new moon, and I should not fail to sit with the king at meat: but let me go, that I may hide myself in the field . Jonathan caused David to swear again, because he loved him as he loved his own soul . The prophet Gad said, Abide not in the hold; depart, and get thee into the land of Judah  David said in his heart, I shall now perish one day by the hand of Saul: there is nothing better for me than that I should speedily escape into the land of the Philistines . The Ziphites came unto Saul to Gibeah, saying, Doth not David hide himself in the hill of Hachilah, which is before Jeshimon? Then Saul arose, and went down to the wilderness of Ziph, having three thousand chosen men of Israel with him, to seek David in the Wilderness . And David also took Ahinoam the Jezreelitess and Abigail the wife of Nabal the Carmelite . David's heart smote him, because he had cut off Saul's skirt . When Saul looked behind him, David stooped with his face to the earth, and bowed himself .  Saul's body was fastened to the wall of Bethshan . His armour was put in the house of Ashtaroth, and they fastened it to a wall . All the valiant men went all night, and took the body of Saul and the bodies of his sons from the wall  and came to Jabesh, and burnt them there . \""
      ]
     },
     "execution_count": 74,
     "metadata": {},
     "output_type": "execute_result"
    }
   ],
   "source": [
    "summarization_pipeline_consolidation(samuel1)"
   ]
  },
  {
   "cell_type": "markdown",
   "id": "82acbda2-c25d-4169-b9e8-a80e6de8a5ca",
   "metadata": {},
   "source": [
    "## 2 Samuel"
   ]
  },
  {
   "cell_type": "code",
   "execution_count": 35,
   "id": "a3e4a826-afd5-451f-9f7c-59b3eb4dcd81",
   "metadata": {},
   "outputs": [],
   "source": [
    "samuel2 = get_book_text('2 Samuel', bible)"
   ]
  },
  {
   "cell_type": "code",
   "execution_count": 36,
   "id": "16adc62c-aa58-4c5f-be7b-eaa2d7b2907b",
   "metadata": {},
   "outputs": [
    {
     "name": "stdout",
     "output_type": "stream",
     "text": [
      "****************************\n",
      "*** TF-IDF Consolidation ***\n",
      "****************************\n",
      "Max pooling:\n",
      "------------\n",
      "And the woman answered and said, As thy soul liveth, my lord the king, none can turn to the right hand or to the left from ought that my lord the king hath spoken: for thy servant Joab, he bade me, and he put all these words in the mouth of thine handmaid:\n",
      "  To fetch about this form of speech hath thy servant Joab done this thing: and my lord is wise, according to the wisdom of an angel of God, to know all things that are in the earth. Moreover Ahithophel said unto Absalom, Let me now choose out twelve thousand men, and I will arise and pursue after David this night:\n",
      "  And I will come upon him while he is weary and weak handed, and will make him afraid: and all the people that are with him shall flee; and I will smite the king only:\n",
      "  And I will bring back all the people unto thee: the man whom thou seekest is as if all returned: so all the people shall be in peace.\n",
      "============================================================\n",
      "Sum pooling:\n",
      "------------\n",
      "And the king said unto him, Where is he? And let thy name be magnified for ever, saying, The LORD of hosts is the God over Israel: and let the house of thy servant David be established before thee. And the men of the city went out, and fought with Joab: and there fell some of the people of the servants of David; and Uriah the Hittite died also. And thus said Shimei when he cursed, Come out, come out, thou bloody man, and thou man of Belial:\n",
      "  The LORD hath returned upon thee all the blood of the house of Saul, in whose stead thou hast reigned; and the LORD hath delivered the kingdom into the hand of Absalom thy son: and, behold, thou art taken in thy mischief, because thou art a bloody man. And it came to pass after this, that Absalom the son of David had a fair sister, whose name was Tamar; and Amnon the son of David loved her. And it came to pass, that when David was come to the top of the mount, where he worshipped God, behold, Hushai the Archite came to meet him with his coat rent, and earth upon his head:\n",
      "  Unto whom David said, If thou passest on with me, then thou shalt be a burden unto me:\n",
      "  But if thou return to the city, and say unto Absalom, I will be thy servant, O king; as I have been thy father's servant hitherto, so will I now also be thy servant: then mayest thou for me defeat the counsel of Ahithophel. When Joab and all the host that was with him were come, they told Joab, saying, Abner the son of Ner came to the king, and he hath sent him away, and he is gone in peace. Moreover Ahithophel said unto Absalom, Let me now choose out twelve thousand men, and I will arise and pursue after David this night:\n",
      "  And I will come upon him while he is weary and weak handed, and will make him afraid: and all the people that are with him shall flee; and I will smite the king only:\n",
      "  And I will bring back all the people unto thee: the man whom thou seekest is as if all returned: so all the people shall be in peace.\n",
      "\n",
      "**********************************\n",
      "*** Transformers Consolidation ***\n",
      "**********************************\n",
      "Sentence pooling:\n",
      "-----------------\n",
      "And David said unto him, From whence comest thou? And the king commanded Joab and Abishai and Ittai, saying, Deal gently for my sake with the young man, even with Absalom. The beauty of Israel is slain upon thy high places: how are the mighty fallen! And they answered the king, The man that consumed us, and that devised against us that we should be destroyed from remaining in any of the coasts of Israel,\n",
      "  Let seven men of his sons be delivered unto us, and we will hang them up unto the LORD in Gibeah of Saul, whom the LORD did choose. And thy handmaid had two sons, and they two strove together in the field, and there was none to part them, but the one smote the other, and slew him. And when Ahithophel saw that his counsel was not followed, he saddled his ass, and arose, and gat him home to his house, to his city, and put his household in order, and hanged himself, and died, and was buried in the sepulchre of his father. And Joab came into the house to the king, and said, Thou hast shamed this day the faces of all thy servants, which this day have saved thy life, and the lives of thy sons and of thy daughters, and the lives of thy wives, and the lives of thy concubines;\n",
      "  In that thou lovest thine enemies, and hatest thy friends. And the king said unto Zadok, Carry back the ark of God into the city: if I shall find favour in the eyes of the LORD, he will bring me again, and shew me both it, and his habitation:\n",
      "  But if he thus say, I have no delight in thee; behold, here am I, let him do to me as seemeth good unto him. And the king said, He also bringeth tidings. And Ziba said unto the king, Behold, he abideth at Jerusalem: for he said, To day shall the house of Israel restore me the kingdom of my father.\n",
      "============================================================\n",
      "Chunk pooling:\n",
      "--------------\n",
      "And it came to pass, after the year was expired, at the time when kings go forth to battle, that David sent Joab, and his servants with him, and all Israel; and they destroyed the children of Ammon, and besieged Rabbah. So shall we come upon him in some place where he shall be found, and we will light upon him as the dew falleth on the ground: and of him and of all the men that are with him there shall not be left so much as one. And it came to pass, that when David was come to the top of the mount, where he worshipped God, behold, Hushai the Archite came to meet him with his coat rent, and earth upon his head:\n",
      "  Unto whom David said, If thou passest on with me, then thou shalt be a burden unto me:\n",
      "  But if thou return to the city, and say unto Absalom, I will be thy servant, O king; as I have been thy father's servant hitherto, so will I now also be thy servant: then mayest thou for me defeat the counsel of Ahithophel. And Saul had a concubine, whose name was Rizpah, the daughter of Aiah: and Ishbosheth said to Abner, Wherefore hast thou gone in unto my father's concubine? And David said to Abishai, and to all his servants, Behold, my son, which came forth of my bowels, seeketh my life: how much more now may this Benjamite do it? And Benaiah the son of Jehoiada, the son of a valiant man, of Kabzeel, who had done many acts, he slew two lionlike men of Moab: he went down also and slew a lion in the midst of a pit in time of snow:\n",
      "  And he slew an Egyptian, a goodly man: and the Egyptian had a spear in his hand; but he went down to him with a staff, and plucked the spear out of the Egyptian's hand, and slew him with his own spear. Then Joab arose, and came to Absalom unto his house, and said unto him, Wherefore have thy servants set my field on fire?\n"
     ]
    }
   ],
   "source": [
    "printing(samuel2)"
   ]
  },
  {
   "cell_type": "code",
   "execution_count": 77,
   "id": "a67955bb-6cee-4b6f-a93d-236ee1a03d53",
   "metadata": {},
   "outputs": [
    {
     "data": {
      "text/plain": [
       "\" David stood upon him, and slew him, because I was sure that he could not live after that he was fallen . Then David took hold on his clothes, and rent them; and likewise all the men that were with him mourned, and wept, and fasted until even . Joab smothered Abner when he was returned to Hebron, took him aside in the gate to speak with him quietly, and smote him there under the fifth rib, that he died . After David heard it, he said, I and my kingdom are guiltless before the LORD for ever from the blood of Abner . As soon as David had made an end of offering burnt offerings, he blessed the people in the name of the LORD of hosts . Michal Saul's daughter looked through a window, and saw king David leaping and dancing before the Lord  Nathan said to the king, Go, do all that is in thine heart; for the LORD is with thee . So all the people departed every one to his house . Then David returned to bless his household . He said, See now, I dwell in an house of cedar, but the ark of God dwelleth within curtains . Also the LORD preserved David whitherwhere he went; and David executed judgment and justice unto all his people . His sons were chief rulers. And she despised him in her heart . Therefore Michal the daughter of Saul had no child unto the day of her death . For example: Joab was over the host;  David sent his servants to comfort him by the hand of his servants for his father's sake . After this, that the king of the children of Ammon died  Absalom fled, and went to Talmai, the son  of Ammihud, king of Geshur . David mourned for his son every day; he was comforted concerning Amnon, seeing he was dead . The woman of Tekoah spake to the king, she fell on her face to the ground, and said, Help, O king . But in all Israel there was none to be so much praised as\\xa0Absalom for his beauty: from the sole of his foot even to the crown of his head there was no blemish in him . After forty years, he went to Hebron, saying, As soon as ye hear the sound of the trumpet, then ye shall say, Absolom reigneth in Hebron  All the men of Israel came to the king, and said they had been stolen from him . The men of Judah clave unto their king, from Jordan even to Jerusalem . And there happened to be there a man of Belial, whose name was Sheba, the son of Bichri, a Benjamite . But the words of the men  were fiercer than those of Israel . They said, We have ten parts in the king and we have also more right in David than ye . Therefore the king said unto Shimei, Thou shalt not die. For thy servant doth know  I have sinned: therefore, behold, I am come the first this day of all the house of Joseph to go down to met my lord the king . The Gibeonites were not of the children of  David the son of Jesse said,  The Spirit of the LORD spake by me, and his word was in my tongue . He that ruleth over men must be just, ruling in the fear of God . But the sons of Belial shall be all of them as thorns thrust away, because they cannot be taken with hands . The man that shall touch them must be fenced with iron and a staff of a spear; and they shall be utterly burned with fire in the same place . These be the names of the mighty men whom David had: The Tachmonite that sat in the seat, chief among the captains; the same was Adino the Eznite . \""
      ]
     },
     "execution_count": 77,
     "metadata": {},
     "output_type": "execute_result"
    }
   ],
   "source": [
    "summarization_pipeline_consolidation(samuel2)"
   ]
  },
  {
   "cell_type": "markdown",
   "id": "b2c004f5-933b-4e1a-b50c-604fcfcc3ad3",
   "metadata": {},
   "source": [
    "## 1 Kings"
   ]
  },
  {
   "cell_type": "code",
   "execution_count": 37,
   "id": "a1f7f10d-48c3-48bc-b9c6-64dfe3845955",
   "metadata": {},
   "outputs": [],
   "source": [
    "kings1 = get_book_text('1 Kings', bible)"
   ]
  },
  {
   "cell_type": "code",
   "execution_count": 38,
   "id": "52fe1f36-852a-4b96-94ba-61cfc85d82f3",
   "metadata": {},
   "outputs": [
    {
     "name": "stdout",
     "output_type": "stream",
     "text": [
      "****************************\n",
      "*** TF-IDF Consolidation ***\n",
      "****************************\n",
      "Max pooling:\n",
      "------------\n",
      "And it came to pass, as they sat at the table, that the word of the LORD came unto the prophet that brought him back:\n",
      "  And he cried unto the man of God that came from Judah, saying, Thus saith the LORD, Forasmuch as thou hast disobeyed the mouth of the LORD, and hast not kept the commandment which the LORD thy God commanded thee,\n",
      "  But camest back, and hast eaten bread and drunk water in the place, of the which the LORD did say to thee, Eat no bread, and drink no water; thy carcase shall not come unto the sepulchre of thy fathers. And Benhadad the king of Syria gathered all his host together: and there were thirty and two kings with him, and horses, and chariots: and he went up and besieged Samaria, and warred against it.\n",
      "============================================================\n",
      "Sum pooling:\n",
      "------------\n",
      "And the king of Israel answered and said, My lord, O king, according to thy saying, I am thine, and all that I have. And she said unto Elijah, What have I to do with thee, O thou man of God? And Jeroboam said in his heart, Now shall the kingdom return to the house of David:\n",
      "  If this people go up to do sacrifice in the house of the LORD at Jerusalem, then shall the heart of this people turn again unto their lord, even unto Rehoboam king of Judah, and they shall kill me, and go again to Rehoboam king of Judah. And the word of the LORD came to Solomon, saying,\n",
      "  Concerning this house which thou art in building, if thou wilt walk in my statutes, and execute my judgments, and keep all my commandments to walk in them; then will I perform my word with thee, which I spake unto David thy father:\n",
      "  And I will dwell among the children of Israel, and will not forsake my people Israel. And, behold, I purpose to build an house unto the name of the LORD my God, as the LORD spake unto David my father, saying, Thy son, whom I will set upon thy throne in thy room, he shall build an house unto my name. And it came to pass, when Hiram heard the words of Solomon, that he rejoiced greatly, and said, Blessed be the LORD this day, which hath given unto David a wise son over this great people. And it came to pass, when Zimri saw that the city was taken, that he went into the palace of the king's house, and burnt the king's house over him with fire, and died,\n",
      "  For his sins which he sinned in doing evil in the sight of the LORD, in walking in the way of Jeroboam, and in his sin which he did, to make Israel to sin. Bathsheba therefore went unto king Solomon, to speak unto him for Adonijah.\n",
      "\n",
      "**********************************\n",
      "*** Transformers Consolidation ***\n",
      "**********************************\n",
      "Sentence pooling:\n",
      "-----------------\n",
      "And the king sent and called for Shimei, and said unto him, Build thee an house in Jerusalem, and dwell there, and go not forth thence any whither. And God stirred him up another adversary, Rezon the son of Eliadah, which fled from his lord Hadadezer king of Zobah:\n",
      "  And he gathered men unto him, and became captain over a band, when David slew them of Zobah: and they went to Damascus, and dwelt therein, and reigned in Damascus. And it came to pass, when Hiram heard the words of Solomon, that he rejoiced greatly, and said, Blessed be the LORD this day, which hath given unto David a wise son over this great people. And he repaired the altar of the LORD that was broken down. He said unto him, I am a prophet also as thou art; and an angel spake unto me by the word of the LORD, saying, Bring him back with thee into thine house, that he may eat bread and drink water. And Ahab told Jezebel all that Elijah had done, and withal how he had slain all the prophets with the sword. And he sent messengers to Ahab king of Israel into the city, and said unto him, Thus saith Benhadad,\n",
      "  Thy silver and thy gold is mine; thy wives also and thy children, even the goodliest, are mine. And there came in two men, children of Belial, and sat before him: and the men of Belial witnessed against him, even against Naboth, in the presence of the people, saying, Naboth did blaspheme God and the king. And, behold, there came a man of God out of Judah by the word of the LORD unto Bethel: and Jeroboam stood by the altar to burn incense. And their father said unto them, What way went he? And the king, and all Israel with him, offered sacrifice before the LORD. And he did evil in the sight of the LORD, and walked in the way of his father, and in his sin wherewith he made Israel to sin. But Zedekiah the son of Chenaanah went near, and smote Micaiah on the cheek, and said, Which way went the Spirit of the LORD from me to speak unto thee?\n",
      "============================================================\n",
      "Chunk pooling:\n",
      "--------------\n",
      "And it came to pass at that time when Jeroboam went out of Jerusalem, that the prophet Ahijah the Shilonite found him in the way; and he had clad himself with a new garment; and they two were alone in the field:\n",
      "  And Ahijah caught the new garment that was on him, and rent it in twelve pieces:\n",
      "  And he said to Jeroboam, Take thee ten pieces: for thus saith the LORD, the God of Israel, Behold, I will rend the kingdom out of the hand of Solomon, and will give ten tribes to thee:\n",
      "  (But he shall have one tribe for my servant David's sake, and for Jerusalem's sake, the city which I have chosen out of all the tribes of Israel:)\n",
      "  Because that they have forsaken me, and have worshipped Ashtoreth the goddess of the Zidonians, Chemosh the god of the Moabites, and Milcom the god of the children of Ammon, and have not walked in my ways, to do that which is right in mine eyes, and to keep my statutes and my judgments, as did David his father. Wherefore Nathan spake unto Bathsheba the mother of Solomon, saying, Hast thou not heard that Adonijah the son of Haggith doth reign, and David our lord knoweth it not? And as Obadiah was in the way, behold, Elijah met him: and he knew him, and fell on his face, and said, Art thou that my lord Elijah? So king Solomon sent, and they brought him down from the altar. And Ahab made a grove; and Ahab did more to provoke the LORD God of Israel to anger than all the kings of Israel that were before him.\n"
     ]
    }
   ],
   "source": [
    "printing(kings1)"
   ]
  },
  {
   "cell_type": "code",
   "execution_count": 80,
   "id": "879f57ad-9d65-4c1c-a05b-3a289e7c37a1",
   "metadata": {},
   "outputs": [
    {
     "data": {
      "text/plain": [
       "' Solomon\\'s provision for one day was thirty measures of fine flour, and threescore measures of meal . The days that David reigned over Israel were forty years: seven years reigned he in Hebron, and thirty and three years in Jerusalem . Adonijah the son of Haggith exalted himself, saying, I will be king . He prepared chariots and horsemen, and fifty men to run before him . But Nathan the prophet, and Benaiah, and the mighty men, and Solomon his brother, he called not . Nathan spake unto Bathsheba the mother of Solomon, saying: Hast thou not heard that Adon Elijah doth reign, and David our lord knoweth it not? Then Bathsheaba bowed with her face to the earth, and said, Let my lord king David live for ever .  Solomon was building his own house 13 years, and he finished all his house . He overlaid the house within with pure gold; and so covered the altar which was of cedar . The height of the one cherubim was ten cubits, and so was it of the other . Both the cherubims were of one measure and one size . And he built the inner court with three rows of hewed stone, and a row of  cedar beams . For the entering of the temple he made doors of olive tree: the lintel and side posts were a fifth part of the wall . So also made he for the door of the Temple posts of olive Tree, a fourth part of an olive tree . And the two doors also were of fir tree : the two leaves of Fir  Three times in a year did Solomon offer burnt offerings and peace offerings upon the altar which he built unto the LORD . The weight of gold that came to Solomon in one year was six hundred threescore and six talents of gold . Pharaoh\\'s daughter came up out of the city of David unto her house which Solomon had built for her . Rezon the son of Eliadah was an adversary to Israel all the days of Solomon, beside the mischief that Hadad did: and he abhorred Israel, and reigned over Syria . And Jeroboam lifted up his hand against Solomon\\'s servant, whose mother\\'s mother\\'s name was Zeruah, a widow woman, even he lifted up their hand against the king . He had at sea a navy of Tharshish with the navy of Hiram, bringing gold   The word of the LORD came to pass as the prophet that brought him back from the way heard . He said, \"Eat no bread, and drink no water; thy carcase shall not come unto the sepulchre of thy fathers\" After this thing Jeroboom returned not from his evil way, but made again of the lowest of the people priests of the high places: whosoever would, he consecrated him, and became one of the priests of a high places . And this thing became sin unto the house of Jerobam, even to cut it off, and to destroy it from the face of the earth . Nadab the son of Jeroboam began to reign over Israel in the second year of Asasan\\'s reign  Baasha smote him at Gibbethon, which belonged to the Philistines .  Obadiah went to meet Ahab and told him: and Ahab went to met Elijah . He said, As the LORD thy God liveth, there is no nation or kingdom, whither my lord hath not sent to seek thee . When they said, he took an oath of the kingdom and nation, that they found thee not . Elisha the son of Shaphat was plowing with twelve yoke of oxen before him, and he with the twelfth . He left the oxen, and ran after Elijah, and said, Let me, I pray thee, kiss my father and my mother, and then I will follow thee . And he arose, and did eat and drink, and went in the strength of that meat forty days and forty nights unto Horeb the mount of God .  Ahaziah began to reign over Israel in Samaria the seventeenth year of Jehosaphat king of Judah, and reigned two years over Israel . He served Baal, and worshipped him, and provoked to anger the LORD God of God . '"
      ]
     },
     "execution_count": 80,
     "metadata": {},
     "output_type": "execute_result"
    }
   ],
   "source": [
    "summarization_pipeline_consolidation(kings1)"
   ]
  },
  {
   "cell_type": "markdown",
   "id": "5509c981-c4c3-42bf-b9b1-c05242df384f",
   "metadata": {},
   "source": [
    "## 2 Kings"
   ]
  },
  {
   "cell_type": "code",
   "execution_count": 39,
   "id": "7032d178-eae5-49fa-9ee2-f9ae4c75837c",
   "metadata": {},
   "outputs": [],
   "source": [
    "kings2 = get_book_text('2 Kings', bible)"
   ]
  },
  {
   "cell_type": "code",
   "execution_count": 40,
   "id": "7cf043af-f97b-4dc3-884f-3c85be50ae0b",
   "metadata": {},
   "outputs": [
    {
     "name": "stdout",
     "output_type": "stream",
     "text": [
      "****************************\n",
      "*** TF-IDF Consolidation ***\n",
      "****************************\n",
      "Max pooling:\n",
      "------------\n",
      "And Elisha the prophet called one of the children of the prophets, and said unto him, Gird up thy loins, and take this box of oil in thine hand, and go to Ramothgilead:\n",
      "  And when thou comest thither, look out there Jehu the son of Jehoshaphat the son of Nimshi, and go in, and make him arise up from among his brethren, and carry him to an inner chamber;\n",
      "  Then take the box of oil, and pour it on his head, and say, Thus saith the LORD, I have anointed thee king over Israel. And the captain of the guard took Seraiah the chief priest, and Zephaniah the second priest, and the three keepers of the door:\n",
      "  And out of the city he took an officer that was set over the men of war, and five men of them that were in the king's presence, which were found in the city, and the principal scribe of the host, which mustered the people of the land, and threescore men of the people of the land that were found in the city:\n",
      "  And Nebuzaradan captain of the guard took these, and brought them to the king of Babylon to Riblah:\n",
      "  And the king of Babylon smote them, and slew them at Riblah in the land of Hamath. And when these lepers came to the uttermost part of the camp, they went into one tent, and did eat and drink, and carried thence silver, and gold, and raiment, and went and hid it; and came again, and entered into another tent, and carried thence also, and went and hid it. And Gehazi answered, Verily she hath no child, and her husband is old. Unto this day they do after the former manners: they fear not the LORD, neither do they after their statutes, or after their ordinances, or after the law and commandment which the LORD commanded the children of Jacob, whom he named Israel;\n",
      "  With whom the LORD had made a covenant, and charged them, saying, Ye shall not fear other gods, nor bow yourselves to them, nor serve them, nor sacrifice to them:\n",
      "  But the LORD, who brought you up out of the land of Egypt with great power and a stretched out arm, him shall ye fear, and him shall ye worship, and to him shall ye do sacrifice.\n",
      "============================================================\n",
      "Sum pooling:\n",
      "------------\n",
      "And Elisha said unto the king of Israel, What have I to do with thee? And the king went up into the house of the LORD, and all the men of Judah and all the inhabitants of Jerusalem with him, and the priests, and the prophets, and all the people, both small and great: and he read in their ears all the words of the book of the covenant which was found in the house of the LORD. And it came to pass, afore Isaiah was gone out into the middle court, that the word of the LORD came to him, saying,\n",
      "  Turn again, and tell Hezekiah the captain of my people, Thus saith the LORD, the God of David thy father, I have heard thy prayer, I have seen thy tears: behold, I will heal thee: on the third day thou shalt go up unto the house of the LORD. Then the king of Assyria came up throughout all the land, and went up to Samaria, and besieged it three years. And he did that which was evil in the sight of the LORD, as his fathers had done: he departed not from the sins of Jeroboam the son of Nebat, who made Israel to sin. Now it came to pass in the third year of Hoshea son of Elah king of Israel, that Hezekiah the son of Ahaz king of Judah began to reign. But if ye say unto me, We trust in the LORD our God: is not that he, whose high places and whose altars Hezekiah hath taken away, and hath said to Judah and Jerusalem, Ye shall worship before this altar in Jerusalem? Then a lord on whose hand the king leaned answered the man of God, and said, Behold, if the LORD would make windows in heaven, might this thing be? So Hazael went to meet him, and took a present with him, even of every good thing of Damascus, forty camels' burden, and came and stood before him, and said, Thy son Benhadad king of Syria hath sent me to thee, saying, Shall I recover of this disease? Then Jehu came forth to the servants of his lord: and one said unto him, Is all well?\n",
      "\n",
      "**********************************\n",
      "*** Transformers Consolidation ***\n",
      "**********************************\n",
      "Sentence pooling:\n",
      "-----------------\n",
      "And Joash the king of Israel came down unto him, and wept over his face, and said, O my father, my father, the chariot of Israel, and the horsemen thereof. And the priest appointed officers over the house of the LORD. And he did that which was right in the sight of the LORD, according to all that his father Amaziah had done;\n",
      "  Save that the high places were not removed: the people sacrificed and burnt incense still on the high places. But Elisha sat in his house, and the elders sat with him; and the king sent a man from before him: but ere the messenger came to him, he said to the elders, See ye how this son of a murderer hath sent to take away mine head? Wherefore they came again, and told him. And the Syrians had gone out by companies, and had brought away captive out of the land of Israel a little maid; and she waited on Naaman's wife. And he did that which was evil in the sight of the LORD, according to all that Jehoiakim had done. And the king of Assyria did carry away Israel unto Assyria, and put them in Halah and in Habor by the river of Gozan, and in the cities of the Medes:\n",
      "  Because they obeyed not the voice of the LORD their God, but transgressed his covenant, and all that Moses the servant of the LORD commanded, and would not hear them, nor do them. So they let his bones alone, with the bones of the prophet that came out of Samaria. And it came to pass, when king Hezekiah heard it, that he rent his clothes, and covered himself with sackcloth, and went into the house of the LORD. And they said unto him, Behold now, there be with thy servants fifty strong men; let them go, we pray thee, and seek thy master: lest peradventure the Spirit of the LORD hath taken him up, and cast him upon some mountain, or into some valley. And the prophet Isaiah the son of Amoz came to him, and said unto him, Thus saith the LORD, Set thine house in order; for thou shalt die, and not live.\n",
      "============================================================\n",
      "Chunk pooling:\n",
      "--------------\n",
      "For he built up again the high places which Hezekiah his father had destroyed; and he reared up altars for Baal, and made a grove, as did Ahab king of Israel; and worshipped all the host of heaven, and served them. So Jehu the son of Jehoshaphat the son of Nimshi conspired against Joram. And the sons of the prophets that were at Bethel came forth to Elisha, and said unto him, Knowest thou that the LORD will take away thy master from thy head to day? Now the rest of the acts of Jeroboam, and all that he did, and his might, how he warred, and how he recovered Damascus, and Hamath, which belonged to Judah, for Israel, are they not written in the book of the chronicles of the kings of Israel? But to the king of Judah which sent you to enquire of the LORD, thus shall ye say to him, Thus saith the LORD God of Israel, As touching the words which thou hast heard;\n",
      "  Because thine heart was tender, and thou hast humbled thyself before the LORD, when thou heardest what I spake against this place, and against the inhabitants thereof, that they should become a desolation and a curse, and hast rent thy clothes, and wept before me; I also have heard thee, saith the LORD. And the captain of the guard took Seraiah the chief priest, and Zephaniah the second priest, and the three keepers of the door:\n",
      "  And out of the city he took an officer that was set over the men of war, and five men of them that were in the king's presence, which were found in the city, and the principal scribe of the host, which mustered the people of the land, and threescore men of the people of the land that were found in the city:\n",
      "  And Nebuzaradan captain of the guard took these, and brought them to the king of Babylon to Riblah:\n",
      "  And the king of Babylon smote them, and slew them at Riblah in the land of Hamath.\n"
     ]
    }
   ],
   "source": [
    "printing(kings2)"
   ]
  },
  {
   "cell_type": "code",
   "execution_count": 83,
   "id": "38f1eb41-09e3-47e2-996d-3ec6517cd360",
   "metadata": {},
   "outputs": [
    {
     "data": {
      "text/plain": [
       "\" Ahaziah fell down through a lattice in his upper chamber that was in Samaria, and was sick . He sent messengers to enquire of Baalzebub the god of Ekron whether I shall recover of this disease . But the angel of the LORD said to Elijah the Tishbite, Arise, go up to meet the messengers of the king of Samaria . And he said to him, If I be a man of God, then let fire come down from heaven, and consume thee and thy fifty . And there came down fire from heaven and consumed him and his fifty . The waters were healed unto this day, according to the saying of Elishi which he spake . Naaman refused, saying: Are not Abana and Pharpar, rivers of Damascus, better than all the waters of Israel? may I not wash in them, and be  Naaman went out from his presence a leper as white as snow . An ass's head was sold for fourscore pieces of silver, and the fourth part of a cab of dove's dung for five pieces of gold . So the bands of Syria came no more into the land of Israel . Jehu wrote letters to the rulers of Jezreel, saying, If ye be mine, and if ye will hearken unto my voice, take ye the heads of the men your master's sons . And it came to pass, when the letter came to them that they took the king's sons, and slew seventy persons, and put their heads in baskets . But when Ahaziah the king of Judah saw this, he fled by the way of the garden house . The dogs shall eat Jezebel in the portion of Jehoshaphat  Jehosheba, the daughter of king Joram, took Joash the son of Ahaziah, and stole him from among the king's sons which were slain . The high places were not taken away: the people still sacrificed and burnt incense in the high places . But the priests had not repaired the breaches of the house, wheresoever any breach shall be found . All the money dedicated things that is brought into the house of the LORD, even the money of every one that passes the account, the money that every man is set at, and all the money \\xa0that cometh into any man's heart to bring into the home of the Lord, let them repair the breaches . Azariah built Elath, and restored it to Judah, after that the king slept with their fathers .  Hezekiah the son of Ahaz king of Judah reigned twenty and nine years in Jerusalem . So Ahaz sent messengers to Tiglathpileser king of Assyria, saying, I am thy servant and thy son: come up, and save me . And when the king was come from Damascus, the king approached to the altar, and offered thereon . And he burnt his burnt offering and his meat offering, and poured his drink offerings, and sprinkled the blood of his peace offerings, upon the altar . And the king of Syriar went up against Damascus, and took it, and carried the people of it captive to Kir, and slew Rezin . One of the priests whom they had carried away from Samaria came and dwelt in Bethel, and taught them how they should fear the LORD. The rest of the  Josiah defiled the high places where the priests had burned incense, from Geba to Beersheba . He made his son pass through the fire, and observed times, and used enchantments, and dealt with familiar spirits and wizards: he wrought much wickedness in the sight of the LORD, to provoke him to anger . But they hearked not:\\xa0and Manassh seduced them to do more evil than did the nations whom the LORD destroyed before the children of Israel . The king rent his clothes when he heard the words of the book that is kindled against us . Jehoahaz was twenty and three years old when he began to reign; and he reigned three months in Jerusalem . Then he rebelled against Nebuchadnezzar king of Babylon . But he came to Egypt, and died \""
      ]
     },
     "execution_count": 83,
     "metadata": {},
     "output_type": "execute_result"
    }
   ],
   "source": [
    "summarization_pipeline_consolidation(kings2)"
   ]
  },
  {
   "cell_type": "markdown",
   "id": "7fd5ab3b-eca0-40ca-8358-ee6e80703ee7",
   "metadata": {},
   "source": [
    "## 1 Chronicles"
   ]
  },
  {
   "cell_type": "code",
   "execution_count": 41,
   "id": "2bc4e274-c1ff-4163-b952-02481196d7f0",
   "metadata": {},
   "outputs": [],
   "source": [
    "chronicles1 = get_book_text('1 Chronicles', bible)"
   ]
  },
  {
   "cell_type": "code",
   "execution_count": 152,
   "id": "8fdf8a94-a331-401a-969c-1369dfee7be4",
   "metadata": {},
   "outputs": [
    {
     "name": "stdout",
     "output_type": "stream",
     "text": [
      "****************************\n",
      "*** TF-IDF Consolidation ***\n",
      "****************************\n",
      "Max pooling:\n",
      "------------\n",
      "So he left there before the ark of the covenant of the LORD Asaph and his brethren, to minister before the ark continually, as every day's work required:\n",
      "  And Obededom with their brethren, threescore and eight; Obededom also the son of Jeduthun and Hosah to be porters:\n",
      "  And Zadok the priest, and his brethren the priests, before the tabernacle of the LORD in the high place that was at Gibeon,\n",
      "  To offer burnt offerings unto the LORD upon the altar of the burnt offering continually morning and evening, and to do according to all that is written in the law of the LORD, which he commanded Israel;\n",
      "  And with them Heman and Jeduthun, and the rest that were chosen, who were expressed by name, to give thanks to the LORD, because his mercy endureth for ever;\n",
      "  And with them Heman and Jeduthun with trumpets and cymbals for those that should make a sound, and with musical instruments of God. And of the Gadites there separated themselves unto David into the hold to the wilderness men of might, and men of war fit for the battle, that could handle shield and buckler, whose faces were like the faces of lions, and were as swift as the roes upon the mountains;\n",
      "  Ezer the first, Obadiah the second, Eliab the third,\n",
      "  Mishmannah the fourth, Jeremiah the fifth,\n",
      "  Attai the sixth, Eliel the seventh,\n",
      "  Johanan the eighth, Elzabad the ninth,\n",
      "  Jeremiah the tenth, Machbanai the eleventh. Now the children of Israel after their number, to wit, the chief fathers and captains of thousands and hundreds, and their officers that served the king in any matter of the courses, which came in and went out month by month throughout all the months of the year, of every course were twenty and four thousand.\n",
      "============================================================\n",
      "Sum pooling:\n",
      "------------\n",
      "Howbeit the LORD God of Israel chose me before all the house of my father to be king over Israel for ever: for he hath chosen Judah to be the ruler; and of the house of Judah, the house of my father; and among the sons of my father he liked me to make me king over all Israel:\n",
      "  And of all my sons, (for the LORD hath given me many sons,) he hath chosen Solomon my son to sit upon the throne of the kingdom of the LORD over Israel. And David assembled the children of Aaron, and the Levites:\n",
      "  Of the sons of Kohath; Uriel the chief, and his brethren an hundred and twenty:\n",
      "  Of the sons of Merari; Asaiah the chief, and his brethren two hundred and twenty:\n",
      "  Of the sons of Gershom; Joel the chief, and his brethren an hundred and thirty:\n",
      "  Of the sons of Elizaphan; Shemaiah the chief, and his brethren two hundred:\n",
      "  Of the sons of Hebron; Eliel the chief, and his brethren fourscore:\n",
      "  Of the sons of Uzziel; Amminadab the chief, and his brethren an hundred and twelve. Then Nathan said unto David, Do all that is in thine heart; for God is with thee. And their brethren the sons of Merari stood on the left hand: Ethan the son of Kishi, the son of Abdi, the son of Malluch,\n",
      "  The son of Hashabiah, the son of Amaziah, the son of Hilkiah,\n",
      "  The son of Amzi, the son of Bani, the son of Shamer,\n",
      "  The son of Mahli, the son of Mushi, the son of Merari, the son of Levi. And David took more wives at Jerusalem: and David begat more sons and daughters. Of the children of Simeon, mighty men of valour for the war, seven thousand and one hundred. Them also king David dedicated unto the LORD, with the silver and the gold that he brought from all these nations; from Edom, and from Moab, and from the children of Ammon, and from the Philistines, and from Amalek.\n",
      "\n",
      "**********************************\n",
      "*** Transformers Consolidation ***\n",
      "**********************************\n",
      "Sentence pooling:\n",
      "-----------------\n",
      "And the sons of Jeconiah; Assir, Salathiel his son,\n",
      "  Malchiram also, and Pedaiah, and Shenazar, Jecamiah, Hoshama, and Nedabiah. And David the king came and sat before the LORD, and said, Who am I, O LORD God, and what is mine house, that thou hast brought me hitherto? And when they had stripped him, they took his head, and his armour, and sent into the land of the Philistines round about, to carry tidings unto their idols, and to the people. So he left there before the ark of the covenant of the LORD Asaph and his brethren, to minister before the ark continually, as every day's work required:\n",
      "  And Obededom with their brethren, threescore and eight; Obededom also the son of Jeduthun and Hosah to be porters:\n",
      "  And Zadok the priest, and his brethren the priests, before the tabernacle of the LORD in the high place that was at Gibeon,\n",
      "  To offer burnt offerings unto the LORD upon the altar of the burnt offering continually morning and evening, and to do according to all that is written in the law of the LORD, which he commanded Israel;\n",
      "  And with them Heman and Jeduthun, and the rest that were chosen, who were expressed by name, to give thanks to the LORD, because his mercy endureth for ever;\n",
      "  And with them Heman and Jeduthun with trumpets and cymbals for those that should make a sound, and with musical instruments of God. And when the children of Ammon saw that they had made themselves odious to David, Hanun and the children of Ammon sent a thousand talents of silver to hire them chariots and horsemen out of Mesopotamia, and out of Syriamaachah, and out of Zobah. And he gathered together all the princes of Israel, with the priests and the Levites. And David took more wives at Jerusalem: and David begat more sons and daughters. Now these are their dwelling places throughout their castles in their coasts, of the sons of Aaron, of the families of the Kohathites: for theirs was the lot.\n",
      "============================================================\n",
      "Chunk pooling:\n",
      "--------------\n",
      "Furthermore over the tribes of Israel: the ruler of the Reubenites was Eliezer the son of Zichri: of the Simeonites, Shephatiah the son of Maachah:\n",
      "  Of the Levites, Hashabiah the son of Kemuel: of the Aaronites, Zadok:\n",
      "  Of Judah, Elihu, one of the brethren of David: of Issachar, Omri the son of Michael:\n",
      "  Of Zebulun, Ishmaiah the son of Obadiah: of Naphtali, Jerimoth the son of Azriel:\n",
      "  Of the children of Ephraim, Hoshea the son of Azaziah: of the half tribe of Manasseh, Joel the son of Pedaiah:\n",
      "  Of the half tribe of Manasseh in Gilead, Iddo the son of Zechariah: of Benjamin, Jaasiel the son of Abner:\n",
      "  Of Dan, Azareel the son of Jeroham. So they brought the ark of God, and set it in the midst of the tent that David had pitched for it: and they offered burnt sacrifices and peace offerings before God. And Joab answered, The LORD make his people an hundred times so many more as they be: but, my lord the king, are they not all my lord's servants? Moreover David and the captains of the host separated to the service of the sons of Asaph, and of Heman, and of Jeduthun, who should prophesy with harps, with psalteries, and with cymbals: and the number of the workmen according to their service was:\n",
      "  Of the sons of Asaph; Zaccur, and Joseph, and Nethaniah, and Asarelah, the sons of Asaph under the hands of Asaph, which prophesied according to the order of the king. And the lot eastward fell to Shelemiah. And of the children of Benjamin, the kindred of Saul, three thousand: for hitherto the greatest part of them had kept the ward of the house of Saul.\n"
     ]
    }
   ],
   "source": [
    "printing(chronicles1)"
   ]
  },
  {
   "cell_type": "code",
   "execution_count": 86,
   "id": "c51fc0ad-7de6-43fa-a534-89a30fff64ad",
   "metadata": {},
   "outputs": [
    {
     "data": {
      "text/plain": [
       "\" Adam, Sheth, Enosh, Kenan, Jered, Methuselah, Lamech, and Noah . Noah, Shem, Ham, and Japheth . The sons of Gomer; Ashchenaz, and Riphath, and Togarmah . And Cush begat Nimrod: he began to be mighty upon the earth . Mizraim begat Ludim, and Anamim,. and Lehabim,  Naphtuhim, (of whom came Philistines,) and Caphthorim . Shobal the fathers of Kirjathjearim had sons; Haroeh, and half of the Manahethites, the families of the scribes which dwelt at Jabez; the Tirathites . These are the Kenites that came of Hemath, the father  of Rechab .  These are the families of the Levites according to their fathers, David ministered before the dwelling place of the tabernacle of the congregation with singing, until Solomon had built the house of the LORD in Jerusalem: and then they waited on their office according to order . For example, Amaziah, Shimea, Malchiah, Adahiah, Adaiah, Zimmah, Zephaniah,  The sons of Aaron they gave the cities of Judah, namely, Hebron and Libnah with her suburbs . And Hilen is Hilen, Debir with her suburbanists; Debir has her suburbs. And Ethan, Asaph, who stood on his right hand, even Asaph . He called his name Beriah, because it went evil with his house . All these are of the sons of Benjamin  David gathered all Israel together, from Shihor of Egypt even unto the entering of Hemath, to bring the ark of God from Kirjathjearim . The inhabitants of Jebus said to David, Thou shalt not come hither. Nevertheless David took the castle of Zion, which  is the city of David . So David waxed greater and greater: for the LORD of hosts was with him . Jashobeam, an Hachmonite, the chief of the captains: he lifted up his spear against three hundred slain by him at one time . Eleazar the son of Abishai the brother of Joab slew three hundred, and had a name among the three mightiest . And he slew an Egyptian, a man of great stature, five cubits high, with a spear like a weaver's beam .  David smote the Philistines, and subdued them, and took Gath and her towns out of the hand of the Philistsines . And he smote Moab; and the Moabites became David's servants, and brought gifts . The Syrians of Damascus came to help Hadarezer king of Zobah, and David slew of the Syrians two and twenty thousand men . Then David put garrisons in Syriadamascus; and  the Syrians became David’s servants, bringing gifts . But I will not take my mercy away from him, as I took it from him that was before thee: 'I will settle him in mine house and in my kingdom for ever' Nathan spoke unto David. Now let it please thee to bless the house of thy servant, that it may be before thee for ever  David said, The LORD God of Israel hath given rest unto his people, that they may dwell in Jerusalem for ever:  And also unto the Levites; they shall no more carry the tabernacle, nor any vessels of it for the service thereof . These were the sons of Levi after the house of their fathers; even the chief of the fathers . They were divided by lot, one sort with another; for the governors of the sanctuary, and governors of  Shemaiah the firstborn, Jehozabad the second, Joah the third, and Sacar the fourth, Sacar . Othni, Rephael, and Obed, Elzabad, whose brethren were strong men, Elihu, and Semachiah. Meshelemiah had sons and brethren,. also Hosah, of the children of Merari, had sons; Simri the chief,  Even three thousand talents of gold, of the gold of Ophir, and seven thousand talents  of refined silver, to overlay the walls of the houses withal . The gold is for things of gold and silver, and the silver is for all manner of work to be made by the \""
      ]
     },
     "execution_count": 86,
     "metadata": {},
     "output_type": "execute_result"
    }
   ],
   "source": [
    "summarization_pipeline_consolidation(chronicles1)"
   ]
  },
  {
   "cell_type": "markdown",
   "id": "f207f004-2d44-408c-8989-dc28e426489a",
   "metadata": {},
   "source": [
    "## 2 Chronicles"
   ]
  },
  {
   "cell_type": "code",
   "execution_count": 43,
   "id": "a3a38436-a495-4d08-88a8-c9e0fff73749",
   "metadata": {},
   "outputs": [],
   "source": [
    "chronicles2 = get_book_text('2 Chronicles', bible)"
   ]
  },
  {
   "cell_type": "code",
   "execution_count": 44,
   "id": "0b59d33d-3663-4e32-a74c-7db0efeaf161",
   "metadata": {},
   "outputs": [
    {
     "name": "stdout",
     "output_type": "stream",
     "text": [
      "****************************\n",
      "*** TF-IDF Consolidation ***\n",
      "****************************\n",
      "Max pooling:\n",
      "------------\n",
      "And he stood before the altar of the LORD in the presence of all the congregation of Israel, and spread forth his hands:\n",
      "  For Solomon had made a brasen scaffold, of five cubits long, and five cubits broad, and three cubits high, and had set it in the midst of the court: and upon it he stood, and kneeled down upon his knees before all the congregation of Israel, and spread forth his hands toward heaven,\n",
      "  And said, O LORD God of Israel, there is no God like thee in the heaven, nor in the earth; which keepest covenant, and shewest mercy unto thy servants, that walk before thee with all their hearts:\n",
      "  Thou which hast kept with thy servant David my father that which thou hast promised him; and spakest with thy mouth, and hast fulfilled it with thine hand, as it is this day. Moreover the LORD stirred up against Jehoram the spirit of the Philistines, and of the Arabians, that were near the Ethiopians:\n",
      "  And they came up into Judah, and brake into it, and carried away all the substance that was found in the king's house, and his sons also, and his wives; so that there was never a son left him, save Jehoahaz, the youngest of his sons. And when Hezekiah saw that Sennacherib was come, and that he was purposed to fight against Jerusalem,\n",
      "  He took counsel with his princes and his mighty men to stop the waters of the fountains which were without the city: and they did help him. Also he built Bethhoron the upper, and Bethhoron the nether, fenced cities, with walls, gates, and bars;\n",
      "  And Baalath, and all the store cities that Solomon had, and all the chariot cities, and the cities of the horsemen, and all that Solomon desired to build in Jerusalem, and in Lebanon, and throughout all the land of his dominion. And they roasted the passover with fire according to the ordinance: but the other holy offerings sod they in pots, and in caldrons, and in pans, and divided them speedily among all the people.\n",
      "============================================================\n",
      "Sum pooling:\n",
      "------------\n",
      "And he set the priests in their charges, and encouraged them to the service of the house of the LORD,\n",
      "  And said unto the Levites that taught all Israel, which were holy unto the LORD, Put the holy ark in the house which Solomon the son of David king of Israel did build; it shall not be a burden upon your shoulders: serve now the LORD your God, and his people Israel,\n",
      "  And prepare yourselves by the houses of your fathers, after your courses, according to the writing of David king of Israel, and according to the writing of Solomon his son. And Jehoshaphat reigned over Judah: he was thirty and five years old when he began to reign, and he reigned twenty and five years in Jerusalem. And Jehoshaphat stood in the congregation of Judah and Jerusalem, in the house of the LORD, before the new court,\n",
      "  And said, O LORD God of our fathers, art not thou God in heaven? And the king went up into the house of the LORD, and all the men of Judah, and the inhabitants of Jerusalem, and the priests, and the Levites, and all the people, great and small: and he read in their ears all the words of the book of the covenant that was found in the house of the LORD. But the word of the LORD came to Shemaiah the man of God, saying,\n",
      "  Speak unto Rehoboam the son of Solomon, king of Judah, and to all Israel in Judah and Benjamin, saying,\n",
      "  Thus saith the LORD, Ye shall not go up, nor fight against your brethren: return every man to his house: for this thing is done of me. Then Asa brought out silver and gold out of the treasures of the house of the LORD and of the king's house, and sent to Benhadad king of Syria, that dwelt at Damascus, saying,\n",
      "  There is a league between me and thee, as there was between my father and thy father: behold, I have sent thee silver and gold; go, break thy league with Baasha king of Israel, that he may depart from me. And Hezekiah sent to all Israel and Judah, and wrote letters also to Ephraim and Manasseh, that they should come to the house of the LORD at Jerusalem, to keep the passover unto the LORD God of Israel.\n",
      "\n",
      "**********************************\n",
      "*** Transformers Consolidation ***\n",
      "**********************************\n",
      "Sentence pooling:\n",
      "-----------------\n",
      "And he repaired the altar of the LORD, and sacrificed thereon peace offerings and thank offerings, and commanded Judah to serve the LORD God of Israel. Then the king hearkened unto them. Moreover the LORD stirred up against Jehoram the spirit of the Philistines, and of the Arabians, that were near the Ethiopians:\n",
      "  And they came up into Judah, and brake into it, and carried away all the substance that was found in the king's house, and his sons also, and his wives; so that there was never a son left him, save Jehoahaz, the youngest of his sons. And the LORD said, Who shall entice Ahab king of Israel, that he may go up and fall at Ramothgilead? And he was with them hid in the house of God six years: and Athaliah reigned over the land. And the king of Israel and Jehoshaphat king of Judah sat either of them on his throne, clothed in their robes, and they sat in a void place at the entering in of the gate of Samaria; and all the prophets prophesied before them. Therefore he brought upon them the king of the Chaldees, who slew their young men with the sword in the house of their sanctuary, and had no compassion upon young man or maiden, old man, or him that stooped for age: he gave them all into his hand. And Joash did that which was right in the sight of the LORD all the days of Jehoiada the priest. Then Huram the king of Tyre answered in writing, which he sent to Solomon, Because the LORD hath loved his people, he hath made thee king over them. And they brought unto Solomon horses out of Egypt, and out of all lands. And Abijah and his people slew them with a great slaughter: so there fell down slain of Israel five hundred thousand chosen men. Then came Shemaiah the prophet to Rehoboam, and to the princes of Judah, that were gathered together to Jerusalem because of Shishak, and said unto them, Thus saith the LORD, Ye have forsaken me, and therefore have I also left you in the hand of Shishak. And when Hezekiah and the princes came and saw the heaps, they blessed the LORD, and his people Israel.\n",
      "============================================================\n",
      "Chunk pooling:\n",
      "--------------\n",
      "And concerning the children of Israel and Judah, that dwelt in the cities of Judah, they also brought in the tithe of oxen and sheep, and the tithe of holy things which were consecrated unto the LORD their God, and laid them by heaps. He walked also after their counsel, and went with Jehoram the son of Ahab king of Israel to war against Hazael king of Syria at Ramothgilead: and the Syrians smote Joram. And Abijah stood up upon mount Zemaraim, which is in mount Ephraim, and said, Hear me, thou Jeroboam, and all Israel;\n",
      "  Ought ye not to know that the LORD God of Israel gave the kingdom over Israel to David for ever, even to him and to his sons by a covenant of salt? And, behold, Amariah the chief priest is over you in all matters of the LORD; and Zebadiah the son of Ishmael, the ruler of the house of Judah, for all the king's matters: also the Levites shall be officers before you. And Azariah the priest went in after him, and with him fourscore priests of the LORD, that were valiant men:\n",
      "  And they withstood Uzziah the king, and said unto him, It appertaineth not unto thee, Uzziah, to burn incense unto the LORD, but to the priests the sons of Aaron, that are consecrated to burn incense: go out of the sanctuary; for thou hast trespassed; neither shall it be for thine honour from the LORD God. Now in the first year of Cyrus king of Persia, that the word of the LORD spoken by the mouth of Jeremiah might be accomplished, the LORD stirred up the spirit of Cyrus king of Persia, that he made a proclamation throughout all his kingdom, and put it also in writing, saying,\n",
      "  Thus saith Cyrus king of Persia, All the kingdoms of the earth hath the LORD God of heaven given me; and he hath charged me to build him an house in Jerusalem, which is in Judah.\n"
     ]
    }
   ],
   "source": [
    "printing(chronicles2)"
   ]
  },
  {
   "cell_type": "code",
   "execution_count": 89,
   "id": "dd504efc-cfae-4d41-ba1a-828f555701f4",
   "metadata": {},
   "outputs": [
    {
     "data": {
      "text/plain": [
       "\" Solomon the son of David was strengthened in his kingdom, and the LORD his God was with him, and magnified him exceedingly . He overlaid it within with pure gold; and graved cherubims on the walls . And the greater house he cieled with fir tree, which he overlayed with fine gold, and set thereon palm trees and chains . He told out threescore and ten thousand men to bear burdens, and fourscore thousand to hew in the mountain, and three thousand and six hundred to oversee them . And, behold, I will give to thy servants, the hewers that cut timber, twenty thousand measures of beaten wheat, and twenty thousand baths of wine, and \\xa0Solomon numbered all the strangers  Huram finished the work that he was to make for king Solomon for the house of God .  Solomon slept with his fathers, and he was buried in the city of David his father . Rehoboam his son reigned in his stead . But Abijah waxed mighty, and married 14 wives, and begat twenty and two sons, and sixteen daughters . He reigned over all the kings  but as for the children  that dwelled in the cities of Judah, Rehobam re-igned over them . Then king Rehobeam sent Hadoram that was over the tribute; and the kids of Israel stoned him with stones, that he died . The Ethiopians were overthrown, that they could not recover themselves; for they were destroyed before the LORD, and before his host . Azariah the son of Oded said, Hear ye me, Asa, and all  The king gathered together of prophets four hundred men, and said unto them, Shall we go to Ramothgilead to battle, or shall I forbear? And they said, Go up; for God will deliver it into the king's hand . But Jehoshaphat said, Is there not here a prophet of the LORD besides, that we might enquire of him? And the king of Israel said, Did I not tell thee that he would not prophesy good unto me, but evil? And Micaiah said, As the LORD liveth, even what my God saith, that will I speak . So the LORD smote all the cities round about Gerar; for the fear of the Lord came upon them: and they spoiled all the towns . But the heart of AsA was perfect all his days .  Joash was seven years old when he began to reign, and he reigned forty years in Jerusalem . He gathered together the priests and the Levites, and said to them, Go out unto the cities of Judah, and gather of all Israel money to repair the house of your God from year to year, and see that ye hasten the matter . When they were departed from him, (for they left him in great diseases,) his own servants conspired against him for the blood of the sons of Jehiad the priest, and slew him on his bed . But he slew not their children, but did as it is written in the law  Amaziah was come from the slaughter of the Edomites, that he brought the gods of the children of Seir up to be his gods, and bowed down himself before them, and burned incense unto them .  The children of Israel that were present at Jerusalem kept the feast of unleavened bread seven days with great gladness . And the Levites and the priests praised the LORD day by day, singing with loud instruments unto the LORD . Amon was two and twenty years old when he began to reign, and reigned fifty and five years in Jerusalem . Amon sacrificed unto all carved images which Manasseh his father had made, and served them . But Amon trespassed more and more . And his servants conspired against him, and slew him in his own house . Hezekiah king of Judah did give to the congregation a thousand bullocks and seven thousand sheep . So there was great joy in Jerusalem: for since the time of Solomon the son of David king of Israel there was not the like in Jerusalem  There was not  Josiah disguised himself to fight with the archers, and came to fight in the valley of Megiddo . The archers shot at king Josiah, but he refused to turn his face from him, but disguised himself . After all this, when Josiah had prepared the temple, Necho king of Egypt came up to fight against Carchemish by Euphrates . But he sent ambassadors to him, saying, What have I to do with thee, thou king of Judah? I come not against thee this day, but against the house wherewith I have war: for God commanded me to make haste . \""
      ]
     },
     "execution_count": 89,
     "metadata": {},
     "output_type": "execute_result"
    }
   ],
   "source": [
    "summarization_pipeline_consolidation(chronicles2)"
   ]
  },
  {
   "cell_type": "markdown",
   "id": "a0155deb-e75b-4a3f-aa67-e5a35703ee5b",
   "metadata": {},
   "source": [
    "## Ezra"
   ]
  },
  {
   "cell_type": "code",
   "execution_count": 45,
   "id": "9e80373c-109a-4561-9192-53660b3d2f3f",
   "metadata": {},
   "outputs": [],
   "source": [
    "ezra = get_book_text('Ezra', bible)"
   ]
  },
  {
   "cell_type": "code",
   "execution_count": 46,
   "id": "96ed1295-a1d8-49ee-9b2e-42279c086bab",
   "metadata": {},
   "outputs": [
    {
     "name": "stdout",
     "output_type": "stream",
     "text": [
      "****************************\n",
      "*** TF-IDF Consolidation ***\n",
      "****************************\n",
      "Max pooling:\n",
      "------------\n",
      "Forasmuch as thou art sent of the king, and of his seven counsellors, to enquire concerning Judah and Jerusalem, according to the law of thy God which is in thine hand;\n",
      "  And to carry the silver and gold, which the king and his counsellors have freely offered unto the God of Israel, whose habitation is in Jerusalem,\n",
      "  And all the silver and gold that thou canst find in all the province of Babylon, with the freewill offering of the people, and of the priests, offering willingly for the house of their God which is in Jerusalem:\n",
      "  That thou mayest buy speedily with this money bullocks, rams, lambs, with their meat offerings and their drink offerings, and offer them upon the altar of the house of your God which is in Jerusalem. Of the sons of Bani; Maadai, Amram, and Uel,\n",
      "  Benaiah, Bedeiah, Chelluh,\n",
      "  Vaniah, Meremoth, Eliashib,\n",
      "  Mattaniah, Mattenai, and Jaasau,\n",
      "  And Bani, and Binnui, Shimei,\n",
      "  And Shelemiah, and Nathan, and Adaiah,\n",
      "  Machnadebai, Shashai, Sharai,\n",
      "  Azareel, and Shelemiah, Shemariah,\n",
      "  Shallum, Amariah, and Joseph. The children of Harim, a thousand and seventeen. Let now our rulers of all the congregation stand, and let all them which have taken strange wives in our cities come at appointed times, and with them the elders of every city, and the judges thereof, until the fierce wrath of our God for this matter be turned from us. And of the last sons of Adonikam, whose names are these, Eliphelet, Jeiel, and Shemaiah, and with them threescore males. And when the builders laid the foundation of the temple of the LORD, they set the priests in their apparel with trumpets, and the Levites the sons of Asaph with cymbals, to praise the LORD, after the ordinance of David king of Israel.\n",
      "============================================================\n",
      "Sum pooling:\n",
      "------------\n",
      "But Zerubbabel, and Jeshua, and the rest of the chief of the fathers of Israel, said unto them, Ye have nothing to do with us to build an house unto our God; but we ourselves together will build unto the LORD God of Israel, as king Cyrus the king of Persia hath commanded us. The Nethinims: the children of Ziha, the children of Hasupha, the children of Tabbaoth,\n",
      "  The children of Keros, the children of Siaha, the children of Padon,\n",
      "  The children of Lebanah, the children of Hagabah, the children of Akkub,\n",
      "  The children of Hagab, the children of Shalmai, the children of Hanan,\n",
      "  The children of Giddel, the children of Gahar, the children of Reaiah,\n",
      "  The children of Rezin, the children of Nekoda, the children of Gazzam,\n",
      "  The children of Uzza, the children of Paseah, the children of Besai,\n",
      "  The children of Asnah, the children of Mehunim, the children of Nephusim,\n",
      "  The children of Bakbuk, the children of Hakupha, the children of Harhur,\n",
      "  The children of Bazluth, the children of Mehida, the children of Harsha,\n",
      "  The children of Barkos, the children of Sisera, the children of Thamah,\n",
      "  The children of Neziah, the children of Hatipha. Forasmuch as thou art sent of the king, and of his seven counsellors, to enquire concerning Judah and Jerusalem, according to the law of thy God which is in thine hand;\n",
      "  And to carry the silver and gold, which the king and his counsellors have freely offered unto the God of Israel, whose habitation is in Jerusalem,\n",
      "  And all the silver and gold that thou canst find in all the province of Babylon, with the freewill offering of the people, and of the priests, offering willingly for the house of their God which is in Jerusalem:\n",
      "  That thou mayest buy speedily with this money bullocks, rams, lambs, with their meat offerings and their drink offerings, and offer them upon the altar of the house of your God which is in Jerusalem.\n",
      "\n",
      "**********************************\n",
      "*** Transformers Consolidation ***\n",
      "**********************************\n",
      "Sentence pooling:\n",
      "-----------------\n",
      "And there went up some of the children of Israel, and of the priests, and the Levites, and the singers, and the porters, and the Nethinims, unto Jerusalem, in the seventh year of Artaxerxes the king. Arise; for this matter belongeth unto thee: we also will be with thee: be of good courage, and do it. At the same time came to them Tatnai, governor on this side the river, and Shetharboznai, and their companions, and said thus unto them, Who hath commanded you to build this house, and to make up this wall? Of the sons of Pahathmoab; Elihoenai the son of Zerahiah, and with him two hundred males. And whosoever remaineth in any place where he sojourneth, let the men of his place help him with silver, and with gold, and with goods, and with beasts, beside the freewill offering for the house of God that is in Jerusalem. For they have taken of their daughters for themselves, and for their sons: so that the holy seed have mingled themselves with the people of those lands: yea, the hand of the princes and rulers hath been chief in this trespass. Then stood up Jeshua the son of Jozadak, and his brethren the priests, and Zerubbabel the son of Shealtiel, and his brethren, and builded the altar of the God of Israel, to offer burnt offerings thereon, as it is written in the law of Moses the man of God. Then sent the king an answer unto Rehum the chancellor, and to Shimshai the scribe, and to the rest of their companions that dwell in Samaria, and unto the rest beyond the river, Peace, and at such a time. Then were assembled unto me every one that trembled at the words of the God of Israel, because of the transgression of those that had been carried away; and I sat astonied until the evening sacrifice. And of the sons of Bani; Meshullam, Malluch, and Adaiah, Jashub, and Sheal, and Ramoth.\n",
      "============================================================\n",
      "Chunk pooling:\n",
      "--------------\n",
      "Forasmuch as thou art sent of the king, and of his seven counsellors, to enquire concerning Judah and Jerusalem, according to the law of thy God which is in thine hand;\n",
      "  And to carry the silver and gold, which the king and his counsellors have freely offered unto the God of Israel, whose habitation is in Jerusalem,\n",
      "  And all the silver and gold that thou canst find in all the province of Babylon, with the freewill offering of the people, and of the priests, offering willingly for the house of their God which is in Jerusalem:\n",
      "  That thou mayest buy speedily with this money bullocks, rams, lambs, with their meat offerings and their drink offerings, and offer them upon the altar of the house of your God which is in Jerusalem. And these were they which went up from Telmelah, Telharsa, Cherub, Addan, and Immer: but they could not shew their father's house, and their seed, whether they were of Israel:\n",
      "  The children of Delaiah, the children of Tobiah, the children of Nekoda, six hundred fifty and two. Now after these things, in the reign of Artaxerxes king of Persia, Ezra the son of Seraiah, the son of Azariah, the son of Hilkiah,\n",
      "  The son of Shallum, the son of Zadok, the son of Ahitub,\n",
      "  The son of Amariah, the son of Azariah, the son of Meraioth,\n",
      "  The son of Zerahiah, the son of Uzzi, the son of Bukki,\n",
      "  The son of Abishua, the son of Phinehas, the son of Eleazar, the son of Aaron the chief priest:\n",
      "  This Ezra went up from Babylon; and he was a ready scribe in the law of Moses, which the LORD God of Israel had given: and the king granted him all his request, according to the hand of the LORD his God upon him.\n"
     ]
    }
   ],
   "source": [
    "printing(ezra)"
   ]
  },
  {
   "cell_type": "code",
   "execution_count": 92,
   "id": "5a73c469-4fe3-4c31-b12e-f4950e725016",
   "metadata": {},
   "outputs": [
    {
     "data": {
      "text/plain": [
       "\" The children of Shephatiah, three hundred seventy and two. Children of Pahathmoab, of the children of Jeshua and Joab, two thousand eight hundred hundred hundred . and twelve . The men of Elam, a thousand two hundred fifty and four. Men of Bethel and Ai, two hundred twenty and three. The sons of Zaccai, seven hundred and threescore. Beside their servants and their maids, there were among them two hundred singing men and singing women . These sought their register among those that were reckoned by genealogy, but they were not found: therefore were . therefore were they, as polluted to the priesthood. For more information, visit http://www.mailonline.co.uk/news/miracle-miracula-miracle\\xa0and  Some of the chief of the fathers, when they came to the house of the LORD which is at Jerusalem, offered freely for it to be set up in his place:  They gave after their ability unto the treasure of the work threeescore and one thousand drams of gold, and five thousand pound of silver, and one hundred priests' garments . The people of the land weakened the hands of the people of . Judah, and troubled them in building, and hired counsellors against them, to frustrate their purpose, all days of Cyrus king of Persia . Rehum the chancellor and Shimshai the scribe wrote a letter against Jerusalem to Artaxerxes the king in this sort: We certify the king that, if this city be builded again, by this means thou shalt have no portion on this side of the river  Darius ordered search made in the king's treasure house, which is there at Babylon . Cyrus the king made a decree concerning the house of God at Jerusalem . But after that Nebuchadnezzar the king of Babylon destroyed this house, and carried the people away into Babylon . Now therefore, Tatnai, governor beyond the river, Shetharboznai, and your companions the Apharsachites, which are beyond the River, be ye far from thence: Let the work of this house ofGod alone; let the governor of the Jews build this house . The children of the captivity kept the passover upon the fourteenth day of the first month . They offered  bullocks, two hundred rams, four hundred lambs; and for a sin offering for all Israel, twelve he goats, according to the number of the tribes of Israel  Artaxerxes sent Ezra the priest, the scribe, even a scribe of the words of the commandments of the LORD, and of his statutes to Israel . And he came to Jerusalem in the fifth month, which was in the seventh year of the king . And I make a decree to all the treasurers which are beyond the river, that Ezra shall require of you, it be done speedily,  Ezra . Also we certify you, that touching any of the priests and Levites, singers, porters, Nethinims, or ministers of this house of God, it shall not be lawful to impose toll, tribute, or custom, upon them . And whosoever will not do the law of thy God, let judgment be executed speedily upon him, let judgement be execution speedily . The silver and gold are a freewill offering  The children of those that had been carried away, which were come out of captivity, offered burnt offerings unto the God of Israel . He weighed them before the chief of the priests, Sherebiah, Hashabiah, and ten of their brethren with them . And I said, Ye are holy unto the Lord; the vessels are holy also . Then they delivered the king's commissions to the king’s lieutenants and to the governors on this side of the river . When I heard this thing, I rent my garment and my mantle, and plucked off the hair of my head and of my beard, and sat down astonied . Then all the congregation answered and said with a loud voice, As thou hast said, so must we do . Ezra the priest stood up, and said: Ye have transgressed, and have  The Bible says that Israel is God's most important nation in the world, but it does not say what it means to be a nation of Israel . The Bible said that Israel was an important nation but it doesn't say how important it is to be one of them . And they gave their hands that they would put away their wives; and being guilty, offered a ram of the flock for their trespass . \""
      ]
     },
     "execution_count": 92,
     "metadata": {},
     "output_type": "execute_result"
    }
   ],
   "source": [
    "summarization_pipeline_consolidation(ezra)"
   ]
  },
  {
   "cell_type": "markdown",
   "id": "d461bb60-ff65-46a8-b847-2aba933f30a4",
   "metadata": {},
   "source": [
    "## Nehemiah"
   ]
  },
  {
   "cell_type": "code",
   "execution_count": 47,
   "id": "2484b895-947b-4352-9605-df3dbbd5fcd4",
   "metadata": {},
   "outputs": [],
   "source": [
    "nehemiah = get_book_text('Nehemiah', bible)"
   ]
  },
  {
   "cell_type": "code",
   "execution_count": 48,
   "id": "ab6f4cae-977a-4cff-96e0-cf12e99c5428",
   "metadata": {},
   "outputs": [
    {
     "name": "stdout",
     "output_type": "stream",
     "text": [
      "****************************\n",
      "*** TF-IDF Consolidation ***\n",
      "****************************\n",
      "Max pooling:\n",
      "------------\n",
      "The chief of the people; Parosh, Pahathmoab, Elam, Zatthu, Bani,\n",
      "  Bunni, Azgad, Bebai,\n",
      "  Adonijah, Bigvai, Adin,\n",
      "  Ater, Hizkijah, Azzur,\n",
      "  Hodijah, Hashum, Bezai,\n",
      "  Hariph, Anathoth, Nebai,\n",
      "  Magpiash, Meshullam, Hezir,\n",
      "  Meshezabeel, Zadok, Jaddua,\n",
      "  Pelatiah, Hanan, Anaiah,\n",
      "  Hoshea, Hananiah, Hashub,\n",
      "  Hallohesh, Pileha, Shobek,\n",
      "  Rehum, Hashabnah, Maaseiah,\n",
      "  And Ahijah, Hanan, Anan,\n",
      "  Malluch, Harim, Baanah. And it came to pass, when I heard these words, that I sat down and wept, and mourned certain days, and fasted, and prayed before the God of heaven,\n",
      "  And said, I beseech thee, O LORD God of heaven, the great and terrible God, that keepeth covenant and mercy for them that love him and observe his commandments:\n",
      "  Let thine ear now be attentive, and thine eyes open, that thou mayest hear the prayer of thy servant, which I pray before thee now, day and night, for the children of Israel thy servants, and confess the sins of the children of Israel, which we have sinned against thee: both I and my father's house have sinned. Then I brought up the princes of Judah upon the wall, and appointed two great companies of them that gave thanks, whereof one went on the right hand upon the wall toward the dung gate:\n",
      "  And after them went Hoshaiah, and half of the princes of Judah,\n",
      "  And Azariah, Ezra, and Meshullam,\n",
      "  Judah, and Benjamin, and Shemaiah, and Jeremiah,\n",
      "  And certain of the priests' sons with trumpets; namely, Zechariah the son of Jonathan, the son of Shemaiah, the son of Mattaniah, the son of Michaiah, the son of Zaccur, the son of Asaph:\n",
      "  And his brethren, Shemaiah, and Azarael, Milalai, Gilalai, Maai, Nethaneel, and Judah, Hanani, with the musical instruments of David the man of God, and Ezra the scribe before them.\n",
      "============================================================\n",
      "Sum pooling:\n",
      "------------\n",
      "And their brethren that did the work of the house were eight hundred twenty and two: and Adaiah the son of Jeroham, the son of Pelaliah, the son of Amzi, the son of Zechariah, the son of Pashur, the son of Malchiah,\n",
      "  And his brethren, chief of the fathers, two hundred forty and two: and Amashai the son of Azareel, the son of Ahasai, the son of Meshillemoth, the son of Immer,\n",
      "  And their brethren, mighty men of valour, an hundred twenty and eight: and their overseer was Zabdiel, the son of one of the great men. The Nethinims: the children of Ziha, the children of Hashupha, the children of Tabbaoth,\n",
      "  The children of Keros, the children of Sia, the children of Padon,\n",
      "  The children of Lebana, the children of Hagaba, the children of Shalmai,\n",
      "  The children of Hanan, the children of Giddel, the children of Gahar,\n",
      "  The children of Reaiah, the children of Rezin, the children of Nekoda,\n",
      "  The children of Gazzam, the children of Uzza, the children of Phaseah,\n",
      "  The children of Besai, the children of Meunim, the children of Nephishesim,\n",
      "  The children of Bakbuk, the children of Hakupha, the children of Harhur,\n",
      "  The children of Bazlith, the children of Mehida, the children of Harsha,\n",
      "  The children of Barkos, the children of Sisera, the children of Tamah,\n",
      "  The children of Neziah, the children of Hatipha. And I said unto the king, If it please the king, and if thy servant have found favour in thy sight, that thou wouldest send me unto Judah, unto the city of my fathers' sepulchres, that I may build it.\n",
      "\n",
      "**********************************\n",
      "*** Transformers Consolidation ***\n",
      "**********************************\n",
      "Sentence pooling:\n",
      "-----------------\n",
      "Then I brought up the princes of Judah upon the wall, and appointed two great companies of them that gave thanks, whereof one went on the right hand upon the wall toward the dung gate:\n",
      "  And after them went Hoshaiah, and half of the princes of Judah,\n",
      "  And Azariah, Ezra, and Meshullam,\n",
      "  Judah, and Benjamin, and Shemaiah, and Jeremiah,\n",
      "  And certain of the priests' sons with trumpets; namely, Zechariah the son of Jonathan, the son of Shemaiah, the son of Mattaniah, the son of Michaiah, the son of Zaccur, the son of Asaph:\n",
      "  And his brethren, Shemaiah, and Azarael, Milalai, Gilalai, Maai, Nethaneel, and Judah, Hanani, with the musical instruments of David the man of God, and Ezra the scribe before them. And thou didst divide the sea before them, so that they went through the midst of the sea on the dry land; and their persecutors thou threwest into the deeps, as a stone into the mighty waters. And next unto him repaired Shallum the son of Halohesh, the ruler of the half part of Jerusalem, he and his daughters. And that which the rest of the people gave was twenty thousand drams of gold, and two thousand pound of silver, and threescore and seven priests' garments. And all the congregation of them that were come again out of the captivity made booths, and sat under the booths: for since the days of Jeshua the son of Nun unto that day had not the children of Israel done so. Thus cleansed I them from all strangers, and appointed the wards of the priests and the Levites, every one in his business;\n",
      "  And for the wood offering, at times appointed, and for the firstfruits. Then said I unto them, Ye see the distress that we are in, how Jerusalem lieth waste, and the gates thereof are burned with fire: come, and let us build up the wall of Jerusalem, that we be no more a reproach. When Sanballat the Horonite, and Tobiah the servant, the Ammonite, heard of it, it grieved them exceedingly that there was come a man to seek the welfare of the children of Israel.\n",
      "============================================================\n",
      "Chunk pooling:\n",
      "--------------\n",
      "Then I brought up the princes of Judah upon the wall, and appointed two great companies of them that gave thanks, whereof one went on the right hand upon the wall toward the dung gate:\n",
      "  And after them went Hoshaiah, and half of the princes of Judah,\n",
      "  And Azariah, Ezra, and Meshullam,\n",
      "  Judah, and Benjamin, and Shemaiah, and Jeremiah,\n",
      "  And certain of the priests' sons with trumpets; namely, Zechariah the son of Jonathan, the son of Shemaiah, the son of Mattaniah, the son of Michaiah, the son of Zaccur, the son of Asaph:\n",
      "  And his brethren, Shemaiah, and Azarael, Milalai, Gilalai, Maai, Nethaneel, and Judah, Hanani, with the musical instruments of David the man of God, and Ezra the scribe before them. And we cast the lots among the priests, the Levites, and the people, for the wood offering, to bring it into the house of our God, after the houses of our fathers, at times appointed year by year, to burn upon the altar of the LORD our God, as it is written in the law:\n",
      "  And to bring the firstfruits of our ground, and the firstfruits of all fruit of all trees, year by year, unto the house of the LORD:\n",
      "  Also the firstborn of our sons, and of our cattle, as it is written in the law, and the firstlings of our herds and of our flocks, to bring to the house of our God, unto the priests that minister in the house of our God:\n",
      "  And that we should bring the firstfruits of our dough, and our offerings, and the fruit of all manner of trees, of wine and of oil, unto the priests, to the chambers of the house of our God; and the tithes of our ground unto the Levites, that the same Levites might have the tithes in all the cities of our tillage. Nevertheless they were disobedient, and rebelled against thee, and cast thy law behind their backs, and slew thy prophets which testified against them to turn them to thee, and they wrought great provocations.\n"
     ]
    }
   ],
   "source": [
    "printing(nehemiah)"
   ]
  },
  {
   "cell_type": "code",
   "execution_count": 95,
   "id": "ac73a4af-cc0d-4fba-a6b2-752cfb4e3c60",
   "metadata": {},
   "outputs": [
    {
     "data": {
      "text/plain": [
       "' Nehemiah the son of Hachaliah said, \"The wall of Jerusalem also is broken down, and the gates thereof are burned with fire\" The remnant that are left of the captivity there in the province are in great affliction and reproach . Eliashib the high priest rose up with his brethren the priests, and they builded the sheep gate . They sanctified it, and set up the doors of it, unto the tower of Meah . But Sanballat the Horonite, Tobiah the servant, the Ammonite, and Geshem the Arabian, heard it and said, What is this thing that ye do? will ye rebel against the king? Then answered I them, The God of heaven, he will prosper us . And the rulers knew not whither I went, or what I did   Some of the chief of the fathers gave to the treasure a thousand drams of gold, fifty basons, five hundred and thirty priests\\' garments . These sought their register among those that were reckoned by genealogy, but it was not found: therefore were they, as polluted, put from priesthood . Ezra the priest brought the law before the Levites, Jeshua, Kadmiel, Bani, Hashabniah, Sherebiah, Hodijah, and Pethahiah, said, Stand up and bless the LORD your God for ever and ever . They stood up in their place, and read in the book of the law one fourth part of the day; and another fourth part they confessed, and worshipped the LORD their God . Those that sealed were Nehemiah, the Tirshatha, the son of Hachaliah .  The priests and Levites that went up with Zerubbabel the son of Shealtiel, and Jeshua: Seraiah, Jeremiah, Ezra, Shechaniah, Rehum, Meremoth, Iddo, Ginnetho, Abijah, Maadiah, Bilgah, Jedaiah, Amok, Hilkiah . Also the Levites: Jeshua, Binnui, Kadmiel, Sherebiah, Judah, and Mattaniah . And I made them swear by God, saying, Ye shall not give your daughters unto their sons, nor take their daughters unto your sons, or for yourselves . Did not Solomon king of Israel sin by these things? '"
      ]
     },
     "execution_count": 95,
     "metadata": {},
     "output_type": "execute_result"
    }
   ],
   "source": [
    "summarization_pipeline_consolidation(nehemiah)"
   ]
  },
  {
   "cell_type": "markdown",
   "id": "b69db120-a4bf-4f5c-a1e5-f533bc2a4379",
   "metadata": {},
   "source": [
    "## Esther"
   ]
  },
  {
   "cell_type": "code",
   "execution_count": 49,
   "id": "2ebfd91d-7f6d-4b05-82ef-da1249176274",
   "metadata": {},
   "outputs": [],
   "source": [
    "esther = get_book_text('Esther', bible)"
   ]
  },
  {
   "cell_type": "code",
   "execution_count": 50,
   "id": "94c03934-c788-4a28-b5d1-1110d913c88e",
   "metadata": {},
   "outputs": [
    {
     "name": "stdout",
     "output_type": "stream",
     "text": [
      "****************************\n",
      "*** TF-IDF Consolidation ***\n",
      "****************************\n",
      "Max pooling:\n",
      "------------\n",
      "Again Esther spake unto Hatach, and gave him commandment unto Mordecai;\n",
      "  All the king's servants, and the people of the king's provinces, do know, that whosoever, whether man or woman, shall come unto the king into the inner court, who is not called, there is one law of his to put him to death, except such to whom the king shall hold out the golden sceptre, that he may live: but I have not been called to come in unto the king these thirty days. For the Jews that were in Shushan gathered themselves together on the fourteenth day also of the month Adar, and slew three hundred men at Shushan; but on the prey they laid not their hand. And the king loved Esther above all the women, and she obtained grace and favour in his sight more than all the virgins; so that he set the royal crown upon her head, and made her queen instead of Vashti. And the thing pleased Haman; and he caused the gallows to be made. Then the king said to Haman, Make haste, and take the apparel and the horse, as thou hast said, and do even so to Mordecai the Jew, that sitteth at the king's gate: let nothing fail of all that thou hast spoken. And the Jews undertook to do as they had begun, and as Mordecai had written unto them;\n",
      "  Because Haman the son of Hammedatha, the Agagite, the enemy of all the Jews, had devised against the Jews to destroy them, and had cast Pur, that is, the lot, to consume them, and to destroy them;\n",
      "  But when Esther came before the king, he commanded by letters that his wicked device, which he devised against the Jews, should return upon his own head, and that he and his sons should be hanged on the gallows. And he brought up Hadassah, that is, Esther, his uncle's daughter: for she had neither father nor mother, and the maid was fair and beautiful; whom Mordecai, when her father and mother were dead, took for his own daughter. now what is thy petition? or how can I endure to see the destruction of my kindred?\n",
      "============================================================\n",
      "Sum pooling:\n",
      "------------\n",
      "On that day did the king Ahasuerus give the house of Haman the Jews' enemy unto Esther the queen. Then the king's servants, which were in the king's gate, said unto Mordecai, Why transgressest thou the king's commandment? And Mordecai came before the king; for Esther had told what he was unto her. So Esther arose, and stood before the king,\n",
      "  And said, If it please the king, and if I have found favour in his sight, and the thing seem right before the king, and I be pleasing in his eyes, let it be written to reverse the letters devised by Haman the son of Hammedatha the Agagite, which he wrote to destroy the Jews which are in all the king's provinces:\n",
      "  For how can I endure to see the evil that shall come unto my people? And the king commanded it so to be done: and the decree was given at Shushan; and they hanged Haman's ten sons. Then were the king's scribes called on the thirteenth day of the first month, and there was written according to all that Haman had commanded unto the king's lieutenants, and to the governors that were over every province, and to the rulers of every people of every province according to the writing thereof, and to every people after their language; in the name of king Ahasuerus was it written, and sealed with the king's ring. And Haman answered the king, For the man whom the king delighteth to honour,\n",
      "  Let the royal apparel be brought which the king useth to wear, and the horse that the king rideth upon, and the crown royal which is set upon his head:\n",
      "  And let this apparel and horse be delivered to the hand of one of the king's most noble princes, that they may array the man withal whom the king delighteth to honour, and bring him on horseback through the street of the city, and proclaim before him, Thus shall it be done to the man whom the king delighteth to honour. And Esther answered, If it seem good unto the king, let the king and Haman come this day unto the banquet that I have prepared for him.\n",
      "\n",
      "**********************************\n",
      "*** Transformers Consolidation ***\n",
      "**********************************\n",
      "Sentence pooling:\n",
      "-----------------\n",
      "So the king and Haman came to banquet with Esther the queen. Then said his wise men and Zeresh his wife unto him, If Mordecai be of the seed of the Jews, before whom thou hast begun to fall, thou shalt not prevail against him, but shalt surely fall before him. And the decree was given at Shushan the palace. And the king said unto him, What shall be done unto the man whom the king delighteth to honour? And Mordecai wrote these things, and sent letters unto all the Jews that were in all the provinces of the king Ahasuerus, both nigh and far,\n",
      "  To stablish this among them, that they should keep the fourteenth day of the month Adar, and the fifteenth day of the same, yearly,\n",
      "  As the days wherein the Jews rested from their enemies, and the month which was turned unto them from sorrow to joy, and from mourning into a good day: that they should make them days of feasting and joy, and of sending portions one to another, and gifts to the poor. In those days, while Mordecai sat in the king's gate, two of the king's chamberlains, Bigthan and Teresh, of those which kept the door, were wroth, and sought to lay hand on the king Ahasuerus. After these things, when the wrath of king Ahasuerus was appeased, he remembered Vashti, and what she had done, and what was decreed against her. Again Esther spake unto Hatach, and gave him commandment unto Mordecai;\n",
      "  All the king's servants, and the people of the king's provinces, do know, that whosoever, whether man or woman, shall come unto the king into the inner court, who is not called, there is one law of his to put him to death, except such to whom the king shall hold out the golden sceptre, that he may live: but I have not been called to come in unto the king these thirty days. Then the king said to Haman, Make haste, and take the apparel and the horse, as thou hast said, and do even so to Mordecai the Jew, that sitteth at the king's gate: let nothing fail of all that thou hast spoken.\n",
      "============================================================\n",
      "Chunk pooling:\n",
      "--------------\n",
      "Then the king Ahasuerus said unto Esther the queen and to Mordecai the Jew, Behold, I have given Esther the house of Haman, and him they have hanged upon the gallows, because he laid his hand upon the Jews. Then were the king's scribes called at that time in the third month, that is, the month Sivan, on the three and twentieth day thereof; and it was written according to all that Mordecai commanded unto the Jews, and to the lieutenants, and the deputies and rulers of the provinces which are from India unto Ethiopia, an hundred twenty and seven provinces, unto every province according to the writing thereof, and unto every people after their language, and to the Jews according to their writing, and according to their language. On the seventh day, when the heart of the king was merry with wine, he commanded Mehuman, Biztha, Harbona, Bigtha, and Abagtha, Zethar, and Carcas, the seven chamberlains that served in the presence of Ahasuerus the king,\n",
      "  To bring Vashti the queen before the king with the crown royal, to shew the people and the princes her beauty: for she was fair to look on. Also he gave him the copy of the writing of the decree that was given at Shushan to destroy them, to shew it unto Esther, and to declare it unto her, and to charge her that she should go in unto the king, to make supplication unto him, and to make request before him for her people. Then the king's servants, which were in the king's gate, said unto Mordecai, Why transgressest thou the king's commandment? After these things did king Ahasuerus promote Haman the son of Hammedatha the Agagite, and advanced him, and set his seat above all the princes that were with him. And in every province, whithersoever the king's commandment and his decree came, there was great mourning among the Jews, and fasting, and weeping, and wailing; and many lay in sackcloth and ashes. So Esther was taken unto king Ahasuerus into his house royal in the tenth month, which is the month Tebeth, in the seventh year of his reign.\n"
     ]
    }
   ],
   "source": [
    "printing(esther)"
   ]
  },
  {
   "cell_type": "code",
   "execution_count": 98,
   "id": "4a1bb13a-583b-4315-a6ac-62b46849b97b",
   "metadata": {},
   "outputs": [
    {
     "data": {
      "text/plain": [
       "' The queen Vashti refused to come at the king\\'s commandment by his chamberlains . Memucan, the seven princes of Persia and Media, asked: What shall we do to the queen according to law? And Memucans answered: \"Vashti has not done wrong to the king only, but also to all the princes, and to all people that are in all the provinces of the king ... for this deed of the queen shall come abroad unto all women, so that they shall despise their husbands in their eyes\" After that she had been twelve months, according to the manner of the way the women, (for it is great,) all the wives shall give to their husbands honour, both to great and small  Esther had neither father nor mother, and the maid was fair and beautiful;  The king made a great feast unto all his princes and his servants, even Esther\\'s feast . Then the king set the royal crown upon her head, and made her queen instead of Vashti . After these things did king Ahasuerus promote Haman the son of Hammedatha the Agagite, and advanced him . Haman sought to destroy all the Jews that were throughout the whole kingdom of Ahasueus, even the people of Mordecai . In the first month of the month Nisan, they cast Pur, that is, the lot, before Haman from day to day, and from month to month, to the twelve month, until the month\\xa0Adar . But Haman refrained from moving for Esther, but Haman did not move for him . When he came home, he sent and called for his friends, and  Haman was come into the outward court of the king\\'s house, to speak unto the king to hang Mordecai on the gallows that he had prepared for him . Haman thought in his heart, To whom would the king delight to do honour more than to myself? The thing pleased Haman; and he caused the ...  Haman told Zeresh his wife and all his friends every thing that had befallen him . Then the king said again on the second day at the banquet of wine, What is thy petition, queen Esther? and it shall be granted thee . And what is thy request? and what is Thy request? And it will be performed, even to the half of the kingdom. Write ye also for the Jews, as it liketh you, in the King’s name  Mordecai was great in the king\\'s house, and his fame went out throughout all the provinces . And in Shushan the palace the Jews slew and destroyed five hundred men . The ten sons of Haman the son of Hammedatha, the enemy of the Jews, slew they; but on the spoil laid they not their hand . But the other Jews gathered themselves together, and stood for their lives, and had rest from their enemies, and slew of their foes seventy and five thousand, but they laid not their hands on the prey . The Jews made the fourteenth day of the month Adar a day of gladness and feasting, and a good day, and of sending portions one to another, and gifts to the poor . Then Esther the queen, the daughter of Abihail, wrote with all authority, '"
      ]
     },
     "execution_count": 98,
     "metadata": {},
     "output_type": "execute_result"
    }
   ],
   "source": [
    "summarization_pipeline_consolidation(esther)"
   ]
  },
  {
   "cell_type": "markdown",
   "id": "73965016-6f94-450d-8c44-226b585a4a49",
   "metadata": {},
   "source": [
    "## Job"
   ]
  },
  {
   "cell_type": "code",
   "execution_count": 51,
   "id": "38774c9d-83b6-4615-ba42-446d6abc780d",
   "metadata": {},
   "outputs": [],
   "source": [
    "job = get_book_text('Job', bible)"
   ]
  },
  {
   "cell_type": "code",
   "execution_count": 52,
   "id": "fd074bb8-d095-4e63-9f52-340a0138e93e",
   "metadata": {},
   "outputs": [
    {
     "name": "stdout",
     "output_type": "stream",
     "text": [
      "****************************\n",
      "*** TF-IDF Consolidation ***\n",
      "****************************\n",
      "Max pooling:\n",
      "------------\n",
      "Moreover Job continued his parable, and said,\n",
      "  Oh that I were as in months past, as in the days when God preserved me;\n",
      "  When his candle shined upon my head, and when by his light I walked through darkness;\n",
      "  As I was in the days of my youth, when the secret of God was upon my tabernacle;\n",
      "  When the Almighty was yet with me, when my children were about me;\n",
      "  When I washed my steps with butter, and the rock poured me out rivers of oil;\n",
      "  When I went out to the gate through the city, when I prepared my seat in the street! Behold, I go forward, but he is not there; and backward, but I cannot perceive him:\n",
      "  On the left hand, where he doth work, but I cannot behold him: he hideth himself on the right hand, that I cannot see him:\n",
      "  But he knoweth the way that I take: when he hath tried me, I shall come forth as gold. Surely thou hast spoken in mine hearing, and I have heard the voice of thy words, saying,\n",
      "  I am clean without transgression, I am innocent; neither is there iniquity in me. I will shew thee, hear me; and that which I have seen I will declare;\n",
      "  Which wise men have told from their fathers, and have not hid it:\n",
      "  Unto whom alone the earth was given, and no stranger passed among them. For he maketh small the drops of water: they pour down rain according to the vapour thereof:\n",
      "  Which the clouds do drop and distil upon man abundantly. Though wickedness be sweet in his mouth, though he hide it under his tongue;\n",
      "  Though he spare it, and forsake it not; but keep it still within his mouth:\n",
      "  Yet his meat in his bowels is turned, it is the gall of asps within him.\n",
      "============================================================\n",
      "Sum pooling:\n",
      "------------\n",
      "Also thou shalt lie down, and none shall make thee afraid; yea, many shall make suit unto thee. For Job hath said, I am righteous: and God hath taken away my judgment. Then call thou, and I will answer: or let me speak, and answer thou me. Are thy days as the days of man? Therefore hearken unto me, ye men of understanding: far be it from God, that he should do wickedness; and from the Almighty, that he should commit iniquity. Then answered the LORD unto Job out of the whirlwind, and said,\n",
      "  Gird up thy loins now like a man: I will demand of thee, and declare thou unto me. For I know that my redeemer liveth, and that he shall stand at the latter day upon the earth:\n",
      "  And though after my skin worms destroy this body, yet in my flesh shall I see God:\n",
      "  Whom I shall see for myself, and mine eyes shall behold, and not another; though my reins be consumed within me. And these things hast thou hid in thine heart: I know that this is with thee. If he set his heart upon man, if he gather unto himself his spirit and his breath;\n",
      "  All flesh shall perish together, and man shall turn again unto dust. Behold, I go forward, but he is not there; and backward, but I cannot perceive him:\n",
      "  On the left hand, where he doth work, but I cannot behold him: he hideth himself on the right hand, that I cannot see him:\n",
      "  But he knoweth the way that I take: when he hath tried me, I shall come forth as gold. When I made the cloud the garment thereof, and thick darkness a swaddlingband for it,\n",
      "  And brake up for it my decreed place, and set bars and doors,\n",
      "  And said, Hitherto shalt thou come, but no further: and here shall thy proud waves be stayed? and how long shall the words of thy mouth be like a strong wind? Knowest thou not this of old, since man was placed upon earth,\n",
      "  That the triumphing of the wicked is short, and the joy of the hypocrite but for a moment? I will say unto God, Do not condemn me; shew me wherefore thou contendest with me.\n",
      "\n",
      "**********************************\n",
      "*** Transformers Consolidation ***\n",
      "**********************************\n",
      "Sentence pooling:\n",
      "-----------------\n",
      "He teareth himself in his anger: shall the earth be forsaken for thee? They conceive mischief, and bring forth vanity, and their belly prepareth deceit. If I have withheld the poor from their desire, or have caused the eyes of the widow to fail;\n",
      "  Or have eaten my morsel myself alone, and the fatherless hath not eaten thereof;\n",
      "  (For from my youth he was brought up with me, as with a father, and I have guided her from my mother's womb;)\n",
      "  If I have seen any perish for want of clothing, or any poor without covering;\n",
      "  If his loins have not blessed me, and if he were not warmed with the fleece of my sheep;\n",
      "  If I have lifted up my hand against the fatherless, when I saw my help in the gate:\n",
      "  Then let mine arm fall from my shoulder blade, and mine arm be broken from the bone. And the LORD said unto Satan, Behold, all that he hath is in thy power; only upon himself put not forth thine hand. Knowest thou the time when the wild goats of the rock bring forth? Therefore snares are round about thee, and sudden fear troubleth thee;\n",
      "  Or darkness, that thou canst not see; and abundance of waters cover thee. I will shew thee, hear me; and that which I have seen I will declare;\n",
      "  Which wise men have told from their fathers, and have not hid it:\n",
      "  Unto whom alone the earth was given, and no stranger passed among them. Behold, he findeth occasions against me, he counteth me for his enemy,\n",
      "  He putteth my feet in the stocks, he marketh all my paths. Yet he filled their houses with good things: but the counsel of the wicked is far from me. make me to know my transgression and my sin. and wilt thou pursue the dry stubble? They that come after him shall be astonied at his day, as they that went before were affrighted. He draweth also the mighty with his power: he riseth up, and no man is sure of life. Remember that thou magnify his work, which men behold. For thy mouth uttereth thine iniquity, and thou choosest the tongue of the crafty.\n",
      "============================================================\n",
      "Chunk pooling:\n",
      "--------------\n",
      "He teareth himself in his anger: shall the earth be forsaken for thee? Lo, their good is not in their hand: the counsel of the wicked is far from me. Therefore snares are round about thee, and sudden fear troubleth thee;\n",
      "  Or darkness, that thou canst not see; and abundance of waters cover thee. Therefore take unto you now seven bullocks and seven rams, and go to my servant Job, and offer up for yourselves a burnt offering; and my servant Job shall pray for you: for him will I accept: lest I deal with you after your folly, in that ye have not spoken of me the thing which is right, like my servant Job. Let that day be darkness; let not God regard it from above, neither let the light shine upon it. He taketh the wise in their own craftiness: and the counsel of the froward is carried headlong. Surely thou hast spoken in mine hearing, and I have heard the voice of thy words, saying,\n",
      "  I am clean without transgression, I am innocent; neither is there iniquity in me. For enquire, I pray thee, of the former age, and prepare thyself to the search of their fathers:\n",
      "  (For we are but of yesterday, and know nothing, because our days upon earth are a shadow:)\n",
      "  Shall not they teach thee, and tell thee, and utter words out of their heart? Behold, he put no trust in his servants; and his angels he charged with folly:\n",
      "  How much less in them that dwell in houses of clay, whose foundation is in the dust, which are crushed before the moth? Behold, I am according to thy wish in God's stead: I also am formed out of the clay. I put on righteousness, and it clothed me: my judgment was as a robe and a diadem. For the arrows of the Almighty are within me, the poison whereof drinketh up my spirit: the terrors of God do set themselves in array against me. And the LORD said unto Satan, Behold, all that he hath is in thy power; only upon himself put not forth thine hand. And dost thou open thine eyes upon such an one, and bringest me into judgment with thee?\n"
     ]
    }
   ],
   "source": [
    "printing(job)"
   ]
  },
  {
   "cell_type": "code",
   "execution_count": 101,
   "id": "d2b46386-c73b-4e35-bdd7-48600861732f",
   "metadata": {},
   "outputs": [
    {
     "data": {
      "text/plain": [
       "' Job arose, and rent his mantle, and shaved his head, and fell down upon the ground, and worshipped,  And said, Naked came I out of my mother\\'s womb, and naked shall I return thither . Satan smote Job with sore boils from the sole of his foot unto his crown . He took him a potsherd to scrape himself withal; and he sat down among the ashes . The Chaldeans made out three bands and fell upon the camels, and have carried them away, yea, and slain the servants . But Job answered: \\'Oh that my grief were throughly weighed, and my calamity laid in the balances together! For now it would be heavier than the sand of the sea: therefore my words are swallowed up\\' Bildad the Shuhite said, \\'How long wilt  Bildad the Shuhite said, \"My breath is corrupt, my days are extinct, the graves are ready for me\" Bildad replied, \"Wherefore are we counted as beasts, and reputed vile in your sight?\" Bildad then said, \\'How long will it be ere ye make an end of words? mark, and afterwards we will speak?\\' The light of the wicked shall be dark in his tabernacle, and his candle shall be put out with him . Zophar the Naamathite said: \"Why do ye persecute me as God, and are not satisfied with my flesh?\" But he answered, \"I have heard the check of my reproach, and the spirit of my understanding causeth me to answer\" His words were graven with an iron pen and lead  Bildad the Shuhite said, \\'How then can man be justified with God? or how can he be clean that is born of a woman?\\' But Job answered: \"As God liveth, who hath taken away my judgment; and the Almighty, who vexed my soul\" Job continued his parable, and said, “My lips shall not speak wickedness, nor my tongue utter deceit’ My righteousness I hold fast, and will not let it go: my heart shall not reproach me so long as I live . Let mine enemy be as the wicked, and he that riseth up against me as the unrighteous . Then lay up gold as dust, and the gold of Ophir as the stones of the brooks, writes Job . For then the Almighty shall be thy defence,  Job striketh them as wicked men in the open sight of others;  Because they turned back from him, and would not consider any of his ways:  That the hypocrite reign not, lest the people be ensnared . More than Job may be tried unto the end because of his answers for wicked men . When he giveth quietness, who then can make trouble? And when he hide his face, who ...  Elihu said Job had visited in his anger; yet he knoweth it not in great extremity:  Therefore doth Job open his mouth in vain; he multiplieth words without knowledge . But the hypocrites in heart heap up wrath: they cry not when he bindeth them. If they obey and serve him, they shall perish by the sword '"
      ]
     },
     "execution_count": 101,
     "metadata": {},
     "output_type": "execute_result"
    }
   ],
   "source": [
    "summarization_pipeline_consolidation(job)"
   ]
  },
  {
   "cell_type": "markdown",
   "id": "8154c364-f9d3-4a1c-a12d-52d44479d184",
   "metadata": {},
   "source": [
    "## Psalms"
   ]
  },
  {
   "cell_type": "code",
   "execution_count": 53,
   "id": "d585eefe-26ae-40c8-8ace-ea25d8263216",
   "metadata": {},
   "outputs": [],
   "source": [
    "psalms = get_book_text('Psalms', bible)"
   ]
  },
  {
   "cell_type": "code",
   "execution_count": 153,
   "id": "a9fc6178-730d-4769-bab3-11c77d79ee38",
   "metadata": {},
   "outputs": [
    {
     "name": "stdout",
     "output_type": "stream",
     "text": [
      "****************************\n",
      "*** TF-IDF Consolidation ***\n",
      "****************************\n",
      "Max pooling:\n",
      "------------\n",
      "Praise the LORD from the earth, ye dragons, and all deeps:\n",
      "  Fire, and hail; snow, and vapour; stormy wind fulfilling his word:\n",
      "  Mountains, and all hills; fruitful trees, and all cedars:\n",
      "  Beasts, and all cattle; creeping things, and flying fowl:\n",
      "  Kings of the earth, and all people; princes, and all judges of the earth:\n",
      "  Both young men, and maidens; old men, and children:\n",
      "  Let them praise the name of the LORD: for his name alone is excellent; his glory is above the earth and heaven. It is a good thing to give thanks unto the LORD, and to sing praises unto thy name, O most High:\n",
      "  To shew forth thy lovingkindness in the morning, and thy faithfulness every night,\n",
      "  Upon an instrument of ten strings, and upon the psaltery; upon the harp with a solemn sound. For thou hast delivered my soul from death: wilt not thou deliver my feet from falling, that I may walk before God in the light of the living? Hide me from the secret counsel of the wicked; from the insurrection of the workers of iniquity:\n",
      "  Who whet their tongue like a sword, and bend their bows to shoot their arrows, even bitter words:\n",
      "  That they may shoot in secret at the perfect: suddenly do they shoot at him, and fear not. A Song or Psalm for the sons of Korah, to the chief Musician upon Mahalath Leannoth, Maschil of Heman the Ezrahite. It is vain for you to rise up early, to sit up late, to eat the bread of sorrows: for so he giveth his beloved sleep. He hath dispersed, he hath given to the poor; his righteousness endureth for ever; his horn shall be exalted with honour. And there he maketh the hungry to dwell, that they may prepare a city for habitation;\n",
      "  And sow the fields, and plant vineyards, which may yield fruits of increase. They that hate me without a cause are more than the hairs of mine head: they that would destroy me, being mine enemies wrongfully, are mighty: then I restored that which I took not away.\n",
      "============================================================\n",
      "Sum pooling:\n",
      "------------\n",
      "All thy works shall praise thee, O LORD; and thy saints shall bless thee. I said unto the LORD, Thou art my God: hear the voice of my supplications, O LORD. Help me, O LORD my God: O save me according to thy mercy:\n",
      "  That they may know that this is thy hand; that thou, LORD, hast done it. Selah. Glory ye in his holy name: let the heart of them rejoice that seek the LORD. To the chief Musician, A Psalm and Song of David. The LORD will preserve him, and keep him alive; and he shall be blessed upon the earth: and thou wilt not deliver him unto the will of his enemies. Thy righteousness also, O God, is very high, who hast done great things: O God, who is like unto thee! Be thou exalted, LORD, in thine own strength: so will we sing and praise thy power. Remember me, O LORD, with the favour that thou bearest unto thy people: O visit me with thy salvation;\n",
      "  That I may see the good of thy chosen, that I may rejoice in the gladness of thy nation, that I may glory with thine inheritance. The LORD shall reign for ever, even thy God, O Zion, unto all generations. And he hath put a new song in my mouth, even praise unto our God: many shall see it, and fear, and shall trust in the LORD. O LORD my God, if I have done this; if there be iniquity in my hands;\n",
      "  If I have rewarded evil unto him that was at peace with me; (yea, I have delivered him that without cause is mine enemy:)\n",
      "  Let the enemy persecute my soul, and take it; yea, let him tread down my life upon the earth, and lay mine honour in the dust. Therefore will I give thanks unto thee, O LORD, among the heathen, and sing praises unto thy name. Lord, where are thy former lovingkindnesses, which thou swarest unto David in thy truth? O LORD God of hosts, how long wilt thou be angry against the prayer of thy people? Teach me, O LORD, the way of thy statutes; and I shall keep it unto the end.\n",
      "\n",
      "**********************************\n",
      "*** Transformers Consolidation ***\n",
      "**********************************\n",
      "Sentence pooling:\n",
      "-----------------\n",
      "Hear me, O LORD; for thy lovingkindness is good: turn unto me according to the multitude of thy tender mercies. Surely his salvation is nigh them that fear him; that glory may dwell in our land. A Psalm of David, when he was in the wilderness of Judah. He teacheth my hands to war, so that a bow of steel is broken by mine arms. who can shew forth all his praise? For the enemy hath persecuted my soul; he hath smitten my life down to the ground; he hath made me to dwell in darkness, as those that have been long dead. For the oppression of the poor, for the sighing of the needy, now will I arise, saith the LORD; I will set him in safety from him that puffeth at him. The LORD is righteous: he hath cut asunder the cords of the wicked. He shall cry unto me, Thou art my father, my God, and the rock of my salvation. All they that be fat upon earth shall eat and worship: all they that go down to the dust shall bow before him: and none can keep alive his own soul. But thou hast cast off and abhorred, thou hast been wroth with thine anointed. Behold, bless ye the LORD, all ye servants of the LORD, which by night stand in the house of the LORD. Let them curse, but bless thou: when they arise, let them be ashamed; but let thy servant rejoice. If I do not remember thee, let my tongue cleave to the roof of my mouth; if I prefer not Jerusalem above my chief joy. To him that by wisdom made the heavens: for his mercy endureth for ever. All the kings of the earth shall praise thee, O LORD, when they hear the words of thy mouth. The LORD shall preserve thee from all evil: he shall preserve thy soul. For thou, LORD, wilt bless the righteous; with favour wilt thou compass him as with a shield. Hear me speedily, O LORD: my spirit faileth: hide not thy face from me, lest I be like unto them that go down into the pit. For thou art great, and doest wondrous things: thou art God alone.\n",
      "============================================================\n",
      "Chunk pooling:\n",
      "--------------\n",
      "Have mercy upon me, O LORD; consider my trouble which I suffer of them that hate me, thou that liftest me up from the gates of death:\n",
      "  That I may shew forth all thy praise in the gates of the daughter of Zion: I will rejoice in thy salvation. To the chief Musician on Neginoth, Maschil, A Psalm of David, when the Ziphims came and said to Saul, Doth not David hide himself with us? Why do the heathen rage, and the people imagine a vain thing? Yea, they despised the pleasant land, they believed not his word:\n",
      "  But murmured in their tents, and hearkened not unto the voice of the LORD. Thy testimonies are very sure: holiness becometh thine house, O LORD, for ever. For he is our God; and we are the people of his pasture, and the sheep of his hand. They that dwell in the wilderness shall bow before him; and his enemies shall lick the dust. For the LORD loveth judgment, and forsaketh not his saints; they are preserved for ever: but the seed of the wicked shall be cut off. In the LORD put I my trust: how say ye to my soul, Flee as a bird to your mountain? Praise the LORD from the earth, ye dragons, and all deeps:\n",
      "  Fire, and hail; snow, and vapour; stormy wind fulfilling his word:\n",
      "  Mountains, and all hills; fruitful trees, and all cedars:\n",
      "  Beasts, and all cattle; creeping things, and flying fowl:\n",
      "  Kings of the earth, and all people; princes, and all judges of the earth:\n",
      "  Both young men, and maidens; old men, and children:\n",
      "  Let them praise the name of the LORD: for his name alone is excellent; his glory is above the earth and heaven. O God, the proud are risen against me, and the assemblies of violent men have sought after my soul; and have not set thee before them.\n"
     ]
    }
   ],
   "source": [
    "printing(psalms)"
   ]
  },
  {
   "cell_type": "code",
   "execution_count": 104,
   "id": "9504046a-731f-4ba4-b950-79a1633dfb42",
   "metadata": {},
   "outputs": [
    {
     "data": {
      "text/plain": [
       "' A Psalm of David was written by the chief Musician on Neginoth upon Sheminith . He sang it to the people in Shiggaion of David, concerning the words of Cush the Benjamite . My defence is of God, which saveth the upright in heart. Offer the sacrifices of righteousness, and put your trust in the LORD . There be many that say, Who will shew us any good? But the LORD, O LORD, art a shield for me; my glory, and the lifter up of mine head. I cried unto the LORD with my voice, and he heard me out of his holy hill . Have mercy upon me, O Lord, consider my trouble which I suffer of them that hate me, thou that liftest me up from the gates of death:  A Psalm of David was written by the chief Musician upon Shoshannim, a Psalm . The singers went before, the players on instruments followed after; among them were the damsels playing with timbrels . In it, he says: \"Let the people praise thee, O God,\" then the earth will yield her increase; and God, even our own God, shall bless us\" But I am a stranger unto my brethren, and an alien unto my mother\\'s children . For the zeal of thine house has eaten me up; and the reproaches of them that reproached thee are fallen upon me . When I wept, and chastened my soul with fasting, that was to my reproach,  Solomon: \"I will go in the strength of the Lord GOD\" He says: “Hide me from the secret counsel of the wicked  A Psalm of David to be read by the chief Musician, a book written by David\\'s son-in-law . The book is published in New York City, New York, at the end of this year\\'s edition of this edition of The Book of Genesis . To see the book here: http://www.jim.com/praise-dawn-David-the-greatest-ever-oldest-word-of-all-one-and-beyond-a-gives-you-your-best-last-word . I will praise thee, O LORD, among the people: and I will sing praises unto thee among the nations . For my love they are my adversaries: but I give myself unto prayer . '"
      ]
     },
     "execution_count": 104,
     "metadata": {},
     "output_type": "execute_result"
    }
   ],
   "source": [
    "summarization_pipeline_consolidation(psalms)"
   ]
  },
  {
   "cell_type": "markdown",
   "id": "c14f94cc-ec6f-4261-b236-f2d892706d18",
   "metadata": {},
   "source": [
    "## Proverbs"
   ]
  },
  {
   "cell_type": "code",
   "execution_count": 55,
   "id": "0ef384a1-01b7-467e-b6ee-46c4efe3c4c4",
   "metadata": {},
   "outputs": [],
   "source": [
    "proverbs = get_book_text('Proverbs', bible)"
   ]
  },
  {
   "cell_type": "code",
   "execution_count": 56,
   "id": "f68ea9ea-0208-4de2-ba73-85a20bcb5e61",
   "metadata": {},
   "outputs": [
    {
     "name": "stdout",
     "output_type": "stream",
     "text": [
      "****************************\n",
      "*** TF-IDF Consolidation ***\n",
      "****************************\n",
      "Max pooling:\n",
      "------------\n",
      "When wisdom entereth into thine heart, and knowledge is pleasant unto thy soul;\n",
      "  Discretion shall preserve thee, understanding shall keep thee:\n",
      "  To deliver thee from the way of the evil man, from the man that speaketh froward things;\n",
      "  Who leave the paths of uprightness, to walk in the ways of darkness;\n",
      "  Who rejoice to do evil, and delight in the frowardness of the wicked;\n",
      "  Whose ways are crooked, and they froward in their paths:\n",
      "  To deliver thee from the strange woman, even from the stranger which flattereth with her words;\n",
      "  Which forsaketh the guide of her youth, and forgetteth the covenant of her God. She hath sent forth her maidens: she crieth upon the highest places of the city,\n",
      "  Whoso is simple, let him turn in hither: as for him that wanteth understanding, she saith to him,\n",
      "  Come, eat of my bread, and drink of the wine which I have mingled. When he prepared the heavens, I was there: when he set a compass upon the face of the depth:\n",
      "  When he established the clouds above: when he strengthened the fountains of the deep:\n",
      "  When he gave to the sea his decree, that the waters should not pass his commandment: when he appointed the foundations of the earth:\n",
      "  Then I was by him, as one brought up with him: and I was daily his delight, rejoicing always before him;\n",
      "  Rejoicing in the habitable part of his earth; and my delights were with the sons of men. Then shalt thou understand righteousness, and judgment, and equity; yea, every good path. He goeth after her straightway, as an ox goeth to the slaughter, or as a fool to the correction of the stocks;\n",
      "  Till a dart strike through his liver; as a bird hasteth to the snare, and knoweth not that it is for his life. A wise son maketh a glad father: but a foolish son is the heaviness of his mother.\n",
      "============================================================\n",
      "Sum pooling:\n",
      "------------\n",
      "My son, eat thou honey, because it is good; and the honeycomb, which is sweet to thy taste:\n",
      "  So shall the knowledge of wisdom be unto thy soul: when thou hast found it, then there shall be a reward, and thy expectation shall not be cut off. Be not wise in thine own eyes: fear the LORD, and depart from evil. The mouth of a righteous man is a well of life: but violence covereth the mouth of the wicked. When wisdom entereth into thine heart, and knowledge is pleasant unto thy soul;\n",
      "  Discretion shall preserve thee, understanding shall keep thee:\n",
      "  To deliver thee from the way of the evil man, from the man that speaketh froward things;\n",
      "  Who leave the paths of uprightness, to walk in the ways of darkness;\n",
      "  Who rejoice to do evil, and delight in the frowardness of the wicked;\n",
      "  Whose ways are crooked, and they froward in their paths:\n",
      "  To deliver thee from the strange woman, even from the stranger which flattereth with her words;\n",
      "  Which forsaketh the guide of her youth, and forgetteth the covenant of her God. There are many devices in a man's heart; nevertheless the counsel of the LORD, that shall stand. There is that maketh himself rich, yet hath nothing: there is that maketh himself poor, yet hath great riches. The way of the wicked is an abomination unto the LORD: but he loveth him that followeth after righteousness. Whoso causeth the righteous to go astray in an evil way, he shall fall himself into his own pit: but the upright shall have good things in possession. A wise man is strong; yea, a man of knowledge increaseth strength. The wicked is snared by the transgression of his lips: but the just shall come out of trouble. He that troubleth his own house shall inherit the wind: and the fool shall be servant to the wise of heart. A man shall be satisfied with good by the fruit of his mouth: and the recompence of a man's hands shall be rendered unto him. Fret not thyself because of evil men, neither be thou envious at the wicked;\n",
      "  For there shall be no reward to the evil man; the candle of the wicked shall be put out.\n",
      "\n",
      "**********************************\n",
      "*** Transformers Consolidation ***\n",
      "**********************************\n",
      "Sentence pooling:\n",
      "-----------------\n",
      "When wisdom entereth into thine heart, and knowledge is pleasant unto thy soul;\n",
      "  Discretion shall preserve thee, understanding shall keep thee:\n",
      "  To deliver thee from the way of the evil man, from the man that speaketh froward things;\n",
      "  Who leave the paths of uprightness, to walk in the ways of darkness;\n",
      "  Who rejoice to do evil, and delight in the frowardness of the wicked;\n",
      "  Whose ways are crooked, and they froward in their paths:\n",
      "  To deliver thee from the strange woman, even from the stranger which flattereth with her words;\n",
      "  Which forsaketh the guide of her youth, and forgetteth the covenant of her God. He that despiseth his neighbour sinneth: but he that hath mercy on the poor, happy is he. he shall stand before kings; he shall not stand before mean men. If a wise man contendeth with a foolish man, whether he rage or laugh, there is no rest. If a ruler hearken to lies, all his servants are wicked. Be not among winebibbers; among riotous eaters of flesh:\n",
      "  For the drunkard and the glutton shall come to poverty: and drowsiness shall clothe a man with rags. A prudent man foreseeth the evil, and hideth himself: but the simple pass on, and are punished. My son, keep thy father's commandment, and forsake not the law of thy mother:\n",
      "  Bind them continually upon thine heart, and tie them about thy neck. The way of the LORD is strength to the upright: but destruction shall be to the workers of iniquity. A scorner loveth not one that reproveth him: neither will he go unto the wise. He that troubleth his own house shall inherit the wind: and the fool shall be servant to the wise of heart. He that keepeth his mouth keepeth his life: but he that openeth wide his lips shall have destruction. He that tilleth his land shall be satisfied with bread: but he that followeth vain persons is void of understanding. The slothful man roasteth not that which he took in hunting: but the substance of a diligent man is precious.\n",
      "============================================================\n",
      "Chunk pooling:\n",
      "--------------\n",
      "When wisdom entereth into thine heart, and knowledge is pleasant unto thy soul;\n",
      "  Discretion shall preserve thee, understanding shall keep thee:\n",
      "  To deliver thee from the way of the evil man, from the man that speaketh froward things;\n",
      "  Who leave the paths of uprightness, to walk in the ways of darkness;\n",
      "  Who rejoice to do evil, and delight in the frowardness of the wicked;\n",
      "  Whose ways are crooked, and they froward in their paths:\n",
      "  To deliver thee from the strange woman, even from the stranger which flattereth with her words;\n",
      "  Which forsaketh the guide of her youth, and forgetteth the covenant of her God. Wrath is cruel, and anger is outrageous; but who is able to stand before envy? He that hath a bountiful eye shall be blessed; for he giveth of his bread to the poor. Whoso keepeth the law is a wise son: but he that is a companion of riotous men shameth his father. The mouth of a righteous man is a well of life: but violence covereth the mouth of the wicked. Whoso despiseth the word shall be destroyed: but he that feareth the commandment shall be rewarded. The LORD will not suffer the soul of the righteous to famish: but he casteth away the substance of the wicked. Delight is not seemly for a fool; much less for a servant to have rule over princes. Be not among winebibbers; among riotous eaters of flesh:\n",
      "  For the drunkard and the glutton shall come to poverty: and drowsiness shall clothe a man with rags. Reprove not a scorner, lest he hate thee: rebuke a wise man, and he will love thee. Fret not thyself because of evil men, neither be thou envious at the wicked;\n",
      "  For there shall be no reward to the evil man; the candle of the wicked shall be put out. The fining pot is for silver, and the furnace for gold: but the LORD trieth the hearts. He that passeth by, and meddleth with strife belonging not to him, is like one that taketh a dog by the ears. Many seek the ruler's favour; but every man's judgment cometh from the LORD.\n"
     ]
    }
   ],
   "source": [
    "printing(proverbs)"
   ]
  },
  {
   "cell_type": "code",
   "execution_count": 107,
   "id": "1e72a67f-37f9-46c1-9ac5-0668b3531254",
   "metadata": {},
   "outputs": [
    {
     "data": {
      "text/plain": [
       "' Solomon the son of David, king of Israel, gives subtilty to the simple . The fear of the LORD is the beginning of knowledge: but fools despise wisdom and instruction . A naughty person, a wicked man, walketh with a froward mouth . Frowardness is in his heart, he deviseth mischief continually; he soweth discord . So shall thy poverty come as one that travelleth, and thy want as an armed man . Lust not after her beauty in thine heart; neither let her take thee with her eyelids . Men do not despise a thief, if he steal to satisfy his soul when he is hungry . If he be found, he shall restore sevenfold; he shall give all the substance of his house . He that hid hatred with lying lips, and he uttereth a slander, is a fool  Deceit is in the heart of them that imagine evil: but to counsellors of peace is joy . Lying lips are abomination to the LORD: but they that deal truly are his delight . As righteousness tendeth to life, so he that pursueth evil pursueth it to his own death . Behold, the righteous shall be recompensed in the earth: much more the wicked and the sinner . A soft answer turneth away wrath: but grievous words stir up anger . A violent man enticeth his neighbour, and leadeth him into the way that is not good . Even in laughter the heart is sorrowful; and the end of that mirth is heaviness . The house of the wicked shall be overthrown: but the tabernacle of the upright shall flourish . Delight   The spirit of man is the candle of the LORD, searching all the inward parts of the belly . It is joy to the just to do judgment: but destruction shall be to the workers of iniquity . A good name is rather to be chosen than great riches, and loving favour rather than silver and gold . Make no friendship with an angry man; and with a furious man thou shalt not go:  Lest thou learn his ways  When thou sittest to eat with a ruler, consider diligently what is before thee:  And put a knife to thy throat, if thou be a man given to appetite . Be not desirous of his dainties: for they are deceitful meat . If thine enemy be hungry, give him bread to eat  Two things have I required of thee; deny me them not before I die:  Remove far from me vanity and lies: Give me neither poverty nor riches . Such is the way of an adulterous woman; she eateth, and wipeth her mouth, and saith, I have done no wickedness . Who can find a virtuous woman? for her price is far above rubies . '"
      ]
     },
     "execution_count": 107,
     "metadata": {},
     "output_type": "execute_result"
    }
   ],
   "source": [
    "summarization_pipeline_consolidation(proverbs)"
   ]
  },
  {
   "cell_type": "markdown",
   "id": "7b3723a2-6690-4172-98ab-25ec5c19faca",
   "metadata": {},
   "source": [
    "## Ecclesiastes"
   ]
  },
  {
   "cell_type": "code",
   "execution_count": 57,
   "id": "b0db79bc-acdb-47d1-a314-4b3f5e59dbf0",
   "metadata": {},
   "outputs": [],
   "source": [
    "ecclesiastes = get_book_text('Ecclesiastes', bible)"
   ]
  },
  {
   "cell_type": "code",
   "execution_count": 58,
   "id": "cc91dd36-45a2-4886-8618-ee8cd11ce9f1",
   "metadata": {},
   "outputs": [
    {
     "name": "stdout",
     "output_type": "stream",
     "text": [
      "****************************\n",
      "*** TF-IDF Consolidation ***\n",
      "****************************\n",
      "Max pooling:\n",
      "------------\n",
      "Remember now thy Creator in the days of thy youth, while the evil days come not, nor the years draw nigh, when thou shalt say, I have no pleasure in them;\n",
      "  While the sun, or the light, or the moon, or the stars, be not darkened, nor the clouds return after the rain:\n",
      "  In the day when the keepers of the house shall tremble, and the strong men shall bow themselves, and the grinders cease because they are few, and those that look out of the windows be darkened,\n",
      "  And the doors shall be shut in the streets, when the sound of the grinding is low, and he shall rise up at the voice of the bird, and all the daughters of musick shall be brought low;\n",
      "  Also when they shall be afraid of that which is high, and fears shall be in the way, and the almond tree shall flourish, and the grasshopper shall be a burden, and desire shall fail: because man goeth to his long home, and the mourners go about the streets:\n",
      "  Or ever the silver cord be loosed, or the golden bowl be broken, or the pitcher be broken at the fountain, or the wheel broken at the cistern. And I gave my heart to seek and search out by wisdom concerning all things that are done under heaven: this sore travail hath God given to the sons of man to be exercised therewith. Then I looked on all the works that my hands had wrought, and on the labour that I had laboured to do: and, behold, all was vanity and vexation of spirit, and there was no profit under the sun. Better is a poor and a wise child than an old and foolish king, who will no more be admonished. When goods increase, they are increased that eat them: and what good is there to the owners thereof, saving the beholding of them with their eyes? Also take no heed unto all words that are spoken; lest thou hear thy servant curse thee:\n",
      "  For oftentimes also thine own heart knoweth that thou thyself likewise hast cursed others. Is there any thing whereof it may be said, See, this is new? One generation passeth away, and another generation cometh: but the earth abideth for ever.\n",
      "============================================================\n",
      "Sum pooling:\n",
      "------------\n",
      "For what hath man of all his labour, and of the vexation of his heart, wherein he hath laboured under the sun? And who knoweth whether he shall be a wise man or a fool? This is also vanity. Be not rash with thy mouth, and let not thine heart be hasty to utter any thing before God: for God is in heaven, and thou upon earth: therefore let thy words be few. Behold that which I have seen: it is good and comely for one to eat and to drink, and to enjoy the good of all his labour that he taketh under the sun all the days of his life, which God giveth him: for it is his portion. Then said I, Wisdom is better than strength: nevertheless the poor man's wisdom is despised, and his words are not heard. I said in mine heart, God shall judge the righteous and the wicked: for there is a time there for every purpose and for every work. When I applied mine heart to know wisdom, and to see the business that is done upon the earth: (for also there is that neither day nor night seeth sleep with his eyes:)\n",
      "  Then I beheld all the work of God, that a man cannot find out the work that is done under the sun: because though a man labour to seek it out, yet he shall not find it; yea further; though a wise man think to know it, yet shall he not be able to find it. This is an evil among all things that are done under the sun, that there is one event unto all: yea, also the heart of the sons of men is full of evil, and madness is in their heart while they live, and after that they go to the dead. Live joyfully with the wife whom thou lovest all the days of the life of thy vanity, which he hath given thee under the sun, all the days of thy vanity: for that is thy portion in this life, and in thy labour which thou takest under the sun.\n",
      "\n",
      "**********************************\n",
      "*** Transformers Consolidation ***\n",
      "**********************************\n",
      "Sentence pooling:\n",
      "-----------------\n",
      "Whoso keepeth the commandment shall feel no evil thing: and a wise man's heart discerneth both time and judgment. What profit hath a man of all his labour which he taketh under the sun? For as the crackling of thorns under a pot, so is the laughter of the fool: this also is vanity. Live joyfully with the wife whom thou lovest all the days of the life of thy vanity, which he hath given thee under the sun, all the days of thy vanity: for that is thy portion in this life, and in thy labour which thou takest under the sun. And I turned myself to behold wisdom, and madness, and folly: for what can the man do that cometh after the king? And further, by these, my son, be admonished: of making many books there is no end; and much study is a weariness of the flesh. Curse not the king, no not in thy thought; and curse not the rich in thy bedchamber: for a bird of the air shall carry the voice, and that which hath wings shall tell the matter. I returned, and saw under the sun, that the race is not to the swift, nor the battle to the strong, neither yet bread to the wise, nor yet riches to men of understanding, nor yet favour to men of skill; but time and chance happeneth to them all. For that which befalleth the sons of men befalleth beasts; even one thing befalleth them: as the one dieth, so dieth the other; yea, they have all one breath; so that a man hath no preeminence above a beast: for all is vanity. If a man beget an hundred children, and live many years, so that the days of his years be many, and his soul be not filled with good, and also that he have no burial; I say, that an untimely birth is better than he.\n",
      "============================================================\n",
      "Chunk pooling:\n",
      "--------------\n",
      "Remember now thy Creator in the days of thy youth, while the evil days come not, nor the years draw nigh, when thou shalt say, I have no pleasure in them;\n",
      "  While the sun, or the light, or the moon, or the stars, be not darkened, nor the clouds return after the rain:\n",
      "  In the day when the keepers of the house shall tremble, and the strong men shall bow themselves, and the grinders cease because they are few, and those that look out of the windows be darkened,\n",
      "  And the doors shall be shut in the streets, when the sound of the grinding is low, and he shall rise up at the voice of the bird, and all the daughters of musick shall be brought low;\n",
      "  Also when they shall be afraid of that which is high, and fears shall be in the way, and the almond tree shall flourish, and the grasshopper shall be a burden, and desire shall fail: because man goeth to his long home, and the mourners go about the streets:\n",
      "  Or ever the silver cord be loosed, or the golden bowl be broken, or the pitcher be broken at the fountain, or the wheel broken at the cistern. There is a vanity which is done upon the earth; that there be just men, unto whom it happeneth according to the work of the wicked; again, there be wicked men, to whom it happeneth according to the work of the righteous: I said that this also is vanity. A fool also is full of words: a man cannot tell what shall be; and what shall be after him, who can tell him? For God giveth to a man that is good in his sight wisdom, and knowledge, and joy: but to the sinner he giveth travail, to gather and to heap up, that he may give to him that is good before God. Whoso keepeth the commandment shall feel no evil thing: and a wise man's heart discerneth both time and judgment. And I turned myself to behold wisdom, and madness, and folly: for what can the man do that cometh after the king? Moreover he hath not seen the sun, nor known any thing: this hath more rest than the other.\n"
     ]
    }
   ],
   "source": [
    "printing(ecclesiastes)"
   ]
  },
  {
   "cell_type": "code",
   "execution_count": 110,
   "id": "d76cabd0-5546-456b-89f2-06791ca7c3b2",
   "metadata": {},
   "outputs": [
    {
     "data": {
      "text/plain": [
       "\" The words of the Preacher, the son of David, king in Jerusalem, are said to be the words of a man who was king over Israel in Jerusalem . All things are full of labour; man cannot utter it: the eye is not satisfied with seeing, nor the ear filled with hearing . One generation passeth away, and another generation cometh: but the earth abideth for ever . There is no remembrance of former things; neither shall there be any remembrance of things that are to come with those that will come after . I communed with mine own heart, saying, Lo, I am come to great estate, and have gotten more wisdom than all they that have been before me in Jerusalem: yea, my heart had great experience of wisdom and knowledge . So I was great, and increased more than all   I said in mine heart, God shall judge the righteous and the wicked: for there is a time there for every purpose and for every work . Then I returned, and I saw vanity under the sun: and behold the tears of such as were oppressed, and they had no comforter . Yea, better is he than both they, which hath not yet been, who hath not seen the evil work that is done under the Sun . This is also vanity and vexation of spirit. Better is an handful with quietness, than both hands full with travail and  There is one alone, and there is not a second; yet is there no end of all his labour . Sorrow is better than laughter: for by the sadness of the countenance the heart is made better . The heart of the wise is in the house of mourning  There is not a just man upon earth, that doeth good, and sinneth not . Wisdom strengtheneth the wise more than ten mighty men which are in the city . A man's wisdom maketh his face to shine, and the boldness of his face shall be changed . But it shall not be well with the wicked, neither shall he prolong his days, which are as a shadow; because he feareth not before God . Live joyfully with the wife whom thou lovest all the days of the life of thy vanity, which he hath given thee under the sun, all the years of your vanity . Go thy way, eat thy bread with joy, and drink thy wine with a merry heart; for God now accepteth thy works. Let thy garments be always white; and let thy head lack no ointment  This wisdom have I seen also under the Sun, and it seemed great unto me:  There was a little city, and few men within it . Folly is set in great dignity, and the rich sit in low place . He that diggeth a pit shall fall into it; and whoso breaketh an hedge, a serpent shall bite him . If the spirit of the ruler rise up against thee, leave not thy place; for yielding pacifieth great offences . Woe to thee, O land, when thy king is a child, and thy princes eat in due season, for strength, and not for drunkenness! \""
      ]
     },
     "execution_count": 110,
     "metadata": {},
     "output_type": "execute_result"
    }
   ],
   "source": [
    "summarization_pipeline_consolidation(ecclesiastes)"
   ]
  },
  {
   "cell_type": "markdown",
   "id": "644c8ea7-e867-4b02-9ad9-856e1225e4a6",
   "metadata": {},
   "source": [
    "## Song of Solomon"
   ]
  },
  {
   "cell_type": "code",
   "execution_count": 59,
   "id": "60991f76-5f80-453a-91e8-bba4c976d4f2",
   "metadata": {},
   "outputs": [],
   "source": [
    "song_of_solomon = get_book_text('Song of Solomon', bible)"
   ]
  },
  {
   "cell_type": "code",
   "execution_count": 60,
   "id": "49db1f1a-19eb-4618-a2d2-f9278289c8c7",
   "metadata": {},
   "outputs": [
    {
     "name": "stdout",
     "output_type": "stream",
     "text": [
      "****************************\n",
      "*** TF-IDF Consolidation ***\n",
      "****************************\n",
      "Max pooling:\n",
      "------------\n",
      "I said, I will go up to the palm tree, I will take hold of the boughs thereof: now also thy breasts shall be as clusters of the vine, and the smell of thy nose like apples;\n",
      "  And the roof of thy mouth like the best wine for my beloved, that goeth down sweetly, causing the lips of those that are asleep to speak. I sleep, but my heart waketh: it is the voice of my beloved that knocketh, saying, Open to me, my sister, my love, my dove, my undefiled: for my head is filled with dew, and my locks with the drops of the night. I will rise now, and go about the city in the streets, and in the broad ways I will seek him whom my soul loveth: I sought him, but I found him not. I am black, but comely, O ye daughters of Jerusalem, as the tents of Kedar, as the curtains of Solomon. Thy plants are an orchard of pomegranates, with pleasant fruits; camphire, with spikenard,\n",
      "  Spikenard and saffron; calamus and cinnamon, with all trees of frankincense; myrrh and aloes, with all the chief spices:\n",
      "  A fountain of gardens, a well of living waters, and streams from Lebanon. Return, return, O Shulamite; return, return, that we may look upon thee. Who is she that looketh forth as the morning, fair as the moon, clear as the sun, and terrible as an army with banners? If she be a wall, we will build upon her a palace of silver: and if she be a door, we will inclose her with boards of cedar. I sat down under his shadow with great delight, and his fruit was sweet to my taste. behold, he cometh leaping upon the mountains, skipping upon the hills. For, lo, the winter is past, the rain is over and gone;\n",
      "  The flowers appear on the earth; the time of the singing of birds is come, and the voice of the turtle is heard in our land;\n",
      "  The fig tree putteth forth her green figs, and the vines with the tender grape give a good smell. I am the rose of Sharon, and the lily of the valleys.\n",
      "============================================================\n",
      "Sum pooling:\n",
      "------------\n",
      "What is thy beloved more than another beloved, O thou fairest among women? I charge you, O daughters of Jerusalem, that ye stir not up, nor awake my love, until he please. How fair is thy love, my sister, my spouse! I raised thee up under the apple tree: there thy mother brought thee forth: there she brought thee forth that bare thee. Thy two breasts are like two young roes that are twins, which feed among the lilies. Solomon had a vineyard at Baalhamon; he let out the vineyard unto keepers; every one for the fruit thereof was to bring a thousand pieces of silver. O my dove, that art in the clefts of the rock, in the secret places of the stairs, let me see thy countenance, let me hear thy voice; for sweet is thy voice, and thy countenance is comely. I said, I will go up to the palm tree, I will take hold of the boughs thereof: now also thy breasts shall be as clusters of the vine, and the smell of thy nose like apples;\n",
      "  And the roof of thy mouth like the best wine for my beloved, that goeth down sweetly, causing the lips of those that are asleep to speak. Turn away thine eyes from me, for they have overcome me: thy hair is as a flock of goats that appear from Gilead. By night on my bed I sought him whom my soul loveth: I sought him, but I found him not. Thy plants are an orchard of pomegranates, with pleasant fruits; camphire, with spikenard,\n",
      "  Spikenard and saffron; calamus and cinnamon, with all trees of frankincense; myrrh and aloes, with all the chief spices:\n",
      "  A fountain of gardens, a well of living waters, and streams from Lebanon. Behold, thou art fair, my beloved, yea, pleasant: also our bed is green. His head is as the most fine gold, his locks are bushy, and black as a raven. Make haste, my beloved, and be thou like to a roe or to a young hart upon the mountains of spices. Thy neck is like the tower of David builded for an armoury, whereon there hang a thousand bucklers, all shields of mighty men.\n",
      "\n",
      "**********************************\n",
      "*** Transformers Consolidation ***\n",
      "**********************************\n",
      "Sentence pooling:\n",
      "-----------------\n",
      "Thou hast ravished my heart, my sister, my spouse; thou hast ravished my heart with one of thine eyes, with one chain of thy neck. Let us get up early to the vineyards; let us see if the vine flourish, whether the tender grape appear, and the pomegranates bud forth: there will I give thee my loves. Go forth, O ye daughters of Zion, and behold king Solomon with the crown wherewith his mother crowned him in the day of his espousals, and in the day of the gladness of his heart. I am the rose of Sharon, and the lily of the valleys. Until the day break, and the shadows flee away, turn, my beloved, and be thou like a roe or a young hart upon the mountains of Bether. I have compared thee, O my love, to a company of horses in Pharaoh's chariots. that we may seek him with thee. My beloved is mine, and I am his: he feedeth among the lilies. How fair and how pleasant art thou, O love, for delights! I said, I will go up to the palm tree, I will take hold of the boughs thereof: now also thy breasts shall be as clusters of the vine, and the smell of thy nose like apples;\n",
      "  And the roof of thy mouth like the best wine for my beloved, that goeth down sweetly, causing the lips of those that are asleep to speak. I charge you, O daughters of Jerusalem, that ye stir not up, nor awake my love, until he please. Thou art beautiful, O my love, as Tirzah, comely as Jerusalem, terrible as an army with banners. Who is this that cometh up from the wilderness, leaning upon her beloved? Look not upon me, because I am black, because the sun hath looked upon me: my mother's children were angry with me; they made me the keeper of the vineyards; but mine own vineyard have I not kept. Draw me, we will run after thee: the king hath brought me into his chambers: we will be glad and rejoice in thee, we will remember thy love more than wine: the upright love thee. How beautiful are thy feet with shoes, O prince's daughter!\n",
      "============================================================\n",
      "Chunk pooling:\n",
      "--------------\n",
      "Behold, thou art fair, my love; behold, thou art fair; thou hast doves' eyes within thy locks: thy hair is as a flock of goats, that appear from mount Gilead. Let us get up early to the vineyards; let us see if the vine flourish, whether the tender grape appear, and the pomegranates bud forth: there will I give thee my loves. The song of songs, which is Solomon's. By night on my bed I sought him whom my soul loveth: I sought him, but I found him not. I am the rose of Sharon, and the lily of the valleys. I charge you, O daughters of Jerusalem, if ye find my beloved, that ye tell him, that I am sick of love. Set me as a seal upon thine heart, as a seal upon thine arm: for love is strong as death; jealousy is cruel as the grave: the coals thereof are coals of fire, which hath a most vehement flame. My beloved is like a roe or a young hart: behold, he standeth behind our wall, he looketh forth at the windows, shewing himself through the lattice. Because of the savour of thy good ointments thy name is as ointment poured forth, therefore do the virgins love thee. Thou that dwellest in the gardens, the companions hearken to thy voice: cause me to hear it. Draw me, we will run after thee: the king hath brought me into his chambers: we will be glad and rejoice in thee, we will remember thy love more than wine: the upright love thee. Thou art beautiful, O my love, as Tirzah, comely as Jerusalem, terrible as an army with banners. A bundle of myrrh is my wellbeloved unto me; he shall lie all night betwixt my breasts. The mandrakes give a smell, and at our gates are all manner of pleasant fruits, new and old, which I have laid up for thee, O my beloved. He made the pillars thereof of silver, the bottom thereof of gold, the covering of it of purple, the midst thereof being paved with love, for the daughters of Jerusalem.\n"
     ]
    }
   ],
   "source": [
    "printing(song_of_solomon)"
   ]
  },
  {
   "cell_type": "code",
   "execution_count": 113,
   "id": "431d9671-da83-40e2-b1aa-b3bc83b6911a",
   "metadata": {},
   "outputs": [
    {
     "data": {
      "text/plain": [
       "' A bundle of myrrh is my wellbeloved unto me; he shall lie all night betwixt my breasts . Stay me with flagons, comfort me with apples: for I am sick of love . My beloved is white and ruddy, the chiefest among ten thousand . His left hand is under my head and his right hand doth  The voice of my beloved! behold, he cometh leaping upon the mountains, skipping upon the hills . I charge you, O daughters of Jerusalem, by the roes, and by the hinds of the field, that ye stir not up, nor awake my love, till he please . For, lo, the winter is past, the rain is over and gone; the flowers appear on the earth; the time of the singing of birds is come, and the voice of the turtle is heard in  My beloved is gone down into his garden, to the beds of spices, to feed in the gardens, and to gather lilies . His eyes are as the eyes of doves by the rivers of waters, washed with milk, and fitly set . His hands are as gold rings set with the beryl: his belly is as bright ivory overlaid with sapphires . His legs are as pillars of marble, set upon sockets of fine gold: his countenance is as Lebanon, excellent as the cedars . How fair and how pleasant art thou, O love, for delights! This thy stature is like to a palm tree, and thy breasts to clusters of grapes . I charge you, O daughters of Jerusalem, that ye stir not up, nor awake my love, until he please . '"
      ]
     },
     "execution_count": 113,
     "metadata": {},
     "output_type": "execute_result"
    }
   ],
   "source": [
    "summarization_pipeline_consolidation(song_of_solomon)"
   ]
  },
  {
   "cell_type": "markdown",
   "id": "8f60da0b-78d5-4e06-918f-30e7868e4557",
   "metadata": {},
   "source": [
    "## Isaiah"
   ]
  },
  {
   "cell_type": "code",
   "execution_count": 61,
   "id": "b7e704c1-f5fa-4d82-a909-dc05ea41b0e7",
   "metadata": {},
   "outputs": [],
   "source": [
    "isaiah = get_book_text('Isaiah', bible)"
   ]
  },
  {
   "cell_type": "code",
   "execution_count": 62,
   "id": "f4236b7c-fb09-4195-824c-bb0affb51522",
   "metadata": {},
   "outputs": [
    {
     "name": "stdout",
     "output_type": "stream",
     "text": [
      "****************************\n",
      "*** TF-IDF Consolidation ***\n",
      "****************************\n",
      "Max pooling:\n",
      "------------\n",
      "Thus saith the LORD, thy redeemer, and he that formed thee from the womb, I am the LORD that maketh all things; that stretcheth forth the heavens alone; that spreadeth abroad the earth by myself;\n",
      "  That frustrateth the tokens of the liars, and maketh diviners mad; that turneth wise men backward, and maketh their knowledge foolish;\n",
      "  That confirmeth the word of his servant, and performeth the counsel of his messengers; that saith to Jerusalem, Thou shalt be inhabited; and to the cities of Judah, Ye shall be built, and I will raise up the decayed places thereof:\n",
      "  That saith to the deep, Be dry, and I will dry up thy rivers:\n",
      "  That saith of Cyrus, He is my shepherd, and shall perform all my pleasure: even saying to Jerusalem, Thou shalt be built; and to the temple, Thy foundation shall be laid. The Spirit of the Lord GOD is upon me; because the LORD hath anointed me to preach good tidings unto the meek; he hath sent me to bind up the brokenhearted, to proclaim liberty to the captives, and the opening of the prison to them that are bound;\n",
      "  To proclaim the acceptable year of the LORD, and the day of vengeance of our God; to comfort all that mourn;\n",
      "  To appoint unto them that mourn in Zion, to give unto them beauty for ashes, the oil of joy for mourning, the garment of praise for the spirit of heaviness; that they might be called trees of righteousness, the planting of the LORD, that he might be glorified. The burden of the beasts of the south: into the land of trouble and anguish, from whence come the young and old lion, the viper and fiery flying serpent, they will carry their riches upon the shoulders of young asses, and their treasures upon the bunches of camels, to a people that shall not profit them. Then came Eliakim, the son of Hilkiah, that was over the household, and Shebna the scribe, and Joah, the son of Asaph, the recorder, to Hezekiah with their clothes rent, and told him the words of Rabshakeh. Therefore is judgment far from us, neither doth justice overtake us: we wait for light, but behold obscurity; for brightness, but we walk in darkness.\n",
      "============================================================\n",
      "Sum pooling:\n",
      "------------\n",
      "Thus saith the LORD, The labour of Egypt, and merchandise of Ethiopia and of the Sabeans, men of stature, shall come over unto thee, and they shall be thine: they shall come after thee; in chains they shall come over, and they shall fall down unto thee, they shall make supplication unto thee, saying, Surely God is in thee; and there is none else, there is no God. And the Gentiles shall see thy righteousness, and all kings thy glory: and thou shalt be called by a new name, which the mouth of the LORD shall name. I said, I shall not see the LORD, even the LORD, in the land of the living: I shall behold man no more with the inhabitants of the world. Go ye forth of Babylon, flee ye from the Chaldeans, with a voice of singing declare ye, tell this, utter it even to the end of the earth; say ye, The LORD hath redeemed his servant Jacob. When thou criest, let thy companies deliver thee; but the wind shall carry them all away; vanity shall take them: but he that putteth his trust in me shall possess the land, and shall inherit my holy mountain;\n",
      "  And shall say, Cast ye up, cast ye up, prepare the way, take up the stumblingblock out of the way of my people. One shall say, I am the LORD'S; and another shall call himself by the name of Jacob; and another shall subscribe with his hand unto the LORD, and surname himself by the name of Israel. Therefore thus saith the Lord GOD, Behold, my servants shall eat, but ye shall be hungry: behold, my servants shall drink, but ye shall be thirsty: behold, my servants shall rejoice, but ye shall be ashamed:\n",
      "  Behold, my servants shall sing for joy of heart, but ye shall cry for sorrow of heart, and shall howl for vexation of spirit. The LORD hath made bare his holy arm in the eyes of all the nations; and all the ends of the earth shall see the salvation of our God. The LORD shall bring upon thee, and upon thy people, and upon thy father's house, days that have not come, from the day that Ephraim departed from Judah; even the king of Assyria.\n",
      "\n",
      "**********************************\n",
      "*** Transformers Consolidation ***\n",
      "**********************************\n",
      "Sentence pooling:\n",
      "-----------------\n",
      "Thus saith the LORD, thy redeemer, and he that formed thee from the womb, I am the LORD that maketh all things; that stretcheth forth the heavens alone; that spreadeth abroad the earth by myself;\n",
      "  That frustrateth the tokens of the liars, and maketh diviners mad; that turneth wise men backward, and maketh their knowledge foolish;\n",
      "  That confirmeth the word of his servant, and performeth the counsel of his messengers; that saith to Jerusalem, Thou shalt be inhabited; and to the cities of Judah, Ye shall be built, and I will raise up the decayed places thereof:\n",
      "  That saith to the deep, Be dry, and I will dry up thy rivers:\n",
      "  That saith of Cyrus, He is my shepherd, and shall perform all my pleasure: even saying to Jerusalem, Thou shalt be built; and to the temple, Thy foundation shall be laid. LORD, when thy hand is lifted up, they will not see: but they shall see, and be ashamed for their envy at the people; yea, the fire of thine enemies shall devour them. He shall enter into peace: they shall rest in their beds, each one walking in his uprightness. And it shall come to pass in that day, that the LORD shall punish the host of the high ones that are on high, and the kings of the earth upon the earth. Therefore the Lord shall have no joy in their young men, neither shall have mercy on their fatherless and widows: for every one is an hypocrite and an evildoer, and every mouth speaketh folly. And he will lift up an ensign to the nations from far, and will hiss unto them from the end of the earth: and, behold, they shall come with speed swiftly:\n",
      "  None shall be weary nor stumble among them; none shall slumber nor sleep; neither shall the girdle of their loins be loosed, nor the latchet of their shoes be broken:\n",
      "  Whose arrows are sharp, and all their bows bent, their horses' hoofs shall be counted like flint, and their wheels like a whirlwind:\n",
      "  Their roaring shall be like a lion, they shall roar like young lions: yea, they shall roar, and lay hold of the prey, and shall carry it away safe, and none shall deliver it. art thou become like unto us?\n",
      "============================================================\n",
      "Chunk pooling:\n",
      "--------------\n",
      "Thus saith the LORD, thy redeemer, and he that formed thee from the womb, I am the LORD that maketh all things; that stretcheth forth the heavens alone; that spreadeth abroad the earth by myself;\n",
      "  That frustrateth the tokens of the liars, and maketh diviners mad; that turneth wise men backward, and maketh their knowledge foolish;\n",
      "  That confirmeth the word of his servant, and performeth the counsel of his messengers; that saith to Jerusalem, Thou shalt be inhabited; and to the cities of Judah, Ye shall be built, and I will raise up the decayed places thereof:\n",
      "  That saith to the deep, Be dry, and I will dry up thy rivers:\n",
      "  That saith of Cyrus, He is my shepherd, and shall perform all my pleasure: even saying to Jerusalem, Thou shalt be built; and to the temple, Thy foundation shall be laid. And the LORD said, Like as my servant Isaiah hath walked naked and barefoot three years for a sign and wonder upon Egypt and upon Ethiopia;\n",
      "  So shall the king of Assyria lead away the Egyptians prisoners, and the Ethiopians captives, young and old, naked and barefoot, even with their buttocks uncovered, to the shame of Egypt. For the people turneth not unto him that smiteth them, neither do they seek the LORD of hosts. And it shall come to pass in that day, that the Lord shall set his hand again the second time to recover the remnant of his people, which shall be left, from Assyria, and from Egypt, and from Pathros, and from Cush, and from Elam, and from Shinar, and from Hamath, and from the islands of the sea. Because Syria, Ephraim, and the son of Remaliah, have taken evil counsel against thee, saying,\n",
      "  Let us go up against Judah, and vex it, and let us make a breach therein for us, and set a king in the midst of it, even the son of Tabeal:\n",
      "  Thus saith the Lord GOD, It shall not stand, neither shall it come to pass.\n"
     ]
    }
   ],
   "source": [
    "printing(isaiah)"
   ]
  },
  {
   "cell_type": "code",
   "execution_count": 116,
   "id": "746d4e04-9d4b-4768-a230-6e48c1a23261",
   "metadata": {},
   "outputs": [
    {
     "data": {
      "text/plain": [
       "\" The day of the LORD cometh, cruel both with wrath and fierce anger, to lay the land desolate . Babylon, the glory of kingdoms, the beauty of the Chaldees' excellency, shall be as when God overthrew Sodom and Gomorrah . And I will punish the world for their evil, and the wicked for their iniquity; and I will cause the arrogancy of the proud to cease, and will lay low the haughtiness of the terrible . Moab will be a covert to the outcasts from the face of the spoiler: for the extortioner is at an end, the spoiler ceaseth . This is the word that the LORD has spoken concerning Moab since that time . After the end of seventy years shall Tyre sing as an harlot, according to the days of one king  In the Bible, she says:  I have refined thee, but not with silver; I have chosen thee in the furnace of affliction . The loss of children and widowhood will come upon her in a moment in one day, the loss of thine children, or widowhood . She warns that evil will fall upon her 'and desolation shall come upon thee suddenly, which thou shalt not know' For more information please click here: http://www.dailymailonline.co.uk/news/divorcements/divorcede/she-doubts\\xa0and\\xa0warnings\\xa0that\\xa0evil will fall\\xa0on her . As for our redeemer, the LORD of hosts is his name, the Holy One of Israel . He also warns that none shall save thee from these things that shall come on her . But draw near,  Are ye not children of transgression? Enflaming yourselves with idols under every green tree, slaying the children in the valleys under the clifts of the rocks? None calleth for justice, nor any pleadeth for truth: they trust in vanity, and speak lies . Therefore is judgment far from us, neither doth  A people provoketh me to anger continually to my face, O LORD says . But now, O Lord, thou art our father; we are the clay, and thou our potter; and we all are the work of thy hand . \""
      ]
     },
     "execution_count": 116,
     "metadata": {},
     "output_type": "execute_result"
    }
   ],
   "source": [
    "summarization_pipeline_consolidation(isaiah)"
   ]
  },
  {
   "cell_type": "markdown",
   "id": "bbf9e834-e1a2-419f-a295-e2086b72cff1",
   "metadata": {},
   "source": [
    "## Jeremiah"
   ]
  },
  {
   "cell_type": "code",
   "execution_count": 63,
   "id": "59cc29e5-9746-4d76-964a-bff9b4e8f553",
   "metadata": {},
   "outputs": [],
   "source": [
    "jeremiah = get_book_text('Jeremiah', bible)"
   ]
  },
  {
   "cell_type": "code",
   "execution_count": 154,
   "id": "c26d1900-2353-442c-b77f-daac6633ec65",
   "metadata": {},
   "outputs": [
    {
     "name": "stdout",
     "output_type": "stream",
     "text": [
      "****************************\n",
      "*** TF-IDF Consolidation ***\n",
      "****************************\n",
      "Max pooling:\n",
      "------------\n",
      "behold, thou hast made the heaven and the earth by thy great power and stretched out arm, and there is nothing too hard for thee:\n",
      "  Thou shewest lovingkindness unto thousands, and recompensest the iniquity of the fathers into the bosom of their children after them: the Great, the Mighty God, the LORD of hosts, is his name,\n",
      "  Great in counsel, and mighty in work: for thine eyes are open upon all the ways of the sons of men: to give every one according to his ways, and according to the fruit of his doings:\n",
      "  Which hast set signs and wonders in the land of Egypt, even unto this day, and in Israel, and among other men; and hast made thee a name, as at this day;\n",
      "  And hast brought forth thy people Israel out of the land of Egypt with signs, and with wonders, and with a strong hand, and with a stretched out arm, and with great terror;\n",
      "  And hast given them this land, which thou didst swear to their fathers to give them, a land flowing with milk and honey;\n",
      "  And they came in, and possessed it; but they obeyed not thy voice, neither walked in thy law; they have done nothing of all that thou commandedst them to do: therefore thou hast caused all this evil to come upon them:\n",
      "  Behold the mounts, they are come unto the city to take it; and the city is given into the hand of the Chaldeans, that fight against it, because of the sword, and of the famine, and of the pestilence: and what thou hast spoken is come to pass; and, behold, thou seest it. Within two full years will I bring again into this place all the vessels of the LORD'S house, that Nebuchadnezzar king of Babylon took away from this place, and carried them to Babylon:\n",
      "  And I will bring again to this place Jeconiah the son of Jehoiakim king of Judah, with all the captives of Judah, that went into Babylon, saith the LORD: for I will break the yoke of the king of Babylon. Howl, ye shepherds, and cry; and wallow yourselves in the ashes, ye principal of the flock: for the days of your slaughter and of your dispersions are accomplished; and ye shall fall like a pleasant vessel.\n",
      "============================================================\n",
      "Sum pooling:\n",
      "------------\n",
      "Then came the word of the LORD unto the prophet Jeremiah, saying,\n",
      "  Thus saith the LORD, the God of Israel; Thus shall ye say to the king of Judah, that sent you unto me to enquire of me; Behold, Pharaoh's army, which is come forth to help you, shall return to Egypt into their own land. For I will surely deliver thee, and thou shalt not fall by the sword, but thy life shall be for a prey unto thee: because thou hast put thy trust in me, saith the LORD. For I have set my face against this city for evil, and not for good, saith the LORD: it shall be given into the hand of the king of Babylon, and he shall burn it with fire. And it shall come to pass, when thou shalt shew this people all these words, and they shall say unto thee, Wherefore hath the LORD pronounced all this great evil against us? Hear ye therefore the word of the LORD, all ye of the captivity, whom I have sent from Jerusalem to Babylon:\n",
      "  Thus saith the LORD of hosts, the God of Israel, of Ahab the son of Kolaiah, and of Zedekiah the son of Maaseiah, which prophesy a lie unto you in my name; Behold, I will deliver them into the hand of Nebuchadrezzar king of Babylon; and he shall slay them before your eyes;\n",
      "  And of them shall be taken up a curse by all the captivity of Judah which are in Babylon, saying, The LORD make thee like Zedekiah and like Ahab, whom the king of Babylon roasted in the fire;\n",
      "  Because they have committed villany in Israel, and have committed adultery with their neighbours' wives, and have spoken lying words in my name, which I have not commanded them; even I know, and am a witness, saith the LORD.\n",
      "\n",
      "**********************************\n",
      "*** Transformers Consolidation ***\n",
      "**********************************\n",
      "Sentence pooling:\n",
      "-----------------\n",
      "Hear ye therefore the word of the LORD, all ye of the captivity, whom I have sent from Jerusalem to Babylon:\n",
      "  Thus saith the LORD of hosts, the God of Israel, of Ahab the son of Kolaiah, and of Zedekiah the son of Maaseiah, which prophesy a lie unto you in my name; Behold, I will deliver them into the hand of Nebuchadrezzar king of Babylon; and he shall slay them before your eyes;\n",
      "  And of them shall be taken up a curse by all the captivity of Judah which are in Babylon, saying, The LORD make thee like Zedekiah and like Ahab, whom the king of Babylon roasted in the fire;\n",
      "  Because they have committed villany in Israel, and have committed adultery with their neighbours' wives, and have spoken lying words in my name, which I have not commanded them; even I know, and am a witness, saith the LORD. The whole city shall flee for the noise of the horsemen and bowmen; they shall go into thickets, and climb up upon the rocks: every city shall be forsaken, and not a man dwell therein. But since we left off to burn incense to the queen of heaven, and to pour out drink offerings unto her, we have wanted all things, and have been consumed by the sword and by the famine. Wherefore, behold, the days come, saith the LORD, that I will do judgment upon her graven images: and through all her land the wounded shall groan. And I will set up shepherds over them which shall feed them: and they shall fear no more, nor be dismayed, neither shall they be lacking, saith the LORD. O Jerusalem, wash thine heart from wickedness, that thou mayest be saved. Then the LORD said unto me, Out of the north an evil shall break forth upon all the inhabitants of the land. Thus saith the LORD, The people which were left of the sword found grace in the wilderness; even Israel, when I went to cause him to rest. Behold, we come unto thee; for thou art the LORD our God.\n",
      "============================================================\n",
      "Chunk pooling:\n",
      "--------------\n",
      "Now these are the words of the letter that Jeremiah the prophet sent from Jerusalem unto the residue of the elders which were carried away captives, and to the priests, and to the prophets, and to all the people whom Nebuchadnezzar had carried away captive from Jerusalem to Babylon;\n",
      "  (After that Jeconiah the king, and the queen, and the eunuchs, the princes of Judah and Jerusalem, and the carpenters, and the smiths, were departed from Jerusalem;)\n",
      "  By the hand of Elasah the son of Shaphan, and Gemariah the son of Hilkiah, (whom Zedekiah king of Judah sent unto Babylon to Nebuchadnezzar king of Babylon) saying,\n",
      "  Thus saith the LORD of hosts, the God of Israel, unto all that are carried away captives, whom I have caused to be carried away from Jerusalem unto Babylon;\n",
      "  Build ye houses, and dwell in them; and plant gardens, and eat the fruit of them;\n",
      "  Take ye wives, and beget sons and daughters; and take wives for your sons, and give your daughters to husbands, that they may bear sons and daughters; that ye may be increased there, and not diminished. For though ye had smitten the whole army of the Chaldeans that fight against you, and there remained but wounded men among them, yet should they rise up every man in his tent, and burn this city with fire. Wherefore, behold, the days come, saith the LORD, that I will do judgment upon her graven images: and through all her land the wounded shall groan. Because they have forsaken me, and have estranged this place, and have burned incense in it unto other gods, whom neither they nor their fathers have known, nor the kings of Judah, and have filled this place with the blood of innocents;\n",
      "  They have built also the high places of Baal, to burn their sons with fire for burnt offerings unto Baal, which I commanded not, nor spake it, neither came it into my mind:\n",
      "  Therefore, behold, the days come, saith the LORD, that this place shall no more be called Tophet, nor The valley of the son of Hinnom, but The valley of slaughter.\n"
     ]
    }
   ],
   "source": [
    "printing(jeremiah)"
   ]
  },
  {
   "cell_type": "code",
   "execution_count": 119,
   "id": "b09ff9fb-2af9-45e8-9ea1-777f39f8cf6c",
   "metadata": {},
   "outputs": [
    {
     "data": {
      "text/plain": [
       "' Jeremiah the son of Hilkiah, of the priests that were in Anathoth in the land of Benjamin . Return, ye backsliding children, and I will heal your backslidings, he says . For this gird you with sackcloth, lament and howl: for the fierce anger is not turned back from us . Circumcise yourselves to the LORD, and take away the foreskins of your heart, O Jerusalem, wash thine heart from wickedness, that thou mayest be saved . The carcases of this people shall be meat for the fowls of the heaven, and for the beasts of the earth; and none shall fray them away . Then will I cause to cease from the cities of Judah, and from the streets of Jerusalem, the voice of mirth, and the voices of gladness, will cease .  The days come, saith the LORD, that I will bring again the captivity of my people Israel and Judah . I will cause them to return to the land that I gave to their fathers, and they shall possess it . But they shall serve the LORD their God, and David their king, whom I will raise up unto them . Behold, the whirlwind of the LORD goeth forth with fury, a continuing whirlwind: it shall fall with pain upon the head of the wicked . And ye shall be my people, and I will be your God. At the same time, will I be the God of all the families of Israel, \\xa0and they shall be My people  Jeremiah made a covenant with his fathers in the day that he brought them out of Egypt . They said, We will not build house, nor sow seed, nor plant vineyard  Nebuzaraadan left of the poor of the Judah people, which had nothing, in a land of Judah, and gave them vineyards and fields at the same time . As for me, behold, I will dwell at Mizpah to serve  the Chaldeans, which will come unto us . But ye, gather ye wine, and summer fruit, and oil, and put them in your vessels, and dwell in your cities that ye have taken . When Johanan heard of his evil deeds, they took all the men, and found him by the great waters that are in Gibeon . Moab is spoiled, and gone up out of her cities, and his chosen young men are gone down to the slaughter . '"
      ]
     },
     "execution_count": 119,
     "metadata": {},
     "output_type": "execute_result"
    }
   ],
   "source": [
    "summarization_pipeline_consolidation(jeremiah)"
   ]
  },
  {
   "cell_type": "markdown",
   "id": "db9637ef-5222-44ca-8732-53aaf43bdefa",
   "metadata": {},
   "source": [
    "## Lamentations"
   ]
  },
  {
   "cell_type": "code",
   "execution_count": 65,
   "id": "7ad4e7f7-66ae-4aec-add4-43c3ed08c396",
   "metadata": {},
   "outputs": [],
   "source": [
    "lamentations = get_book_text('Lamentations', bible)"
   ]
  },
  {
   "cell_type": "code",
   "execution_count": 66,
   "id": "db042363-72fd-4999-84ed-6f1680749ffe",
   "metadata": {},
   "outputs": [
    {
     "name": "stdout",
     "output_type": "stream",
     "text": [
      "****************************\n",
      "*** TF-IDF Consolidation ***\n",
      "****************************\n",
      "Max pooling:\n",
      "------------\n",
      "The young and the old lie on the ground in the streets: my virgins and my young men are fallen by the sword; thou hast slain them in the day of thine anger; thou hast killed, and not pitied. He hath bent his bow like an enemy: he stood with his right hand as an adversary, and slew all that were pleasant to the eye in the tabernacle of the daughter of Zion: he poured out his fury like fire. They cried unto them, Depart ye; it is unclean; depart, depart, touch not: when they fled away and wandered, they said among the heathen, They shall no more sojourn there. It is good that a man should both hope and quietly wait for the salvation of the LORD. I called for my lovers, but they deceived me: my priests and mine elders gave up the ghost in the city, while they sought their meat to relieve their souls. Jerusalem hath grievously sinned; therefore she is removed: all that honoured her despise her, because they have seen her nakedness: yea, she sigheth, and turneth backward. For this our heart is faint; for these things our eyes are dim. Her filthiness is in her skirts; she remembereth not her last end; therefore she came down wonderfully: she had no comforter. how is the most fine gold changed! Behold their sitting down, and their rising up; I am their musick. He giveth his cheek to him that smiteth him: he is filled full with reproach. They have cut off my life in the dungeon, and cast a stone upon me. Our inheritance is turned to strangers, our houses to aliens. They are new every morning: great is thy faithfulness. Fear and a snare is come upon us, desolation and destruction. We are orphans and fatherless, our mothers are as widows. Our necks are under persecution: we labour, and have no rest. how is she become as a widow! Also when I cry and shout, he shutteth out my prayer. All our enemies have opened their mouths against us.\n",
      "============================================================\n",
      "Sum pooling:\n",
      "------------\n",
      "The LORD hath done that which he had devised; he hath fulfilled his word that he had commanded in the days of old: he hath thrown down, and hath not pitied: and he hath caused thine enemy to rejoice over thee, he hath set up the horn of thine adversaries. They have heard that I sigh: there is none to comfort me: all mine enemies have heard of my trouble; they are glad that thou hast done it: thou wilt bring the day that thou hast called, and they shall be like unto me. How hath the Lord covered the daughter of Zion with a cloud in his anger, and cast down from heaven unto the earth the beauty of Israel, and remembered not his footstool in the day of his anger! The LORD is righteous; for I have rebelled against his commandment: hear, I pray you, all people, and behold my sorrow: my virgins and my young men are gone into captivity. Arise, cry out in the night: in the beginning of the watches pour out thine heart like water before the face of the Lord: lift up thy hands toward him for the life of thy young children, that faint for hunger in the top of every street. He hath bent his bow like an enemy: he stood with his right hand as an adversary, and slew all that were pleasant to the eye in the tabernacle of the daughter of Zion: he poured out his fury like fire. It is good that a man should both hope and quietly wait for the salvation of the LORD. All her people sigh, they seek bread; they have given their pleasant things for meat to relieve the soul: see, O LORD, and consider; for I am become vile. Turn thou us unto thee, O LORD, and we shall be turned; renew our days as of old. The Lord hath trodden under foot all my mighty men in the midst of me: he hath called an assembly against me to crush my young men: the Lord hath trodden the virgin, the daughter of Judah, as in a winepress. The adversary hath spread out his hand upon all her pleasant things: for she hath seen that the heathen entered into her sanctuary, whom thou didst command that they should not enter into thy congregation.\n",
      "\n",
      "**********************************\n",
      "*** Transformers Consolidation ***\n",
      "**********************************\n",
      "Sentence pooling:\n",
      "-----------------\n",
      "Let all their wickedness come before thee; and do unto them, as thou hast done unto me for all my transgressions: for my sighs are many, and my heart is faint. The Lord was as an enemy: he hath swallowed up Israel, he hath swallowed up all her palaces: he hath destroyed his strong holds, and hath increased in the daughter of Judah mourning and lamentation. We gat our bread with the peril of our lives because of the sword of the wilderness. He hath set me in dark places, as they that be dead of old. For the sins of her prophets, and the iniquities of her priests, that have shed the blood of the just in the midst of her,\n",
      "  They have wandered as blind men in the streets, they have polluted themselves with blood, so that men could not touch their garments. I am the man that hath seen affliction by the rod of his wrath. Servants have ruled over us: there is none that doth deliver us out of their hand. Their heart cried unto the Lord, O wall of the daughter of Zion, let tears run down like a river day and night: give thyself no rest; let not the apple of thine eye cease. To crush under his feet all the prisoners of the earth,\n",
      "  To turn aside the right of a man before the face of the most High,\n",
      "  To subvert a man in his cause, the Lord approveth not. And I said, My strength and my hope is perished from the LORD:\n",
      "  Remembering mine affliction and my misery, the wormwood and the gall. The young and the old lie on the ground in the streets: my virgins and my young men are fallen by the sword; thou hast slain them in the day of thine anger; thou hast killed, and not pitied. It is of the LORD'S mercies that we are not consumed, because his compassions fail not. The yoke of my transgressions is bound by his hand: they are wreathed, and come up upon my neck: he hath made my strength to fall, the Lord hath delivered me into their hands, from whom I am not able to rise up. He giveth his cheek to him that smiteth him: he is filled full with reproach.\n",
      "============================================================\n",
      "Chunk pooling:\n",
      "--------------\n",
      "Their heart cried unto the Lord, O wall of the daughter of Zion, let tears run down like a river day and night: give thyself no rest; let not the apple of thine eye cease. The adversary hath spread out his hand upon all her pleasant things: for she hath seen that the heathen entered into her sanctuary, whom thou didst command that they should not enter into thy congregation. He hath cut off in his fierce anger all the horn of Israel: he hath drawn back his right hand from before the enemy, and he burned against Jacob like a flaming fire, which devoureth round about. Thou hast called as in a solemn day my terrors round about, so that in the day of the LORD'S anger none escaped nor remained: those that I have swaddled and brought up hath mine enemy consumed. Thy prophets have seen vain and foolish things for thee: and they have not discovered thine iniquity, to turn away thy captivity; but have seen for thee false burdens and causes of banishment. The breath of our nostrils, the anointed of the LORD, was taken in their pits, of whom we said, Under his shadow we shall live among the heathen. All her people sigh, they seek bread; they have given their pleasant things for meat to relieve the soul: see, O LORD, and consider; for I am become vile. Her gates are sunk into the ground; he hath destroyed and broken her bars: her king and her princes are among the Gentiles: the law is no more; her prophets also find no vision from the LORD. Zion spreadeth forth her hands, and there is none to comfort her: the LORD hath commanded concerning Jacob, that his adversaries should be round about him: Jerusalem is as a menstruous woman among them. The Lord hath trodden under foot all my mighty men in the midst of me: he hath called an assembly against me to crush my young men: the Lord hath trodden the virgin, the daughter of Judah, as in a winepress. For he doth not afflict willingly nor grieve the children of men. for thy breach is great like the sea: who can heal thee? The crown is fallen from our head: woe unto us, that we have sinned!\n"
     ]
    }
   ],
   "source": [
    "printing(lamentations)"
   ]
  },
  {
   "cell_type": "code",
   "execution_count": 122,
   "id": "2858725c-4eb8-49fc-9d00-55f2ffe3bfa9",
   "metadata": {},
   "outputs": [
    {
     "data": {
      "text/plain": [
       "' Judah is gone into captivity because of affliction, and because of great servitude . She was great among the nations, and princess among the provinces, how is she become tributary! She weepeth sore in the night, and her tears are on her cheeks: among all her lovers she hath none to comfort her . O LORD, behold my affliction: for the enemy hath magnified himself . The yoke of my transgressions is bound by his hand: they are wreathed, and come up upon my neck . For these things I weep; mine eye, mine eye runneth down with water, because the comforter that should relieve my soul is far from me . The Lord trodden under foot all my mighty men in the midst of me: he hath called an assembly against me to crush my young men  The daughter of my people is become cruel, like the ostriches in the wilderness . The tongue of the sucking child cleaveth to the roof of his mouth for thirst . They that did feed delicately are desolate in the streets: they that were brought up in scarlet embrace dunghills . Render unto them a recompence, O LORD, according to the work of their hands . Give them sorrow of heart, thy curse unto them. Persecute and destroy them in anger from under the heavens of the LORD . How is the gold become dim! how is the most fine gold changed! the stones of the sanctuary are poured out in the top of every street . Their heart cried unto the Lord, let tears run down like a river day and night:  Let not the apple of thine eye cease  The hands of the pitiful women have sodden their own children: they were their meat in the destruction of the daughter of my people . The kings of the earth, and all the inhabitants of the world, would not have believed that the adversary and the enemy should have entered into the gates of Jerusalem . As for us, our eyes as yet failed for our vain help, in our watching we have watched for a nation that could not save us . We gat our bread with the peril of our lives because of the sword of the wilderness . '"
      ]
     },
     "execution_count": 122,
     "metadata": {},
     "output_type": "execute_result"
    }
   ],
   "source": [
    "summarization_pipeline_consolidation(lamentations)"
   ]
  },
  {
   "cell_type": "markdown",
   "id": "3ade5daf-f925-4358-aead-bca9dce8a052",
   "metadata": {},
   "source": [
    "## Ezekiel"
   ]
  },
  {
   "cell_type": "code",
   "execution_count": 67,
   "id": "3c10c8d5-04ae-4a11-9fba-d2e8bf199988",
   "metadata": {},
   "outputs": [],
   "source": [
    "ezekiel = get_book_text('Ezekiel', bible)"
   ]
  },
  {
   "cell_type": "code",
   "execution_count": 68,
   "id": "a2e166f7-0cbb-4b13-96e9-0a4cf1ddc32a",
   "metadata": {},
   "outputs": [
    {
     "name": "stdout",
     "output_type": "stream",
     "text": [
      "****************************\n",
      "*** TF-IDF Consolidation ***\n",
      "****************************\n",
      "Max pooling:\n",
      "------------\n",
      "Also, thou son of man, prophesy unto the mountains of Israel, and say, Ye mountains of Israel, hear the word of the LORD:\n",
      "  Thus saith the Lord GOD; Because the enemy hath said against you, Aha, even the ancient high places are ours in possession:\n",
      "  Therefore prophesy and say, Thus saith the Lord GOD; Because they have made you desolate, and swallowed you up on every side, that ye might be a possession unto the residue of the heathen, and ye are taken up in the lips of talkers, and are an infamy of the people:\n",
      "  Therefore, ye mountains of Israel, hear the word of the Lord GOD; Thus saith the Lord GOD to the mountains, and to the hills, to the rivers, and to the valleys, to the desolate wastes, and to the cities that are forsaken, which became a prey and derision to the residue of the heathen that are round about;\n",
      "  Therefore thus saith the Lord GOD; Surely in the fire of my jealousy have I spoken against the residue of the heathen, and against all Idumea, which have appointed my land into their possession with the joy of all their heart, with despiteful minds, to cast it out for a prey. And he brought me to the inner court by the south gate: and he measured the south gate according to these measures;\n",
      "  And the little chambers thereof, and the posts thereof, and the arches thereof, according to these measures: and there were windows in it and in the arches thereof round about: it was fifty cubits long, and five and twenty cubits broad. Upon his ruin shall all the fowls of the heaven remain, and all the beasts of the field shall be upon his branches:\n",
      "  To the end that none of all the trees by the waters exalt themselves for their height, neither shoot up their top among the thick boughs, neither their trees stand up in their height, all that drink water: for they are all delivered unto death, to the nether parts of the earth, in the midst of the children of men, with them that go down to the pit.\n",
      "============================================================\n",
      "Sum pooling:\n",
      "------------\n",
      "The word of the LORD came again unto me, saying,\n",
      "  Son of man, set thy face against the Ammonites, and prophesy against them;\n",
      "  And say unto the Ammonites, Hear the word of the Lord GOD; Thus saith the Lord GOD; Because thou saidst, Aha, against my sanctuary, when it was profaned; and against the land of Israel, when it was desolate; and against the house of Judah, when they went into captivity;\n",
      "  Behold, therefore I will deliver thee to the men of the east for a possession, and they shall set their palaces in thee, and make their dwellings in thee: they shall eat thy fruit, and they shall drink thy milk. Ye shall fall by the sword; I will judge you in the border of Israel; and ye shall know that I am the LORD. And thou shalt come from thy place out of the north parts, thou, and many people with thee, all of them riding upon horses, a great company, and a mighty army:\n",
      "  And thou shalt come up against my people of Israel, as a cloud to cover the land; it shall be in the latter days, and I will bring thee against my land, that the heathen may know me, when I shall be sanctified in thee, O Gog, before their eyes. it shall be no more, saith the Lord GOD. And he brought me to the inner court by the south gate: and he measured the south gate according to these measures;\n",
      "  And the little chambers thereof, and the posts thereof, and the arches thereof, according to these measures: and there were windows in it and in the arches thereof round about: it was fifty cubits long, and five and twenty cubits broad.\n",
      "\n",
      "**********************************\n",
      "*** Transformers Consolidation ***\n",
      "**********************************\n",
      "Sentence pooling:\n",
      "-----------------\n",
      "The word of the LORD came again unto me, saying,\n",
      "  Son of man, set thy face against the Ammonites, and prophesy against them;\n",
      "  And say unto the Ammonites, Hear the word of the Lord GOD; Thus saith the Lord GOD; Because thou saidst, Aha, against my sanctuary, when it was profaned; and against the land of Israel, when it was desolate; and against the house of Judah, when they went into captivity;\n",
      "  Behold, therefore I will deliver thee to the men of the east for a possession, and they shall set their palaces in thee, and make their dwellings in thee: they shall eat thy fruit, and they shall drink thy milk. The soul that sinneth, it shall die. And I will scatter toward every wind all that are about him to help him, and all his bands; and I will draw out the sword after them. And the altar shall be twelve cubits long, twelve broad, square in the four squares thereof. And I will lay thy flesh upon the mountains, and fill the valleys with thy height. They shall also gird themselves with sackcloth, and horror shall cover them; and shame shall be upon all faces, and baldness upon all their heads. For I will send into her pestilence, and blood into her streets; and the wounded shall be judged in the midst of her by the sword upon her on every side; and they shall know that I am the LORD. And thou shalt take thine inheritance in thyself in the sight of the heathen, and thou shalt know that I am the LORD. Upon his ruin shall all the fowls of the heaven remain, and all the beasts of the field shall be upon his branches:\n",
      "  To the end that none of all the trees by the waters exalt themselves for their height, neither shoot up their top among the thick boughs, neither their trees stand up in their height, all that drink water: for they are all delivered unto death, to the nether parts of the earth, in the midst of the children of men, with them that go down to the pit.\n",
      "============================================================\n",
      "Chunk pooling:\n",
      "--------------\n",
      "Also, thou son of man, prophesy unto the mountains of Israel, and say, Ye mountains of Israel, hear the word of the LORD:\n",
      "  Thus saith the Lord GOD; Because the enemy hath said against you, Aha, even the ancient high places are ours in possession:\n",
      "  Therefore prophesy and say, Thus saith the Lord GOD; Because they have made you desolate, and swallowed you up on every side, that ye might be a possession unto the residue of the heathen, and ye are taken up in the lips of talkers, and are an infamy of the people:\n",
      "  Therefore, ye mountains of Israel, hear the word of the Lord GOD; Thus saith the Lord GOD to the mountains, and to the hills, to the rivers, and to the valleys, to the desolate wastes, and to the cities that are forsaken, which became a prey and derision to the residue of the heathen that are round about;\n",
      "  Therefore thus saith the Lord GOD; Surely in the fire of my jealousy have I spoken against the residue of the heathen, and against all Idumea, which have appointed my land into their possession with the joy of all their heart, with despiteful minds, to cast it out for a prey. And it shall be the prince's part to give burnt offerings, and meat offerings, and drink offerings, in the feasts, and in the new moons, and in the sabbaths, in all solemnities of the house of Israel: he shall prepare the sin offering, and the meat offering, and the burnt offering, and the peace offerings, to make reconciliation for the house of Israel. And I will judge thee, as women that break wedlock and shed blood are judged; and I will give thee blood in fury and jealousy. And he called to the man clothed with linen, which had the writer's inkhorn by his side;\n",
      "  And the LORD said unto him, Go through the midst of the city, through the midst of Jerusalem, and set a mark upon the foreheads of the men that sigh and that cry for all the abominations that be done in the midst thereof.\n"
     ]
    }
   ],
   "source": [
    "printing(ezekiel)"
   ]
  },
  {
   "cell_type": "code",
   "execution_count": 125,
   "id": "2470a504-91f3-42b7-bfa3-c0dbe2d117b6",
   "metadata": {},
   "outputs": [
    {
     "data": {
      "text/plain": [
       "\" Ezekiel the priest, the son of Buzi, in the land of the Chaldeans by the river Chebar . A whirlwind came out of the north, a great cloud, and a fire infolding itself . Out of the midst thereof came the likeness of four living creatures . Their appearance was like burning coals of fire, and like the appearance of lamps . As for their likeness, they four had the face of a man, and the faces of a lion, on the right side; and they also had an eagle . When they went, they went upon their four sides: and they turned not when they went . A third part of thee shall die with the pestilence, and with famine shall they be consumed in the midst of thee . The whole remnant of thee will I scatter into all the winds, and I will draw out a sword after them .  In thee have they set light by father and mother: in the midst of thee have dealt by oppression with the stranger . One has committed abomination with his neighbour's wife; another has lewdly defiled his daughter in law . And I will scatter thee among the heathen, and disperse thee in the countries, and will consume thy filthiness out of thee  Aholibah committed her whoredoms with them, with all them that were the chosen men of Assyria, and with all on whom she doted: with all their idols she defiled herself . Gog will come against the land of Israel, saith the Lord GOD, that my fury shall come up in my face . But ye, O mountains of Israel,. ye shall shoot forth your branches, and yield your fruit to my people of Israel . The word of the LORD  The first of all the firstfruits of all things, and every oblation of all, of every sort of your oblations, shall be the priest's . The holy portion of the land shall be for the priests the ministers of the sanctuary, which shall come near to minister unto the LORD . Neither shall any priest drink wine, nor shall they take for their wives a widow, nor her that is put away: but they shall take maidens of the seed of the house of Israel, or a widow that had a priest before . \""
      ]
     },
     "execution_count": 125,
     "metadata": {},
     "output_type": "execute_result"
    }
   ],
   "source": [
    "summarization_pipeline_consolidation(ezekiel)"
   ]
  },
  {
   "cell_type": "markdown",
   "id": "e66d80c2-3d63-4469-924b-9154d9041c02",
   "metadata": {},
   "source": [
    "## Daniel"
   ]
  },
  {
   "cell_type": "code",
   "execution_count": 69,
   "id": "58ef72ab-0a72-4cb9-b7cb-0978dce09aa4",
   "metadata": {},
   "outputs": [],
   "source": [
    "daniel = get_book_text('Daniel', bible)"
   ]
  },
  {
   "cell_type": "code",
   "execution_count": 70,
   "id": "57c9b4b0-d657-4a00-818b-1ee13675e3e4",
   "metadata": {},
   "outputs": [
    {
     "name": "stdout",
     "output_type": "stream",
     "text": [
      "****************************\n",
      "*** TF-IDF Consolidation ***\n",
      "****************************\n",
      "Max pooling:\n",
      "------------\n",
      "Now the queen, by reason of the words of the king and his lords, came into the banquet house: and the queen spake and said, O king, live for ever: let not thy thoughts trouble thee, nor let thy countenance be changed:\n",
      "  There is a man in thy kingdom, in whom is the spirit of the holy gods; and in the days of thy father light and understanding and wisdom, like the wisdom of the gods, was found in him; whom the king Nebuchadnezzar thy father, the king, I say, thy father, made master of the magicians, astrologers, Chaldeans, and soothsayers;\n",
      "  Forasmuch as an excellent spirit, and knowledge, and understanding, interpreting of dreams, and shewing of hard sentences, and dissolving of doubts, were found in the same Daniel, whom the king named Belteshazzar: now let Daniel be called, and he will shew the interpretation. Then an herald cried aloud, To you it is commanded, O people, nations, and languages,\n",
      "  That at what time ye hear the sound of the cornet, flute, harp, sackbut, psaltery, dulcimer, and all kinds of musick, ye fall down and worship the golden image that Nebuchadnezzar the king hath set up:\n",
      "  And whoso falleth not down and worshippeth shall the same hour be cast into the midst of a burning fiery furnace. Then I would know the truth of the fourth beast, which was diverse from all the others, exceeding dreadful, whose teeth were of iron, and his nails of brass; which devoured, brake in pieces, and stamped the residue with his feet;\n",
      "  And of the ten horns that were in his head, and of the other which came up, and before whom three fell; even of that horn that had eyes, and a mouth that spake very great things, whose look was more stout than his fellows. O Lord, righteousness belongeth unto thee, but unto us confusion of faces, as at this day; to the men of Judah, and to the inhabitants of Jerusalem, and unto all Israel, that are near, and that are far off, through all the countries whither thou hast driven them, because of their trespass that they have trespassed against thee.\n",
      "============================================================\n",
      "Sum pooling:\n",
      "------------\n",
      "And in the days of these kings shall the God of heaven set up a kingdom, which shall never be destroyed: and the kingdom shall not be left to other people, but it shall break in pieces and consume all these kingdoms, and it shall stand for ever. Then said Daniel unto the king, O king, live for ever. Thy dream, and the visions of thy head upon thy bed, are these;\n",
      "  As for thee, O king, thy thoughts came into thy mind upon thy bed, what should come to pass hereafter: and he that revealeth secrets maketh known to thee what shall come to pass. Then they came near, and spake before the king concerning the king's decree; Hast thou not signed a decree, that every man that shall ask a petition of any God or man within thirty days, save of thee, O king, shall be cast into the den of lions? Now thou, O Belteshazzar, declare the interpretation thereof, forasmuch as all the wise men of my kingdom are not able to make known unto me the interpretation: but thou art able; for the spirit of the holy gods is in thee. And whereas the king saw a watcher and an holy one coming down from heaven, and saying, Hew the tree down, and destroy it; yet leave the stump of the roots thereof in the earth, even with a band of iron and brass, in the tender grass of the field; and let it be wet with the dew of heaven, and let his portion be with the beasts of the field, till seven times pass over him;\n",
      "  This is the interpretation, O king, and this is the decree of the most High, which is come upon my lord the king:\n",
      "  That they shall drive thee from men, and thy dwelling shall be with the beasts of the field, and they shall make thee to eat grass as oxen, and they shall wet thee with the dew of heaven, and seven times shall pass over thee, till thou know that the most High ruleth in the kingdom of men, and giveth it to whomsoever he will. The king answered and said to the Chaldeans, The thing is gone from me: if ye will not make known unto me the dream, with the interpretation thereof, ye shall be cut in pieces, and your houses shall be made a dunghill.\n",
      "\n",
      "**********************************\n",
      "*** Transformers Consolidation ***\n",
      "**********************************\n",
      "Sentence pooling:\n",
      "-----------------\n",
      "And the king spake, and said to the wise men of Babylon, Whosoever shall read this writing, and shew me the interpretation thereof, shall be clothed with scarlet, and have a chain of gold about his neck, and shall be the third ruler in the kingdom. Now I am come to make thee understand what shall befall thy people in the latter days: for yet the vision is for many days. And the king said unto them, I have dreamed a dream, and my spirit was troubled to know the dream. Then Daniel blessed the God of heaven. Then the king arose very early in the morning, and went in haste unto the den of lions. Thus shall he do in the most strong holds with a strange god, whom he shall acknowledge and increase with glory: and he shall cause them to rule over many, and shall divide the land for gain. And he came to the ram that had two horns, which I had seen standing before the river, and ran unto him in the fury of his power. But when his heart was lifted up, and his mind hardened in pride, he was deposed from his kingly throne, and they took his glory from him:\n",
      "  And he was driven from the sons of men; and his heart was made like the beasts, and his dwelling was with the wild asses: they fed him with grass like oxen, and his body was wet with the dew of heaven; till he knew that the most high God ruled in the kingdom of men, and that he appointeth over it whomsoever he will. Then an herald cried aloud, To you it is commanded, O people, nations, and languages,\n",
      "  That at what time ye hear the sound of the cornet, flute, harp, sackbut, psaltery, dulcimer, and all kinds of musick, ye fall down and worship the golden image that Nebuchadnezzar the king hath set up:\n",
      "  And whoso falleth not down and worshippeth shall the same hour be cast into the midst of a burning fiery furnace.\n",
      "============================================================\n",
      "Chunk pooling:\n",
      "--------------\n",
      "Now the queen, by reason of the words of the king and his lords, came into the banquet house: and the queen spake and said, O king, live for ever: let not thy thoughts trouble thee, nor let thy countenance be changed:\n",
      "  There is a man in thy kingdom, in whom is the spirit of the holy gods; and in the days of thy father light and understanding and wisdom, like the wisdom of the gods, was found in him; whom the king Nebuchadnezzar thy father, the king, I say, thy father, made master of the magicians, astrologers, Chaldeans, and soothsayers;\n",
      "  Forasmuch as an excellent spirit, and knowledge, and understanding, interpreting of dreams, and shewing of hard sentences, and dissolving of doubts, were found in the same Daniel, whom the king named Belteshazzar: now let Daniel be called, and he will shew the interpretation. And arms shall stand on his part, and they shall pollute the sanctuary of strength, and shall take away the daily sacrifice, and they shall place the abomination that maketh desolate. I beheld, and the same horn made war with the saints, and prevailed against them;\n",
      "  Until the Ancient of days came, and judgment was given to the saints of the most High; and the time came that the saints possessed the kingdom. And the Lord gave Jehoiakim king of Judah into his hand, with part of the vessels of the house of God: which he carried into the land of Shinar to the house of his god; and he brought the vessels into the treasure house of his god. And at the end of the days I Nebuchadnezzar lifted up mine eyes unto heaven, and mine understanding returned unto me, and I blessed the most High, and I praised and honoured him that liveth for ever, whose dominion is an everlasting dominion, and his kingdom is from generation to generation:\n",
      "  And all the inhabitants of the earth are reputed as nothing: and he doeth according to his will in the army of heaven, and among the inhabitants of the earth: and none can stay his hand, or say unto him, What doest thou?\n"
     ]
    }
   ],
   "source": [
    "printing(daniel)"
   ]
  },
  {
   "cell_type": "code",
   "execution_count": 128,
   "id": "8cc1e45e-fd0b-4ab9-b24a-d163c007cb21",
   "metadata": {},
   "outputs": [
    {
     "data": {
      "text/plain": [
       "\" Daniel, Hananiah, Mishael, and Azariah had understanding in all visions and dreams . They were ten times better than magicians and astrologers that were in all his realm . Daniel purposed in his heart that he would not defile himself with the portion of the meat, nor with the wine which he drank; therefore he requested of the Prince of the Eunuchs that he might notdefile himself . The king made Daniel a great man, and gave him many great gifts, and made him ruler over the whole province of Babylon . Daniel is the spirit of the gods, and light and understanding and excellent wisdom is found in him . Daniel was preferred above the presidents and princes, because an excellent spirit was in him. But when his heart was lifted up, and his mind hardened in pride, he was deposed  Daniel prospered in the reign of Darius, and Cyrus the Persian . In the first year of Belshazzar king of Babylon Daniel had vision of four great beasts . One was like a lion, and had eagle's wings: I beheld till the wings thereof were plucked, and it was lifted up from the earth, and made stand upon the feet as a man, and a man's heart was given to it . The fourth beast was diverse from all the others, exceeding dreadful, whose teeth were of iron, and his nails of brass; which devoured, brake in pieces, and stamped the residue with his feet . Then, behold, there stood before me as the appearance of a man who said  Daniel, whose name was called Belteshazzar, had understanding of the vision . From the going forth of the commandment to restore and to build Jerusalem unto the Messiah the Prince  For the overspreading of abominations he shall make it desolate, even until the consummation, and that determined shall be poured upon the final\\xa0consultmation\\xa0will be poured on the desolate’ Then there came again and touched me one like the similitude  Both kings' hearts shall be to do mischief, and they shall speak lies at one table; but it shall not prosper: for yet the end shall be at the time appointed . \""
      ]
     },
     "execution_count": 128,
     "metadata": {},
     "output_type": "execute_result"
    }
   ],
   "source": [
    "summarization_pipeline_consolidation(daniel)"
   ]
  },
  {
   "cell_type": "markdown",
   "id": "167a9045-62b8-48bc-a374-abfef3c3fd80",
   "metadata": {},
   "source": [
    "## Hosea"
   ]
  },
  {
   "cell_type": "code",
   "execution_count": 71,
   "id": "075d0eda-8d3e-4333-94dc-81a15807e9af",
   "metadata": {},
   "outputs": [],
   "source": [
    "hosea = get_book_text('Hosea', bible)"
   ]
  },
  {
   "cell_type": "code",
   "execution_count": 72,
   "id": "10dbcab8-e64e-4263-89ec-07b9cedc5666",
   "metadata": {},
   "outputs": [
    {
     "name": "stdout",
     "output_type": "stream",
     "text": [
      "****************************\n",
      "*** TF-IDF Consolidation ***\n",
      "****************************\n",
      "Max pooling:\n",
      "------------\n",
      "Plead with your mother, plead: for she is not my wife, neither am I her husband: let her therefore put away her whoredoms out of her sight, and her adulteries from between her breasts;\n",
      "  Lest I strip her naked, and set her as in the day that she was born, and make her as a wilderness, and set her like a dry land, and slay her with thirst. For the children of Israel shall abide many days without a king, and without a prince, and without a sacrifice, and without an image, and without an ephod, and without teraphim:\n",
      "  Afterward shall the children of Israel return, and seek the LORD their God, and David their king; and shall fear the LORD and his goodness in the latter days. Ye have plowed wickedness, ye have reaped iniquity; ye have eaten the fruit of lies: because thou didst trust in thy way, in the multitude of thy mighty men. For she did not know that I gave her corn, and wine, and oil, and multiplied her silver and gold, which they prepared for Baal. So he went and took Gomer the daughter of Diblaim; which conceived, and bare him a son. And I will betroth thee unto me for ever; yea, I will betroth thee unto me in righteousness, and in judgment, and in lovingkindness, and in mercies. Ephraim, he hath mixed himself among the people; Ephraim is a cake not turned. According to their pasture, so were they filled; they were filled, and their heart was exalted; therefore have they forgotten me. I have written to him the great things of my law, but they were counted as a strange thing. Though I have bound and strengthened their arms, yet do they imagine mischief against me. By swearing, and lying, and killing, and stealing, and committing adultery, they break out, and blood toucheth blood. He is a merchant, the balances of deceit are in his hand: he loveth to oppress. As they were increased, so they sinned against me: therefore will I change their glory into shame.\n",
      "============================================================\n",
      "Sum pooling:\n",
      "------------\n",
      "O Ephraim, what shall I do unto thee? Yet I am the LORD thy God from the land of Egypt, and thou shalt know no god but me: for there is no saviour beside me. For the children of Israel shall abide many days without a king, and without a prince, and without a sacrifice, and without an image, and without an ephod, and without teraphim:\n",
      "  Afterward shall the children of Israel return, and seek the LORD their God, and David their king; and shall fear the LORD and his goodness in the latter days. They eat up the sin of my people, and they set their heart on their iniquity. The high places also of Aven, the sin of Israel, shall be destroyed: the thorn and the thistle shall come up on their altars; and they shall say to the mountains, Cover us; and to the hills, Fall on us. For they shall eat, and not have enough: they shall commit whoredom, and shall not increase: because they have left off to take heed to the LORD. Though thou, Israel, play the harlot, yet let not Judah offend; and come not ye unto Gilgal, neither go ye up to Bethaven, nor swear, The LORD liveth. Samaria shall become desolate; for she hath rebelled against her God: they shall fall by the sword: their infants shall be dashed in pieces, and their women with child shall be ripped up. And God said unto him, Call her name Loruhamah: for I will no more have mercy upon the house of Israel; but I will utterly take them away. And she shall follow after her lovers, but she shall not overtake them; and she shall seek them, but shall not find them: then shall she say, I will go and return to my first husband; for then was it better with me than now. Yet the number of the children of Israel shall be as the sand of the sea, which cannot be measured nor numbered; and it shall come to pass, that in the place where it was said unto them, Ye are not my people, there it shall be said unto them, Ye are the sons of the living God.\n",
      "\n",
      "**********************************\n",
      "*** Transformers Consolidation ***\n",
      "**********************************\n",
      "Sentence pooling:\n",
      "-----------------\n",
      "They shall not dwell in the LORD'S land; but Ephraim shall return to Egypt, and they shall eat unclean things in Assyria. Therefore have I hewed them by the prophets; I have slain them by the words of my mouth: and thy judgments are as the light that goeth forth. And it shall come to pass at that day, that I will break the bow of Israel in the valley of Jezreel. And I will not have mercy upon her children; for they be the children of whoredoms. Come, and let us return unto the LORD: for he hath torn, and he will heal us; he hath smitten, and he will bind us up. Then said the LORD unto me, Go yet, love a woman beloved of her friend, yet an adulteress, according to the love of the LORD toward the children of Israel, who look to other gods, and love flagons of wine. Their heart is divided; now shall they be found faulty: he shall break down their altars, he shall spoil their images. I will be thy king: where is any other that may save thee in all thy cities? They shall walk after the LORD: he shall roar like a lion: when he shall roar, then the children shall tremble from the west. All their wickedness is in Gilgal: for there I hated them: for the wickedness of their doings I will drive them out of mine house, I will love them no more: all their princes are revolters. And the sword shall abide on his cities, and shall consume his branches, and devour them, because of their own counsels. Say ye unto your brethren, Ammi; and to your sisters, Ruhamah. Therefore shall a tumult arise among thy people, and all thy fortresses shall be spoiled, as Shalman spoiled Betharbel in the day of battle: the mother was dashed in pieces upon her children. The princes of Judah were like them that remove the bound: therefore I will pour out my wrath upon them like water. Thy calf, O Samaria, hath cast thee off; mine anger is kindled against them: how long will it be ere they attain to innocency?\n",
      "============================================================\n",
      "Chunk pooling:\n",
      "--------------\n",
      "They shall not dwell in the LORD'S land; but Ephraim shall return to Egypt, and they shall eat unclean things in Assyria. The word of the LORD that came unto Hosea, the son of Beeri, in the days of Uzziah, Jotham, Ahaz, and Hezekiah, kings of Judah, and in the days of Jeroboam the son of Joash, king of Israel. So I bought her to me for fifteen pieces of silver, and for an homer of barley, and an half homer of barley:\n",
      "  And I said unto her, Thou shalt abide for me many days; thou shalt not play the harlot, and thou shalt not be for another man: so will I also be for thee. Therefore have I hewed them by the prophets; I have slain them by the words of my mouth: and thy judgments are as the light that goeth forth. I found Israel like grapes in the wilderness; I saw your fathers as the firstripe in the fig tree at her first time: but they went to Baalpeor, and separated themselves unto that shame; and their abominations were according as they loved. So shall Bethel do unto you because of your great wickedness: in a morning shall the king of Israel utterly be cut off. Thy calf, O Samaria, hath cast thee off; mine anger is kindled against them: how long will it be ere they attain to innocency? But I will have mercy upon the house of Judah, and will save them by the LORD their God, and will not save them by bow, nor by sword, nor by battle, by horses, nor by horsemen. Hear the word of the LORD, ye children of Israel: for the LORD hath a controversy with the inhabitants of the land, because there is no truth, nor mercy, nor knowledge of God in the land. Ephraim compasseth me about with lies, and the house of Israel with deceit: but Judah yet ruleth with God, and is faithful with the saints. They have dealt treacherously against the LORD: for they have begotten strange children: now shall a month devour them with their portions.\n"
     ]
    }
   ],
   "source": [
    "printing(hosea)"
   ]
  },
  {
   "cell_type": "code",
   "execution_count": 131,
   "id": "286f59f6-6c92-40e1-9ed6-86bafd60da0d",
   "metadata": {},
   "outputs": [
    {
     "data": {
      "text/plain": [
       "\" Hosea, the son of Beeri, in the days of Uzziah, Jotham, Ahaz, and Hezekiah, kings of Judah,  kings of Israel . So he went and took Gomer the daughter of Diblaim; which conceived, and bare him a son . And she conceived again, and Bare a daughter. And God said, Call her name Loruhamah: for I will no more have mercy upon the house of Israel; but I will utterly take them away . Yet the number of the children of Israel shall be as the sand of the sea, which cannot be measured nor numbered . It shall come to pass at that day, that I will break the bow of Israel in the valley of Jezreel. But I will not save them by bow, nor by sword   Israel slideth back as a backsliding heifer: now the LORD will feed them as a lamb in a large place . The princes of Judah were like men that remove the bound: therefore I will pour out my wrath upon them like water . They have dealt treacherously against the LORD: for they have begotten strange children: now shall a month devour them with their portions . Blow ye the cornet in Gibeah, and the trumpet in Ramah: cry aloud at Bethaven, after thee, O Benjamin . Therefore will I be unto Ephraim as a moth, and to the house of Judah as rottenness. I will go and return to my place, till they acknowledge their offence, and seek my face: in their affliction they will seek me early . After two days will he revive us  The prophet is a fool, the spiritual man is mad . Egypt shall gather them up, Memphis shall bury them: nettles shall possess them: thorns shall be in their tabernacles . As for Ephraim, their glory shall fly away like a bird, from the birth, and from the womb . They have set up kings, but not by me: they have made princes, and I knew it not: of their silver and their gold have they made them idols, that they may be cut off . He shall come as an eagle against the house of the LORD, because they have transgressed my covenant, and trespassed against my law . Now shall they be among the Gentiles as a vessel wherein is no pleasure . Though they bring up their children, yet will I bereave them  They shall tremble as a bird out of Egypt, and as a dove out of Assyria: and I will place them in their houses, saith the LORD . They shall walk after the LORD: he shall roar like a lion; when he shall roared, then the children tremble from the west . And I will not execute the fierceness of mine anger, I won't return to destroy  Ephraim provoked him to anger most bitterly: therefore shall he leave his blood upon him, and his reproach shall his Lord return unto him . \""
      ]
     },
     "execution_count": 131,
     "metadata": {},
     "output_type": "execute_result"
    }
   ],
   "source": [
    "summarization_pipeline_consolidation(hosea)"
   ]
  },
  {
   "cell_type": "markdown",
   "id": "957a5982-2c63-4300-8b5b-7c2cf766fed4",
   "metadata": {},
   "source": [
    "## Joel"
   ]
  },
  {
   "cell_type": "code",
   "execution_count": 73,
   "id": "4ffcc57a-9065-47b9-b556-1aeb5aeabe41",
   "metadata": {},
   "outputs": [],
   "source": [
    "joel = get_book_text('Joel', bible)"
   ]
  },
  {
   "cell_type": "code",
   "execution_count": 74,
   "id": "dc3344e5-a058-4ccc-9ab0-f792911a3cd9",
   "metadata": {},
   "outputs": [
    {
     "name": "stdout",
     "output_type": "stream",
     "text": [
      "****************************\n",
      "*** TF-IDF Consolidation ***\n",
      "****************************\n",
      "Max pooling:\n",
      "------------\n",
      "Yea, the LORD will answer and say unto his people, Behold, I will send you corn, and wine, and oil, and ye shall be satisfied therewith: and I will no more make you a reproach among the heathen:\n",
      "  But I will remove far off from you the northern army, and will drive him into a land barren and desolate, with his face toward the east sea, and his hinder part toward the utmost sea, and his stink shall come up, and his ill savour shall come up, because he hath done great things. Be not afraid, ye beasts of the field: for the pastures of the wilderness do spring, for the tree beareth her fruit, the fig tree and the vine do yield their strength. Blow the trumpet in Zion, sanctify a fast, call a solemn assembly:\n",
      "  Gather the people, sanctify the congregation, assemble the elders, gather the children, and those that suck the breasts: let the bridegroom go forth of his chamber, and the bride out of her closet. Be glad then, ye children of Zion, and rejoice in the LORD your God: for he hath given you the former rain moderately, and he will cause to come down for you the rain, the former rain, and the latter rain in the first month. Lament like a virgin girded with sackcloth for the husband of her youth. And I will shew wonders in the heavens and in the earth, blood, and fire, and pillars of smoke. Multitudes, multitudes in the valley of decision: for the day of the LORD is near in the valley of decision. The word of the LORD that came to Joel the son of Pethuel. Hath this been in your days, or even in the days of your fathers? The appearance of them is as the appearance of horses; and as horsemen, so shall they run. Who knoweth if he will return and repent, and leave a blessing behind him; even a meat offering and a drink offering unto the LORD your God? But Judah shall dwell for ever, and Jerusalem from generation to generation. will ye render me a recompence?\n",
      "============================================================\n",
      "Sum pooling:\n",
      "------------\n",
      "And it shall come to pass, that whosoever shall call on the name of the LORD shall be delivered: for in mount Zion and in Jerusalem shall be deliverance, as the LORD hath said, and in the remnant whom the LORD shall call. Gird yourselves, and lament, ye priests: howl, ye ministers of the altar: come, lie all night in sackcloth, ye ministers of my God: for the meat offering and the drink offering is withholden from the house of your God. Blow ye the trumpet in Zion, and sound an alarm in my holy mountain: let all the inhabitants of the land tremble: for the day of the LORD cometh, for it is nigh at hand;\n",
      "  A day of darkness and of gloominess, a day of clouds and of thick darkness, as the morning spread upon the mountains: a great people and a strong; there hath not been ever the like, neither shall be any more after it, even to the years of many generations. Yea, the LORD will answer and say unto his people, Behold, I will send you corn, and wine, and oil, and ye shall be satisfied therewith: and I will no more make you a reproach among the heathen:\n",
      "  But I will remove far off from you the northern army, and will drive him into a land barren and desolate, with his face toward the east sea, and his hinder part toward the utmost sea, and his stink shall come up, and his ill savour shall come up, because he hath done great things. Behold, I will raise them out of the place whither ye have sold them, and will return your recompence upon your own head:\n",
      "  And I will sell your sons and your daughters into the hand of the children of Judah, and they shall sell them to the Sabeans, to a people far off: for the LORD hath spoken it. The beasts of the field cry also unto thee: for the rivers of waters are dried up, and the fire hath devoured the pastures of the wilderness. And ye shall know that I am in the midst of Israel, and that I am the LORD your God, and none else: and my people shall never be ashamed.\n",
      "\n",
      "**********************************\n",
      "*** Transformers Consolidation ***\n",
      "**********************************\n",
      "Sentence pooling:\n",
      "-----------------\n",
      "And it shall come to pass in that day, that the mountains shall drop down new wine, and the hills shall flow with milk, and all the rivers of Judah shall flow with waters, and a fountain shall come forth of the house of the LORD, and shall water the valley of Shittim. And ye shall eat in plenty, and be satisfied, and praise the name of the LORD your God, that hath dealt wondrously with you: and my people shall never be ashamed. Proclaim ye this among the Gentiles; Prepare war, wake up the mighty men, let all the men of war draw near; let them come up:\n",
      "  Beat your plowshares into swords, and your pruninghooks into spears: let the weak say, I am strong. O LORD, to thee will I cry: for the fire hath devoured the pastures of the wilderness, and the flame hath burned all the trees of the field. The earth shall quake before them; the heavens shall tremble: the sun and the moon shall be dark, and the stars shall withdraw their shining:\n",
      "  And the LORD shall utter his voice before his army: for his camp is very great: for he is strong that executeth his word: for the day of the LORD is great and very terrible; and who can abide it? For I will cleanse their blood that I have not cleansed: for the LORD dwelleth in Zion. And it shall come to pass afterward, that I will pour out my spirit upon all flesh; and your sons and your daughters shall prophesy, your old men shall dream dreams, your young men shall see visions:\n",
      "  And also upon the servants and upon the handmaids in those days will I pour out my spirit. The appearance of them is as the appearance of horses; and as horsemen, so shall they run. and if ye recompense me, swiftly and speedily will I return your recompence upon your own head;\n",
      "  Because ye have taken my silver and my gold, and have carried into your temples my goodly pleasant things:\n",
      "  The children also of Judah and the children of Jerusalem have ye sold unto the Grecians, that ye might remove them far from their border. Let the heathen be wakened, and come up to the valley of Jehoshaphat: for there will I sit to judge all the heathen round about.\n",
      "============================================================\n",
      "Chunk pooling:\n",
      "--------------\n",
      "And it shall come to pass in that day, that the mountains shall drop down new wine, and the hills shall flow with milk, and all the rivers of Judah shall flow with waters, and a fountain shall come forth of the house of the LORD, and shall water the valley of Shittim. Let the priests, the ministers of the LORD, weep between the porch and the altar, and let them say, Spare thy people, O LORD, and give not thine heritage to reproach, that the heathen should rule over them: wherefore should they say among the people, Where is their God? Proclaim ye this among the Gentiles; Prepare war, wake up the mighty men, let all the men of war draw near; let them come up:\n",
      "  Beat your plowshares into swords, and your pruninghooks into spears: let the weak say, I am strong. Behold, I will raise them out of the place whither ye have sold them, and will return your recompence upon your own head:\n",
      "  And I will sell your sons and your daughters into the hand of the children of Judah, and they shall sell them to the Sabeans, to a people far off: for the LORD hath spoken it. O LORD, to thee will I cry: for the fire hath devoured the pastures of the wilderness, and the flame hath burned all the trees of the field. The earth shall quake before them; the heavens shall tremble: the sun and the moon shall be dark, and the stars shall withdraw their shining:\n",
      "  And the LORD shall utter his voice before his army: for his camp is very great: for he is strong that executeth his word: for the day of the LORD is great and very terrible; and who can abide it? Yea, the LORD will answer and say unto his people, Behold, I will send you corn, and wine, and oil, and ye shall be satisfied therewith: and I will no more make you a reproach among the heathen:\n",
      "  But I will remove far off from you the northern army, and will drive him into a land barren and desolate, with his face toward the east sea, and his hinder part toward the utmost sea, and his stink shall come up, and his ill savour shall come up, because he hath done great things.\n"
     ]
    }
   ],
   "source": [
    "printing(joel)"
   ]
  },
  {
   "cell_type": "code",
   "execution_count": 134,
   "id": "1be5cd12-3dfe-40df-a6d2-2333b41a5f31",
   "metadata": {},
   "outputs": [
    {
     "data": {
      "text/plain": [
       "' The word of the LORD that came to Joel the son of Pethuel. Hear this, ye old men, and give ear, all ye inhabitants of the land. Tell ye your children of it, and let your children tell their children . For a nation is come up upon my land, strong, and without number, whose teeth are the teeth of a lion . He hath laid my vine waste, and barked my fig tree: he hath made it clean bare, and cast it away . Lament like a virgin girded with sackcloth for the husband of her youth. The field is wasted, the land mourneth; for the corn is wasted: the new wine is dried up, the oil languisheth . Be ye ashamed, O ye husbandmen; howl, O Ye vinedressers, for the  A great people and a strong; there hath not been ever the like, neither shall be any more after it, even to the years of many generations . The appearance of them is as the appearance of horses; and as horsemen, so shall they run . They shall run like mighty men; they shall climb the wall like men of war; and they shall march every one on his ways . And the LORD shall utter his voice before his army: for his camp is very great: for he is strong that executeth his word . But who can abide it? Therefore also now, saith the LORD, turn ye even to me with all your heart, and with fasting ...  And rend your heart,. and not your garments, and turn unto the LORD your God . He is gracious and merciful, slow to anger, and of great kindness  Be not afraid, ye beasts of the field: for the pastures of the wilderness do spring . And I will remove far off from you the northern army, and will drive him into a land barren and desolate, with his face toward the east sea, and his hinder part toward the utmost sea . And ye shall eat in plenty, and be satisfied, and praise the name of the LORD your God, that hath dealt wondrously with you: and my people shall never be ashamed . Who knoweth if he will return and repent, and leave a blessing behind him; even a meat offering and a drink offering unto the Lord your God? Blow the trumpet in Zion, sanctify a fast, call a solemn assembly:  Gather the people, sanctifying the congregation, assemble the elders, gather the children  The sun shall be turned into darkness, and the moon into blood, before the great and the terrible day of the LORD come . And I will shew wonders in the heavens and in the earth, blood, and fire, and pillars of smoke . And it shall come to pass afterward, that I will pour out my spirit upon all flesh; and your sons and your daughters shall prophesy, your old men shall dream dreams, your young men shall see visions:  And also upon the servants and upon the handmaids in those days will I pour out My spirit. And then I will raise them out of the place whither ye have sold them, and will return your recompence upon your own head: for the LORD hath spoken it. Proclaim ye this among the Gentiles; Prepare war, awake the mighty men, let all the men of war  The sun and the moon shall be darkened, and the stars shall withdraw their shining . The LORD also shall roar out of Zion, and utter his voice from Jerusalem . Put ye in the sickle, for the harvest is ripe: come, get you down; for the press is full, the fats overflow; for their wickedness is great. Let the heathen be wakened, and come up to the valley of Jehoshaphat: for there will I sit to judge all the heathens round about . But Judah shall dwell for ever, and Jerusalem from generation to generation . '"
      ]
     },
     "execution_count": 134,
     "metadata": {},
     "output_type": "execute_result"
    }
   ],
   "source": [
    "summarization_pipeline_consolidation(joel)"
   ]
  },
  {
   "cell_type": "markdown",
   "id": "0edec3db-1554-4c1d-aacd-1852cbad87af",
   "metadata": {},
   "source": [
    "## Amos"
   ]
  },
  {
   "cell_type": "code",
   "execution_count": 75,
   "id": "b3b05bda-536d-4649-a72a-2c7b74fe19e0",
   "metadata": {},
   "outputs": [],
   "source": [
    "amos = get_book_text('Amos', bible)"
   ]
  },
  {
   "cell_type": "code",
   "execution_count": 76,
   "id": "f6640724-1bc6-493b-84a7-27ceb21bc2c8",
   "metadata": {},
   "outputs": [
    {
     "name": "stdout",
     "output_type": "stream",
     "text": [
      "****************************\n",
      "*** TF-IDF Consolidation ***\n",
      "****************************\n",
      "Max pooling:\n",
      "------------\n",
      "Hear this word that the LORD hath spoken against you, O children of Israel, against the whole family which I brought up from the land of Egypt, saying,\n",
      "  You only have I known of all the families of the earth: therefore I will punish you for all your iniquities. Thus saith the LORD; For three transgressions of Gaza, and for four, I will not turn away the punishment thereof; because they carried away captive the whole captivity, to deliver them up to Edom:\n",
      "  But I will send a fire on the wall of Gaza, which shall devour the palaces thereof:\n",
      "  And I will cut off the inhabitant from Ashdod, and him that holdeth the sceptre from Ashkelon, and I will turn mine hand against Ekron: and the remnant of the Philistines shall perish, saith the Lord GOD. for ye have turned judgment into gall, and the fruit of righteousness into hemlock:\n",
      "  Ye which rejoice in a thing of nought, which say, Have we not taken to us horns by our own strength? Ye that put far away the evil day, and cause the seat of violence to come near;\n",
      "  That lie upon beds of ivory, and stretch themselves upon their couches, and eat the lambs out of the flock, and the calves out of the midst of the stall;\n",
      "  That chant to the sound of the viol, and invent to themselves instruments of musick, like David;\n",
      "  That drink wine in bowls, and anoint themselves with the chief ointments: but they are not grieved for the affliction of Joseph. And it came to pass, that when they had made an end of eating the grass of the land, then I said, O Lord GOD, forgive, I beseech thee: by whom shall Jacob arise? and the sabbath, that we may set forth wheat, making the ephah small, and the shekel great, and falsifying the balances by deceit? And also I have withholden the rain from you, when there were yet three months to the harvest: and I caused it to rain upon one city, and caused it not to rain upon another city: one piece was rained upon, and the piece whereupon it rained not withered. And I raised up of your sons for prophets, and of your young men for Nazarites.\n",
      "============================================================\n",
      "Sum pooling:\n",
      "------------\n",
      "The LORD repented for this: This also shall not be, saith the Lord GOD. Is it not even thus, O ye children of Israel? Therefore thus saith the LORD; Thy wife shall be an harlot in the city, and thy sons and thy daughters shall fall by the sword, and thy land shall be divided by line; and thou shalt die in a polluted land: and Israel shall surely go into captivity forth of his land. And a man's uncle shall take him up, and he that burneth him, to bring out the bones out of the house, and shall say unto him that is by the sides of the house, Is there yet any with thee? For thus saith the LORD unto the house of Israel, Seek ye me, and ye shall live:\n",
      "  But seek not Bethel, nor enter into Gilgal, and pass not to Beersheba: for Gilgal shall surely go into captivity, and Bethel shall come to nought. Then said the Lord, Behold, I will set a plumbline in the midst of my people Israel: I will not again pass by them any more:\n",
      "  And the high places of Isaac shall be desolate, and the sanctuaries of Israel shall be laid waste; and I will rise against the house of Jeroboam with the sword. And the LORD said unto me, Amos, what seest thou? Thus saith the LORD; For three transgressions of the children of Ammon, and for four, I will not turn away the punishment thereof; because they have ripped up the women with child of Gilead, that they might enlarge their border:\n",
      "  But I will kindle a fire in the wall of Rabbah, and it shall devour the palaces thereof, with shouting in the day of battle, with a tempest in the day of the whirlwind:\n",
      "  And their king shall go into captivity, he and his princes together, saith the LORD. Hear ye, and testify in the house of Jacob, saith the Lord GOD, the God of hosts,\n",
      "  That in the day that I shall visit the transgressions of Israel upon him I will also visit the altars of Bethel: and the horns of the altar shall be cut off, and fall to the ground. shall there be evil in a city, and the LORD hath not done it?\n",
      "\n",
      "**********************************\n",
      "*** Transformers Consolidation ***\n",
      "**********************************\n",
      "Sentence pooling:\n",
      "-----------------\n",
      "Therefore thus saith the Lord GOD; An adversary there shall be even round about the land; and he shall bring down thy strength from thee, and thy palaces shall be spoiled. Have ye offered unto me sacrifices and offerings in the wilderness forty years, O house of Israel? Then said the Lord, Behold, I will set a plumbline in the midst of my people Israel: I will not again pass by them any more:\n",
      "  And the high places of Isaac shall be desolate, and the sanctuaries of Israel shall be laid waste; and I will rise against the house of Jeroboam with the sword. And he said, Amos, what seest thou? and they shall call the husbandman to mourning, and such as are skilful of lamentation to wailing. Seek the LORD, and ye shall live; lest he break out like fire in the house of Joseph, and devour it, and there be none to quench it in Bethel. I saw the Lord standing upon the altar: and he said, Smite the lintel of the door, that the posts may shake: and cut them in the head, all of them; and I will slay the last of them with the sword: he that fleeth of them shall not flee away, and he that escapeth of them shall not be delivered. Therefore will I cause you to go into captivity beyond Damascus, saith the LORD, whose name is The God of hosts. for ye have turned judgment into gall, and the fruit of righteousness into hemlock:\n",
      "  Ye which rejoice in a thing of nought, which say, Have we not taken to us horns by our own strength? Thus saith the LORD; As the shepherd taketh out of the mouth of the lion two legs, or a piece of an ear; so shall the children of Israel be taken out that dwell in Samaria in the corner of a bed, and in Damascus in a couch.\n",
      "============================================================\n",
      "Chunk pooling:\n",
      "--------------\n",
      "Thus saith the LORD; For three transgressions of Israel, and for four, I will not turn away the punishment thereof; because they sold the righteous for silver, and the poor for a pair of shoes;\n",
      "  That pant after the dust of the earth on the head of the poor, and turn aside the way of the meek: and a man and his father will go in unto the same maid, to profane my holy name:\n",
      "  And they lay themselves down upon clothes laid to pledge by every altar, and they drink the wine of the condemned in the house of their god. The words of Amos, who was among the herdmen of Tekoa, which he saw concerning Israel in the days of Uzziah king of Judah, and in the days of Jeroboam the son of Joash king of Israel, two years before the earthquake. And it came to pass, that when they had made an end of eating the grass of the land, then I said, O Lord GOD, forgive, I beseech thee: by whom shall Jacob arise? Also Amaziah said unto Amos, O thou seer, go, flee thee away into the land of Judah, and there eat bread, and prophesy there:\n",
      "  But prophesy not again any more at Bethel: for it is the king's chapel, and it is the king's court. I will break also the bar of Damascus, and cut off the inhabitant from the plain of Aven, and him that holdeth the sceptre from the house of Eden: and the people of Syria shall go into captivity unto Kir, saith the LORD. Behold, the days come, saith the Lord GOD, that I will send a famine in the land, not a famine of bread, nor a thirst for water, but of hearing the words of the LORD:\n",
      "  And they shall wander from sea to sea, and from the north even to the east, they shall run to and fro to seek the word of the LORD, and shall not find it. But, behold, I will raise up against you a nation, O house of Israel, saith the LORD the God of hosts; and they shall afflict you from the entering in of Hemath unto the river of the wilderness.\n"
     ]
    }
   ],
   "source": [
    "printing(amos)"
   ]
  },
  {
   "cell_type": "code",
   "execution_count": 137,
   "id": "5aade13b-0794-438e-b40e-ae52185d34ad",
   "metadata": {},
   "outputs": [
    {
     "data": {
      "text/plain": [
       "' Amos, who was among the herdmen of Tekoa, said he saw concerning Israel in the days of Uzziah king of Judah and Jeroboam the son of Joash king of Israel, two years before the earthquake . And he said, The LORD will roar from Zion, and utter his voice from Jerusalem; and the habitations of the shepherds shall mourn, and the top of Carmel shall wither . But I will send a fire into the house of Hazael, which shall devour the palaces of Benhadad. I will break also the bar of Damascus, and cut off the inhabitant from the plain of Aven . And the people of Syria shall go into captivity unto Kir . For three transgressions of the children of Ammon,  I will not turn away the punishment thereof; because they have ripped up the women with child of Gilead .  The virgin of Israel is fallen; she shall no more rise: she is forsaken upon her land; there is none to raise her up . And ye shall go out at the breaches, every cow at that which is before her; and ye shall cast them into the palace, saith the LORD . Wailing shall be in all streets; and they shall say in all the highways, Alas! Alas! alas! And they shall call the husbandman to mourning, and such as are skilful of lamentation to wailing . But let judgment run down as waters, and righteousness as a mighty stream . Then said, Behold, I will set a plumbline in the middle of my people Israel: I will not again pass by them any more: And the Lord stood upon a wall made by a\\xa0plumbline  Amaziah said to Amos, O thou seer, go, flee thee away into the land of Judah, and there eat bread, and prophesy there . The end is come upon my people of Israel; I will not again pass by them any more . And the songs of the temple shall be howling in that day, saith the Lord GOD: there shall be many dead bodies in every place; they shall cast them forth with silence . Hear this, O ye that swallow up the needy, even to make the poor of the land to fail, even if the poor are poor of Egypt? In that day shall the fair virgins and young men faint for thirst . They that swear by the sin of Samaria, and say, Thy god, O Dan, liveth; even they shall fall, and '"
      ]
     },
     "execution_count": 137,
     "metadata": {},
     "output_type": "execute_result"
    }
   ],
   "source": [
    "summarization_pipeline_consolidation(amos)"
   ]
  },
  {
   "cell_type": "markdown",
   "id": "2b591f3c-5cc1-49aa-94ba-019649db570f",
   "metadata": {},
   "source": [
    "## Obadiah"
   ]
  },
  {
   "cell_type": "code",
   "execution_count": 77,
   "id": "76cf8976-5677-4295-8640-65fe3f17e287",
   "metadata": {},
   "outputs": [],
   "source": [
    "obadiah = get_book_text('Obadiah', bible)"
   ]
  },
  {
   "cell_type": "code",
   "execution_count": 78,
   "id": "4e7cceda-5e00-43a7-a148-0b60a2faed6f",
   "metadata": {},
   "outputs": [
    {
     "name": "stdout",
     "output_type": "stream",
     "text": [
      "****************************\n",
      "*** TF-IDF Consolidation ***\n",
      "****************************\n",
      "Max pooling:\n",
      "------------\n",
      "For the day of the LORD is near upon all the heathen: as thou hast done, it shall be done unto thee: thy reward shall return upon thine own head. how are his hidden things sought up! The vision of Obadiah. would they not have stolen till they had enough? if the grapegatherers came to thee, would they not leave some grapes? And thy mighty men, O Teman, shall be dismayed, to the end that every one of the mount of Esau may be cut off by slaughter. And the house of Jacob shall be a fire, and the house of Joseph a flame, and the house of Esau for stubble, and they shall kindle in them, and devour them; and there shall not be any remaining of the house of Esau; for the LORD hath spoken it. Thou shouldest not have entered into the gate of my people in the day of their calamity; yea, thou shouldest not have looked on their affliction in the day of their calamity, nor have laid hands on their substance in the day of their calamity;\n",
      "  Neither shouldest thou have stood in the crossway, to cut off those of his that did escape; neither shouldest thou have delivered up those of his that did remain in the day of distress. And they of the south shall possess the mount of Esau; and they of the plain the Philistines: and they shall possess the fields of Ephraim, and the fields of Samaria: and Benjamin shall possess Gilead. Thus saith the Lord GOD concerning Edom; We have heard a rumour from the LORD, and an ambassador is sent among the heathen, Arise ye, and let us rise up against her in battle. The pride of thine heart hath deceived thee, thou that dwellest in the clefts of the rock, whose habitation is high; that saith in his heart, Who shall bring me down to the ground? Behold, I have made thee small among the heathen: thou art greatly despised. Though thou exalt thyself as the eagle, and though thou set thy nest among the stars, thence will I bring thee down, saith the LORD.\n",
      "============================================================\n",
      "Sum pooling:\n",
      "------------\n",
      "For the day of the LORD is near upon all the heathen: as thou hast done, it shall be done unto thee: thy reward shall return upon thine own head. But upon mount Zion shall be deliverance, and there shall be holiness; and the house of Jacob shall possess their possessions. Shall I not in that day, saith the LORD, even destroy the wise men out of Edom, and understanding out of the mount of Esau? If thieves came to thee, if robbers by night, (how art thou cut off!) Thou shouldest not have entered into the gate of my people in the day of their calamity; yea, thou shouldest not have looked on their affliction in the day of their calamity, nor have laid hands on their substance in the day of their calamity;\n",
      "  Neither shouldest thou have stood in the crossway, to cut off those of his that did escape; neither shouldest thou have delivered up those of his that did remain in the day of distress. For thy violence against thy brother Jacob shame shall cover thee, and thou shalt be cut off for ever. how are his hidden things sought up! Though thou exalt thyself as the eagle, and though thou set thy nest among the stars, thence will I bring thee down, saith the LORD. The vision of Obadiah. would they not have stolen till they had enough? And thy mighty men, O Teman, shall be dismayed, to the end that every one of the mount of Esau may be cut off by slaughter. The pride of thine heart hath deceived thee, thou that dwellest in the clefts of the rock, whose habitation is high; that saith in his heart, Who shall bring me down to the ground? All the men of thy confederacy have brought thee even to the border: the men that were at peace with thee have deceived thee, and prevailed against thee; they that eat thy bread have laid a wound under thee: there is none understanding in him. For as ye have drunk upon my holy mountain, so shall all the heathen drink continually, yea, they shall drink, and they shall swallow down, and they shall be as though they had not been.\n",
      "\n",
      "**********************************\n",
      "*** Transformers Consolidation ***\n",
      "**********************************\n",
      "Sentence pooling:\n",
      "-----------------\n",
      "And the house of Jacob shall be a fire, and the house of Joseph a flame, and the house of Esau for stubble, and they shall kindle in them, and devour them; and there shall not be any remaining of the house of Esau; for the LORD hath spoken it. In the day that thou stoodest on the other side, in the day that the strangers carried away captive his forces, and foreigners entered into his gates, and cast lots upon Jerusalem, even thou wast as one of them. The pride of thine heart hath deceived thee, thou that dwellest in the clefts of the rock, whose habitation is high; that saith in his heart, Who shall bring me down to the ground? And thy mighty men, O Teman, shall be dismayed, to the end that every one of the mount of Esau may be cut off by slaughter. For as ye have drunk upon my holy mountain, so shall all the heathen drink continually, yea, they shall drink, and they shall swallow down, and they shall be as though they had not been. The vision of Obadiah. And they of the south shall possess the mount of Esau; and they of the plain the Philistines: and they shall possess the fields of Ephraim, and the fields of Samaria: and Benjamin shall possess Gilead. Behold, I have made thee small among the heathen: thou art greatly despised. If thieves came to thee, if robbers by night, (how art thou cut off!) All the men of thy confederacy have brought thee even to the border: the men that were at peace with thee have deceived thee, and prevailed against thee; they that eat thy bread have laid a wound under thee: there is none understanding in him. Thus saith the Lord GOD concerning Edom; We have heard a rumour from the LORD, and an ambassador is sent among the heathen, Arise ye, and let us rise up against her in battle. if the grapegatherers came to thee, would they not leave some grapes? Though thou exalt thyself as the eagle, and though thou set thy nest among the stars, thence will I bring thee down, saith the LORD.\n",
      "============================================================\n",
      "Chunk pooling:\n",
      "--------------\n",
      "And saviours shall come up on mount Zion to judge the mount of Esau; and the kingdom shall be the LORD'S. Thou shouldest not have entered into the gate of my people in the day of their calamity; yea, thou shouldest not have looked on their affliction in the day of their calamity, nor have laid hands on their substance in the day of their calamity;\n",
      "  Neither shouldest thou have stood in the crossway, to cut off those of his that did escape; neither shouldest thou have delivered up those of his that did remain in the day of distress. For as ye have drunk upon my holy mountain, so shall all the heathen drink continually, yea, they shall drink, and they shall swallow down, and they shall be as though they had not been. For thy violence against thy brother Jacob shame shall cover thee, and thou shalt be cut off for ever. The vision of Obadiah. The pride of thine heart hath deceived thee, thou that dwellest in the clefts of the rock, whose habitation is high; that saith in his heart, Who shall bring me down to the ground? Shall I not in that day, saith the LORD, even destroy the wise men out of Edom, and understanding out of the mount of Esau? if the grapegatherers came to thee, would they not leave some grapes? And the house of Jacob shall be a fire, and the house of Joseph a flame, and the house of Esau for stubble, and they shall kindle in them, and devour them; and there shall not be any remaining of the house of Esau; for the LORD hath spoken it. Though thou exalt thyself as the eagle, and though thou set thy nest among the stars, thence will I bring thee down, saith the LORD. how are his hidden things sought up! If thieves came to thee, if robbers by night, (how art thou cut off!) All the men of thy confederacy have brought thee even to the border: the men that were at peace with thee have deceived thee, and prevailed against thee; they that eat thy bread have laid a wound under thee: there is none understanding in him.\n"
     ]
    }
   ],
   "source": [
    "printing(obadiah)"
   ]
  },
  {
   "cell_type": "code",
   "execution_count": 140,
   "id": "52a13f6b-9bac-429f-98ba-37bc163f35b7",
   "metadata": {},
   "outputs": [
    {
     "data": {
      "text/plain": [
       "\"The vision of Obadiah. Thus saith the Lord GOD concerning Edom; We have heard a rumour from the LORD, and an ambassador is sent among the heathen, Arise ye, and let us rise up against her in battle.\\n  Behold, I have made thee small among the heathen: thou art greatly despised.\\n  The pride of thine heart hath deceived thee, thou that dwellest in the clefts of the rock, whose habitation is high; that saith in his heart, Who shall bring me down to the ground?\\n  Though thou exalt thyself as the eagle, and though thou set thy nest among the stars, thence will I bring thee down, saith the LORD.\\n  If thieves came to thee, if robbers by night, (how art thou cut off!) would they not have stolen till they had enough? if the grapegatherers came to thee, would they not leave some grapes?\\n  How are the things of Esau searched out! how are his hidden things sought up!\\n  All the men of thy confederacy have brought thee even to the border: the men that were at peace with thee have deceived thee, and prevailed against thee; they that eat thy bread have laid a wound under thee: there is none understanding in him.\\n  Shall I not in that day, saith the LORD, even destroy the wise men out of Edom, and understanding out of the mount of Esau?\\n  And thy mighty men, O Teman, shall be dismayed, to the end that every one of the mount of Esau may be cut off by slaughter.\\n  For thy violence against thy brother Jacob shame shall cover thee, and thou shalt be cut off for ever.\\n  In the day that thou stoodest on the other side, in the day that the strangers carried away captive his forces, and foreigners entered into his gates, and cast lots upon Jerusalem, even thou wast as one of them.\\n  But thou shouldest not have looked on the day of thy brother in the day that he became a stranger; neither shouldest thou have rejoiced over the children of Judah in the day of their destruction; neither shouldest thou have spoken proudly in the day of distress.\\n  Thou shouldest not have entered into the gate of my people in the day of their calamity; yea, thou shouldest not have looked on their affliction in the day of their calamity, nor have laid hands on their substance in the day of their calamity;\\n  Neither shouldest thou have stood in the crossway, to cut off those of his that did escape; neither shouldest thou have delivered up those of his that did remain in the day of distress.\\n  For the day of the LORD is near upon all the heathen: as thou hast done, it shall be done unto thee: thy reward shall return upon thine own head.\\n  For as ye have drunk upon my holy mountain, so shall all the heathen drink continually, yea, they shall drink, and they shall swallow down, and they shall be as though they had not been.\\n  But upon mount Zion shall be deliverance, and there shall be holiness; and the house of Jacob shall possess their possessions.\\n  And the house of Jacob shall be a fire, and the house of Joseph a flame, and the house of Esau for stubble, and they shall kindle in them, and devour them; and there shall not be any remaining of the house of Esau; for the LORD hath spoken it.\\n  And they of the south shall possess the mount of Esau; and they of the plain the Philistines: and they shall possess the fields of Ephraim, and the fields of Samaria: and Benjamin shall possess Gilead.\\n  And the captivity of this host of the children of Israel shall possess that of the Canaanites, even unto Zarephath; and the captivity of Jerusalem, which is in Sepharad, shall possess the cities of the south.\\n  And saviours shall come up on mount Zion to judge the mount of Esau; and the kingdom shall be the LORD'S.\""
      ]
     },
     "execution_count": 140,
     "metadata": {},
     "output_type": "execute_result"
    }
   ],
   "source": [
    "summarization_pipeline_consolidation(obadiah)"
   ]
  },
  {
   "cell_type": "markdown",
   "id": "b2796104-9bea-4f58-a176-23019cfeb28f",
   "metadata": {},
   "source": [
    "## Jonah"
   ]
  },
  {
   "cell_type": "code",
   "execution_count": 79,
   "id": "2c131f9b-9726-4d0f-a70a-871e220054ac",
   "metadata": {},
   "outputs": [],
   "source": [
    "jonah = get_book_text('Jonah', bible)"
   ]
  },
  {
   "cell_type": "code",
   "execution_count": 155,
   "id": "dc1a1f7f-0a21-4d19-a8a6-1658b2dc10e3",
   "metadata": {},
   "outputs": [
    {
     "name": "stdout",
     "output_type": "stream",
     "text": [
      "****************************\n",
      "*** TF-IDF Consolidation ***\n",
      "****************************\n",
      "Max pooling:\n",
      "------------\n",
      "Therefore I fled before unto Tarshish: for I knew that thou art a gracious God, and merciful, slow to anger, and of great kindness, and repentest thee of the evil. And Jonah began to enter into the city a day's journey, and he cried, and said, Yet forty days, and Nineveh shall be overthrown. Nevertheless the men rowed hard to bring it to the land; but they could not: for the sea wrought, and was tempestuous against them. And it came to pass, when the sun did arise, that God prepared a vehement east wind; and the sun beat upon the head of Jonah, that he fainted, and wished in himself to die, and said, It is better for me to die than to live. And he caused it to be proclaimed and published through Nineveh by the decree of the king and his nobles, saying, Let neither man nor beast, herd nor flock, taste any thing: let them not feed, nor drink water:\n",
      "  But let man and beast be covered with sackcloth, and cry mightily unto God: yea, let them turn every one from his evil way, and from the violence that is in their hands. For thou hadst cast me into the deep, in the midst of the seas; and the floods compassed me about: all thy billows and thy waves passed over me. Salvation is of the LORD. They that observe lying vanities forsake their own mercy. Then said the LORD, Thou hast had pity on the gourd, for the which thou hast not laboured, neither madest it grow; which came up in a night, and perished in a night:\n",
      "  And should not I spare Nineveh, that great city, wherein are more than sixscore thousand persons that cannot discern between their right hand and their left hand; and also much cattle? But Jonah was gone down into the sides of the ship; and he lay, and was fast asleep. And he said, I do well to be angry, even unto death. And the word of the LORD came unto Jonah the second time, saying,\n",
      "  Arise, go unto Nineveh, that great city, and preach unto it the preaching that I bid thee.\n",
      "============================================================\n",
      "Sum pooling:\n",
      "------------\n",
      "Then said they unto him, What shall we do unto thee, that the sea may be calm unto us? And God said to Jonah, Doest thou well to be angry for the gourd? Now the word of the LORD came unto Jonah the son of Amittai, saying,\n",
      "  Arise, go to Nineveh, that great city, and cry against it; for their wickedness is come up before me. Then Jonah prayed unto the LORD his God out of the fish's belly,\n",
      "  And said, I cried by reason of mine affliction unto the LORD, and he heard me; out of the belly of hell cried I, and thou heardest my voice. Wherefore they cried unto the LORD, and said, We beseech thee, O LORD, we beseech thee, let us not perish for this man's life, and lay not upon us innocent blood: for thou, O LORD, hast done as it pleased thee. Then I said, I am cast out of thy sight; yet I will look again toward thy holy temple. Therefore I fled before unto Tarshish: for I knew that thou art a gracious God, and merciful, slow to anger, and of great kindness, and repentest thee of the evil. Then the men feared the LORD exceedingly, and offered a sacrifice unto the LORD, and made vows. And it came to pass, when the sun did arise, that God prepared a vehement east wind; and the sun beat upon the head of Jonah, that he fainted, and wished in himself to die, and said, It is better for me to die than to live. Now the LORD had prepared a great fish to swallow up Jonah. And they said every one to his fellow, Come, and let us cast lots, that we may know for whose cause this evil is upon us. Then the mariners were afraid, and cried every man unto his god, and cast forth the wares that were in the ship into the sea, to lighten it of them. So the people of Nineveh believed God, and proclaimed a fast, and put on sackcloth, from the greatest of them even to the least of them.\n",
      "\n",
      "**********************************\n",
      "*** Transformers Consolidation ***\n",
      "**********************************\n",
      "Sentence pooling:\n",
      "-----------------\n",
      "Now the word of the LORD came unto Jonah the son of Amittai, saying,\n",
      "  Arise, go to Nineveh, that great city, and cry against it; for their wickedness is come up before me. So the shipmaster came to him, and said unto him, What meanest thou, O sleeper? Then the men feared the LORD exceedingly, and offered a sacrifice unto the LORD, and made vows. But God prepared a worm when the morning rose the next day, and it smote the gourd that it withered. And he said unto them, I am an Hebrew; and I fear the LORD, the God of heaven, which hath made the sea and the dry land. Then said the LORD, Doest thou well to be angry? Wherefore they cried unto the LORD, and said, We beseech thee, O LORD, we beseech thee, let us not perish for this man's life, and lay not upon us innocent blood: for thou, O LORD, hast done as it pleased thee. For thou hadst cast me into the deep, in the midst of the seas; and the floods compassed me about: all thy billows and thy waves passed over me. And the LORD God prepared a gourd, and made it to come up over Jonah, that it might be a shadow over his head, to deliver him from his grief. So the people of Nineveh believed God, and proclaimed a fast, and put on sackcloth, from the greatest of them even to the least of them. Therefore I fled before unto Tarshish: for I knew that thou art a gracious God, and merciful, slow to anger, and of great kindness, and repentest thee of the evil. And the LORD spake unto the fish, and it vomited out Jonah upon the dry land. But the LORD sent out a great wind into the sea, and there was a mighty tempest in the sea, so that the ship was like to be broken. Then I said, I am cast out of thy sight; yet I will look again toward thy holy temple. And God saw their works, that they turned from their evil way; and God repented of the evil, that he had said that he would do unto them; and he did it not.\n",
      "============================================================\n",
      "Chunk pooling:\n",
      "--------------\n",
      "Now the word of the LORD came unto Jonah the son of Amittai, saying,\n",
      "  Arise, go to Nineveh, that great city, and cry against it; for their wickedness is come up before me. Nevertheless the men rowed hard to bring it to the land; but they could not: for the sea wrought, and was tempestuous against them. So the shipmaster came to him, and said unto him, What meanest thou, O sleeper? But God prepared a worm when the morning rose the next day, and it smote the gourd that it withered. And Jonah was in the belly of the fish three days and three nights. And the LORD God prepared a gourd, and made it to come up over Jonah, that it might be a shadow over his head, to deliver him from his grief. But Jonah rose up to flee unto Tarshish from the presence of the LORD, and went down to Joppa; and he found a ship going to Tarshish: so he paid the fare thereof, and went down into it, to go with them unto Tarshish from the presence of the LORD. And the LORD spake unto the fish, and it vomited out Jonah upon the dry land. So the people of Nineveh believed God, and proclaimed a fast, and put on sackcloth, from the greatest of them even to the least of them. And it came to pass, when the sun did arise, that God prepared a vehement east wind; and the sun beat upon the head of Jonah, that he fainted, and wished in himself to die, and said, It is better for me to die than to live. So they took up Jonah, and cast him forth into the sea: and the sea ceased from her raging. Then the mariners were afraid, and cried every man unto his god, and cast forth the wares that were in the ship into the sea, to lighten it of them. For thou hadst cast me into the deep, in the midst of the seas; and the floods compassed me about: all thy billows and thy waves passed over me.\n"
     ]
    }
   ],
   "source": [
    "printing(jonah)"
   ]
  },
  {
   "cell_type": "code",
   "execution_count": 143,
   "id": "a0f85e03-c227-4877-9300-9f5e4a51c635",
   "metadata": {},
   "outputs": [
    {
     "data": {
      "text/plain": [
       "' The word of the LORD came unto Jonah the son of Amittai, saying,  Arise, go to Nineveh, that great city, and cry against it; for their wickedness is come up before me . But Jonah rose up to flee unto Tarshish from the presence of the Lord, and went down to Joppa . He found a ship with them, and he went down into it, to go with them unto Tashish . But the LORD sent out a great wind into the sea, and there was a mighty tempest in the sea so that the ship was like to be broken . Then the mariners were afraid, and cried every man unto his god, and cast forth the wares that were in the ship into the Sea, to lighten it of them. But Jonah was gone down into the ship  Jonah was in the belly of a great fish for three days and three nights . He said, \"I cried by reason of mine affliction unto the LORD, and he heard me\" The people of Nineveh believed God and proclaimed a fast, and put on sackcloth, from the greatest of them even to the least of them . And the word of the LORD came unto Jonah the second time, saying, Arise, go unto Nineveh, that great city, and preach unto it the preaching that I bid thee . So they took up Jonah, and cast him forth into the sea: and the sea ceased from her raging . Then Jonah said, I will sacrifice unto thee with the voice of thanksgiving; I will pay that that I have vowed  Jonah caused it to be proclaimed and published through Nineveh by the decree of the king and his nobles, saying, Let neither man nor beast, herd nor flock, taste any thing: let them not feed, nor drink water:  But let man and beast be covered with sackcloth, and cry mightily unto God: yea, let them turn every one from his evil way, and from violence that is in their hands . And God saw their works, that they turned from their evil way; and God repented of the evil, that he had said that he would do unto them; and he did it not . But it displeased Jonah exceedingly, and he was very angry . He prayed unto the LORD, and said, I pray thee, O LORD, was not this my saying, when I was yet in my country? Therefore I fled before '"
      ]
     },
     "execution_count": 143,
     "metadata": {},
     "output_type": "execute_result"
    }
   ],
   "source": [
    "summarization_pipeline_consolidation(jonah)"
   ]
  },
  {
   "cell_type": "markdown",
   "id": "fbc9c780-50cd-4cf2-afcc-507e43a55992",
   "metadata": {},
   "source": [
    "## Micah"
   ]
  },
  {
   "cell_type": "code",
   "execution_count": 81,
   "id": "a55e8a54-d553-42a1-a714-887803474bf1",
   "metadata": {},
   "outputs": [],
   "source": [
    "micah = get_book_text('Micah', bible)"
   ]
  },
  {
   "cell_type": "code",
   "execution_count": 82,
   "id": "04969677-2053-4de0-bf3a-6a74d00257dc",
   "metadata": {},
   "outputs": [
    {
     "name": "stdout",
     "output_type": "stream",
     "text": [
      "****************************\n",
      "*** TF-IDF Consolidation ***\n",
      "****************************\n",
      "Max pooling:\n",
      "------------\n",
      "And many nations shall come, and say, Come, and let us go up to the mountain of the LORD, and to the house of the God of Jacob; and he will teach us of his ways, and we will walk in his paths: for the law shall go forth of Zion, and the word of the LORD from Jerusalem. Woe to them that devise iniquity, and work evil upon their beds! If a man walking in the spirit and falsehood do lie, saying, I will prophesy unto thee of wine and of strong drink; he shall even be the prophet of this people. Therefore I will make Samaria as an heap of the field, and as plantings of a vineyard: and I will pour down the stones thereof into the valley, and I will discover the foundations thereof. And it shall come to pass in that day, saith the LORD, that I will cut off thy horses out of the midst of thee, and I will destroy thy chariots:\n",
      "  And I will cut off the cities of thy land, and throw down all thy strong holds:\n",
      "  And I will cut off witchcrafts out of thine hand; and thou shalt have no more soothsayers:\n",
      "  Thy graven images also will I cut off, and thy standing images out of the midst of thee; and thou shalt no more worship the work of thine hands. for I am as when they have gathered the summer fruits, as the grapegleanings of the vintage: there is no cluster to eat: my soul desired the firstripe fruit. Now gather thyself in troops, O daughter of troops: he hath laid siege against us: they shall smite the judge of Israel with a rod upon the cheek. And I will execute vengeance in anger and fury upon the heathen, such as they have not heard. do not my words do good to him that walketh uprightly? and what are the high places of Judah? are these his doings? testify against me. He will turn again, he will have compassion upon us; he will subdue our iniquities; and thou wilt cast all their sins into the depths of the sea.\n",
      "============================================================\n",
      "Sum pooling:\n",
      "------------\n",
      "But in the last days it shall come to pass, that the mountain of the house of the LORD shall be established in the top of the mountains, and it shall be exalted above the hills; and people shall flow unto it. Be in pain, and labour to bring forth, O daughter of Zion, like a woman in travail: for now shalt thou go forth out of the city, and thou shalt dwell in the field, and thou shalt go even to Babylon; there shalt thou be delivered; there the LORD shall redeem thee from the hand of thine enemies. He hath shewed thee, O man, what is good; and what doth the LORD require of thee, but to do justly, and to love mercy, and to walk humbly with thy God? But truly I am full of power by the spirit of the LORD, and of judgment, and of might, to declare unto Jacob his transgression, and to Israel his sin. Hear, all ye people; hearken, O earth, and all that therein is: and let the Lord GOD be witness against you, the Lord from his holy temple. Then she that is mine enemy shall see it, and shame shall cover her which said unto me, Where is the LORD thy God? Therefore thus saith the LORD; Behold, against this family do I devise an evil, from which ye shall not remove your necks; neither shall ye go haughtily: for this time is evil. And thou, O tower of the flock, the strong hold of the daughter of Zion, unto thee shall it come, even the first dominion; the kingdom shall come to the daughter of Jerusalem. The LORD'S voice crieth unto the city, and the man of wisdom shall see thy name: hear ye the rod, and who hath appointed it. O my people, what have I done unto thee? And many nations shall come, and say, Come, and let us go up to the mountain of the LORD, and to the house of the God of Jacob; and he will teach us of his ways, and we will walk in his paths: for the law shall go forth of Zion, and the word of the LORD from Jerusalem.\n",
      "\n",
      "**********************************\n",
      "*** Transformers Consolidation ***\n",
      "**********************************\n",
      "Sentence pooling:\n",
      "-----------------\n",
      "And he shall stand and feed in the strength of the LORD, in the majesty of the name of the LORD his God; and they shall abide: for now shall he be great unto the ends of the earth. And I said, Hear, I pray you, O heads of Jacob, and ye princes of the house of Israel; Is it not for you to know judgment? Declare ye it not at Gath, weep ye not at all: in the house of Aphrah roll thyself in the dust. Be in pain, and labour to bring forth, O daughter of Zion, like a woman in travail: for now shalt thou go forth out of the city, and thou shalt dwell in the field, and thou shalt go even to Babylon; there shalt thou be delivered; there the LORD shall redeem thee from the hand of thine enemies. O my people, what have I done unto thee? And all the graven images thereof shall be beaten to pieces, and all the hires thereof shall be burned with the fire, and all the idols thereof will I lay desolate: for she gathered it of the hire of an harlot, and they shall return to the hire of an harlot. But they know not the thoughts of the LORD, neither understand they his counsel: for he shall gather them as the sheaves into the floor. Hear ye now what the LORD saith; Arise, contend thou before the mountains, and let the hills hear thy voice. is thy counsellor perished? And the remnant of Jacob shall be in the midst of many people as a dew from the LORD, as the showers upon the grass, that tarrieth not for man, nor waiteth for the sons of men. Therefore thus saith the LORD; Behold, against this family do I devise an evil, from which ye shall not remove your necks; neither shall ye go haughtily: for this time is evil. is there no king in thee? Thus saith the LORD concerning the prophets that make my people err, that bite with their teeth, and cry, Peace; and he that putteth not into their mouths, they even prepare war against him.\n",
      "============================================================\n",
      "Chunk pooling:\n",
      "--------------\n",
      "In that day, saith the LORD, will I assemble her that halteth, and I will gather her that is driven out, and her that I have afflicted;\n",
      "  And I will make her that halted a remnant, and her that was cast far off a strong nation: and the LORD shall reign over them in mount Zion from henceforth, even for ever. For the rich men thereof are full of violence, and the inhabitants thereof have spoken lies, and their tongue is deceitful in their mouth. Are there yet the treasures of wickedness in the house of the wicked, and the scant measure that is abominable? But they know not the thoughts of the LORD, neither understand they his counsel: for he shall gather them as the sheaves into the floor. Hear this, I pray you, ye heads of the house of Jacob, and princes of the house of Israel, that abhor judgment, and pervert all equity. For the inhabitant of Maroth waited carefully for good: but evil came down from the LORD unto the gate of Jerusalem. And the remnant of Jacob shall be in the midst of many people as a dew from the LORD, as the showers upon the grass, that tarrieth not for man, nor waiteth for the sons of men. Feed thy people with thy rod, the flock of thine heritage, which dwell solitarily in the wood, in the midst of Carmel: let them feed in Bashan and Gilead, as in the days of old. And it shall come to pass in that day, saith the LORD, that I will cut off thy horses out of the midst of thee, and I will destroy thy chariots:\n",
      "  And I will cut off the cities of thy land, and throw down all thy strong holds:\n",
      "  And I will cut off witchcrafts out of thine hand; and thou shalt have no more soothsayers:\n",
      "  Thy graven images also will I cut off, and thy standing images out of the midst of thee; and thou shalt no more worship the work of thine hands. and what are the high places of Judah? He hath shewed thee, O man, what is good; and what doth the LORD require of thee, but to do justly, and to love mercy, and to walk humbly with thy God?\n"
     ]
    }
   ],
   "source": [
    "printing(micah)"
   ]
  },
  {
   "cell_type": "code",
   "execution_count": 146,
   "id": "0d2789d2-ba15-46b3-b7f2-295208fb2c0b",
   "metadata": {},
   "outputs": [
    {
     "data": {
      "text/plain": [
       "' The word of the LORD that came to Micah the Morasthite in the days of Jotham, Ahaz, and Hezekiah, kings of Judah, which he saw concerning Samaria and Jerusalem . What is the transgression of Jacob? is it not Samaria? and what are the high places of Judah? are they not Jerusalem? Therefore I will make Samaria as an heap of the field, and as plantings of a vineyard . And I will pour down the stones thereof into the valley, and I will discover the foundations thereof . And all the graven images thereof shall be beaten to pieces, and all the hires thereof shall burn with the fire . Declare ye it not at Gath, weep ye not at all: in the house of Aphrah roll thyself in the dust .  The remnant of Jacob shall be in the midst of many people as a dew from the LORD, as the showers upon the grass, that tarrieth not for man, nor waiteth for the sons of men . And I will make her that halted a remnant, and her that was cast far off a strong nation: and the LORD shall reign over them in mount Zion from henceforth, even for ever . But they shall sit every man under his vine and under his fig tree; and none shall make them afraid: for the mouth of the LORD of hosts hath spoken it . And this man shall be the peace, when the Assyrian shall come into our land: and when he shall tread in our palaces, then shall we raise against him seven shepherds, and eight principal men. And they shall waste the land of Assyria with the sword, and the land  of Nimrod in the entrances thereof .  The nations shall see and be confounded at all their might: they shall lay their hand upon their mouth, their ears shall be deaf . Feed thy people with thy rod, the flock of thine heritage, which dwell solitarily in the wood, in the midst of Carmel . Let them feed in Bashan and Gilead, as in the days of old . '"
      ]
     },
     "execution_count": 146,
     "metadata": {},
     "output_type": "execute_result"
    }
   ],
   "source": [
    "summarization_pipeline_consolidation(micah)"
   ]
  },
  {
   "cell_type": "markdown",
   "id": "0f206b79-3833-48e2-bc1e-20e8ac1c95b3",
   "metadata": {},
   "source": [
    "## Nahum"
   ]
  },
  {
   "cell_type": "code",
   "execution_count": 83,
   "id": "b13f8847-ce04-4d5a-b375-0b71031d38b7",
   "metadata": {},
   "outputs": [],
   "source": [
    "nahum = get_book_text('Nahum', bible)"
   ]
  },
  {
   "cell_type": "code",
   "execution_count": 84,
   "id": "1e10b2a0-222f-496c-b4ba-f46b757919fc",
   "metadata": {},
   "outputs": [
    {
     "name": "stdout",
     "output_type": "stream",
     "text": [
      "****************************\n",
      "*** TF-IDF Consolidation ***\n",
      "****************************\n",
      "Max pooling:\n",
      "------------\n",
      "Behold, I am against thee, saith the LORD of hosts, and I will burn her chariots in the smoke, and the sword shall devour thy young lions: and I will cut off thy prey from the earth, and the voice of thy messengers shall no more be heard. Thou also shalt be drunken: thou shalt be hid, thou also shalt seek strength because of the enemy. He rebuketh the sea, and maketh it dry, and drieth up all the rivers: Bashan languisheth, and Carmel, and the flower of Lebanon languisheth. Take ye the spoil of silver, take the spoil of gold: for there is none end of the store and glory out of all the pleasant furniture. Who can stand before his indignation? his fury is poured out like fire, and the rocks are thrown down by him. She is empty, and void, and waste: and the heart melteth, and the knees smite together, and much pain is in all loins, and the faces of them all gather blackness. The burden of Nineveh. The book of the vision of Nahum the Elkoshite. and who can abide in the fierceness of his anger? Woe to the bloody city! For the LORD hath turned away the excellency of Jacob, as the excellency of Israel: for the emptiers have emptied them out, and marred their vine branches. The horseman lifteth up both the bright sword and the glittering spear: and there is a multitude of slain, and a great number of carcases; and there is none end of their corpses; they stumble upon their corpses:\n",
      "  Because of the multitude of the whoredoms of the wellfavoured harlot, the mistress of witchcrafts, that selleth nations through her whoredoms, and families through her witchcrafts. The LORD is good, a strong hold in the day of trouble; and he knoweth them that trust in him. Yet was she carried away, she went into captivity: her young children also were dashed in pieces at the top of all the streets: and they cast lots for her honourable men, and all her great men were bound in chains.\n",
      "============================================================\n",
      "Sum pooling:\n",
      "------------\n",
      "Behold, I am against thee, saith the LORD of hosts, and I will burn her chariots in the smoke, and the sword shall devour thy young lions: and I will cut off thy prey from the earth, and the voice of thy messengers shall no more be heard. And it shall come to pass, that all they that look upon thee shall flee from thee, and say, Nineveh is laid waste: who will bemoan her? All thy strong holds shall be like fig trees with the firstripe figs: if they be shaken, they shall even fall into the mouth of the eater. There shall the fire devour thee; the sword shall cut thee off, it shall eat thee up like the cankerworm: make thyself many as the cankerworm, make thyself many as the locusts. The LORD is slow to anger, and great in power, and will not at all acquit the wicked: the LORD hath his way in the whirlwind and in the storm, and the clouds are the dust of his feet. He that dasheth in pieces is come up before thy face: keep the munition, watch the way, make thy loins strong, fortify thy power mightily. The gates of the rivers shall be opened, and the palace shall be dissolved. There is no healing of thy bruise; thy wound is grievous: all that hear the bruit of thee shall clap the hands over thee: for upon whom hath not thy wickedness passed continually? Thou also shalt be drunken: thou shalt be hid, thou also shalt seek strength because of the enemy. O Judah, keep thy solemn feasts, perform thy vows: for the wicked shall no more pass through thee; he is utterly cut off. Who can stand before his indignation? And the LORD hath given a commandment concerning thee, that no more of thy name be sown: out of the house of thy gods will I cut off the graven image and the molten image: I will make thy grave; for thou art vile. And Huzzab shall be led away captive, she shall be brought up, and her maids shall lead her as with the voice of doves, tabering upon their breasts.\n",
      "\n",
      "**********************************\n",
      "*** Transformers Consolidation ***\n",
      "**********************************\n",
      "Sentence pooling:\n",
      "-----------------\n",
      "Behold, I am against thee, saith the LORD of hosts, and I will burn her chariots in the smoke, and the sword shall devour thy young lions: and I will cut off thy prey from the earth, and the voice of thy messengers shall no more be heard. He rebuketh the sea, and maketh it dry, and drieth up all the rivers: Bashan languisheth, and Carmel, and the flower of Lebanon languisheth. She is empty, and void, and waste: and the heart melteth, and the knees smite together, and much pain is in all loins, and the faces of them all gather blackness. He shall recount his worthies: they shall stumble in their walk; they shall make haste to the wall thereof, and the defence shall be prepared. The horseman lifteth up both the bright sword and the glittering spear: and there is a multitude of slain, and a great number of carcases; and there is none end of their corpses; they stumble upon their corpses:\n",
      "  Because of the multitude of the whoredoms of the wellfavoured harlot, the mistress of witchcrafts, that selleth nations through her whoredoms, and families through her witchcrafts. But Nineveh is of old like a pool of water: yet they shall flee away. Thou hast multiplied thy merchants above the stars of heaven: the cankerworm spoileth, and flieth away. But with an overrunning flood he will make an utter end of the place thereof, and darkness shall pursue his enemies. He that dasheth in pieces is come up before thy face: keep the munition, watch the way, make thy loins strong, fortify thy power mightily. The LORD is slow to anger, and great in power, and will not at all acquit the wicked: the LORD hath his way in the whirlwind and in the storm, and the clouds are the dust of his feet. whence shall I seek comforters for thee? And Huzzab shall be led away captive, she shall be brought up, and her maids shall lead her as with the voice of doves, tabering upon their breasts.\n",
      "============================================================\n",
      "Chunk pooling:\n",
      "--------------\n",
      "Behold, I am against thee, saith the LORD of hosts, and I will burn her chariots in the smoke, and the sword shall devour thy young lions: and I will cut off thy prey from the earth, and the voice of thy messengers shall no more be heard. He rebuketh the sea, and maketh it dry, and drieth up all the rivers: Bashan languisheth, and Carmel, and the flower of Lebanon languisheth. The burden of Nineveh. Yet was she carried away, she went into captivity: her young children also were dashed in pieces at the top of all the streets: and they cast lots for her honourable men, and all her great men were bound in chains. The LORD is slow to anger, and great in power, and will not at all acquit the wicked: the LORD hath his way in the whirlwind and in the storm, and the clouds are the dust of his feet. For the LORD hath turned away the excellency of Jacob, as the excellency of Israel: for the emptiers have emptied them out, and marred their vine branches. The horseman lifteth up both the bright sword and the glittering spear: and there is a multitude of slain, and a great number of carcases; and there is none end of their corpses; they stumble upon their corpses:\n",
      "  Because of the multitude of the whoredoms of the wellfavoured harlot, the mistress of witchcrafts, that selleth nations through her whoredoms, and families through her witchcrafts. Draw thee waters for the siege, fortify thy strong holds: go into clay, and tread the morter, make strong the brickkiln. The book of the vision of Nahum the Elkoshite. O Judah, keep thy solemn feasts, perform thy vows: for the wicked shall no more pass through thee; he is utterly cut off. Thy shepherds slumber, O king of Assyria: thy nobles shall dwell in the dust: thy people is scattered upon the mountains, and no man gathereth them. Art thou better than populous No, that was situate among the rivers, that had the waters round about it, whose rampart was the sea, and her wall was from the sea?\n"
     ]
    }
   ],
   "source": [
    "printing(nahum)"
   ]
  },
  {
   "cell_type": "code",
   "execution_count": 149,
   "id": "9e0a5131-798c-425f-8385-5044f2b8fc75",
   "metadata": {},
   "outputs": [
    {
     "data": {
      "text/plain": [
       "' The LORD is slow to anger, and great in power, and will not acquit the wicked . He rebuketh the sea, and maketh it dry, and drieth up all the rivers: Bashan languisheth, and Carmel, and the flower of Lebanon languishesheth . But with an overrunning flood he will make an utter end of the place thereof, and darkness shall pursue his enemies . For while they be folden together as thorns, and while they are drunken as drunkards, they shall be devoured as stubble fully dry. There is one come out of thee, that imagineth evil against the LORD, a wicked counsellor. Though I have afflicted thee, I will afflict thee no more. For now will I break his yoke from off thee,  Nineveh is empty, void, and waste: and the heart melteth, and the knees smite together, and much pain is in all loins . Huzzab shall be led away captive, she shall be brought up, and her maids shall lead her as with the voice of doves, tabering upon their breasts . The chariots shall rage in the streets, they shall justle one against another in the broad ways: they shall seem like torches, they run like the lightnings . Woe to the bloody city! it is all full of lies and robbery; the prey departeth not; but none shall look back. Take ye the spoilt of silver, take the spoil of gold: for there is none end of the store and glory out of all the pleasant furniture  The well-favoured harlot, the mistress of witchcrafts, selleth nations through her whoredoms . Behold, I am against thee, saith the LORD of hosts . I will discover thy skirts upon thy face, and I will shew the nations thy nakedness, and the kingdoms thy shame . And I will cast abominable filth upon thee, and make thee vile, and will set thee as a gazingstock. Draw thee waters for the siege, fortify thy strong holds: go into clay, and tread the morter, make strong the brickkiln. There shall the fire devour thee; the sword shall cut thee off, it shall eat thee up like the cankerworm . All thy strong hold shall be like fig trees with the firstripe figs  There is no healing of thy bruise, O king of Assyria: thy people is scattered upon the mountains, and no man gathereth them . All that hear the bruit of thee shall clap the hands over thee: for upon whom hath not thy wickedness passed continually? '"
      ]
     },
     "execution_count": 149,
     "metadata": {},
     "output_type": "execute_result"
    }
   ],
   "source": [
    "summarization_pipeline_consolidation(nahum)"
   ]
  },
  {
   "cell_type": "markdown",
   "id": "8ad9422a-3c2b-4eaf-bed4-eab7f0eaf97d",
   "metadata": {},
   "source": [
    "## Habakkuk"
   ]
  },
  {
   "cell_type": "code",
   "execution_count": 85,
   "id": "32e28f23-be7e-4bf9-b5e3-d908dff7d36c",
   "metadata": {},
   "outputs": [],
   "source": [
    "habakkuk = get_book_text('Habakkuk', bible)"
   ]
  },
  {
   "cell_type": "code",
   "execution_count": 86,
   "id": "4579ebab-a7c2-420f-b469-1373a63d2d44",
   "metadata": {},
   "outputs": [
    {
     "name": "stdout",
     "output_type": "stream",
     "text": [
      "****************************\n",
      "*** TF-IDF Consolidation ***\n",
      "****************************\n",
      "Max pooling:\n",
      "------------\n",
      "Thou art filled with shame for glory: drink thou also, and let thy foreskin be uncovered: the cup of the LORD'S right hand shall be turned unto thee, and shameful spewing shall be on thy glory. He stood, and measured the earth: he beheld, and drove asunder the nations; and the everlasting mountains were scattered, the perpetual hills did bow: his ways are everlasting. What profiteth the graven image that the maker thereof hath graven it; the molten image, and a teacher of lies, that the maker of his work trusteth therein, to make dumb idols? Before him went the pestilence, and burning coals went forth at his feet. God came from Teman, and the Holy One from mount Paran. Woe to him that coveteth an evil covetousness to his house, that he may set his nest on high, that he may be delivered from the power of evil! for spoiling and violence are before me: and there are that raise up strife and contention. They take up all of them with the angle, they catch them in their net, and gather them in their drag: therefore they rejoice and are glad. A prayer of Habakkuk the prophet upon Shigionoth. Behold, it is laid over with gold and silver, and there is no breath at all in the midst of it. was thine anger against the rivers? And makest men as the fishes of the sea, as the creeping things, that have no ruler over them? how long? and to him that ladeth himself with thick clay! Selah. To the chief singer on my stringed instruments. When I heard, my belly trembled; my lips quivered at the voice: rottenness entered into my bones, and I trembled in myself, that I might rest in the day of trouble: when he cometh up unto the people, he will invade them with his troops. For the vision is yet for an appointed time, but at the end it shall speak, and not lie: though it tarry, wait for it; because it will surely come, it will not tarry. They are terrible and dreadful: their judgment and their dignity shall proceed of themselves.\n",
      "============================================================\n",
      "Sum pooling:\n",
      "------------\n",
      "Thou art filled with shame for glory: drink thou also, and let thy foreskin be uncovered: the cup of the LORD'S right hand shall be turned unto thee, and shameful spewing shall be on thy glory. Because thou hast spoiled many nations, all the remnant of the people shall spoil thee; because of men's blood, and for the violence of the land, of the city, and of all that dwell therein. Selah. Although the fig tree shall not blossom, neither shall fruit be in the vines; the labour of the olive shall fail, and the fields shall yield no meat; the flock shall be cut off from the fold, and there shall be no herd in the stalls:\n",
      "  Yet I will rejoice in the LORD, I will joy in the God of my salvation. Thou didst cleave the earth with rivers. O LORD, how long shall I cry, and thou wilt not hear! Thou wentest forth for the salvation of thy people, even for salvation with thine anointed; thou woundedst the head out of the house of the wicked, by discovering the foundation unto the neck. Shall they not rise up suddenly that shall bite thee, and awake that shall vex thee, and thou shalt be for booties unto them? The burden which Habakkuk the prophet did see. The LORD God is my strength, and he will make my feet like hinds' feet, and he will make me to walk upon mine high places. Behold, it is laid over with gold and silver, and there is no breath at all in the midst of it. Yea also, because he transgresseth by wine, he is a proud man, neither keepeth at home, who enlargeth his desire as hell, and is as death, and cannot be satisfied, but gathereth unto him all nations, and heapeth unto him all people:\n",
      "  Shall not all these take up a parable against him, and a taunting proverb against him, and say, Woe to him that increaseth that which is not his! Art thou not from everlasting, O LORD my God, mine Holy One? Behold, his soul which is lifted up is not upright in him: but the just shall live by his faith.\n",
      "\n",
      "**********************************\n",
      "*** Transformers Consolidation ***\n",
      "**********************************\n",
      "Sentence pooling:\n",
      "-----------------\n",
      "Woe unto him that saith to the wood, Awake; to the dumb stone, Arise, it shall teach! Because thou hast spoiled many nations, all the remnant of the people shall spoil thee; because of men's blood, and for the violence of the land, of the city, and of all that dwell therein. Thou didst walk through the sea with thine horses, through the heap of great waters. And they shall scoff at the kings, and the princes shall be a scorn unto them: they shall deride every strong hold; for they shall heap dust, and take it. Thou art filled with shame for glory: drink thou also, and let thy foreskin be uncovered: the cup of the LORD'S right hand shall be turned unto thee, and shameful spewing shall be on thy glory. Thou art of purer eyes than to behold evil, and canst not look on iniquity: wherefore lookest thou upon them that deal treacherously, and holdest thy tongue when the wicked devoureth the man that is more righteous than he? O LORD, I have heard thy speech, and was afraid: O LORD, revive thy work in the midst of the years, in the midst of the years make known; in wrath remember mercy. Selah. The LORD God is my strength, and he will make my feet like hinds' feet, and he will make me to walk upon mine high places. we shall not die. His glory covered the heavens, and the earth was full of his praise. The burden which Habakkuk the prophet did see. But the LORD is in his holy temple: let all the earth keep silence before him. I saw the tents of Cushan in affliction: and the curtains of the land of Midian did tremble. Although the fig tree shall not blossom, neither shall fruit be in the vines; the labour of the olive shall fail, and the fields shall yield no meat; the flock shall be cut off from the fold, and there shall be no herd in the stalls:\n",
      "  Yet I will rejoice in the LORD, I will joy in the God of my salvation. Then shall his mind change, and he shall pass over, and offend, imputing this his power unto his god.\n",
      "============================================================\n",
      "Chunk pooling:\n",
      "--------------\n",
      "was thy wrath against the sea, that thou didst ride upon thine horses and thy chariots of salvation? Behold, is it not of the LORD of hosts that the people shall labour in the very fire, and the people shall weary themselves for very vanity? Because thou hast spoiled many nations, all the remnant of the people shall spoil thee; because of men's blood, and for the violence of the land, of the city, and of all that dwell therein. A prayer of Habakkuk the prophet upon Shigionoth. Woe unto him that saith to the wood, Awake; to the dumb stone, Arise, it shall teach! Thou art of purer eyes than to behold evil, and canst not look on iniquity: wherefore lookest thou upon them that deal treacherously, and holdest thy tongue when the wicked devoureth the man that is more righteous than he? Thou didst strike through with his staves the head of his villages: they came out as a whirlwind to scatter me: their rejoicing was as to devour the poor secretly. They shall come all for violence: their faces shall sup up as the east wind, and they shall gather the captivity as the sand. For, lo, I raise up the Chaldeans, that bitter and hasty nation, which shall march through the breadth of the land, to possess the dwellingplaces that are not theirs. Thy bow was made quite naked, according to the oaths of the tribes, even thy word. He stood, and measured the earth: he beheld, and drove asunder the nations; and the everlasting mountains were scattered, the perpetual hills did bow: his ways are everlasting. When I heard, my belly trembled; my lips quivered at the voice: rottenness entered into my bones, and I trembled in myself, that I might rest in the day of trouble: when he cometh up unto the people, he will invade them with his troops. O LORD, I have heard thy speech, and was afraid: O LORD, revive thy work in the midst of the years, in the midst of the years make known; in wrath remember mercy.\n"
     ]
    }
   ],
   "source": [
    "printing(habakkuk)"
   ]
  },
  {
   "cell_type": "code",
   "execution_count": 152,
   "id": "9820e0fd-ba42-4ef1-8e6e-2debc5ec2394",
   "metadata": {},
   "outputs": [
    {
     "data": {
      "text/plain": [
       "\" The burden which Habakkuk the prophet did see. The burden of the prophet . The burden he did see . Behold ye among the heathen, and regard, and wonder marvellously: for I will work a work in your days, which ye will not believe, though it be told you . For, lo, I raise up the Chaldeans, that bitter and hasty nation, which shall march through the breadth of the land, to possess the dwellingplaces that are not theirs. They are terrible and dreadful: their judgment and their dignity shall proceed of themselves. Their horses also are swifter than the leopards, and are more fierce than the evening wolves . Then shall his mind change, and he shall pass over, and offend, imputing this his power unto his god  I will stand upon my watch, and set me upon the tower, and will watch to see what he will say unto me . And the LORD answered me, and said, Write the vision, and make it plain upon tables . For the vision is yet for an appointed time, but at the end it shall speak, and not lie: though it tarry, wait for it; because it will surely come, it will not tarry. Behold, his soul which is lifted up is not upright in him: but the just shall live by his faith . Because he transgresseth by wine, he is a proud man, neither keepeth at home, who enlargeth his desire as hell, and is as death, and cannot be satisfied, but gathereth unto him all nations, and heapeth unto him   A prayer of Habakkuk the prophet upon Shigionoth. O LORD, I have heard thy speech, and was afraid: O LORD revive thy work in the midst of the years . For the violence of Lebanon shall cover thee, and the spoil of beasts, which made them afraid, because of men's blood . Behold, it is laid over with gold and silver, and there is no breath at all in the middle of it. But the LORD is in his holy temple: let all the earth keep silence before him. The sun and moon stood still in their habitation: at the light of thine arrows they went, and at the shining of thy glittering spear. Selah. Was the LORD displeased against the rivers? Was thy wrath against the sea, that thou didst ride on  When I heard, my belly trembled; my lips quivered at the voice: rottenness entered into my bones, and I trembled in myself, that I might rest in the day of trouble . Yet I will rejoice in the LORD, I will joy in the God of my salvation. The LORD God is my strength, and he will make my feet like hinds' feet,  he says . Although the fig tree shall not blossom, neither shall fruit be in the vines; the labour of the olive shall fail, and the fields shall yield no meat . \""
      ]
     },
     "execution_count": 152,
     "metadata": {},
     "output_type": "execute_result"
    }
   ],
   "source": [
    "summarization_pipeline_consolidation(habakkuk)"
   ]
  },
  {
   "cell_type": "markdown",
   "id": "fb924b02-5850-4bd9-89b1-6e6571fba8c3",
   "metadata": {},
   "source": [
    "## Zephaniah"
   ]
  },
  {
   "cell_type": "code",
   "execution_count": 87,
   "id": "bf46e6ca-67e4-4dcc-9d1a-82a59473bb2b",
   "metadata": {},
   "outputs": [],
   "source": [
    "zephaniah = get_book_text('Zephaniah', bible)"
   ]
  },
  {
   "cell_type": "code",
   "execution_count": 88,
   "id": "64f163fe-a87a-47d8-9ccf-9a36f01e3892",
   "metadata": {},
   "outputs": [
    {
     "name": "stdout",
     "output_type": "stream",
     "text": [
      "****************************\n",
      "*** TF-IDF Consolidation ***\n",
      "****************************\n",
      "Max pooling:\n",
      "------------\n",
      "Therefore wait ye upon me, saith the LORD, until the day that I rise up to the prey: for my determination is to gather the nations, that I may assemble the kingdoms, to pour upon them mine indignation, even all my fierce anger: for all the earth shall be devoured with the fire of my jealousy. The LORD hath taken away thy judgments, he hath cast out thine enemy: the king of Israel, even the LORD, is in the midst of thee: thou shalt not see evil any more. I have heard the reproach of Moab, and the revilings of the children of Ammon, whereby they have reproached my people, and magnified themselves against their border. And he will stretch out his hand against the north, and destroy Assyria; and will make Nineveh a desolation, and dry like a wilderness. Her prophets are light and treacherous persons: her priests have polluted the sanctuary, they have done violence to the law. From beyond the rivers of Ethiopia my suppliants, even the daughter of my dispersed, shall bring mine offering. Woe unto the inhabitants of the sea coast, the nation of the Cherethites! Her princes within her are roaring lions; her judges are evening wolves; they gnaw not the bones till the morrow. Behold, at that time I will undo all that afflict thee: and I will save her that halteth, and gather her that was driven out; and I will get them praise and fame in every land where they have been put to shame. She obeyed not the voice; she received not correction; she trusted not in the LORD; she drew not near to her God. I have cut off the nations: their towers are desolate; I made their streets waste, that none passeth by: their cities are destroyed, so that there is no man, that there is none inhabitant. The word of the LORD which came unto Zephaniah the son of Cushi, the son of Gedaliah, the son of Amariah, the son of Hizkiah, in the days of Josiah the son of Amon, king of Judah.\n",
      "============================================================\n",
      "Sum pooling:\n",
      "------------\n",
      "And the coast shall be for the remnant of the house of Judah; they shall feed thereupon: in the houses of Ashkelon shall they lie down in the evening: for the LORD their God shall visit them, and turn away their captivity. Gather yourselves together, yea, gather together, O nation not desired;\n",
      "  Before the decree bring forth, before the day pass as the chaff, before the fierce anger of the LORD come upon you, before the day of the LORD'S anger come upon you. The LORD hath taken away thy judgments, he hath cast out thine enemy: the king of Israel, even the LORD, is in the midst of thee: thou shalt not see evil any more. I will consume man and beast; I will consume the fowls of the heaven, and the fishes of the sea, and the stumblingblocks with the wicked; and I will cut off man from off the land, saith the LORD. the word of the LORD is against you; O Canaan, the land of the Philistines, I will even destroy thee, that there shall be no inhabitant. This shall they have for their pride, because they have reproached and magnified themselves against the people of the LORD of hosts. The great day of the LORD is near, it is near, and hasteth greatly, even the voice of the day of the LORD: the mighty man shall cry there bitterly. The LORD will be terrible unto them: for he will famish all the gods of the earth; and men shall worship him, every one from his place, even all the isles of the heathen. Neither their silver nor their gold shall be able to deliver them in the day of the LORD'S wrath; but the whole land shall be devoured by the fire of his jealousy: for he shall make even a speedy riddance of all them that dwell in the land. I will also leave in the midst of thee an afflicted and poor people, and they shall trust in the name of the LORD. At that time will I bring you again, even in the time that I gather you: for I will make you a name and a praise among all people of the earth, when I turn back your captivity before your eyes, saith the LORD.\n",
      "\n",
      "**********************************\n",
      "*** Transformers Consolidation ***\n",
      "**********************************\n",
      "Sentence pooling:\n",
      "-----------------\n",
      "Behold, at that time I will undo all that afflict thee: and I will save her that halteth, and gather her that was driven out; and I will get them praise and fame in every land where they have been put to shame. And the coast shall be for the remnant of the house of Judah; they shall feed thereupon: in the houses of Ashkelon shall they lie down in the evening: for the LORD their God shall visit them, and turn away their captivity. In that day it shall be said to Jerusalem, Fear thou not: and to Zion, Let not thine hands be slack. And it shall come to pass in the day of the LORD'S sacrifice, that I will punish the princes, and the king's children, and all such as are clothed with strange apparel. Therefore wait ye upon me, saith the LORD, until the day that I rise up to the prey: for my determination is to gather the nations, that I may assemble the kingdoms, to pour upon them mine indignation, even all my fierce anger: for all the earth shall be devoured with the fire of my jealousy. This shall they have for their pride, because they have reproached and magnified themselves against the people of the LORD of hosts. Therefore as I live, saith the LORD of hosts, the God of Israel, Surely Moab shall be as Sodom, and the children of Ammon as Gomorrah, even the breeding of nettles, and saltpits, and a perpetual desolation: the residue of my people shall spoil them, and the remnant of my people shall possess them. the word of the LORD is against you; O Canaan, the land of the Philistines, I will even destroy thee, that there shall be no inhabitant. The LORD will be terrible unto them: for he will famish all the gods of the earth; and men shall worship him, every one from his place, even all the isles of the heathen. And it shall come to pass in that day, saith the LORD, that there shall be the noise of a cry from the fish gate, and an howling from the second, and a great crashing from the hills.\n",
      "============================================================\n",
      "Chunk pooling:\n",
      "--------------\n",
      "Therefore as I live, saith the LORD of hosts, the God of Israel, Surely Moab shall be as Sodom, and the children of Ammon as Gomorrah, even the breeding of nettles, and saltpits, and a perpetual desolation: the residue of my people shall spoil them, and the remnant of my people shall possess them. In that day shalt thou not be ashamed for all thy doings, wherein thou hast transgressed against me: for then I will take away out of the midst of thee them that rejoice in thy pride, and thou shalt no more be haughty because of my holy mountain. And the coast shall be for the remnant of the house of Judah; they shall feed thereupon: in the houses of Ashkelon shall they lie down in the evening: for the LORD their God shall visit them, and turn away their captivity. the word of the LORD is against you; O Canaan, the land of the Philistines, I will even destroy thee, that there shall be no inhabitant. In that day it shall be said to Jerusalem, Fear thou not: and to Zion, Let not thine hands be slack. Her prophets are light and treacherous persons: her priests have polluted the sanctuary, they have done violence to the law. Neither their silver nor their gold shall be able to deliver them in the day of the LORD'S wrath; but the whole land shall be devoured by the fire of his jealousy: for he shall make even a speedy riddance of all them that dwell in the land. The LORD hath taken away thy judgments, he hath cast out thine enemy: the king of Israel, even the LORD, is in the midst of thee: thou shalt not see evil any more. The word of the LORD which came unto Zephaniah the son of Cushi, the son of Gedaliah, the son of Amariah, the son of Hizkiah, in the days of Josiah the son of Amon, king of Judah.\n"
     ]
    }
   ],
   "source": [
    "printing(zephaniah)"
   ]
  },
  {
   "cell_type": "code",
   "execution_count": 155,
   "id": "35e09063-ada9-4372-a92f-8736a1b52f84",
   "metadata": {},
   "outputs": [
    {
     "data": {
      "text/plain": [
       "' I will utterly consume all things from off the land, saith the LORD . I will also stretch out mine hand upon Judah, and upon all the inhabitants of Jerusalem . And it shall come to pass at that time, that I will search Jerusalem with candles, and punish the men that are settled on their lees: that say in their heart, The LORD will not do good, neither will he do evil. Therefore their goods shall become a booty, and their houses will become a desolation: they shall also build houses, but not inhabit them; and they shall plant vineyards, \\xa0not drink the wine thereof. That day is a day of wrath, a day ... A day of wasteness and desolation, a great crashing from the hills. Howl, ye inhabitants of Maktesh, for all the merchant people are cut down; all they that bear silver  O Canaan, the land of the Philistines, I will even destroy thee, that there shall be no inhabitant . Gaza shall be forsaken, and Ashkelon a desolation: they shall drive out Ashdod at the noon day, and Ekron shall be rooted up . Woe unto the inhabitants of the sea coast, the nation of the Cherethites! the word of the LORD is against you . The remnant of my people shall possess them, and the remnant of the house of Judah; they shall feed thereupon . Moab shall be as Sodom, and children of Ammon as Gomorrah, even the breeding of nettles, and saltpits, and a perpetual desolation . Ye Ethiopians also, ye shall be slain by my sword. This shall they  This is the rejoicing city that dwells carelessly, that said in her heart, I am, and there is none beside me . And flocks shall lie down in the midst of her, all the beasts of the nations: both the cormorant and the bittern shall lodge in the upper lintels of it; their voice shall sing in the windows; desolation shall be in the thresholds . And he will stretch out his hand against the north, and destroy Assyria; and will make Nineveh a desolation, and dry like a wilderness . Woe to her that is filthy and polluted, to the oppressing city! She obeyed not the voice; she received not correction; she trusted not in the LORD; she drew not near to her God. Her princes within her are roaring lions; her judges are evening wolves; they gnaw not the bones  The remnant of Israel shall not do iniquity, nor speak lies; neither shall a deceitful tongue be found in their mouth . In that day it shall be said to Jerusalem, Fear thou not: and to Zion, Let not thine hands be slack . At that time will I bring you again, even in the time that I gather you: for I will make you a name and a praise among all people of the earth, when I turn back your captivity before your eyes, saith the LORD . '"
      ]
     },
     "execution_count": 155,
     "metadata": {},
     "output_type": "execute_result"
    }
   ],
   "source": [
    "summarization_pipeline_consolidation(zephaniah)"
   ]
  },
  {
   "cell_type": "markdown",
   "id": "46ba850d-10a8-4776-b773-bd9f013a52c0",
   "metadata": {},
   "source": [
    "## Haggai"
   ]
  },
  {
   "cell_type": "code",
   "execution_count": 89,
   "id": "82d1bb10-a21f-400f-81d7-c914dfac3e58",
   "metadata": {},
   "outputs": [],
   "source": [
    "haggai = get_book_text('Haggai', bible)"
   ]
  },
  {
   "cell_type": "code",
   "execution_count": 90,
   "id": "5b50a675-4cbb-4b2b-8093-5bf0d431df77",
   "metadata": {},
   "outputs": [
    {
     "name": "stdout",
     "output_type": "stream",
     "text": [
      "****************************\n",
      "*** TF-IDF Consolidation ***\n",
      "****************************\n",
      "Max pooling:\n",
      "------------\n",
      "Yet now be strong, O Zerubbabel, saith the LORD; and be strong, O Joshua, son of Josedech, the high priest; and be strong, all ye people of the land, saith the LORD, and work: for I am with you, saith the LORD of hosts:\n",
      "  According to the word that I covenanted with you when ye came out of Egypt, so my spirit remaineth among you: fear ye not. And the priests answered and said, It shall be unclean. yea, as yet the vine, and the fig tree, and the pomegranate, and the olive tree, hath not brought forth: from this day will I bless you. And again the word of the LORD came unto Haggai in the four and twentieth day of the month, saying,\n",
      "  Speak to Zerubbabel, governor of Judah, saying, I will shake the heavens and the earth;\n",
      "  And I will overthrow the throne of kingdoms, and I will destroy the strength of the kingdoms of the heathen; and I will overthrow the chariots, and those that ride in them; and the horses and their riders shall come down, every one by the sword of his brother. is it not in your eyes in comparison of it as nothing? Is the seed yet in the barn? And now, I pray you, consider from this day and upward, from before a stone was laid upon a stone in the temple of the LORD:\n",
      "  Since those days were, when one came to an heap of twenty measures, there were but ten: when one came to the pressfat for to draw out fifty vessels out of the press, there were but twenty. Therefore the heaven over you is stayed from dew, and the earth is stayed from her fruit. Go up to the mountain, and bring wood, and build the house; and I will take pleasure in it, and I will be glorified, saith the LORD. And I called for a drought upon the land, and upon the mountains, and upon the corn, and upon the new wine, and upon the oil, and upon that which the ground bringeth forth, and upon men, and upon cattle, and upon all the labour of the hands.\n",
      "============================================================\n",
      "Sum pooling:\n",
      "------------\n",
      "saith the LORD of hosts. In the seventh month, in the one and twentieth day of the month, came the word of the LORD by the prophet Haggai, saying,\n",
      "  Speak now to Zerubbabel the son of Shealtiel, governor of Judah, and to Joshua the son of Josedech, the high priest, and to the residue of the people, saying,\n",
      "  Who is left among you that saw this house in her first glory? and how do ye see it now? And the priests answered and said, It shall be unclean. And now, I pray you, consider from this day and upward, from before a stone was laid upon a stone in the temple of the LORD:\n",
      "  Since those days were, when one came to an heap of twenty measures, there were but ten: when one came to the pressfat for to draw out fifty vessels out of the press, there were but twenty. Yet now be strong, O Zerubbabel, saith the LORD; and be strong, O Joshua, son of Josedech, the high priest; and be strong, all ye people of the land, saith the LORD, and work: for I am with you, saith the LORD of hosts:\n",
      "  According to the word that I covenanted with you when ye came out of Egypt, so my spirit remaineth among you: fear ye not. In the four and twentieth day of the ninth month, in the second year of Darius, came the word of the LORD by Haggai the prophet, saying,\n",
      "  Thus saith the LORD of hosts; Ask now the priests concerning the law, saying,\n",
      "  If one bear holy flesh in the skirt of his garment, and with his skirt do touch bread, or pottage, or wine, or oil, or any meat, shall it be holy? Then came the word of the LORD by Haggai the prophet, saying,\n",
      "  Is it time for you, O ye, to dwell in your cieled houses, and this house lie waste? yea, as yet the vine, and the fig tree, and the pomegranate, and the olive tree, hath not brought forth: from this day will I bless you. Therefore the heaven over you is stayed from dew, and the earth is stayed from her fruit.\n",
      "\n",
      "**********************************\n",
      "*** Transformers Consolidation ***\n",
      "**********************************\n",
      "Sentence pooling:\n",
      "-----------------\n",
      "Now therefore thus saith the LORD of hosts; Consider your ways. In the seventh month, in the one and twentieth day of the month, came the word of the LORD by the prophet Haggai, saying,\n",
      "  Speak now to Zerubbabel the son of Shealtiel, governor of Judah, and to Joshua the son of Josedech, the high priest, and to the residue of the people, saying,\n",
      "  Who is left among you that saw this house in her first glory? And I called for a drought upon the land, and upon the mountains, and upon the corn, and upon the new wine, and upon the oil, and upon that which the ground bringeth forth, and upon men, and upon cattle, and upon all the labour of the hands. Then answered Haggai, and said, So is this people, and so is this nation before me, saith the LORD; and so is every work of their hands; and that which they offer there is unclean. Ye have sown much, and bring in little; ye eat, but ye have not enough; ye drink, but ye are not filled with drink; ye clothe you, but there is none warm; and he that earneth wages earneth wages to put it into a bag with holes. And the priests answered and said, No. In the four and twentieth day of the ninth month, in the second year of Darius, came the word of the LORD by Haggai the prophet, saying,\n",
      "  Thus saith the LORD of hosts; Ask now the priests concerning the law, saying,\n",
      "  If one bear holy flesh in the skirt of his garment, and with his skirt do touch bread, or pottage, or wine, or oil, or any meat, shall it be holy? Yet now be strong, O Zerubbabel, saith the LORD; and be strong, O Joshua, son of Josedech, the high priest; and be strong, all ye people of the land, saith the LORD, and work: for I am with you, saith the LORD of hosts:\n",
      "  According to the word that I covenanted with you when ye came out of Egypt, so my spirit remaineth among you: fear ye not. I smote you with blasting and with mildew and with hail in all the labours of your hands; yet ye turned not to me, saith the LORD.\n",
      "============================================================\n",
      "Chunk pooling:\n",
      "--------------\n",
      "In the second year of Darius the king, in the sixth month, in the first day of the month, came the word of the LORD by Haggai the prophet unto Zerubbabel the son of Shealtiel, governor of Judah, and to Joshua the son of Josedech, the high priest, saying,\n",
      "  Thus speaketh the LORD of hosts, saying, This people say, The time is not come, the time that the LORD'S house should be built. For thus saith the LORD of hosts; Yet once, it is a little while, and I will shake the heavens, and the earth, and the sea, and the dry land;\n",
      "  And I will shake all nations, and the desire of all nations shall come: and I will fill this house with glory, saith the LORD of hosts. Then said Haggai, If one that is unclean by a dead body touch any of these, shall it be unclean? In the four and twentieth day of the ninth month, in the second year of Darius, came the word of the LORD by Haggai the prophet, saying,\n",
      "  Thus saith the LORD of hosts; Ask now the priests concerning the law, saying,\n",
      "  If one bear holy flesh in the skirt of his garment, and with his skirt do touch bread, or pottage, or wine, or oil, or any meat, shall it be holy? And again the word of the LORD came unto Haggai in the four and twentieth day of the month, saying,\n",
      "  Speak to Zerubbabel, governor of Judah, saying, I will shake the heavens and the earth;\n",
      "  And I will overthrow the throne of kingdoms, and I will destroy the strength of the kingdoms of the heathen; and I will overthrow the chariots, and those that ride in them; and the horses and their riders shall come down, every one by the sword of his brother. Yet now be strong, O Zerubbabel, saith the LORD; and be strong, O Joshua, son of Josedech, the high priest; and be strong, all ye people of the land, saith the LORD, and work: for I am with you, saith the LORD of hosts:\n",
      "  According to the word that I covenanted with you when ye came out of Egypt, so my spirit remaineth among you: fear ye not. Is the seed yet in the barn?\n"
     ]
    }
   ],
   "source": [
    "printing(haggai)"
   ]
  },
  {
   "cell_type": "code",
   "execution_count": 158,
   "id": "287835d1-6764-497b-95f6-5b8f0695bd83",
   "metadata": {},
   "outputs": [
    {
     "data": {
      "text/plain": [
       "\" In the second year of Darius the king,  in the sixth month, in the first day of the month, came the word of the LORD by Haggai the prophet unto Zerubbabel the son of Shealtiel, governor of Judah, and to Joshua the . son of Josedech, the high priest, saying, This people say, The time is not come, the time that the LORD'S house should be built . Now therefore thus saith the LORD of hosts; Consider your ways. Go up to the mountain, and bring wood, and build the house; and I will take pleasure in it, and ... I will be glorified, saath the LORD . Ye looked for much, and, lo, it came to little; and when ye brought  In the seventh month, in the one and twentieth day of the month, came the word of the LORD by the prophet Haggai, saying, If one bear holy flesh in the skirt of his garment, and with his skirt do touch bread, or pottage, or wine, or oil, or any meat, shall it be holy? And the priests answered and said, No. If one that is unclean by a dead body touch any of these, will it be unclean? The silver is mine, and the gold is mine:  According to the word that I covenanted with you when ye came out of Egypt, so my spirit remaineth among you: fear ye not . For thus saith the LORD of hosts; Yet once, it is a little while, and I will shake the heavens, and all nations  Haggai said: So is this people, and so is this nation before me, saith the LORD . And so is every work of their hands; and that which they offer there is unclean . Consider from this day and upward, from before a stone was laid upon a stone in the temple of the LORD:  Since those days were, when one came to an heap of twenty measures, there were but ten: when one comes to the pressfat for to draw out fifty vessels out of the press, there are but twenty . In that day, saath the LORD of hosts, will I take thee, O Zerubbabel, my servant,\\xa0and will make thee as a signet: for I have chosen thee \""
      ]
     },
     "execution_count": 158,
     "metadata": {},
     "output_type": "execute_result"
    }
   ],
   "source": [
    "summarization_pipeline_consolidation(haggai)"
   ]
  },
  {
   "cell_type": "markdown",
   "id": "321ec6c7-2505-4e22-88ba-9cf7ea5d2766",
   "metadata": {},
   "source": [
    "## Zechariah"
   ]
  },
  {
   "cell_type": "code",
   "execution_count": 91,
   "id": "d882454e-b6c2-419a-8c70-28b2e52fe727",
   "metadata": {},
   "outputs": [],
   "source": [
    "zechariah = get_book_text('Zechariah', bible)"
   ]
  },
  {
   "cell_type": "code",
   "execution_count": 156,
   "id": "80c2ea13-c344-4289-827b-2d105011eee9",
   "metadata": {},
   "outputs": [
    {
     "name": "stdout",
     "output_type": "stream",
     "text": [
      "****************************\n",
      "*** TF-IDF Consolidation ***\n",
      "****************************\n",
      "Max pooling:\n",
      "------------\n",
      "And the word of the LORD came unto me, saying,\n",
      "  Take of them of the captivity, even of Heldai, of Tobijah, and of Jedaiah, which are come from Babylon, and come thou the same day, and go into the house of Josiah the son of Zephaniah;\n",
      "  Then take silver and gold, and make crowns, and set them upon the head of Joshua the son of Josedech, the high priest;\n",
      "  And speak unto him, saying, Thus speaketh the LORD of hosts, saying, Behold the man whose name is The BRANCH; and he shall grow up out of his place, and he shall build the temple of the LORD:\n",
      "  Even he shall build the temple of the LORD; and he shall bear the glory, and shall sit and rule upon his throne; and he shall be a priest upon his throne: and the counsel of peace shall be between them both. But my words and my statutes, which I commanded my servants the prophets, did they not take hold of your fathers? Then the angel that talked with me went forth, and said unto me, Lift up now thine eyes, and see what is this that goeth forth. And I answered, I see a flying roll; the length thereof is twenty cubits, and the breadth thereof ten cubits. Woe to the idol shepherd that leaveth the flock! Rejoice greatly, O daughter of Zion; shout, O daughter of Jerusalem: behold, thy King cometh unto thee: he is just, and having salvation; lowly, and riding upon an ass, and upon a colt the foal of an ass. In the first chariot were red horses; and in the second chariot black horses;\n",
      "  And in the third chariot white horses; and in the fourth chariot grisled and bay horses. And I took my staff, even Beauty, and cut it asunder, that I might break my covenant which I had made with all the people. But they refused to hearken, and pulled away the shoulder, and stopped their ears, that they should not hear. And the man that stood among the myrtle trees answered and said, These are they whom the LORD hath sent to walk to and fro through the earth.\n",
      "============================================================\n",
      "Sum pooling:\n",
      "------------\n",
      "And the LORD shall be king over all the earth: in that day shall there be one LORD, and his name one. And I said unto the angel that talked with me, What be these? Therefore say thou unto them, Thus saith the LORD of hosts; Turn ye unto me, saith the LORD of hosts, and I will turn unto you, saith the LORD of hosts. Thus saith the LORD of hosts; It shall yet come to pass, that there shall come people, and the inhabitants of many cities:\n",
      "  And the inhabitants of one city shall go to another, saying, Let us go speedily to pray before the LORD, and to seek the LORD of hosts: I will go also. And the word of the LORD came unto me, saying,\n",
      "  Take of them of the captivity, even of Heldai, of Tobijah, and of Jedaiah, which are come from Babylon, and come thou the same day, and go into the house of Josiah the son of Zephaniah;\n",
      "  Then take silver and gold, and make crowns, and set them upon the head of Joshua the son of Josedech, the high priest;\n",
      "  And speak unto him, saying, Thus speaketh the LORD of hosts, saying, Behold the man whose name is The BRANCH; and he shall grow up out of his place, and he shall build the temple of the LORD:\n",
      "  Even he shall build the temple of the LORD; and he shall bear the glory, and shall sit and rule upon his throne; and he shall be a priest upon his throne: and the counsel of peace shall be between them both. And many nations shall be joined to the LORD in that day, and shall be my people: and I will dwell in the midst of thee, and thou shalt know that the LORD of hosts hath sent me unto thee. I will bring it forth, saith the LORD of hosts, and it shall enter into the house of the thief, and into the house of him that sweareth falsely by my name: and it shall remain in the midst of his house, and shall consume it with the timber thereof and the stones thereof. And he answered me, These are the horns which have scattered Judah, Israel, and Jerusalem.\n",
      "\n",
      "**********************************\n",
      "*** Transformers Consolidation ***\n",
      "**********************************\n",
      "Sentence pooling:\n",
      "-----------------\n",
      "And I will strengthen the house of Judah, and I will save the house of Joseph, and I will bring them again to place them; for I have mercy upon them: and they shall be as though I had not cast them off: for I am the LORD their God, and will hear them. For thus saith the LORD of hosts; After the glory hath he sent me unto the nations which spoiled you: for he that toucheth you toucheth the apple of his eye. And the LORD said unto me, Take unto thee yet the instruments of a foolish shepherd. And they answered the angel of the LORD that stood among the myrtle trees, and said, We have walked to and fro through the earth, and, behold, all the earth sitteth still, and is at rest. And they that are far off shall come and build in the temple of the LORD, and ye shall know that the LORD of hosts hath sent me unto you. And it shall come to pass in that day, that a great tumult from the LORD shall be among them; and they shall lay hold every one on the hand of his neighbour, and his hand shall rise up against the hand of his neighbour. And he answered and spake unto those that stood before him, saying, Take away the filthy garments from him. Then said he unto me, This is the curse that goeth forth over the face of the whole earth: for every one that stealeth shall be cut off as on this side according to it; and every one that sweareth shall be cut off as on that side according to it. And it shall be in that day, that living waters shall go out from Jerusalem; half of them toward the former sea, and half of them toward the hinder sea: in summer and in winter shall it be. And, behold, the angel that talked with me went forth, and another angel went out to meet him,\n",
      "  And said unto him, Run, speak to this young man, saying, Jerusalem shall be inhabited as towns without walls for the multitude of men and cattle therein:\n",
      "  For I, saith the LORD, will be unto her a wall of fire round about, and will be the glory in the midst of her. Be silent, O all flesh, before the LORD: for he is raised up out of his holy habitation.\n",
      "============================================================\n",
      "Chunk pooling:\n",
      "--------------\n",
      "And I will strengthen the house of Judah, and I will save the house of Joseph, and I will bring them again to place them; for I have mercy upon them: and they shall be as though I had not cast them off: for I am the LORD their God, and will hear them. Upon the four and twentieth day of the eleventh month, which is the month Sebat, in the second year of Darius, came the word of the LORD unto Zechariah, the son of Berechiah, the son of Iddo the prophet, saying,\n",
      "  I saw by night, and behold a man riding upon a red horse, and he stood among the myrtle trees that were in the bottom; and behind him were there red horses, speckled, and white. And the LORD said unto Satan, The LORD rebuke thee, O Satan; even the LORD that hath chosen Jerusalem rebuke thee: is not this a brand plucked out of the fire? So the angel that communed with me said unto me, Cry thou, saying, Thus saith the LORD of hosts; I am jealous for Jerusalem and for Zion with a great jealousy. Then said he unto me, This is the curse that goeth forth over the face of the whole earth: for every one that stealeth shall be cut off as on this side according to it; and every one that sweareth shall be cut off as on that side according to it. And his feet shall stand in that day upon the mount of Olives, which is before Jerusalem on the east, and the mount of Olives shall cleave in the midst thereof toward the east and toward the west, and there shall be a very great valley; and half of the mountain shall remove toward the north, and half of it toward the south. The burden of the word of the LORD in the land of Hadrach, and Damascus shall be the rest thereof: when the eyes of man, as of all the tribes of Israel, shall be toward the LORD. And it shall come to pass in that day, that the prophets shall be ashamed every one of his vision, when he hath prophesied; neither shall they wear a rough garment to deceive:\n",
      "  But he shall say, I am no prophet, I am an husbandman; for man taught me to keep cattle from my youth.\n"
     ]
    }
   ],
   "source": [
    "printing(zechariah)"
   ]
  },
  {
   "cell_type": "code",
   "execution_count": 161,
   "id": "96c159c5-ae1c-44c6-9189-e82bb3a0d466",
   "metadata": {},
   "outputs": [
    {
     "data": {
      "text/plain": [
       "\" In the eighth month, in the second year of Darius, came the word of the LORD unto Zechariah, the son of Iddo the prophet, saying, The LORD hath been sore displeased with your fathers . But my words and my statutes, which I commanded my servants the prophets, did they not take hold of your fathers? Then a man riding upon a red horse, and he stood among the myrtle trees that were in the bottom; and behind him were there red horses, speckled, and white . Then said I, O my lord, what are these? And the angel that communed with me said unto me. These are they  I am returned to Jerusalem with mercies: my house shall be built in it, saith the LORD of hosts, and a line shall be stretched forth upon Jerusalem .  The word of the LORD came unto Zechariah in the fourth day of the ninth month, even in Chisleu . And he said, This is the curse that goeth forth over the face of the whole earth: for every one that stealeth shall be cut off as on this side according to it . And I turned, and lifted up mine eyes, and looked, and, behold, there came out two women, and the wind was in their wings; for they had wings like the wings of a stork . And then the angel that talked with me went forth, and said, Lift up now thine eyes, ... And I said, What is it? And I see a flying woman . He said, 'This is wickedness. And I will bring them, and they shall be my people, and I will be their God'  The seed shall be prosperous; the vine shall give her fruit, and the heavens shall give their dew . And it shall come to pass, that as ye were a curse among the heathen, O house of Judges, so will I save you . And Tyrus did build herself a strong hold, and heaped up silver as the dust, and fine gold as the mire of the streets . And a bastard shall dwell in Ashdod, and I will cut off the pride of the Philistines . And I will take away his blood out of his mouth, and  I will remove his blood from his mouth . Rejoice greatly, O . daughter of Zion; shout, O daughter of Jerusalem: behold, thy King cometh unto thee . And they shall fight, because the LORD is with them  Three shepherds also I cut off in one month; and my soul lothed them, and their soul also abhorred me . Then said I, I will not feed you: that that dieth, let it die; and that that that is to be cut off, let the rest eat every one the flesh of another . In that day will I make the governors of Judah like an hearth of fire among the wood, and like a torch of fire in a sheaf; and they shall devour all the people round about, on the right hand and on the left . And Jerusalem shall be inhabited again in her own place, even in Jerusalem . The day of the LORD cometh, and thy spoil shall be divided in the midst of thee . All the land from Geba to Rimmon south of Jerusalem will be lifted up, and inhabited in her place .  The wealth of all the heathen round about shall be gathered together, gold, and silver, and apparel, in great abundance . So shall be upon the bells of the horses, HOLINESS UNTO THE LORD; and the pots in the LORD'S house shall be like the bowls before the altar . And this shall be the plague wherewith the LORD will smite all the people that have fought against Jerusalem . \""
      ]
     },
     "execution_count": 161,
     "metadata": {},
     "output_type": "execute_result"
    }
   ],
   "source": [
    "summarization_pipeline_consolidation(zechariah)"
   ]
  },
  {
   "cell_type": "markdown",
   "id": "3210b7fe-373d-41b6-b8c5-cfb35bc742d1",
   "metadata": {},
   "source": [
    "## Malachi"
   ]
  },
  {
   "cell_type": "code",
   "execution_count": 93,
   "id": "ec0f9b0e-c4c8-4f58-a4a2-ea2112fb3250",
   "metadata": {},
   "outputs": [],
   "source": [
    "malachi = get_book_text('Malachi', bible)"
   ]
  },
  {
   "cell_type": "code",
   "execution_count": 94,
   "id": "8a2a86f9-dbad-4e64-a745-6abfb9e9fd20",
   "metadata": {},
   "outputs": [
    {
     "name": "stdout",
     "output_type": "stream",
     "text": [
      "****************************\n",
      "*** TF-IDF Consolidation ***\n",
      "****************************\n",
      "Max pooling:\n",
      "------------\n",
      "And they shall be mine, saith the LORD of hosts, in that day when I make up my jewels; and I will spare them, as a man spareth his own son that serveth him. Because the LORD hath been witness between thee and the wife of thy youth, against whom thou hast dealt treacherously: yet is she thy companion, and the wife of thy covenant. But ye have profaned it, in that ye say, The table of the LORD is polluted; and the fruit thereof, even his meat, is contemptible. The law of truth was in his mouth, and iniquity was not found in his lips: he walked with me in peace and equity, and did turn many away from iniquity. saith the LORD: yet I loved Jacob,\n",
      "  And I hated Esau, and laid his mountains and his heritage waste for the dragons of the wilderness. And now we call the proud happy; yea, they that work wickedness are set up; yea, they that tempt God are even delivered. Who is there even among you that would shut the doors for nought? Yet had he the residue of the spirit. Have we not all one father? And wherefore one? That he might seek a godly seed. In tithes and offerings. and if I be a master, where is my fear? for he is like a refiner's fire, and like fullers' soap:\n",
      "  And he shall sit as a refiner and purifier of silver: and he shall purify the sons of Levi, and purge them as gold and silver, that they may offer unto the LORD an offering in righteousness. But cursed be the deceiver, which hath in his flock a male, and voweth, and sacrificeth unto the Lord a corrupt thing: for I am a great King, saith the LORD of hosts, and my name is dreadful among the heathen. And this have ye done again, covering the altar of the LORD with tears, with weeping, and with crying out, insomuch that he regardeth not the offering any more, or receiveth it with good will at your hand. The burden of the word of the LORD to Israel by Malachi.\n",
      "============================================================\n",
      "Sum pooling:\n",
      "------------\n",
      "saith the LORD of hosts. But ye said, Wherein shall we return? But ye say, Wherein have we robbed thee? Behold, I will send my messenger, and he shall prepare the way before me: and the Lord, whom ye seek, shall suddenly come to his temple, even the messenger of the covenant, whom ye delight in: behold, he shall come, saith the LORD of hosts. Ye have wearied the LORD with your words. And your eyes shall see, and ye shall say, The LORD will be magnified from the border of Israel. If ye will not hear, and if ye will not lay it to heart, to give glory unto my name, saith the LORD of hosts, I will even send a curse upon you, and I will curse your blessings: yea, I have cursed them already, because ye do not lay it to heart. and if ye offer the lame and sick, is it not evil? hath not one God created us? For from the rising of the sun even unto the going down of the same my name shall be great among the Gentiles; and in every place incense shall be offered unto my name, and a pure offering: for my name shall be great among the heathen, saith the LORD of hosts. For I am the LORD, I change not; therefore ye sons of Jacob are not consumed. But ye have profaned it, in that ye say, The table of the LORD is polluted; and the fruit thereof, even his meat, is contemptible. But ye are departed out of the way; ye have caused many to stumble at the law; ye have corrupted the covenant of Levi, saith the LORD of hosts. And this have ye done again, covering the altar of the LORD with tears, with weeping, and with crying out, insomuch that he regardeth not the offering any more, or receiveth it with good will at your hand. Therefore take heed to your spirit, and let none deal treacherously against the wife of his youth. And ye shall tread down the wicked; for they shall be ashes under the soles of your feet in the day that I shall do this, saith the LORD of hosts.\n",
      "\n",
      "**********************************\n",
      "*** Transformers Consolidation ***\n",
      "**********************************\n",
      "Sentence pooling:\n",
      "-----------------\n",
      "For the LORD, the God of Israel, saith that he hateth putting away: for one covereth violence with his garment, saith the LORD of hosts: therefore take heed to your spirit, that ye deal not treacherously. But ye say, Wherein have we robbed thee? And I will come near to you to judgment; and I will be a swift witness against the sorcerers, and against the adulterers, and against false swearers, and against those that oppress the hireling in his wages, the widow, and the fatherless, and that turn aside the stranger from his right, and fear not me, saith the LORD of hosts. And now, O ye priests, this commandment is for you. Then shall the offering of Judah and Jerusalem be pleasant unto the LORD, as in the days of old, and as in former years. And this have ye done again, covering the altar of the LORD with tears, with weeping, and with crying out, insomuch that he regardeth not the offering any more, or receiveth it with good will at your hand. But unto you that fear my name shall the Sun of righteousness arise with healing in his wings; and ye shall go forth, and grow up as calves of the stall. I have loved you, saith the LORD. If ye will not hear, and if ye will not lay it to heart, to give glory unto my name, saith the LORD of hosts, I will even send a curse upon you, and I will curse your blessings: yea, I have cursed them already, because ye do not lay it to heart. Then shall ye return, and discern between the righteous and the wicked, between him that serveth God and him that serveth him not. Ye have wearied the LORD with your words. For I am the LORD, I change not; therefore ye sons of Jacob are not consumed. Behold, I will send my messenger, and he shall prepare the way before me: and the Lord, whom ye seek, shall suddenly come to his temple, even the messenger of the covenant, whom ye delight in: behold, he shall come, saith the LORD of hosts.\n",
      "============================================================\n",
      "Chunk pooling:\n",
      "--------------\n",
      "For the LORD, the God of Israel, saith that he hateth putting away: for one covereth violence with his garment, saith the LORD of hosts: therefore take heed to your spirit, that ye deal not treacherously. Ye offer polluted bread upon mine altar; and ye say, Wherein have we polluted thee? For from the rising of the sun even unto the going down of the same my name shall be great among the Gentiles; and in every place incense shall be offered unto my name, and a pure offering: for my name shall be great among the heathen, saith the LORD of hosts. For I am the LORD, I change not; therefore ye sons of Jacob are not consumed. Behold, I will send you Elijah the prophet before the coming of the great and dreadful day of the LORD:\n",
      "  And he shall turn the heart of the fathers to the children, and the heart of the children to their fathers, lest I come and smite the earth with a curse. Then shall ye return, and discern between the righteous and the wicked, between him that serveth God and him that serveth him not. why do we deal treacherously every man against his brother, by profaning the covenant of our fathers? And this have ye done again, covering the altar of the LORD with tears, with weeping, and with crying out, insomuch that he regardeth not the offering any more, or receiveth it with good will at your hand. And ye shall know that I have sent this commandment unto you, that my covenant might be with Levi, saith the LORD of hosts. And ye shall tread down the wicked; for they shall be ashes under the soles of your feet in the day that I shall do this, saith the LORD of hosts. Ye have said, It is vain to serve God: and what profit is it that we have kept his ordinance, and that we have walked mournfully before the LORD of hosts? for he is like a refiner's fire, and like fullers' soap:\n",
      "  And he shall sit as a refiner and purifier of silver: and he shall purify the sons of Levi, and purge them as gold and silver, that they may offer unto the LORD an offering in righteousness. Your words have been stout against me, saith the LORD.\n"
     ]
    }
   ],
   "source": [
    "printing(malachi)"
   ]
  },
  {
   "cell_type": "code",
   "execution_count": 164,
   "id": "162bb2bf-f152-4e27-8864-7444eac2df8b",
   "metadata": {},
   "outputs": [
    {
     "data": {
      "text/plain": [
       "\" The burden of the word of the LORD to Israel by Malachi. I have loved you, saith the LORD . Yet yet I loved Jacob, and laid his mountains and his heritage waste for the dragons of the wilderness . And if ye offer the blind for sacrifice, is it not evil? offer it now unto thy governor; will he be pleased with thee, or accept thy person?  Offer polluted bread upon mine altar; and ye say, Wherein have we despised thy name? But ye have profaned it, in that ye say: The table of the Lord is contemptible . For my name shall be great among the heathen, saeth the LORD of hosts. But Ye said also, Behold, what a weariness is it! and ye have snuffed at it, saath the LORD’s  The LORD will cut off the man that doeth this, the master and scholar, out of the tabernacles of Jacob, and him that offereth an offering unto the LORD of hosts . But cursed be the deceiver, which hath in his flock a male, and voweth, and sacrificeth unto the Lord a corrupt thing . For the priest's lips should keep knowledge, and they should seek the law at his mouth: for he is the messenger of the LORD . And ye shall know that I have sent this commandment unto you, that my covenant might be with Levi, saith the LORD \\xa0of hosts. My covenant was with him of life and peace; and I gave them to him for the fear wherewith he feared me, and was afraid before my name. sa  The Lord, whom ye seek, shall suddenly come to his temple, even the messenger of the covenant . But who may abide the day of his coming? and who shall stand when he appeareth? for he is like a refiner's fire, and like fullers' soap:   And he shall sit as a refining and purifier of silver: and he shall purify the sons of Levi, and purge them as gold and silver . Then shall the offering of Judah and Jerusalem be pleasant unto the LORD, as in the days of old, and as in former years. And I will come near to you to judgment; and I will be a swift witness against the sorcerers, and against adulterers, and false swearers, and that turn aside the stranger from his right, and fear not me,  The day that cometh shall burn them up, saith the LORD of hosts, in that day when I make up my jewels; and I will spare them, as a man spareth his own son that serveth him . And I will send you Elijah the prophet before the coming of the great and dreadful day of the LORD:  And he shall turn the heart of the fathers to the children, and the hearts of the children to their fathers, lest I come and smite the earth with a curse . But unto you that fear my name shall the Sun of righteousness arise with healing in his wings; and ye shall go forth, and grow up as calves of the stall. And ye shall tread down the wicked; for they shall be ashes under the soles of your feet in the day that I shall do this, says the Lord of \""
      ]
     },
     "execution_count": 164,
     "metadata": {},
     "output_type": "execute_result"
    }
   ],
   "source": [
    "summarization_pipeline_consolidation(malachi)"
   ]
  },
  {
   "cell_type": "markdown",
   "id": "1daf630f-3dde-47c0-8c30-6783a1190c62",
   "metadata": {},
   "source": [
    "# New Testament"
   ]
  },
  {
   "cell_type": "markdown",
   "id": "f46cd612-f5f9-4a90-876a-480ed584347f",
   "metadata": {},
   "source": [
    "## Full New Testament"
   ]
  },
  {
   "cell_type": "code",
   "execution_count": 96,
   "id": "646a1819-5a10-4163-88ff-8c0d400a7933",
   "metadata": {},
   "outputs": [
    {
     "name": "stdout",
     "output_type": "stream",
     "text": [
      "****************************\n",
      "*** TF-IDF Consolidation ***\n",
      "****************************\n",
      "Max pooling:\n",
      "------------\n",
      "And you, that were sometime alienated and enemies in your mind by wicked works, yet now hath he reconciled\n",
      "  In the body of his flesh through death, to present you holy and unblameable and unreproveable in his sight:\n",
      "  If ye continue in the faith grounded and settled, and be not moved away from the hope of the gospel, which ye have heard, and which was preached to every creature which is under heaven; whereof I Paul am made a minister;\n",
      "  Who now rejoice in my sufferings for you, and fill up that which is behind of the afflictions of Christ in my flesh for his body's sake, which is the church:\n",
      "  Whereof I am made a minister, according to the dispensation of God which is given to me for you, to fulfil the word of God;\n",
      "  Even the mystery which hath been hid from ages and from generations, but now is made manifest to his saints:\n",
      "  To whom God would make known what is the riches of the glory of this mystery among the Gentiles; which is Christ in you, the hope of glory:\n",
      "  Whom we preach, warning every man, and teaching every man in all wisdom; that we may present every man perfect in Christ Jesus:\n",
      "  Whereunto I also labour, striving according to his working, which worketh in me mightily. Because thou sayest, I am rich, and increased with goods, and have need of nothing; and knowest not that thou art wretched, and miserable, and poor, and blind, and naked:\n",
      "  I counsel thee to buy of me gold tried in the fire, that thou mayest be rich; and white raiment, that thou mayest be clothed, and that the shame of thy nakedness do not appear; and anoint thine eyes with eyesalve, that thou mayest see. But and if that evil servant shall say in his heart, My lord delayeth his coming;\n",
      "  And shall begin to smite his fellowservants, and to eat and drink with the drunken;\n",
      "  The lord of that servant shall come in a day when he looketh not for him, and in an hour that he is not aware of,\n",
      "  And shall cut him asunder, and appoint him his portion with the hypocrites: there shall be weeping and gnashing of teeth.\n",
      "============================================================\n",
      "Sum pooling:\n",
      "------------\n",
      "And Jesus said unto them, See ye not all these things? And I heard a great voice out of heaven saying, Behold, the tabernacle of God is with men, and he will dwell with them, and they shall be his people, and God himself shall be with them, and be their God. She saith unto him, Yea, Lord: I believe that thou art the Christ, the Son of God, which should come into the world. For I say unto you, That unto every one which hath shall be given; and from him that hath not, even that he hath shall be taken away from him. For since by man came death, by man came also the resurrection of the dead. Moreover these six brethren accompanied me, and we entered into the man's house:\n",
      "  And he shewed us how he had seen an angel in his house, which stood and said unto him, Send men to Joppa, and call for Simon, whose surname is Peter;\n",
      "  Who shall tell thee words, whereby thou and all thy house shall be saved. At that day ye shall ask in my name: and I say not unto you, that I will pray the Father for you:\n",
      "  For the Father himself loveth you, because ye have loved me, and have believed that I came out from God. And the Lord said unto him, Arise, and go into the city, and it shall be told thee what thou must do. The word which God sent unto the children of Israel, preaching peace by Jesus Christ: (he is Lord of all:)\n",
      "  That word, I say, ye know, which was published throughout all Judaea, and began from Galilee, after the baptism which John preached;\n",
      "  How God anointed Jesus of Nazareth with the Holy Ghost and with power: who went about doing good, and healing all that were oppressed of the devil; for God was with him. This is that Moses, which said unto the children of Israel, A prophet shall the Lord your God raise up unto you of your brethren, like unto me; him shall ye hear. Jesus answered, Verily, verily, I say unto thee, Except a man be born of water and of the Spirit, he cannot enter into the kingdom of God.\n",
      "\n",
      "**********************************\n",
      "*** Transformers Consolidation ***\n",
      "**********************************\n",
      "Sentence pooling:\n",
      "-----------------\n",
      "And he began to say unto them, This day is this scripture fulfilled in your ears. And again he sent another servant: and they beat him also, and entreated him shamefully, and sent him away empty. Come, see the place where the Lord lay. whom seekest thou? But, beloved, remember ye the words which were spoken before of the apostles of our Lord Jesus Christ;\n",
      "  How that they told you there should be mockers in the last time, who should walk after their own ungodly lusts. Therewith bless we God, even the Father; and therewith curse we men, which are made after the similitude of God. Wherefore Jesus also, that he might sanctify the people with his own blood, suffered without the gate. And you, being dead in your sins and the uncircumcision of your flesh, hath he quickened together with him, having forgiven you all trespasses;\n",
      "  Blotting out the handwriting of ordinances that was against us, which was contrary to us, and took it out of the way, nailing it to his cross;\n",
      "  And having spoiled principalities and powers, he made a shew of them openly, triumphing over them in it. And we have sent with him the brother, whose praise is in the gospel throughout all the churches;\n",
      "  And not that only, but who was also chosen of the churches to travel with us with this grace, which is administered by us to the glory of the same Lord, and declaration of your ready mind:\n",
      "  Avoiding this, that no man should blame us in this abundance which is administered by us:\n",
      "  Providing for honest things, not only in the sight of the Lord, but also in the sight of men. And I besought thy disciples to cast him out; and they could not. But Mary kept all these things, and pondered them in her heart. And they came to the chief priests and elders, and said, We have bound ourselves under a great curse, that we will eat nothing until we have slain Paul. Then goeth he, and taketh to him seven other spirits more wicked than himself; and they enter in, and dwell there: and the last state of that man is worse than the first.\n",
      "============================================================\n",
      "Chunk pooling:\n",
      "--------------\n",
      "And you, that were sometime alienated and enemies in your mind by wicked works, yet now hath he reconciled\n",
      "  In the body of his flesh through death, to present you holy and unblameable and unreproveable in his sight:\n",
      "  If ye continue in the faith grounded and settled, and be not moved away from the hope of the gospel, which ye have heard, and which was preached to every creature which is under heaven; whereof I Paul am made a minister;\n",
      "  Who now rejoice in my sufferings for you, and fill up that which is behind of the afflictions of Christ in my flesh for his body's sake, which is the church:\n",
      "  Whereof I am made a minister, according to the dispensation of God which is given to me for you, to fulfil the word of God;\n",
      "  Even the mystery which hath been hid from ages and from generations, but now is made manifest to his saints:\n",
      "  To whom God would make known what is the riches of the glory of this mystery among the Gentiles; which is Christ in you, the hope of glory:\n",
      "  Whom we preach, warning every man, and teaching every man in all wisdom; that we may present every man perfect in Christ Jesus:\n",
      "  Whereunto I also labour, striving according to his working, which worketh in me mightily. Then led they Jesus from Caiaphas unto the hall of judgment: and it was early; and they themselves went not into the judgment hall, lest they should be defiled; but that they might eat the passover. And he said unto them, That the Son of man is Lord also of the sabbath. For they have shed the blood of saints and prophets, and thou hast given them blood to drink; for they are worthy.\n"
     ]
    }
   ],
   "source": [
    "printing(new_testament)"
   ]
  },
  {
   "cell_type": "code",
   "execution_count": 167,
   "id": "9944e39f-0021-4e22-bb7d-8b7e78aa1a09",
   "metadata": {},
   "outputs": [
    {
     "data": {
      "text/plain": [
       "' The birth of Jesus Christ was on this wise: When as his mother Mary was espoused to Joseph, before they came together, she was found with child of Holy Ghost . After they were brought to Babylon, Jechonias begat Salathiel; and after they had been brought to\\xa0Babylon\\xa0are 14 generations . So all the generations from Abraham to David are fourteen generations . In fact, the Bible had no conception of Jesus as an adult when he became a man and godfather . It says Jesus was born into a family of men, not just children, but adults; they were also parents . They are responsible for the Bible’s origin; it says: “The Bible” – A generation of people have come to their faith . He explains how the Bible\\'s creation of the Bible changed the way  The first day of the week cometh Mary Magdelene seeth the stone taken away from the sepulchre . He breathed on them, Receive ye the Holy Ghost: Whose soever sins ye remit, they are remitted unto them . They were amazed and marvelled, saying one to another, Joel says God will shew wonders in heaven above, and signs in the earth beneath; blood, and fire . And it shall come to pass in the last days, saith God, I will pour out of my Spirit upon all flesh . A vision appeared to Paul in the night; there stood a man of Macedonia, and prayed him, saying, Come over into Macedonia,  and help us . But Paul turned and said to the spirit, I command thee in the name of Jesus Christ to come out of her  David also describes the blessedness of the man, unto whom God imputeth righteousness without works . The wages of sin is death, but the gift of God is eternal life through Jesus Christ our Lord . There is therefore no condemnation to those which are in ChristJesus, who walk not after the flesh, but after the Spirit . Some with conscience of idol unto this hour eat it as a thing offered unto an idol; and their conscience being weak is defiled . Owe no man any thing, but to love one another . Be not highminded, but fear . evil communications corrupt good manners . Evil communications corrupt bad manners . Paul: \"I protest by your rejoicing which I have in Christ Jesus our Lord, I die daily  Paul wrote to them of Macedonia, for which I boast of you that Achaia was ready  Marcus: Be subject to your masters with all fear; not only to the good and gentle, but also to the froward . Marriage is honourable in all, and the bed undefiled: but whoremongers and adulterers God will judge . Feed the flock of God which is among you, taking oversight thereof, not by constraint, but willingly . The trial of your faith, being much more precious than of gold that perisheth, though it be tried with fire, might be found unto praise and honour . '"
      ]
     },
     "execution_count": 167,
     "metadata": {},
     "output_type": "execute_result"
    }
   ],
   "source": [
    "summarization_pipeline_consolidation(new_testament)"
   ]
  },
  {
   "cell_type": "markdown",
   "id": "e1b21638-5a46-4990-ac5a-7c03571d1c1c",
   "metadata": {},
   "source": [
    "## Matthew"
   ]
  },
  {
   "cell_type": "code",
   "execution_count": 97,
   "id": "5cf9e067-1ac2-4e3d-9498-836487285a15",
   "metadata": {},
   "outputs": [],
   "source": [
    "matthew = get_book_text('Matthew', bible)"
   ]
  },
  {
   "cell_type": "code",
   "execution_count": 98,
   "id": "e1f1286f-cc8e-45f6-839a-e339b8e88c13",
   "metadata": {},
   "outputs": [
    {
     "name": "stdout",
     "output_type": "stream",
     "text": [
      "****************************\n",
      "*** TF-IDF Consolidation ***\n",
      "****************************\n",
      "Max pooling:\n",
      "------------\n",
      "Now when Jesus had heard that John was cast into prison, he departed into Galilee;\n",
      "  And leaving Nazareth, he came and dwelt in Capernaum, which is upon the sea coast, in the borders of Zabulon and Nephthalim:\n",
      "  That it might be fulfilled which was spoken by Esaias the prophet, saying,\n",
      "  The land of Zabulon, and the land of Nephthalim, by the way of the sea, beyond Jordan, Galilee of the Gentiles;\n",
      "  The people which sat in darkness saw great light; and to them which sat in the region and shadow of death light is sprung up. He answered and said unto them, He that soweth the good seed is the Son of man;\n",
      "  The field is the world; the good seed are the children of the kingdom; but the tares are the children of the wicked one;\n",
      "  The enemy that sowed them is the devil; the harvest is the end of the world; and the reapers are the angels. But and if that evil servant shall say in his heart, My lord delayeth his coming;\n",
      "  And shall begin to smite his fellowservants, and to eat and drink with the drunken;\n",
      "  The lord of that servant shall come in a day when he looketh not for him, and in an hour that he is not aware of,\n",
      "  And shall cut him asunder, and appoint him his portion with the hypocrites: there shall be weeping and gnashing of teeth. Hear another parable: There was a certain householder, which planted a vineyard, and hedged it round about, and digged a winepress in it, and built a tower, and let it out to husbandmen, and went into a far country:\n",
      "  And when the time of the fruit drew near, he sent his servants to the husbandmen, that they might receive the fruits of it. Jesus said unto him, If thou wilt be perfect, go and sell that thou hast, and give to the poor, and thou shalt have treasure in heaven: and come and follow me. And, behold, the veil of the temple was rent in twain from the top to the bottom; and the earth did quake, and the rocks rent;\n",
      "  And the graves were opened; and many bodies of the saints which slept arose,\n",
      "  And came out of the graves after his resurrection, and went into the holy city, and appeared unto many.\n",
      "============================================================\n",
      "Sum pooling:\n",
      "------------\n",
      "Jesus answered and said unto them, Verily I say unto you, If ye have faith, and doubt not, ye shall not only do this which is done to the fig tree, but also if ye shall say unto this mountain, Be thou removed, and be thou cast into the sea; it shall be done. At the same time came the disciples unto Jesus, saying, Who is the greatest in the kingdom of heaven? For the Son of man is Lord even of the sabbath day. Take that thine is, and go thy way: I will give unto this last, even as unto thee. And he said, Come. And Jesus going up to Jerusalem took the twelve disciples apart in the way, and said unto them,\n",
      "  Behold, we go up to Jerusalem; and the Son of man shall be betrayed unto the chief priests and unto the scribes, and they shall condemn him to death,\n",
      "  And shall deliver him to the Gentiles to mock, and to scourge, and to crucify him: and the third day he shall rise again. And, behold, they cried out, saying, What have we to do with thee, Jesus, thou Son of God? If ye then, being evil, know how to give good gifts unto your children, how much more shall your Father which is in heaven give good things to them that ask him? And Jesus said unto them, See ye not all these things? Jesus saith unto him, Thou hast said: nevertheless I say unto you, Hereafter shall ye see the Son of man sitting on the right hand of power, and coming in the clouds of heaven. Again, ye have heard that it hath been said by them of old time, Thou shalt not forswear thyself, but shalt perform unto the Lord thine oaths:\n",
      "  But I say unto you, Swear not at all; neither by heaven; for it is God's throne:\n",
      "  Nor by the earth; for it is his footstool: neither by Jerusalem; for it is the city of the great King. The same day came to him the Sadducees, which say that there is no resurrection, and asked him,\n",
      "  Saying, Master, Moses said, If a man die, having no children, his brother shall marry his wife, and raise up seed unto his brother.\n",
      "\n",
      "**********************************\n",
      "*** Transformers Consolidation ***\n",
      "**********************************\n",
      "Sentence pooling:\n",
      "-----------------\n",
      "Then said he unto them, Therefore every scribe which is instructed unto the kingdom of heaven is like unto a man that is an householder, which bringeth forth out of his treasure things new and old. And when the disciples heard it, they fell on their face, and were sore afraid. And Jesus saith unto him, I will come and heal him. and one of them shall not fall on the ground without your Father. And he shall send his angels with a great sound of a trumpet, and they shall gather together his elect from the four winds, from one end of heaven to the other. So the devils besought him, saying, If thou cast us out, suffer us to go away into the herd of swine. or thirsty, and gave thee drink? And when they were come to the multitude, there came to him a certain man, kneeling down to him, and saying,\n",
      "  Lord, have mercy on my son: for he is lunatick, and sore vexed: for ofttimes he falleth into the fire, and oft into the water. Then said Pilate unto him, Hearest thou not how many things they witness against thee? Jesus answered and said unto them, Verily I say unto you, If ye have faith, and doubt not, ye shall not only do this which is done to the fig tree, but also if ye shall say unto this mountain, Be thou removed, and be thou cast into the sea; it shall be done. Then cometh he to his disciples, and saith unto them, Sleep on now, and take your rest: behold, the hour is at hand, and the Son of man is betrayed into the hands of sinners. And his disciples came and besought him, saying, Send her away; for she crieth after us. And he saith unto them, Whose is this image and superscription? Then shall he say also unto them on the left hand, Depart from me, ye cursed, into everlasting fire, prepared for the devil and his angels:\n",
      "  For I was an hungred, and ye gave me no meat: I was thirsty, and ye gave me no drink:\n",
      "  I was a stranger, and ye took me not in: naked, and ye clothed me not: sick, and in prison, and ye visited me not.\n",
      "============================================================\n",
      "Chunk pooling:\n",
      "--------------\n",
      "Then said he unto them, Therefore every scribe which is instructed unto the kingdom of heaven is like unto a man that is an householder, which bringeth forth out of his treasure things new and old. And when the disciples heard it, they fell on their face, and were sore afraid. How is it that ye do not understand that I spake it not to you concerning bread, that ye should beware of the leaven of the Pharisees and of the Sadducees? But while he thought on these things, behold, the angel of the Lord appeared unto him in a dream, saying, Joseph, thou son of David, fear not to take unto thee Mary thy wife: for that which is conceived in her is of the Holy Ghost. Jesus answered and said unto them, Verily I say unto you, If ye have faith, and doubt not, ye shall not only do this which is done to the fig tree, but also if ye shall say unto this mountain, Be thou removed, and be thou cast into the sea; it shall be done. Now when Jesus had heard that John was cast into prison, he departed into Galilee;\n",
      "  And leaving Nazareth, he came and dwelt in Capernaum, which is upon the sea coast, in the borders of Zabulon and Nephthalim:\n",
      "  That it might be fulfilled which was spoken by Esaias the prophet, saying,\n",
      "  The land of Zabulon, and the land of Nephthalim, by the way of the sea, beyond Jordan, Galilee of the Gentiles;\n",
      "  The people which sat in darkness saw great light; and to them which sat in the region and shadow of death light is sprung up. So the devils besought him, saying, If thou cast us out, suffer us to go away into the herd of swine. And he cometh unto the disciples, and findeth them asleep, and saith unto Peter, What, could ye not watch with me one hour? And Jesus going up to Jerusalem took the twelve disciples apart in the way, and said unto them,\n",
      "  Behold, we go up to Jerusalem; and the Son of man shall be betrayed unto the chief priests and unto the scribes, and they shall condemn him to death,\n",
      "  And shall deliver him to the Gentiles to mock, and to scourge, and to crucify him: and the third day he shall rise again.\n"
     ]
    }
   ],
   "source": [
    "printing(matthew)"
   ]
  },
  {
   "cell_type": "code",
   "execution_count": 170,
   "id": "4f6caab3-a710-4c5c-8ef7-f1571c4f9b87",
   "metadata": {},
   "outputs": [
    {
     "data": {
      "text/plain": [
       "' The birth of Jesus Christ was on this wise: When as his mother Mary was espoused to Joseph, before they came together, she was found with child of Holy Ghost . And after they were brought to Babylon, Jechonias begat Salathiel; and  after they had been brought to\\xa0Babylon\\xa0are 14 generations . So all the generations from Abraham to David are fourteen generations . But when Herod was dead, behold, an angel of the lord appeareth in a dream to Joseph in Egypt, and said, Arise, and go into the land of Israel: for they are dead which sought the little child\\'s life . Then Joseph arose, and took the small child and its mother, and came into the Land of Israel . Jesus, when he was baptized, went up straightway out of the water  Jesus said, Can the children of the bridechamber mourn as long as the bridegroom is with them? The disciple is not above his master, nor the servant above his lord . He said, \\'I send you forth as sheep in the midst of wolves: be ye therefore wise as serpents, and harmless as doves . When they persecute you in this city, flee ye into another: for verily I say, Ye shall not have gone over the cities of Israel, till the Son of man be come . But beware of men: for they will deliver you up to the councils, and they will scourge you in their synagogues;  And ye shall be brought before governors and kings for my sake . A woman, which was diseased with an issue of blood twelve years, came behind him, and touched the hem of his garment  The kingdom is like unto a net cast into the sea, and gathered of every kind . When it was full, gathered the good into vessels, but cast the bad away . Jesus said, A prophet is not without honour, save in his own city, and in his house . He charged he his disciples that they should tell no man that he was Jesus . After six days Jesus taketh Peter, James, and John his brother, and bringeth them up into an high mountain apart . And was transfigured before them: and his face did shine as the sun, and his raiment was white as the light . Then said, \"There be some standing here which shall not taste death, till they see the Son of man coming in his kingdom\" His disciples were come to the other side, they had forgotten to take bread  The last shall be first, and the first last: for many be called, but few chosen . Woe unto you, scribes and Pharisees, hypocrites! For ye make clean the outside of the cup and of the platter, but within they are full of extortion and excess . And say, If we had been in the days of our fathers, we would not have been partakers with them in the blood of the prophets . O Jerusalem, Jerusalem, how often would I have gathered thy children together, even as a hen gathereth her chickens under her wings, and ye would not . The kingdom of heaven is as a man travelling into a far country, who called his own servants, and delivered unto them his goods . Jesus said, \\'There shall not be left here one stone upon another, that shall never be thrown down\\'  One of the twelve, called Judas Iscariot, went to the chief priests, and said, What will ye give me, and I will deliver him unto you? And they covenanted with him for thirty pieces of silver . From that time he sought opportunity to betray him . As they did eat, Jesus said, Verily I say unto you, that one of you shall betray me . Peter answered and said: Though all men shall be offended because of thee, yet will I never be offended . Then shall the kingdom of Heaven be likened unto ten virgins, which took their lamps, and went forth to meet the bridegroom . But the wise took oil in their vessels with their lamps . While they went to buy, they all slumbered and slept. They that were foolish took no oil with their oils '"
      ]
     },
     "execution_count": 170,
     "metadata": {},
     "output_type": "execute_result"
    }
   ],
   "source": [
    "summarization_pipeline_consolidation(matthew)"
   ]
  },
  {
   "cell_type": "markdown",
   "id": "9e9e1613-928d-42c4-a59e-50d2aa25165e",
   "metadata": {},
   "source": [
    "## Mark "
   ]
  },
  {
   "cell_type": "code",
   "execution_count": 99,
   "id": "46df2b33-cebf-4cf9-8a74-d969432fccae",
   "metadata": {},
   "outputs": [],
   "source": [
    "mark = get_book_text('Mark', bible)"
   ]
  },
  {
   "cell_type": "code",
   "execution_count": 100,
   "id": "09fed42b-f768-4276-b2f2-cb379db3dd82",
   "metadata": {},
   "outputs": [
    {
     "name": "stdout",
     "output_type": "stream",
     "text": [
      "****************************\n",
      "*** TF-IDF Consolidation ***\n",
      "****************************\n",
      "Max pooling:\n",
      "------------\n",
      "And Jesus answered and said, Verily I say unto you, There is no man that hath left house, or brethren, or sisters, or father, or mother, or wife, or children, or lands, for my sake, and the gospel's,\n",
      "  But he shall receive an hundredfold now in this time, houses, and brethren, and sisters, and mothers, and children, and lands, with persecutions; and in the world to come eternal life. And he ordained twelve, that they should be with him, and that he might send them forth to preach,\n",
      "  And to have power to heal sicknesses, and to cast out devils:\n",
      "  And Simon he surnamed Peter;\n",
      "  And James the son of Zebedee, and John the brother of James; and he surnamed them Boanerges, which is, The sons of thunder:\n",
      "  And Andrew, and Philip, and Bartholomew, and Matthew, and Thomas, and James the son of Alphaeus, and Thaddaeus, and Simon the Canaanite,\n",
      "  And Judas Iscariot, which also betrayed him: and they went into an house. And he commanded the people to sit down on the ground: and he took the seven loaves, and gave thanks, and brake, and gave to his disciples to set before them; and they did set them before the people. And when they came nigh to Jerusalem, unto Bethphage and Bethany, at the mount of Olives, he sendeth forth two of his disciples,\n",
      "  And saith unto them, Go your way into the village over against you: and as soon as ye be entered into it, ye shall find a colt tied, whereon never man sat; loose him, and bring him. And, behold, there cometh one of the rulers of the synagogue, Jairus by name; and when he saw him, he fell at his feet,\n",
      "  And besought him greatly, saying, My little daughter lieth at the point of death: I pray thee, come and lay thy hands on her, that she may be healed; and she shall live. But he went out, and began to publish it much, and to blaze abroad the matter, insomuch that Jesus could no more openly enter into the city, but was without in desert places: and they came to him from every quarter.\n",
      "============================================================\n",
      "Sum pooling:\n",
      "------------\n",
      "And he said unto them, What would ye that I should do for you? For verily I say unto you, That whosoever shall say unto this mountain, Be thou removed, and be thou cast into the sea; and shall not doubt in his heart, but shall believe that those things which he saith shall come to pass; he shall have whatsoever he saith. And Jesus went out, and his disciples, into the towns of Caesarea Philippi: and by the way he asked his disciples, saying unto them, Whom do men say that I am? But when he saw Jesus afar off, he ran and worshipped him,\n",
      "  And cried with a loud voice, and said, What have I to do with thee, Jesus, thou Son of the most high God? But that ye may know that the Son of man hath power on earth to forgive sins, (he saith to the sick of the palsy,)\n",
      "  I say unto thee, Arise, and take up thy bed, and go thy way into thine house. And when they had sent away the multitude, they took him even as he was in the ship. And Jesus answered and said unto it, No man eat fruit of thee hereafter for ever. For he taught his disciples, and said unto them, The Son of man is delivered into the hands of men, and they shall kill him; and after that he is killed, he shall rise the third day. And Jesus entered into Jerusalem, and into the temple: and when he had looked round about upon all things, and now the eventide was come, he went out unto Bethany with the twelve. And the scribes and chief priests heard it, and sought how they might destroy him: for they feared him, because all the people was astonished at his doctrine. So then after the Lord had spoken unto them, he was received up into heaven, and sat on the right hand of God. Then come unto him the Sadducees, which say there is no resurrection; and they asked him, saying,\n",
      "  Master, Moses wrote unto us, If a man's brother die, and leave his wife behind him, and leave no children, that his brother should take his wife, and raise up seed unto his brother. And it came to pass in those days, that Jesus came from Nazareth of Galilee, and was baptized of John in Jordan.\n",
      "\n",
      "**********************************\n",
      "*** Transformers Consolidation ***\n",
      "**********************************\n",
      "Sentence pooling:\n",
      "-----------------\n",
      "And they send unto him certain of the Pharisees and of the Herodians, to catch him in his words. And immediately he arose, took up the bed, and went forth before them all; insomuch that they were all amazed, and glorified God, saying, We never saw it on this fashion. And they began to be sorrowful, and to say unto him one by one, Is it I? And Jesus answered and said unto it, No man eat fruit of thee hereafter for ever. And he saith unto the man which had the withered hand, Stand forth. And he cometh the third time, and saith unto them, Sleep on now, and take your rest: it is enough, the hour is come; behold, the Son of man is betrayed into the hands of sinners. But when he had put them all out, he taketh the father and the mother of the damsel, and them that were with him, and entereth in where the damsel was lying. And he said unto her, Daughter, thy faith hath made thee whole; go in peace, and be whole of thy plague. And they cried out again, Crucify him. And they were astonished out of measure, saying among themselves, Who then can be saved? And the apostles gathered themselves together unto Jesus, and told him all things, both what they had done, and what they had taught. But when he saw Jesus afar off, he ran and worshipped him,\n",
      "  And cried with a loud voice, and said, What have I to do with thee, Jesus, thou Son of the most high God? And when he was alone, they that were about him with the twelve asked of him the parable. And in the house his disciples asked him again of the same matter. So then after the Lord had spoken unto them, he was received up into heaven, and sat on the right hand of God. And Peter answereth and saith unto him, Thou art the Christ. And he said unto them, Let us go into the next towns, that I may preach there also: for therefore came I forth. And he could there do no mighty work, save that he laid his hands upon a few sick folk, and healed them.\n",
      "============================================================\n",
      "Chunk pooling:\n",
      "--------------\n",
      "And he took again the twelve, and began to tell them what things should happen unto him,\n",
      "  Saying, Behold, we go up to Jerusalem; and the Son of man shall be delivered unto the chief priests, and unto the scribes; and they shall condemn him to death, and shall deliver him to the Gentiles:\n",
      "  And they shall mock him, and shall scourge him, and shall spit upon him, and shall kill him: and the third day he shall rise again. how is it that ye have no faith? And when Jesus knew it, he saith unto them, Why reason ye, because ye have no bread? And Jesus answered and said unto them, I will also ask of you one question, and answer me, and I will tell you by what authority I do these things. And they came to a place which was named Gethsemane: and he saith to his disciples, Sit ye here, while I shall pray. Verily I say unto you, All sins shall be forgiven unto the sons of men, and blasphemies wherewith soever they shall blaspheme:\n",
      "  But he that shall blaspheme against the Holy Ghost hath never forgiveness, but is in danger of eternal damnation:\n",
      "  Because they said, He hath an unclean spirit. And his disciples said unto him, Thou seest the multitude thronging thee, and sayest thou, Who touched me? And there was in their synagogue a man with an unclean spirit; and he cried out,\n",
      "  Saying, Let us alone; what have we to do with thee, thou Jesus of Nazareth? And one of the multitude answered and said, Master, I have brought unto thee my son, which hath a dumb spirit;\n",
      "  And wheresoever he taketh him, he teareth him: and he foameth, and gnasheth with his teeth, and pineth away: and I spake to thy disciples that they should cast him out; and they could not. And Jesus sat over against the treasury, and beheld how the people cast money into the treasury: and many that were rich cast in much. And he said unto them, This is my blood of the new testament, which is shed for many.\n"
     ]
    }
   ],
   "source": [
    "printing(mark)"
   ]
  },
  {
   "cell_type": "code",
   "execution_count": 173,
   "id": "37bac3ba-5c6b-41eb-8137-c26c057c85c5",
   "metadata": {},
   "outputs": [
    {
     "data": {
      "text/plain": [
       "\" The beginning of the gospel of Jesus Christ, the Son of God;  As it is written in the prophets, Behold, I send my messenger before thy face, which shall prepare thy way before thee . And there went out unto him all the land of Judaea, and they of Jerusalem, and were all baptized of him in the river of Jordan, confessing their sins . And John was clothed with camel's hair, and with a girdle of a skin about his loins; and he did eat locusts and wild honey;  And preached, saying, There cometh one mightier than I after me, the latchet of whose shoes I am not worthy to stoop down and unloose . He rebuked the wind, and said unto the sea, Peace, be still .  When the daughter of the said Herodias came in, and danced, and pleased Herod and them that sat with him, the king said, Ask of me whatsoever thou wilt, and I will give it thee . And she went forth, and said, What shall I ask? And she said, The head of John the Baptist. And they went out, and preached that men should repent . And cast out many devils, and anointed with oil many that were sick, and healed them . Jesus charged his disciples, saying, Take heed, beware of the leaven of the Pharisees and of Herod . And they reasoned among themselves, saying: It is because we have no bread . After six days Jesus was transfigured, his raiment became shining, exceeding white as snow .  Blind Bartimaeus, the son of Timaeus, sat by the highway side begging for mercy on Jesus . The Sadducees, which say there is no resurrection, asked him to explain why . But Jesus said, Ye shall indeed drink of the cup that I drink of; and with the baptism that I am baptized withal shall ye be baptized:  But to sit on my right hand and on my left hand is not mine to give; but it shall be given to them for whom it is prepared . For many shall come in my name, saying, I am Christ; and shall deceive many . The end shall not be yet, but he that shall endure unto the end, the same shall be saved . Many bare false witness against Jesus to put him to death, but their witness agreed not together .  Pilate bought fine linen, and took him down, and wrapped him in a sepulchre which was hewn out of a rock . Mary Magdalene and Mary the mother of Joses beheld where he was laid . But go your way, tell his disciples and Peter that he goeth before you into Galilee: there shall ye see him, as he said unto you . In my name shall they cast out devils; they shall speak with new tongues;  They shall take up serpents; and if they drink any deadly thing, it shall not hurt them . Amen . \""
      ]
     },
     "execution_count": 173,
     "metadata": {},
     "output_type": "execute_result"
    }
   ],
   "source": [
    "summarization_pipeline_consolidation(mark)"
   ]
  },
  {
   "cell_type": "markdown",
   "id": "f1ce547b-0f43-465d-8a65-1c8bb6556213",
   "metadata": {},
   "source": [
    "## Luke"
   ]
  },
  {
   "cell_type": "code",
   "execution_count": 101,
   "id": "d1edc341-dd71-457d-98fe-4557845c17e7",
   "metadata": {},
   "outputs": [],
   "source": [
    "luke = get_book_text('Luke', bible)"
   ]
  },
  {
   "cell_type": "code",
   "execution_count": 102,
   "id": "cf2a90a5-373b-422c-9235-e1186a4664c0",
   "metadata": {},
   "outputs": [
    {
     "name": "stdout",
     "output_type": "stream",
     "text": [
      "****************************\n",
      "*** TF-IDF Consolidation ***\n",
      "****************************\n",
      "Max pooling:\n",
      "------------\n",
      "And his father Zacharias was filled with the Holy Ghost, and prophesied, saying,\n",
      "  Blessed be the Lord God of Israel; for he hath visited and redeemed his people,\n",
      "  And hath raised up an horn of salvation for us in the house of his servant David;\n",
      "  As he spake by the mouth of his holy prophets, which have been since the world began:\n",
      "  That we should be saved from our enemies, and from the hand of all that hate us;\n",
      "  To perform the mercy promised to our fathers, and to remember his holy covenant;\n",
      "  The oath which he sware to our father Abraham,\n",
      "  That he would grant unto us, that we being delivered out of the hand of our enemies might serve him without fear,\n",
      "  In holiness and righteousness before him, all the days of our life. And it came to pass afterward, that he went throughout every city and village, preaching and shewing the glad tidings of the kingdom of God: and the twelve were with him,\n",
      "  And certain women, which had been healed of evil spirits and infirmities, Mary called Magdalene, out of whom went seven devils,\n",
      "  And Joanna the wife of Chuza Herod's steward, and Susanna, and many others, which ministered unto him of their substance. Then opened he their understanding, that they might understand the scriptures,\n",
      "  And said unto them, Thus it is written, and thus it behoved Christ to suffer, and to rise from the dead the third day:\n",
      "  And that repentance and remission of sins should be preached in his name among all nations, beginning at Jerusalem. Then in the audience of all the people he said unto his disciples,\n",
      "  Beware of the scribes, which desire to walk in long robes, and love greetings in the markets, and the highest seats in the synagogues, and the chief rooms at feasts;\n",
      "  Which devour widows' houses, and for a shew make long prayers: the same shall receive greater damnation. But when thou art bidden, go and sit down in the lowest room; that when he that bade thee cometh, he may say unto thee, Friend, go up higher: then shalt thou have worship in the presence of them that sit at meat with thee. But that on the good ground are they, which in an honest and good heart, having heard the word, keep it, and bring forth fruit with patience.\n",
      "============================================================\n",
      "Sum pooling:\n",
      "------------\n",
      "He said unto them, But whom say ye that I am? He shall be great, and shall be called the Son of the Highest: and the Lord God shall give unto him the throne of his father David:\n",
      "  And he shall reign over the house of Jacob for ever; and of his kingdom there shall be no end. And he came by the Spirit into the temple: and when the parents brought in the child Jesus, to do for him after the custom of the law,\n",
      "  Then took he him up in his arms, and blessed God, and said,\n",
      "  Lord, now lettest thou thy servant depart in peace, according to thy word:\n",
      "  For mine eyes have seen thy salvation,\n",
      "  Which thou hast prepared before the face of all people;\n",
      "  A light to lighten the Gentiles, and the glory of thy people Israel. When the men were come unto him, they said, John Baptist hath sent us unto thee, saying, Art thou he that should come? Then he took unto him the twelve, and said unto them, Behold, we go up to Jerusalem, and all things that are written by the prophets concerning the Son of man shall be accomplished. And it came to pass, that, as they went in the way, a certain man said unto him, Lord, I will follow thee whithersoever thou goest. When he saw Jesus, he cried out, and fell down before him, and with a loud voice said, What have I to do with thee, Jesus, thou Son of God most high? And Jesus answering said unto him, It is said, Thou shalt not tempt the Lord thy God. And when one of them that sat at meat with him heard these things, he said unto him, Blessed is he that shall eat bread in the kingdom of God. Then came also publicans to be baptized, and said unto him, Master, what shall we do? And he spake a parable unto them, saying, The ground of a certain rich man brought forth plentifully:\n",
      "  And he thought within himself, saying, What shall I do, because I have no room where to bestow my fruits? But while they wondered every one at all things which Jesus did, he said unto his disciples,\n",
      "  Let these sayings sink down into your ears: for the Son of man shall be delivered into the hands of men.\n",
      "\n",
      "**********************************\n",
      "*** Transformers Consolidation ***\n",
      "**********************************\n",
      "Sentence pooling:\n",
      "-----------------\n",
      "And he straitly charged them, and commanded them to tell no man that thing;\n",
      "  Saying, The Son of man must suffer many things, and be rejected of the elders and chief priests and scribes, and be slain, and be raised the third day. Behold, your house is left unto you desolate: and verily I say unto you, Ye shall not see me, until the time come when ye shall say, Blessed is he that cometh in the name of the Lord. And Jesus said unto him, Receive thy sight: thy faith hath saved thee. And as he went, they spread their clothes in the way. And he answered and said unto them, I tell you that, if these should hold their peace, the stones would immediately cry out. And when he came to himself, he said, How many hired servants of my father's have bread enough and to spare, and I perish with hunger! And he said unto them, Behold, when ye are entered into the city, there shall a man meet you, bearing a pitcher of water; follow him into the house where he entereth in. And it came to pass, while he blessed them, he was parted from them, and carried up into heaven. And he was withdrawn from them about a stone's cast, and kneeled down, and prayed,\n",
      "  Saying, Father, if thou be willing, remove this cup from me: nevertheless not my will, but thine, be done. And John answered and said, Master, we saw one casting out devils in thy name; and we forbad him, because he followeth not with us. And when he saw them, he said unto them, Go shew yourselves unto the priests. And he spake this parable unto them, saying,\n",
      "  What man of you, having an hundred sheep, if he lose one of them, doth not leave the ninety and nine in the wilderness, and go after that which is lost, until he find it? And Zacchaeus stood, and said unto the Lord; Behold, Lord, the half of my goods I give to the poor; and if I have taken any thing from any man by false accusation, I restore him fourfold.\n",
      "============================================================\n",
      "Chunk pooling:\n",
      "--------------\n",
      "And he straitly charged them, and commanded them to tell no man that thing;\n",
      "  Saying, The Son of man must suffer many things, and be rejected of the elders and chief priests and scribes, and be slain, and be raised the third day. When Jesus heard these things, he marvelled at him, and turned him about, and said unto the people that followed him, I say unto you, I have not found so great faith, no, not in Israel. And the Lord said unto him, Now do ye Pharisees make clean the outside of the cup and the platter; but your inward part is full of ravening and wickedness. And whence is this to me, that the mother of my Lord should come to me? And the Lord said, Simon, Simon, behold, Satan hath desired to have you, that he may sift you as wheat:\n",
      "  But I have prayed for thee, that thy faith fail not: and when thou art converted, strengthen thy brethren. And he came by the Spirit into the temple: and when the parents brought in the child Jesus, to do for him after the custom of the law,\n",
      "  Then took he him up in his arms, and blessed God, and said,\n",
      "  Lord, now lettest thou thy servant depart in peace, according to thy word:\n",
      "  For mine eyes have seen thy salvation,\n",
      "  Which thou hast prepared before the face of all people;\n",
      "  A light to lighten the Gentiles, and the glory of thy people Israel. And Jesus answered and said unto her, Martha, Martha, thou art careful and troubled about many things:\n",
      "  But one thing is needful: and Mary hath chosen that good part, which shall not be taken away from her. And he said unto his disciples, Therefore I say unto you, Take no thought for your life, what ye shall eat; neither for the body, what ye shall put on. Now when the Pharisee which had bidden him saw it, he spake within himself, saying, This man, if he were a prophet, would have known who and what manner of woman this is that toucheth him: for she is a sinner. O Jerusalem, Jerusalem, which killest the prophets, and stonest them that are sent unto thee; how often would I have gathered thy children together, as a hen doth gather her brood under her wings, and ye would not!\n"
     ]
    }
   ],
   "source": [
    "printing(luke)"
   ]
  },
  {
   "cell_type": "code",
   "execution_count": 176,
   "id": "f7c8a6a6-9545-43ff-8b1d-967692831cf6",
   "metadata": {},
   "outputs": [
    {
     "data": {
      "text/plain": [
       "\" The Bible says Jesus was the son and father of a group of men and women . He explains how the Bible's creation of the Bible changed the way God dealt with the birth of Jesus Christ . In fact, the Bible had no conception of Jesus as an adult when he became a man and godfather . It says that Jesus was born into a family of men, not just children, but adults; they were also parents . They are responsible for the Bible’s origin; it says: “The Bible” – A generation of people have come to their faith . We say that the Bible contains many passages from the Bible . Some of them are believed to have fallen away from its teachings . And Jesus is the son who has been with the world since he came to his first appearance in the Bible  Many widows were in Israel in the days of Elias' When the heaven was shut up three years and six months, when famine was  He laid his hands on every one of the sick with divers diseases, and healed them . And devils also came out of many, crying out, and saying, 'Thrill Christ the Son of God . And they were astonished at his doctrine: for his word was with power . Jesus rebuked him, saying, Hold thy peace, and come out of him, and hurt him not . But woe unto you that are rich! for ye have received your consolation . Rejoice ye in that day, and leap for joy: for, behold, your reward is great in heaven . Your reward shall be great, and ye shall be the children of the Highest .  A man of the company cried out, saying, Master, I beseech thee, look upon my son: for he is mine only child . And, lo, a spirit taketh him, and he suddenly crieth out; and it teareth him that he foameth again, and bruising him hardly departeth from him . Jesus rebuked the unclean spirit, and healed the child, and delivered him again to his father . Then went the devils out of the man, and entered  When they that fed them saw what was done, they fled, and went and told it in the city and in the country . Then they went to Jesus, and found the man at the feet of Jesus, clothed, and in his right mind . They also which saw it told them by what means he that was healed  So is \\xa0so is he who lays up treasure in treasure for themselves, and isn't rich toward ... God said 'So is he  Consider the ravens: for they neither sow nor reap; which neither have storehouse nor barn . How much more are ye better than the fowls? And which of you with taking thought can add to his stature can add one cubit?' Then said he, Unto what is the kingdom of God like? and whereunto shall I resemble it? It is like a grain of mustard seed, which a man took, and cast into his garden . Strive to enter in at the strait gate: for many, I say, will seek to enter into, and shall not be able . There shall be weeping and gnashing of teeth, when ye shall see Abraham, Isaac, and Jacob  A certain man planted a vineyard, and let it forth to husbandmen, and went into a far country for a long time . But when the husbandmen saw him, they reasoned among themselves, saying, This is the heir: come, let us kill him . So they cast him out of the vineyard,. and killed him . And he beheld them, and said, What is this then that is written, The stone which the builders rejected, the same is become the head of the corner? Whosoever shall fall upon that stone shall be broken; but on whomsoever it shall fall, it will grind him to powder . Then in the audience of all the scribes,  When ye shall see Jerusalem compassed with armies, then know that the desolation thereof is nigh  Pilate found no fault in this man touching those things whereof ye accuse him:  No, nor yet Herod . But Jesus said, Judas betrayest thou the Son of man with a kiss? When they which were about him saw what would follow, they said, Lord, shall we smite with the sword? And one of them smote the servant of the high priest, and cut off his right ear . And Jesus touched his ear, and healed him . Peter remembered the word of the Lord, how he had said, Before the cock crow, thou shalt deny me thrice . \""
      ]
     },
     "execution_count": 176,
     "metadata": {},
     "output_type": "execute_result"
    }
   ],
   "source": [
    "summarization_pipeline_consolidation(luke)"
   ]
  },
  {
   "cell_type": "markdown",
   "id": "d3959283-6da0-4df5-b099-aa8784fd5973",
   "metadata": {},
   "source": [
    "## John"
   ]
  },
  {
   "cell_type": "code",
   "execution_count": 103,
   "id": "b4ab1b66-249d-46b8-b593-c077d6abcfc7",
   "metadata": {},
   "outputs": [],
   "source": [
    "john = get_book_text('John', bible)"
   ]
  },
  {
   "cell_type": "code",
   "execution_count": 104,
   "id": "9751f658-89d3-4882-872e-930e4b795cbd",
   "metadata": {},
   "outputs": [
    {
     "name": "stdout",
     "output_type": "stream",
     "text": [
      "****************************\n",
      "*** TF-IDF Consolidation ***\n",
      "****************************\n",
      "Max pooling:\n",
      "------------\n",
      "These words spake Jesus, and lifted up his eyes to heaven, and said, Father, the hour is come; glorify thy Son, that thy Son also may glorify thee:\n",
      "  As thou hast given him power over all flesh, that he should give eternal life to as many as thou hast given him. Nicodemus saith unto them, (he that came to Jesus by night, being one of them,)\n",
      "  Doth our law judge any man, before it hear him, and know what he doeth? But Mary stood without at the sepulchre weeping: and as she wept, she stooped down, and looked into the sepulchre,\n",
      "  And seeth two angels in white sitting, the one at the head, and the other at the feet, where the body of Jesus had lain. Our fathers worshipped in this mountain; and ye say, that in Jerusalem is the place where men ought to worship. And many of the Samaritans of that city believed on him for the saying of the woman, which testified, He told me all that ever I did. The Jews therefore, because it was the preparation, that the bodies should not remain upon the cross on the sabbath day, (for that sabbath day was an high day,) besought Pilate that their legs might be broken, and that they might be taken away. There were together Simon Peter, and Thomas called Didymus, and Nathanael of Cana in Galilee, and the sons of Zebedee, and two other of his disciples. The Pharisees heard that the people murmured such things concerning him; and the Pharisees and the chief priests sent officers to take him. Now is the judgment of this world: now shall the prince of this world be cast out. Philip answered him, Two hundred pennyworth of bread is not sufficient for them, that every one of them may take a little. He that hath the bride is the bridegroom: but the friend of the bridegroom, which standeth and heareth him, rejoiceth greatly because of the bridegroom's voice: this my joy therefore is fulfilled. For an angel went down at a certain season into the pool, and troubled the water: whosoever then first after the troubling of the water stepped in was made whole of whatsoever disease he had.\n",
      "============================================================\n",
      "Sum pooling:\n",
      "------------\n",
      "And he said, Therefore said I unto you, that no man can come unto me, except it were given unto him of my Father. Jesus answered them, Do ye now believe? And this is life eternal, that they might know thee the only true God, and Jesus Christ, whom thou hast sent. Then said Jesus unto them, When ye have lifted up the Son of man, then shall ye know that I am he, and that I do nothing of myself; but as my Father hath taught me, I speak these things. When Pilate therefore heard that saying, he was the more afraid;\n",
      "  And went again into the judgment hall, and saith unto Jesus, Whence art thou? The next day John seeth Jesus coming unto him, and saith, Behold the Lamb of God, which taketh away the sin of the world. Therefore that disciple whom Jesus loved saith unto Peter, It is the Lord. Jesus said unto them, If God were your Father, ye would love me: for I proceeded forth and came from God; neither came I of myself, but he sent me. Jesus saith unto her, Said I not unto thee, that, if thou wouldest believe, thou shouldest see the glory of God? Ye shall seek me: and as I said unto the Jews, Whither I go, ye cannot come; so now I say to you. Jesus answered, Verily, verily, I say unto thee, Except a man be born of water and of the Spirit, he cannot enter into the kingdom of God. Then spake Jesus again unto them, saying, I am the light of the world: he that followeth me shall not walk in darkness, but shall have the light of life. And many more believed because of his own word;\n",
      "  And said unto the woman, Now we believe, not because of thy saying: for we have heard him ourselves, and know that this is indeed the Christ, the Saviour of the world. Then said Jesus unto the twelve, Will ye also go away? Jesus answered and said unto him, Art thou a master of Israel, and knowest not these things?\n",
      "\n",
      "**********************************\n",
      "*** Transformers Consolidation ***\n",
      "**********************************\n",
      "Sentence pooling:\n",
      "-----------------\n",
      "Then said they unto him, Who art thou? This is again the second miracle that Jesus did, when he was come out of Judaea into Galilee. This is that bread which came down from heaven: not as your fathers did eat manna, and are dead: he that eateth of this bread shall live for ever. These things spake Jesus, and departed, and did hide himself from them. All that the Father giveth me shall come to me; and him that cometh to me I will in no wise cast out. how is it then that he saith, I came down from heaven? This is the disciple which testifieth of these things, and wrote these things: and we know that his testimony is true. And his disciples remembered that it was written, The zeal of thine house hath eaten me up. And Jesus said, For judgment I am come into this world, that they which see not might see; and that they which see might be made blind. In the last day, that great day of the feast, Jesus stood and cried, saying, If any man thirst, let him come unto me, and drink. And Nathanael said unto him, Can there any good thing come out of Nazareth? Jesus saith unto him, Have I been so long time with you, and yet hast thou not known me, Philip? For as yet they knew not the scripture, that he must rise again from the dead. He said, I am the voice of one crying in the wilderness, Make straight the way of the Lord, as said the prophet Esaias. If we let him thus alone, all men will believe on him: and the Romans shall come and take away both our place and nation. Jesus answered, I have told you that I am he: if therefore ye seek me, let these go their way:\n",
      "  That the saying might be fulfilled, which he spake, Of them which thou gavest me have I lost none. He came therefore, and took the body of Jesus. But the hour cometh, and now is, when the true worshippers shall worship the Father in spirit and in truth: for the Father seeketh such to worship him.\n",
      "============================================================\n",
      "Chunk pooling:\n",
      "--------------\n",
      "They said therefore unto him, Art not thou also one of his disciples? Now Bethany was nigh unto Jerusalem, about fifteen furlongs off:\n",
      "  And many of the Jews came to Martha and Mary, to comfort them concerning their brother. how is it then that he saith, I came down from heaven? Jesus answered them and said, Verily, verily, I say unto you, Ye seek me, not because ye saw the miracles, but because ye did eat of the loaves, and were filled. But the Comforter, which is the Holy Ghost, whom the Father will send in my name, he shall teach you all things, and bring all things to your remembrance, whatsoever I have said unto you. Jesus answered and said unto him, If a man love me, he will keep my words: and my Father will love him, and we will come unto him, and make our abode with him. And supper being ended, the devil having now put into the heart of Judas Iscariot, Simon's son, to betray him;\n",
      "  Jesus knowing that the Father had given all things into his hands, and that he was come from God, and went to God;\n",
      "  He riseth from supper, and laid aside his garments; and took a towel, and girded himself. Jesus saith unto her, Woman, believe me, the hour cometh, when ye shall neither in this mountain, nor yet at Jerusalem, worship the Father. But the chief priests consulted that they might put Lazarus also to death;\n",
      "  Because that by reason of him many of the Jews went away, and believed on Jesus. Jesus answered him, If I have spoken evil, bear witness of the evil: but if well, why smitest thou me? And Jesus said, For judgment I am come into this world, that they which see not might see; and that they which see might be made blind. John answered them, saying, I baptize with water: but there standeth one among you, whom ye know not;\n",
      "  He it is, who coming after me is preferred before me, whose shoe's latchet I am not worthy to unloose. Jesus saith unto them, Loose him, and let him go.\n"
     ]
    }
   ],
   "source": [
    "printing(john)"
   ]
  },
  {
   "cell_type": "code",
   "execution_count": 179,
   "id": "9e6aef9d-d565-4064-a197-8acbb465c54a",
   "metadata": {},
   "outputs": [
    {
     "data": {
      "text/plain": [
       "' The next day John seeth Jesus coming unto him, and saith, Behold the Lamb of God, which taketh away the sin of the world . These things were done in Bethabara beyond Jordan, where John was baptizing . After these things came Jesus and his disciples into Judaea; and there he tarried with them, and baptized . Then cometh he to a city of Samaria, which is called Sychar, near to the parcel that Jacob gave to his son Joseph . Many Samaritans of that city believed on him for the saying of the woman . But Jesus did not commit himself to them, because he knew all men,  He said, My meat is to do the will of him . And many more believed because of his own word .  After these things Jesus walked in Galilee . Many of his disciples went back, and walked no more with him . The day following, when the people stood on the other side of the sea saw that there was none other boat there, save that one where into his disciples were entered, and that Jesus went not with his disciples into the boat, but that his disciples had gone away alone . When Christ comes, there will be no one who knows what he is from himself, but he that seeketh his glory that sent him, the same is true . Judge not according to the appearance, but judge righteous judgment,  judge righteous judgement . For he would not walk in Jewry, because the Jews sought to kill him . But when his brethren were gone up, then went he also went for the feast, as it were in secret  Many of them said, He hath a devil, and is mad; why hear ye him? Others said, These are not the words of him that has a devil . Can a devil open the eyes of the blind? Then the Jews took up stones again to stone him . But Jesus answered them, I told you, and ye believed not . A new commandment I give unto you, That ye love one another; as I have loved you . By this shall all men know that ye are my disciples, if ye have love one to another . When it is come to pass, ye may believe that I am he. And if ye know these things, happy are ye if ye do them, Happy are ye If ye did them . The word that I have spoken, the same  The first day of the week cometh Mary Magdalene early, when it was yet dark, and seeth the stone taken away from the sepulchre . As she wept, she stooped down, and looked into the \\xa0seemed to see two angels in white sitting, the one at the head, and the other at the feet, where the body of Jesus had lain . After eight days again his disciples were within, and Thomas with them: then came Jesus, and stood in the midst of the midst, and said, Peace be unto you . And now I pray for them: I pray not for the world, but for them which thou hast given me; for they are thine . While I was with them in the world,. I kept them in thy name .  There are also many other things which Jesus did, which, if they should be written every one, I suppose that even the world itself could not contain the books that should be done . Amen. If I will that he tarry till I come, what is that? '"
      ]
     },
     "execution_count": 179,
     "metadata": {},
     "output_type": "execute_result"
    }
   ],
   "source": [
    "summarization_pipeline_consolidation(john)"
   ]
  },
  {
   "cell_type": "markdown",
   "id": "358b6b7a-8258-4b42-80dd-a5dcd5f3343a",
   "metadata": {},
   "source": [
    "## Acts"
   ]
  },
  {
   "cell_type": "code",
   "execution_count": 105,
   "id": "813998c3-8a9a-4e2f-b4bc-8b28dbc4c031",
   "metadata": {},
   "outputs": [],
   "source": [
    "acts = get_book_text('Acts', bible)"
   ]
  },
  {
   "cell_type": "code",
   "execution_count": 106,
   "id": "4cd1e44d-2a9e-4ea4-8a35-b3a7f5f23b45",
   "metadata": {},
   "outputs": [
    {
     "name": "stdout",
     "output_type": "stream",
     "text": [
      "****************************\n",
      "*** TF-IDF Consolidation ***\n",
      "****************************\n",
      "Max pooling:\n",
      "------------\n",
      "Then pleased it the apostles and elders, with the whole church, to send chosen men of their own company to Antioch with Paul and Barnabas; namely, Judas surnamed Barsabas, and Silas, chief men among the brethren:\n",
      "  And they wrote letters by them after this manner; The apostles and elders and brethren send greeting unto the brethren which are of the Gentiles in Antioch and Syria and Cilicia:\n",
      "  Forasmuch as we have heard, that certain which went out from us have troubled you with words, subverting your souls, saying, Ye must be circumcised, and keep the law: to whom we gave no such commandment:\n",
      "  It seemed good unto us, being assembled with one accord, to send chosen men unto you with our beloved Barnabas and Paul,\n",
      "  Men that have hazarded their lives for the name of our Lord Jesus Christ. For David speaketh concerning him, I foresaw the Lord always before my face, for he is on my right hand, that I should not be moved:\n",
      "  Therefore did my heart rejoice, and my tongue was glad; moreover also my flesh shall rest in hope:\n",
      "  Because thou wilt not leave my soul in hell, neither wilt thou suffer thine Holy One to see corruption. But when the time of the promise drew nigh, which God had sworn to Abraham, the people grew and multiplied in Egypt,\n",
      "  Till another king arose, which knew not Joseph. Therefore, when they were come hither, without any delay on the morrow I sat on the judgment seat, and commanded the man to be brought forth. But Peter rehearsed the matter from the beginning, and expounded it by order unto them, saying,\n",
      "  I was in the city of Joppa praying: and in a trance I saw a vision, A certain vessel descend, as it had been a great sheet, let down from heaven by four corners; and it came even to me:\n",
      "  Upon the which when I had fastened mine eyes, I considered, and saw fourfooted beasts of the earth, and wild beasts, and creeping things, and fowls of the air. But when divers were hardened, and believed not, but spake evil of that way before the multitude, he departed from them, and separated the disciples, disputing daily in the school of one Tyrannus.\n",
      "============================================================\n",
      "Sum pooling:\n",
      "------------\n",
      "So he took him, and brought him to the chief captain, and said, Paul the prisoner called me unto him, and prayed me to bring this young man unto thee, who hath something to say unto thee. When Moses saw it, he wondered at the sight: and as he drew near to behold it, the voice of the Lord came unto him,\n",
      "  Saying, I am the God of thy fathers, the God of Abraham, and the God of Isaac, and the God of Jacob. Now when the apostles which were at Jerusalem heard that Samaria had received the word of God, they sent unto them Peter and John:\n",
      "  Who, when they were come down, prayed for them, that they might receive the Holy Ghost:\n",
      "  (For as yet he was fallen upon none of them: only they were baptized in the name of the Lord Jesus.) Then pleased it the apostles and elders, with the whole church, to send chosen men of their own company to Antioch with Paul and Barnabas; namely, Judas surnamed Barsabas, and Silas, chief men among the brethren:\n",
      "  And they wrote letters by them after this manner; The apostles and elders and brethren send greeting unto the brethren which are of the Gentiles in Antioch and Syria and Cilicia:\n",
      "  Forasmuch as we have heard, that certain which went out from us have troubled you with words, subverting your souls, saying, Ye must be circumcised, and keep the law: to whom we gave no such commandment:\n",
      "  It seemed good unto us, being assembled with one accord, to send chosen men unto you with our beloved Barnabas and Paul,\n",
      "  Men that have hazarded their lives for the name of our Lord Jesus Christ. And he said, Who art thou, Lord? Then Peter, filled with the Holy Ghost, said unto them, Ye rulers of the people, and elders of Israel,\n",
      "  If we this day be examined of the good deed done to the impotent man, by what means he is made whole;\n",
      "  Be it known unto you all, and to all the people of Israel, that by the name of Jesus Christ of Nazareth, whom ye crucified, whom God raised from the dead, even by him doth this man stand here before you whole.\n",
      "\n",
      "**********************************\n",
      "*** Transformers Consolidation ***\n",
      "**********************************\n",
      "Sentence pooling:\n",
      "-----------------\n",
      "And he commanded them to be baptized in the name of the Lord. Then Paul stood in the midst of Mars' hill, and said, Ye men of Athens, I perceive that in all things ye are too superstitious. And Festus said, King Agrippa, and all men which are here present with us, ye see this man, about whom all the multitude of the Jews have dealt with me, both at Jerusalem, and also here, crying that he ought not to live any longer. And the Lord said unto him, Arise, and go into the street which is called Straight, and enquire in the house of Judas for one called Saul, of Tarsus: for, behold, he prayeth,\n",
      "  And hath seen in a vision a man named Ananias coming in, and putting his hand on him, that he might receive his sight. And the brethren immediately sent away Paul and Silas by night unto Berea: who coming thither went into the synagogue of the Jews. And I heard a voice saying unto me, Arise, Peter; slay and eat. Nevertheless he left not himself without witness, in that he did good, and gave us rain from heaven, and fruitful seasons, filling our hearts with food and gladness. But the chief captain Lysias came upon us, and with great violence took him away out of our hands,\n",
      "  Commanding his accusers to come unto thee: by examining of whom thyself mayest take knowledge of all these things, whereof we accuse him. And when Peter was come to himself, he said, Now I know of a surety, that the Lord hath sent his angel, and hath delivered me out of the hand of Herod, and from all the expectation of the people of the Jews. And they came to the chief priests and elders, and said, We have bound ourselves under a great curse, that we will eat nothing until we have slain Paul. Then they suborned men, which said, We have heard him speak blasphemous words against Moses, and against God. And, behold, immediately there were three men already come unto the house where I was, sent from Caesarea unto me. And Philip ran thither to him, and heard him read the prophet Esaias, and said, Understandest thou what thou readest?\n",
      "============================================================\n",
      "Chunk pooling:\n",
      "--------------\n",
      "Then pleased it the apostles and elders, with the whole church, to send chosen men of their own company to Antioch with Paul and Barnabas; namely, Judas surnamed Barsabas, and Silas, chief men among the brethren:\n",
      "  And they wrote letters by them after this manner; The apostles and elders and brethren send greeting unto the brethren which are of the Gentiles in Antioch and Syria and Cilicia:\n",
      "  Forasmuch as we have heard, that certain which went out from us have troubled you with words, subverting your souls, saying, Ye must be circumcised, and keep the law: to whom we gave no such commandment:\n",
      "  It seemed good unto us, being assembled with one accord, to send chosen men unto you with our beloved Barnabas and Paul,\n",
      "  Men that have hazarded their lives for the name of our Lord Jesus Christ. But Peter rehearsed the matter from the beginning, and expounded it by order unto them, saying,\n",
      "  I was in the city of Joppa praying: and in a trance I saw a vision, A certain vessel descend, as it had been a great sheet, let down from heaven by four corners; and it came even to me:\n",
      "  Upon the which when I had fastened mine eyes, I considered, and saw fourfooted beasts of the earth, and wild beasts, and creeping things, and fowls of the air. And when the seven days were almost ended, the Jews which were of Asia, when they saw him in the temple, stirred up all the people, and laid hands on him,\n",
      "  Crying out, Men of Israel, help: This is the man, that teacheth all men every where against the people, and the law, and this place: and further brought Greeks also into the temple, and hath polluted this holy place. And when he had tarried among them more than ten days, he went down unto Caesarea; and the next day sitting on the judgment seat commanded Paul to be brought. But ye denied the Holy One and the Just, and desired a murderer to be granted unto you;\n",
      "  And killed the Prince of life, whom God hath raised from the dead; whereof we are witnesses.\n"
     ]
    }
   ],
   "source": [
    "printing(acts)"
   ]
  },
  {
   "cell_type": "code",
   "execution_count": 182,
   "id": "a823c680-8ff5-45e0-9431-6a67c2f228ed",
   "metadata": {},
   "outputs": [
    {
     "data": {
      "text/plain": [
       "' Matthias was chosen to be a witness with us of his resurrection . Matthias, Barsabas and Justus were appointed as the two apostles on the day of Pentecost . They were amazed and marvelled, saying one to another, Behold, are not all these which speak Galilaeans? And how hear we every man in our own tongue, wherein we were born? We do hear them speak in our tongues the wonderful works of God . A notable miracle of healing was done by them that is manifest to all them that dwell in Jerusalem, and we cannot deny it . But that it spread no further among the people, let us straitly threaten them, that they speak henceforth to no man in this name . This is the stone which was set at nought of you builders, which is  become the head of the corner  When he was full forty years old, it came into his heart to visit his brethren the children of Israel . And seeing one of them suffer wrong, he defended him, and avenged him that was oppressed, and smote the Egyptian . But he that did his neighbour wrong thrust him away, saying, Who made thee a ruler and a judge over us? Wilt thou kill me, as thou diddest the Egyptian yesterday? Then fled Moses at this saying, and became a stranger in the land of Madian, where he begat two sons . As for Saul, he made havock of the church,  Peter and John laid their hands on them, and they received the Holy Ghost . Simon offered to sell them money for the gift of God, but Peter said, \"Throne perish with thee\" Ananias, a disciple at Damascus, said the Lord in a vision  In a trance I saw a vision, A certain vessel descend, as it had been a great sheet, let down from heaven . As they ministered to the Lord, the Holy Ghost said, Separate me Barnabaas and Saul for the work whereunto I have called them . They departed unto Seleucia; and from thence they sailed to Cyprus . When they were at Salamis, they preached the word of God in the synagogues of the Jews: and they had also John to their minister. And immediately the angel of the Lord smote him, because he gave not God the glory: and he was eaten of worms . But the Jews stirred up a devout and honoured women,. and the Chief Men of the City, and expelled them out of their coasts . They shook off  Paul and Barnabas  After these things Paul departed from Athens, and came to Corinth;  And found a certain Jew named Aquila, born in Pontus, lately come from Italy, with his wife Priscilla . He reasoned in the synagogue every sabbath, and persuaded the Jews and the Greeks . When they opposed themselves, and blasphemed, he shook their raimen, Gallio was the deputy of Achaia, and the Jews made insurrection with one accord against Paul . Crispus, the chief ruler of the synagogue, believed on the Lord with all his house; and many of the Corinthians hearing believed, and were baptized . Then spake the Lord to Paul in the night by a vision, Be not afraid, but speak, and hold not thy peace:  For I am with thee, and no man shall set on thee to hurt thee  Paul was brought forth before King Agrippa at the request of Festus Festus . The Jews laid many and grievous complaints against Paul, which they could not prove . Paul said, \\'I would to God, that not only thou, but also all that hear me this day, were both almost, and altogether such as I am, except these bonds\\' After three months we departed in a ship of Alexandria, which had wintered in the isle Castor and Pollux . In the same quarters were possessions of the chief man of the island, Publius; who received us three days courteously . Paul was suffered to dwell by himself with a soldier that kept him . He expounded and testified the kingdom of God, persuading them concerning Jesus . Some believed the things which were spoken '"
      ]
     },
     "execution_count": 182,
     "metadata": {},
     "output_type": "execute_result"
    }
   ],
   "source": [
    "summarization_pipeline_consolidation(acts)"
   ]
  },
  {
   "cell_type": "markdown",
   "id": "070b096d-2649-4663-b510-222800ed13f2",
   "metadata": {},
   "source": [
    "## Romans"
   ]
  },
  {
   "cell_type": "code",
   "execution_count": 107,
   "id": "18667666-b3e1-4c5b-9f77-b4a89f4db472",
   "metadata": {},
   "outputs": [],
   "source": [
    "romans = get_book_text('Romans', bible)"
   ]
  },
  {
   "cell_type": "code",
   "execution_count": 108,
   "id": "ac8c1f83-a65e-4d4b-b175-cb763c57ce5e",
   "metadata": {},
   "outputs": [
    {
     "name": "stdout",
     "output_type": "stream",
     "text": [
      "****************************\n",
      "*** TF-IDF Consolidation ***\n",
      "****************************\n",
      "Max pooling:\n",
      "------------\n",
      "Paul, a servant of Jesus Christ, called to be an apostle, separated unto the gospel of God,\n",
      "  (Which he had promised afore by his prophets in the holy scriptures,)\n",
      "  Concerning his Son Jesus Christ our Lord, which was made of the seed of David according to the flesh;\n",
      "  And declared to be the Son of God with power, according to the spirit of holiness, by the resurrection from the dead:\n",
      "  By whom we have received grace and apostleship, for obedience to the faith among all nations, for his name:\n",
      "  Among whom are ye also the called of Jesus Christ:\n",
      "  To all that be in Rome, beloved of God, called to be saints: Grace to you and peace from God our Father, and the Lord Jesus Christ. Wherefore, as by one man sin entered into the world, and death by sin; and so death passed upon all men, for that all have sinned:\n",
      "  (For until the law sin was in the world: but sin is not imputed when there is no law. And again, Esaias saith, There shall be a root of Jesse, and he that shall rise to reign over the Gentiles; in him shall the Gentiles trust. But after thy hardness and impenitent heart treasurest up unto thyself wrath against the day of wrath and revelation of the righteous judgment of God;\n",
      "  Who will render to every man according to his deeds:\n",
      "  To them who by patient continuance in well doing seek for glory and honour and immortality, eternal life:\n",
      "  But unto them that are contentious, and do not obey the truth, but obey unrighteousness, indignation and wrath,\n",
      "  Tribulation and anguish, upon every soul of man that doeth evil, of the Jew first, and also of the Gentile;\n",
      "  But glory, honour, and peace, to every man that worketh good, to the Jew first, and also to the Gentile:\n",
      "  For there is no respect of persons with God. For one believeth that he may eat all things: another, who is weak, eateth herbs. Thou wilt say then, The branches were broken off, that I might be graffed in. Happy is he that condemneth not himself in that thing which he alloweth. Cometh this blessedness then upon the circumcision only, or upon the uncircumcision also?\n",
      "============================================================\n",
      "Sum pooling:\n",
      "------------\n",
      "But now the righteousness of God without the law is manifested, being witnessed by the law and the prophets;\n",
      "  Even the righteousness of God which is by faith of Jesus Christ unto all and upon all them that believe: for there is no difference:\n",
      "  For all have sinned, and come short of the glory of God;\n",
      "  Being justified freely by his grace through the redemption that is in Christ Jesus:\n",
      "  Whom God hath set forth to be a propitiation through faith in his blood, to declare his righteousness for the remission of sins that are past, through the forbearance of God;\n",
      "  To declare, I say, at this time his righteousness: that he might be just, and the justifier of him which believeth in Jesus. For if ye live after the flesh, ye shall die: but if ye through the Spirit do mortify the deeds of the body, ye shall live. shall we sin, because we are not under the law, but under grace? (I speak as a man)\n",
      "  God forbid: for then how shall God judge the world? Likewise reckon ye also yourselves to be dead indeed unto sin, but alive unto God through Jesus Christ our Lord. And we know that all things work together for good to them that love God, to them who are the called according to his purpose. The word is nigh thee, even in thy mouth, and in thy heart: that is, the word of faith, which we preach;\n",
      "  That if thou shalt confess with thy mouth the Lord Jesus, and shalt believe in thine heart that God hath raised him from the dead, thou shalt be saved. Nevertheless, brethren, I have written the more boldly unto you in some sort, as putting you in mind, because of the grace that is given to me of God,\n",
      "  That I should be the minister of Jesus Christ to the Gentiles, ministering the gospel of God, that the offering up of the Gentiles might be acceptable, being sanctified by the Holy Ghost.\n",
      "\n",
      "**********************************\n",
      "*** Transformers Consolidation ***\n",
      "**********************************\n",
      "Sentence pooling:\n",
      "-----------------\n",
      "But God be thanked, that ye were the servants of sin, but ye have obeyed from the heart that form of doctrine which was delivered you. For none of us liveth to himself, and no man dieth to himself. For we know that the whole creation groaneth and travaileth in pain together until now. Who is he that condemneth? God forbid: but rather through their fall salvation is come unto the Gentiles, for to provoke them to jealousy. Much more then, being now justified by his blood, we shall be saved from wrath through him. have it to thyself before God. thou that preachest a man should not steal, dost thou steal? For I am not ashamed of the gospel of Christ: for it is the power of God unto salvation to every one that believeth; to the Jew first, and also to the Greek. Let not then your good be evil spoken of:\n",
      "  For the kingdom of God is not meat and drink; but righteousness, and peace, and joy in the Holy Ghost. Wherefore God also gave them up to uncleanness through the lusts of their own hearts, to dishonour their own bodies between themselves:\n",
      "  Who changed the truth of God into a lie, and worshipped and served the creature more than the Creator, who is blessed for ever. For if through the offence of one many be dead, much more the grace of God, and the gift by grace, which is by one man, Jesus Christ, hath abounded unto many. And we know that all things work together for good to them that love God, to them who are the called according to his purpose. Having then gifts differing according to the grace that is given to us, whether prophecy, let us prophesy according to the proportion of faith;\n",
      "  Or ministry, let us wait on our ministering: or he that teacheth, on teaching;\n",
      "  Or he that exhorteth, on exhortation: he that giveth, let him do it with simplicity; he that ruleth, with diligence; he that sheweth mercy, with cheerfulness. Nay: but by the law of faith. But what saith the answer of God unto him?\n",
      "============================================================\n",
      "Chunk pooling:\n",
      "--------------\n",
      "But after thy hardness and impenitent heart treasurest up unto thyself wrath against the day of wrath and revelation of the righteous judgment of God;\n",
      "  Who will render to every man according to his deeds:\n",
      "  To them who by patient continuance in well doing seek for glory and honour and immortality, eternal life:\n",
      "  But unto them that are contentious, and do not obey the truth, but obey unrighteousness, indignation and wrath,\n",
      "  Tribulation and anguish, upon every soul of man that doeth evil, of the Jew first, and also of the Gentile;\n",
      "  But glory, honour, and peace, to every man that worketh good, to the Jew first, and also to the Gentile:\n",
      "  For there is no respect of persons with God. Wherefore, my brethren, ye also are become dead to the law by the body of Christ; that ye should be married to another, even to him who is raised from the dead, that we should bring forth fruit unto God. Yea, so have I strived to preach the gospel, not where Christ was named, lest I should build upon another man's foundation:\n",
      "  But as it is written, To whom he was not spoken of, they shall see: and they that have not heard shall understand. For I am persuaded, that neither death, nor life, nor angels, nor principalities, nor powers, nor things present, nor things to come,\n",
      "  Nor height, nor depth, nor any other creature, shall be able to separate us from the love of God, which is in Christ Jesus our Lord. That is, They which are the children of the flesh, these are not the children of God: but the children of the promise are counted for the seed. And he that doubteth is damned if he eat, because he eateth not of faith: for whatsoever is not of faith is sin. For what the law could not do, in that it was weak through the flesh, God sending his own Son in the likeness of sinful flesh, and for sin, condemned sin in the flesh:\n",
      "  That the righteousness of the law might be fulfilled in us, who walk not after the flesh, but after the Spirit.\n"
     ]
    }
   ],
   "source": [
    "printing(romans)"
   ]
  },
  {
   "cell_type": "code",
   "execution_count": 185,
   "id": "6ec82f22-0712-4e38-88cb-b31a3a09c3ed",
   "metadata": {},
   "outputs": [
    {
     "data": {
      "text/plain": [
       "' Paul: \"To all that be in Rome, beloved of God,\"  Grace to you and peace from God our Father, and the Lord Jesus Christ\" So, as much as in me is, I am ready to preach the gospel to you that are at Rome also . Professing themselves to be wise, they became fools . And changed the glory of the uncorruptible God into an image made like to corruptible man, and to birds, and fourfooted beasts, and creeping things . The name of God is blasphemed among the Gentiles through you through you, as it is written . Both Jews and Gentiles are all under sin, says the Jewish leader . But if our unrighteousness commend the righteousness of God, what shall we say? Is God unrighteous who taketh vengeance?  There is no difference between the Jew and the Greek: for the same Lord over all is rich unto all that call upon him . How then shall they call on him in whom they have not believed? And how shall they believe in him of whom they haven\\'t heard? But I say, Have they not heard? Yes verily, their sound went into all the earth, and their words unto the ends of the world . So then faith cometh by hearing, and hearing  The apostle of the Gentiles: \\'I magnify mine office\\' Greet Priscilla and Aquila my helpers in Christ Jesus’s name . Salute Asyncritus, Phlegon, Hermas, Patrobas, Hermes, Philologus, Julia, Nereus, and his sister, and Olympas .  Now I beseech you, brethren, mark them which cause divisions and offences contrary to the doctrine which ye have learned; and '"
      ]
     },
     "execution_count": 185,
     "metadata": {},
     "output_type": "execute_result"
    }
   ],
   "source": [
    "summarization_pipeline_consolidation(romans)"
   ]
  },
  {
   "cell_type": "markdown",
   "id": "9aa040f9-0a25-4a47-9388-e36d926374a3",
   "metadata": {},
   "source": [
    "## 1 Corinthians"
   ]
  },
  {
   "cell_type": "code",
   "execution_count": 109,
   "id": "3fbe640c-ef75-42f8-92d8-d6bb05760aa8",
   "metadata": {},
   "outputs": [],
   "source": [
    "corinthians1 = get_book_text('1 Corinthians', bible)"
   ]
  },
  {
   "cell_type": "code",
   "execution_count": 110,
   "id": "34b3cadf-66e4-4c73-86e5-98de77d236dd",
   "metadata": {},
   "outputs": [
    {
     "name": "stdout",
     "output_type": "stream",
     "text": [
      "****************************\n",
      "*** TF-IDF Consolidation ***\n",
      "****************************\n",
      "Max pooling:\n",
      "------------\n",
      "I speak as to wise men; judge ye what I say. And God hath set some in the church, first apostles, secondarily prophets, thirdly teachers, after that miracles, then gifts of healings, helps, governments, diversities of tongues. For if any man see thee which hast knowledge sit at meat in the idol's temple, shall not the conscience of him which is weak be emboldened to eat those things which are offered to idols;\n",
      "  And through thy knowledge shall the weak brother perish, for whom Christ died? For I verily, as absent in body, but present in spirit, have judged already, as though I were present, concerning him that hath so done this deed,\n",
      "  In the name of our Lord Jesus Christ, when ye are gathered together, and my spirit, with the power of our Lord Jesus Christ,\n",
      "  To deliver such an one unto Satan for the destruction of the flesh, that the spirit may be saved in the day of the Lord Jesus. Wherefore let him that speaketh in an unknown tongue pray that he may interpret. care not for it: but if thou mayest be made free, use it rather. But every woman that prayeth or prophesieth with her head uncovered dishonoureth her head: for that is even all one as if she were shaven. And whether one member suffer, all the members suffer with it; or one member be honoured, all the members rejoice with it. The sting of death is sin; and the strength of sin is the law. And I, brethren, when I came to you, came not with excellency of speech or of wisdom, declaring unto you the testimony of God. For the unbelieving husband is sanctified by the wife, and the unbelieving wife is sanctified by the husband: else were your children unclean; but now are they holy. For our sakes, no doubt, this is written: that he that ploweth should plow in hope; and that he that thresheth in hope should be partaker of his hope. There are also celestial bodies, and bodies terrestrial: but the glory of the celestial is one, and the glory of the terrestrial is another.\n",
      "============================================================\n",
      "Sum pooling:\n",
      "------------\n",
      "I thank my God always on your behalf, for the grace of God which is given you by Jesus Christ;\n",
      "  That in every thing ye are enriched by him, in all utterance, and in all knowledge;\n",
      "  Even as the testimony of Christ was confirmed in you:\n",
      "  So that ye come behind in no gift; waiting for the coming of our Lord Jesus Christ:\n",
      "  Who shall also confirm you unto the end, that ye may be blameless in the day of our Lord Jesus Christ. Say I these things as a man? Let the prophets speak two or three, and let the other judge. The wife hath not power of her own body, but the husband: and likewise also the husband hath not power of his own body, but the wife. know ye not that your body is the temple of the Holy Ghost which is in you, which ye have of God, and ye are not your own? Wherefore whosoever shall eat this bread, and drink this cup of the Lord, unworthily, shall be guilty of the body and blood of the Lord. For he that speaketh in an unknown tongue speaketh not unto men, but unto God: for no man understandeth him; howbeit in the spirit he speaketh mysteries. Now we have received, not the spirit of the world, but the spirit which is of God; that we might know the things that are freely given to us of God. And if any man hunger, let him eat at home; that ye come not together unto condemnation. But I would have you know, that the head of every man is Christ; and the head of the woman is the man; and the head of Christ is God. Who then is Paul, and who is Apollos, but ministers by whom ye believed, even as the Lord gave to every man? How is it then, brethren? In the law it is written, With men of other tongues and other lips will I speak unto this people; and yet for all that will they not hear me, saith the Lord. Therefore judge nothing before the time, until the Lord come, who both will bring to light the hidden things of darkness, and will make manifest the counsels of the hearts: and then shall every man have praise of God.\n",
      "\n",
      "**********************************\n",
      "*** Transformers Consolidation ***\n",
      "**********************************\n",
      "Sentence pooling:\n",
      "-----------------\n",
      "For ye see your calling, brethren, how that not many wise men after the flesh, not many mighty, not many noble, are called:\n",
      "  But God hath chosen the foolish things of the world to confound the wise; and God hath chosen the weak things of the world to confound the things which are mighty;\n",
      "  And base things of the world, and things which are despised, hath God chosen, yea, and things which are not, to bring to nought things that are:\n",
      "  That no flesh should glory in his presence. I will pray with the spirit, and I will pray with the understanding also: I will sing with the spirit, and I will sing with the understanding also. And so ordain I in all churches. But I would have you know, that the head of every man is Christ; and the head of the woman is the man; and the head of Christ is God. For as often as ye eat this bread, and drink this cup, ye do shew the Lord's death till he come. Now in this that I declare unto you I praise you not, that ye come together not for the better, but for the worse. But he that is joined unto the Lord is one spirit. Wherefore, brethren, covet to prophesy, and forbid not to speak with tongues. For we are labourers together with God: ye are God's husbandry, ye are God's building. For I know nothing by myself; yet am I not hereby justified: but he that judgeth me is the Lord. For ye may all prophesy one by one, that all may learn, and all may be comforted. If I be not an apostle unto others, yet doubtless I am to you: for the seal of mine apostleship are ye in the Lord. Be not deceived: neither fornicators, nor idolaters, nor adulterers, nor effeminate, nor abusers of themselves with mankind,\n",
      "  Nor thieves, nor covetous, nor drunkards, nor revilers, nor extortioners, shall inherit the kingdom of God. For what knowest thou, O wife, whether thou shalt save thy husband?\n",
      "============================================================\n",
      "Chunk pooling:\n",
      "--------------\n",
      "If I be not an apostle unto others, yet doubtless I am to you: for the seal of mine apostleship are ye in the Lord. For he that eateth and drinketh unworthily, eateth and drinketh damnation to himself, not discerning the Lord's body. For the preaching of the cross is to them that perish foolishness; but unto us which are saved it is the power of God. But this I say, brethren, the time is short: it remaineth, that both they that have wives be as though they had none;\n",
      "  And they that weep, as though they wept not; and they that rejoice, as though they rejoiced not; and they that buy, as though they possessed not;\n",
      "  And they that use this world, as not abusing it: for the fashion of this world passeth away. For I verily, as absent in body, but present in spirit, have judged already, as though I were present, concerning him that hath so done this deed,\n",
      "  In the name of our Lord Jesus Christ, when ye are gathered together, and my spirit, with the power of our Lord Jesus Christ,\n",
      "  To deliver such an one unto Satan for the destruction of the flesh, that the spirit may be saved in the day of the Lord Jesus. Now, brethren, if I come unto you speaking with tongues, what shall I profit you, except I shall speak to you either by revelation, or by knowledge, or by prophesying, or by doctrine? Now concerning spiritual gifts, brethren, I would not have you ignorant. I beseech you, brethren, (ye know the house of Stephanas, that it is the firstfruits of Achaia, and that they have addicted themselves to the ministry of the saints,)\n",
      "  That ye submit yourselves unto such, and to every one that helpeth with us, and laboureth. And I, brethren, could not speak unto you as unto spiritual, but as unto carnal, even as unto babes in Christ. For if any man see thee which hast knowledge sit at meat in the idol's temple, shall not the conscience of him which is weak be emboldened to eat those things which are offered to idols;\n",
      "  And through thy knowledge shall the weak brother perish, for whom Christ died?\n"
     ]
    }
   ],
   "source": [
    "printing(corinthians1)"
   ]
  },
  {
   "cell_type": "code",
   "execution_count": 188,
   "id": "2b54067a-d241-4ef9-9503-bc1f5dc0dbeb",
   "metadata": {},
   "outputs": [
    {
     "data": {
      "text/plain": [
       "' Paul was called to be an apostle of Jesus Christ through the will of God, and Sosthenes our brother, was a member of the church of God which is at Corinth . Now I beseech you, brethren, by the name of our Lord Jesus Christ, that ye all speak the same thing, and that there be no divisions among you . If any man among you seem to be wise in this world, let him become a fool, that he may be wise . The body is not for fornication,  Every sin that a man doeth is without the body; but he that committeth fornicated sinneth against his own body . Dare any of you, having a matter against another, go to law before the unjust, and not before the saints? Do ye not know that the saints shall judge the world?  I protest by your rejoicing which I have in Christ Jesus our Lord, I die daily . I thank my God, I speak with tongues more than ye all:  Yet in the church I had rather speak five words with my understanding, that by my voice I might teach others also, than ten thousand words in an known tongue . If the whole church be come together into one place, and all speaking with tongues, will they not say that ye are mad? But if all prophesy, and there come in one that believe not, or one unlearned, he is convinced of all . And thus are the secrets of his heart made manifest; and so falling down on his face he will worship God, and report that God is in you of a truth . The last enemy that shall be destroyed is death . '"
      ]
     },
     "execution_count": 188,
     "metadata": {},
     "output_type": "execute_result"
    }
   ],
   "source": [
    "summarization_pipeline_consolidation(corinthians1)"
   ]
  },
  {
   "cell_type": "markdown",
   "id": "e2fad3ec-6648-4d66-a936-76dc2f701b4a",
   "metadata": {},
   "source": [
    "## 2 Corinthians"
   ]
  },
  {
   "cell_type": "code",
   "execution_count": 111,
   "id": "d80190f6-1941-4040-b0ec-c50d7d6eeab4",
   "metadata": {},
   "outputs": [],
   "source": [
    "corinthians2 = get_book_text('2 Corinthians', bible)"
   ]
  },
  {
   "cell_type": "code",
   "execution_count": 157,
   "id": "4d0298ed-f7c1-40cf-82d0-37d2fd58a8b9",
   "metadata": {},
   "outputs": [
    {
     "name": "stdout",
     "output_type": "stream",
     "text": [
      "****************************\n",
      "*** TF-IDF Consolidation ***\n",
      "****************************\n",
      "Max pooling:\n",
      "------------\n",
      "Giving no offence in any thing, that the ministry be not blamed:\n",
      "  But in all things approving ourselves as the ministers of God, in much patience, in afflictions, in necessities, in distresses,\n",
      "  In stripes, in imprisonments, in tumults, in labours, in watchings, in fastings;\n",
      "  By pureness, by knowledge, by longsuffering, by kindness, by the Holy Ghost, by love unfeigned,\n",
      "  By the word of truth, by the power of God, by the armour of righteousness on the right hand and on the left,\n",
      "  By honour and dishonour, by evil report and good report: as deceivers, and yet true;\n",
      "  As unknown, and yet well known; as dying, and, behold, we live; as chastened, and not killed;\n",
      "  As sorrowful, yet alway rejoicing; as poor, yet making many rich; as having nothing, and yet possessing all things. For we would not, brethren, have you ignorant of our trouble which came to us in Asia, that we were pressed out of measure, above strength, insomuch that we despaired even of life:\n",
      "  But we had the sentence of death in ourselves, that we should not trust in ourselves, but in God which raiseth the dead:\n",
      "  Who delivered us from so great a death, and doth deliver: in whom we trust that he will yet deliver us;\n",
      "  Ye also helping together by prayer for us, that for the gift bestowed upon us by the means of many persons thanks may be given by many on our behalf. Now I Paul myself beseech you by the meekness and gentleness of Christ, who in presence am base among you, but being absent am bold toward you:\n",
      "  But I beseech you, that I may not be bold when I am present with that confidence, wherewith I think to be bold against some, which think of us as if we walked according to the flesh. Therefore we were comforted in your comfort: yea, and exceedingly the more joyed we for the joy of Titus, because his spirit was refreshed by you all.\n",
      "============================================================\n",
      "Sum pooling:\n",
      "------------\n",
      "Paul, an apostle of Jesus Christ by the will of God, and Timothy our brother, unto the church of God which is at Corinth, with all the saints which are in all Achaia:\n",
      "  Grace be to you and peace from God our Father, and from the Lord Jesus Christ. For we write none other things unto you, than what ye read or acknowledge; and I trust ye shall acknowledge even to the end;\n",
      "  As also ye have acknowledged us in part, that we are your rejoicing, even as ye also are ours in the day of the Lord Jesus. Seeing that many glory after the flesh, I will glory also. For if there be first a willing mind, it is accepted according to that a man hath, and not according to that he hath not. For we also are weak in him, but we shall live with him by the power of God toward you. And such trust have we through Christ to God-ward:\n",
      "  Not that we are sufficient of ourselves to think any thing as of ourselves; but our sufficiency is of God;\n",
      "  Who also hath made us able ministers of the new testament; not of the letter, but of the spirit: for the letter killeth, but the spirit giveth life. For we stretch not ourselves beyond our measure, as though we reached not unto you: for we are come as far as to you also in preaching the gospel of Christ:\n",
      "  Not boasting of things without our measure, that is, of other men's labours; but having hope, when your faith is increased, that we shall be enlarged by you according to our rule abundantly,\n",
      "  To preach the gospel in the regions beyond you, and not to boast in another man's line of things made ready to our hand. Wherefore, though I wrote unto you, I did it not for his cause that had done the wrong, nor for his cause that suffered wrong, but that our care for you in the sight of God might appear unto you. And all things are of God, who hath reconciled us to himself by Jesus Christ, and hath given to us the ministry of reconciliation;\n",
      "  To wit, that God was in Christ, reconciling the world unto himself, not imputing their trespasses unto them; and hath committed unto us the word of reconciliation.\n",
      "\n",
      "**********************************\n",
      "*** Transformers Consolidation ***\n",
      "**********************************\n",
      "Sentence pooling:\n",
      "-----------------\n",
      "For we commend not ourselves again unto you, but give you occasion to glory on our behalf, that ye may have somewhat to answer them which glory in appearance, and not in heart. or what part hath he that believeth with an infidel? For we also are weak in him, but we shall live with him by the power of God toward you. But I fear, lest by any means, as the serpent beguiled Eve through his subtilty, so your minds should be corrupted from the simplicity that is in Christ. But as God is true, our word toward you was not yea and nay. Therefore it is no great thing if his ministers also be transformed as the ministers of righteousness; whose end shall be according to their works. Knowing therefore the terror of the Lord, we persuade men; but we are made manifest unto God; and I trust also are made manifest in your consciences. Furthermore, when I came to Troas to preach Christ's gospel, and a door was opened unto me of the Lord,\n",
      "  I had no rest in my spirit, because I found not Titus my brother: but taking my leave of them, I went from thence into Macedonia. Wherefore henceforth know we no man after the flesh: yea, though we have known Christ after the flesh, yet now henceforth know we him no more. For this thing I besought the Lord thrice, that it might depart from me. For to this end also did I write, that I might know the proof of you, whether ye be obedient in all things. Truly the signs of an apostle were wrought among you in all patience, in signs, and wonders, and mighty deeds. We are troubled on every side, yet not distressed; we are perplexed, but not in despair;\n",
      "  Persecuted, but not forsaken; cast down, but not destroyed;\n",
      "  Always bearing about in the body the dying of the Lord Jesus, that the life also of Jesus might be made manifest in our body.\n",
      "============================================================\n",
      "Chunk pooling:\n",
      "--------------\n",
      "Therefore seeing we have this ministry, as we have received mercy, we faint not;\n",
      "  But have renounced the hidden things of dishonesty, not walking in craftiness, nor handling the word of God deceitfully; but by manifestation of the truth commending ourselves to every man's conscience in the sight of God. The second epistle to the Corinthians was written from Philippi, a city of Macedonia, by Titus and Lucas. Yet have I sent the brethren, lest our boasting of you should be in vain in this behalf; that, as I said, ye may be ready:\n",
      "  Lest haply if they of Macedonia come with me, and find you unprepared, we (that we say not, ye) should be ashamed in this same confident boasting. But thanks be to God, which put the same earnest care into the heart of Titus for you. For what is it wherein ye were inferior to other churches, except it be that I myself was not burdensome to you? For out of much affliction and anguish of heart I wrote unto you with many tears; not that ye should be grieved, but that ye might know the love which I have more abundantly unto you. Most gladly therefore will I rather glory in my infirmities, that the power of Christ may rest upon me. Moreover I call God for a record upon my soul, that to spare you I came not as yet unto Corinth. For all the promises of God in him are yea, and in him Amen, unto the glory of God by us. Truly the signs of an apostle were wrought among you in all patience, in signs, and wonders, and mighty deeds. For the Son of God, Jesus Christ, who was preached among you by us, even by me and Silvanus and Timotheus, was not yea and nay, but in him was yea. For behold this selfsame thing, that ye sorrowed after a godly sort, what carefulness it wrought in you, yea, what clearing of yourselves, yea, what indignation, yea, what fear, yea, what vehement desire, yea, what zeal, yea, what revenge!\n"
     ]
    }
   ],
   "source": [
    "printing(corinthians2)"
   ]
  },
  {
   "cell_type": "code",
   "execution_count": 191,
   "id": "2ab0c8fe-8a43-4284-b16c-93ad2c7cbafc",
   "metadata": {},
   "outputs": [
    {
     "data": {
      "text/plain": [
       "\" Paul, an apostle of Jesus Christ by the will of God, and Timothy our brother, unto the church of God which is at Corinth, with all the saints which are in all Achaia:  Grace be to you and peace from God our Father, and from the Lord Jesus Christ . For as the sufferings of Christ abound in us, so our consolation also aboundeth by Christ . And whether we be afflicted, it is for your consolation and salvation, which is effectual in the enduring of the same sufferings which we also suffer . As also ye have acknowledged us in part, that we are your rejoicing, even as ye also are ours in the day of the lord Jesus Christ. But as God is true, our word toward you was not yea and nay? Our hope of you is stedfast, knowing,  We are troubled on every side, yet not distressed; we are perplexed, but not in despair;  Persecuted, though not forsaken; cast down, or cast down; cast away; ... And always bearing about in the body the dying of Jesus might be made manifest in our body . For in this we groan, earnestly desiring to be clothed upon with our house which is from heaven:  If so be that being clothed we shall not be found naked. For we preach not ourselves, but Christ Jesus the Lord; and ourselves your servants for Jesus' sake . But have renounced the hidden things of dishonesty, not walking in craftiness, nor handling the word of God deceitfully; but by manifestation of the truth commending ourselves to every man's conscience in the sight of God . The love of Christ constraineth us  Titus asked us with much intreaty that we would receive the gift, and take upon us the fellowship of the ministering to the saints . And this they did, not as we hoped, but first gave their own selves to the Lord, and unto us by the will of God . Now therefore perform the doing of it; that as there was a readiness to will, so there may be a performance also out of that which ye have . For I mean not that other men be eased, and ye burdened:  But by an equality, that now at this time your abundance might be a supply for their want, that their abundance also may be another supply for your want:  There may be equality . The Bible says  Achaia was ready a year ago; and your zeal has provoked very many  I am jealous over you with godly jealousy: for I have espoused you to one husband, that I may present you as a chaste virgin to Christ . Have I committed an offence in abasing myself that ye might be exalted? I robbed other churches, taking wages of them, to do you service . But be it so, I did not burden you: nevertheless, being crafty, I caught you with guile . Examine yourselves, whether ye be in the faith; prove your own selves . The God and Father of our Lord Jesus Christ, which is blessed for evermore, knoweth that I lie not . Of the Jews five times received I forty stripes save one. Thrice was beaten with rods, once was stoned, thrice I suffered shipwreck, a night and a day I have been in the deep sea  The second epistle to the Corinthians was written from Philippi, a city of Macedonia, by Titus and Lucas . All the saints salute you. For we also are weak in him, but we shall live with him by the power of God toward you . \""
      ]
     },
     "execution_count": 191,
     "metadata": {},
     "output_type": "execute_result"
    }
   ],
   "source": [
    "summarization_pipeline_consolidation(corinthians2)"
   ]
  },
  {
   "cell_type": "markdown",
   "id": "ab3a5b59-94cb-41d3-b809-fc454e0fa157",
   "metadata": {},
   "source": [
    "## Galatians"
   ]
  },
  {
   "cell_type": "code",
   "execution_count": 113,
   "id": "07d6bcc6-643b-4de1-b816-bbcc0f4e4c00",
   "metadata": {},
   "outputs": [],
   "source": [
    "galatians = get_book_text('Galatians', bible)"
   ]
  },
  {
   "cell_type": "code",
   "execution_count": 114,
   "id": "ddaa5e2e-1186-4310-806e-13bfad74e1c5",
   "metadata": {},
   "outputs": [
    {
     "name": "stdout",
     "output_type": "stream",
     "text": [
      "****************************\n",
      "*** TF-IDF Consolidation ***\n",
      "****************************\n",
      "Max pooling:\n",
      "------------\n",
      "Paul, an apostle, (not of men, neither by man, but by Jesus Christ, and God the Father, who raised him from the dead;)\n",
      "  And all the brethren which are with me, unto the churches of Galatia:\n",
      "  Grace be to you and peace from God the Father, and from our Lord Jesus Christ,\n",
      "  Who gave himself for our sins, that he might deliver us from this present evil world, according to the will of God and our Father:\n",
      "  To whom be glory for ever and ever. It was added because of transgressions, till the seed should come to whom the promise was made; and it was ordained by angels in the hand of a mediator. He therefore that ministereth to you the Spirit, and worketh miracles among you, doeth he it by the works of the law, or by the hearing of faith? Have ye suffered so many things in vain? As many as desire to make a fair shew in the flesh, they constrain you to be circumcised; only lest they should suffer persecution for the cross of Christ. For it is written, Rejoice, thou barren that bearest not; break forth and cry, thou that travailest not: for the desolate hath many more children than she which hath an husband. Cast out the bondwoman and her son: for the son of the bondwoman shall not be heir with the son of the freewoman. Then fourteen years after I went up again to Jerusalem with Barnabas, and took Titus with me also. Only they would that we should remember the poor; the same which I also was forward to do. This persuasion cometh not of him that calleth you. A little leaven leaveneth the whole lump. Nevertheless what saith the scripture? I would they were even cut off which trouble you. Amen. Am I therefore become your enemy, because I tell you the truth? For ye have heard of my conversation in time past in the Jews' religion, how that beyond measure I persecuted the church of God, and wasted it:\n",
      "  And profited in the Jews' religion above many my equals in mine own nation, being more exceedingly zealous of the traditions of my fathers.\n",
      "============================================================\n",
      "Sum pooling:\n",
      "------------\n",
      "For ye are all the children of God by faith in Christ Jesus. For I through the law am dead to the law, that I might live unto God. As we said before, so say I now again, If any man preach any other gospel unto you than that ye have received, let him be accursed. For the flesh lusteth against the Spirit, and the Spirit against the flesh: and these are contrary the one to the other: so that ye cannot do the things that ye would. Cast out the bondwoman and her son: for the son of the bondwoman shall not be heir with the son of the freewoman. Bear ye one another's burdens, and so fulfil the law of Christ. Now to Abraham and his seed were the promises made. And the scripture, foreseeing that God would justify the heathen through faith, preached before the gospel unto Abraham, saying, In thee shall all nations be blessed. Christ is become of no effect unto you, whosoever of you are justified by the law; ye are fallen from grace. Christ hath redeemed us from the curse of the law, being made a curse for us: for it is written, Cursed is every one that hangeth on a tree:\n",
      "  That the blessing of Abraham might come on the Gentiles through Jesus Christ; that we might receive the promise of the Spirit through faith. if it be yet in vain. Then after three years I went up to Jerusalem to see Peter, and abode with him fifteen days. Be not deceived; God is not mocked: for whatsoever a man soweth, that shall he also reap. This only would I learn of you, Received ye the Spirit by the works of the law, or by the hearing of faith? or do I seek to please men? Ye see how large a letter I have written unto you with mine own hand. But God forbid that I should glory, save in the cross of our Lord Jesus Christ, by whom the world is crucified unto me, and I unto the world. Behold, I Paul say unto you, that if ye be circumcised, Christ shall profit you nothing.\n",
      "\n",
      "**********************************\n",
      "*** Transformers Consolidation ***\n",
      "**********************************\n",
      "Sentence pooling:\n",
      "-----------------\n",
      "Christ is become of no effect unto you, whosoever of you are justified by the law; ye are fallen from grace. Brethren, I speak after the manner of men; Though it be but a man's covenant, yet if it be confirmed, no man disannulleth, or addeth thereto. Now to Abraham and his seed were the promises made. This I say then, Walk in the Spirit, and ye shall not fulfil the lust of the flesh. Howbeit then, when ye knew not God, ye did service unto them which by nature are no gods. But when it pleased God, who separated me from my mother's womb, and called me by his grace,\n",
      "  To reveal his Son in me, that I might preach him among the heathen; immediately I conferred not with flesh and blood:\n",
      "  Neither went I up to Jerusalem to them which were apostles before me; but I went into Arabia, and returned again unto Damascus. For it is written, Rejoice, thou barren that bearest not; break forth and cry, thou that travailest not: for the desolate hath many more children than she which hath an husband. He therefore that ministereth to you the Spirit, and worketh miracles among you, doeth he it by the works of the law, or by the hearing of faith? for if I yet pleased men, I should not be the servant of Christ. But the scripture hath concluded all under sin, that the promise by faith of Jesus Christ might be given to them that believe. For, brethren, ye have been called unto liberty; only use not liberty for an occasion to the flesh, but by love serve one another. To the Galatians written from Rome. For in Jesus Christ neither circumcision availeth any thing, nor uncircumcision; but faith which worketh by love. And as many as walk according to this rule, peace be on them, and mercy, and upon the Israel of God. Be not deceived; God is not mocked: for whatsoever a man soweth, that shall he also reap. But after that faith is come, we are no longer under a schoolmaster.\n",
      "============================================================\n",
      "Chunk pooling:\n",
      "--------------\n",
      "But of these who seemed to be somewhat, (whatsoever they were, it maketh no matter to me: God accepteth no man's person:) for they who seemed to be somewhat in conference added nothing to me:\n",
      "  But contrariwise, when they saw that the gospel of the uncircumcision was committed unto me, as the gospel of the circumcision was unto Peter;\n",
      "  (For he that wrought effectually in Peter to the apostleship of the circumcision, the same was mighty in me toward the Gentiles:)\n",
      "  And when James, Cephas, and John, who seemed to be pillars, perceived the grace that was given unto me, they gave to me and Barnabas the right hands of fellowship; that we should go unto the heathen, and they unto the circumcision. For he that soweth to his flesh shall of the flesh reap corruption; but he that soweth to the Spirit shall of the Spirit reap life everlasting. We who are Jews by nature, and not sinners of the Gentiles,\n",
      "  Knowing that a man is not justified by the works of the law, but by the faith of Jesus Christ, even we have believed in Jesus Christ, that we might be justified by the faith of Christ, and not by the works of the law: for by the works of the law shall no flesh be justified. As we said before, so say I now again, If any man preach any other gospel unto you than that ye have received, let him be accursed. And if ye be Christ's, then are ye Abraham's seed, and heirs according to the promise. And this I say, that the covenant, that was confirmed before of God in Christ, the law, which was four hundred and thirty years after, cannot disannul, that it should make the promise of none effect. Christ is become of no effect unto you, whosoever of you are justified by the law; ye are fallen from grace. Even so we, when we were children, were in bondage under the elements of the world:\n",
      "  But when the fulness of the time was come, God sent forth his Son, made of a woman, made under the law,\n",
      "  To redeem them that were under the law, that we might receive the adoption of sons.\n"
     ]
    }
   ],
   "source": [
    "printing(galatians)"
   ]
  },
  {
   "cell_type": "code",
   "execution_count": 194,
   "id": "f3e4c0d3-fa60-41f0-901c-60e797ac25a1",
   "metadata": {},
   "outputs": [
    {
     "data": {
      "text/plain": [
       "\" Paul, an apostle, (not of men, neither by man, but by Jesus Christ, and God the Father, who raised him from the dead;) And all the brethren which are with me, unto the churches of Galatia: Grace be to you and peace from God . But though we, or an angel from heaven, preach any other gospel unto you than that which we have preached unto you, let him be accursed . For I neither received it of man, nor was I taught it, but  by the revelation of Jesus Christ . After three years I went up to Jerusalem to see Peter, and abode with James the Lord's brother . James, Cephas, and John, perceived the grace that was given unto me, they gave to me and Barnabas the right hands of fellowship .  Brethren, I beseech you, be as I am; for I am as ye are: ye have not injured me at all . Ye know how through infirmity of the flesh I preached the gospel unto you at the first . But now, after that ye have known God, how turn ye again to the weak and beggarly elements, whereunto ye desire again to be in bondage? Ye observe days, and months, and times, and years . And this I say, that the covenant, that was confirmed before of God in Christ, cannot disannul, that it should make the promise of none effect . After that faith is come, we are no longer under a schoolmaster . For as many as have been baptized into Christ have put on Christ . There is neither Jew nor Greek or Greek, there is neither bond nor free, there's neither male nor female: for ye are both one in ChristJesus .  From henceforth let no man trouble me: for I bear in my body the marks of the Lord Jesus . And as many as walk according to this rule, peace be on them, and mercy, and upon the Israel \""
      ]
     },
     "execution_count": 194,
     "metadata": {},
     "output_type": "execute_result"
    }
   ],
   "source": [
    "summarization_pipeline_consolidation(galatians)"
   ]
  },
  {
   "cell_type": "markdown",
   "id": "6676d1ba-9bf1-4f52-b55d-dde15e3d6da5",
   "metadata": {},
   "source": [
    "## Ephesians"
   ]
  },
  {
   "cell_type": "code",
   "execution_count": 115,
   "id": "f49c7853-7ff0-4af6-9cf6-de93ffa4b4a6",
   "metadata": {},
   "outputs": [],
   "source": [
    "ephesians = get_book_text('Ephesians', bible)"
   ]
  },
  {
   "cell_type": "code",
   "execution_count": 116,
   "id": "3136fa0c-9627-493c-ad59-5c8378ddf5f5",
   "metadata": {},
   "outputs": [
    {
     "name": "stdout",
     "output_type": "stream",
     "text": [
      "****************************\n",
      "*** TF-IDF Consolidation ***\n",
      "****************************\n",
      "Max pooling:\n",
      "------------\n",
      "Wherefore I also, after I heard of your faith in the Lord Jesus, and love unto all the saints,\n",
      "  Cease not to give thanks for you, making mention of you in my prayers;\n",
      "  That the God of our Lord Jesus Christ, the Father of glory, may give unto you the spirit of wisdom and revelation in the knowledge of him:\n",
      "  The eyes of your understanding being enlightened; that ye may know what is the hope of his calling, and what the riches of the glory of his inheritance in the saints,\n",
      "  And what is the exceeding greatness of his power to us-ward who believe, according to the working of his mighty power,\n",
      "  Which he wrought in Christ, when he raised him from the dead, and set him at his own right hand in the heavenly places,\n",
      "  Far above all principality, and power, and might, and dominion, and every name that is named, not only in this world, but also in that which is to come:\n",
      "  And hath put all things under his feet, and gave him to be the head over all things to the church,\n",
      "  Which is his body, the fulness of him that filleth all in all. He that loveth his wife loveth himself. Be ye angry, and sin not: let not the sun go down upon your wrath:\n",
      "  Neither give place to the devil. (Now that he ascended, what is it but that he also descended first into the lower parts of the earth? To the Ephesians written from Rome, by Tychicus. Amen. And have no fellowship with the unfruitful works of darkness, but rather reprove them. Servants, be obedient to them that are your masters according to the flesh, with fear and trembling, in singleness of your heart, as unto Christ;\n",
      "  Not with eyeservice, as menpleasers; but as the servants of Christ, doing the will of God from the heart;\n",
      "  With good will doing service, as to the Lord, and not to men:\n",
      "  Knowing that whatsoever good thing any man doeth, the same shall he receive of the Lord, whether he be bond or free.\n",
      "============================================================\n",
      "Sum pooling:\n",
      "------------\n",
      "Wherefore I also, after I heard of your faith in the Lord Jesus, and love unto all the saints,\n",
      "  Cease not to give thanks for you, making mention of you in my prayers;\n",
      "  That the God of our Lord Jesus Christ, the Father of glory, may give unto you the spirit of wisdom and revelation in the knowledge of him:\n",
      "  The eyes of your understanding being enlightened; that ye may know what is the hope of his calling, and what the riches of the glory of his inheritance in the saints,\n",
      "  And what is the exceeding greatness of his power to us-ward who believe, according to the working of his mighty power,\n",
      "  Which he wrought in Christ, when he raised him from the dead, and set him at his own right hand in the heavenly places,\n",
      "  Far above all principality, and power, and might, and dominion, and every name that is named, not only in this world, but also in that which is to come:\n",
      "  And hath put all things under his feet, and gave him to be the head over all things to the church,\n",
      "  Which is his body, the fulness of him that filleth all in all. For ye were sometimes darkness, but now are ye light in the Lord: walk as children of light:\n",
      "  (For the fruit of the Spirit is in all goodness and righteousness and truth;)\n",
      "  Proving what is acceptable unto the Lord. Wherefore take unto you the whole armour of God, that ye may be able to withstand in the evil day, and having done all, to stand. For this cause I Paul, the prisoner of Jesus Christ for you Gentiles,\n",
      "  If ye have heard of the dispensation of the grace of God which is given me to you-ward:\n",
      "  How that by revelation he made known unto me the mystery; (as I wrote afore in few words,\n",
      "  Whereby, when ye read, ye may understand my knowledge in the mystery of Christ)\n",
      "  Which in other ages was not made known unto the sons of men, as it is now revealed unto his holy apostles and prophets by the Spirit;\n",
      "  That the Gentiles should be fellowheirs, and of the same body, and partakers of his promise in Christ by the gospel:\n",
      "  Whereof I was made a minister, according to the gift of the grace of God given unto me by the effectual working of his power.\n",
      "\n",
      "**********************************\n",
      "*** Transformers Consolidation ***\n",
      "**********************************\n",
      "Sentence pooling:\n",
      "-----------------\n",
      "In whom we have redemption through his blood, the forgiveness of sins, according to the riches of his grace;\n",
      "  Wherein he hath abounded toward us in all wisdom and prudence;\n",
      "  Having made known unto us the mystery of his will, according to his good pleasure which he hath purposed in himself:\n",
      "  That in the dispensation of the fulness of times he might gather together in one all things in Christ, both which are in heaven, and which are on earth; even in him:\n",
      "  In whom also we have obtained an inheritance, being predestinated according to the purpose of him who worketh all things after the counsel of his own will:\n",
      "  That we should be to the praise of his glory, who first trusted in Christ. Put on the whole armour of God, that ye may be able to stand against the wiles of the devil. Therefore as the church is subject unto Christ, so let the wives be to their own husbands in every thing. Peace be to the brethren, and love with faith, from God the Father and the Lord Jesus Christ. This I say therefore, and testify in the Lord, that ye henceforth walk not as other Gentiles walk, in the vanity of their mind,\n",
      "  Having the understanding darkened, being alienated from the life of God through the ignorance that is in them, because of the blindness of their heart:\n",
      "  Who being past feeling have given themselves over unto lasciviousness, to work all uncleanness with greediness. And, ye masters, do the same things unto them, forbearing threatening: knowing that your Master also is in heaven; neither is there respect of persons with him. And take the helmet of salvation, and the sword of the Spirit, which is the word of God:\n",
      "  Praying always with all prayer and supplication in the Spirit, and watching thereunto with all perseverance and supplication for all saints;\n",
      "  And for me, that utterance may be given unto me, that I may open my mouth boldly, to make known the mystery of the gospel,\n",
      "  For which I am an ambassador in bonds: that therein I may speak boldly, as I ought to speak. For no man ever yet hated his own flesh; but nourisheth and cherisheth it, even as the Lord the church:\n",
      "  For we are members of his body, of his flesh, and of his bones.\n",
      "============================================================\n",
      "Chunk pooling:\n",
      "--------------\n",
      "Wherefore I also, after I heard of your faith in the Lord Jesus, and love unto all the saints,\n",
      "  Cease not to give thanks for you, making mention of you in my prayers;\n",
      "  That the God of our Lord Jesus Christ, the Father of glory, may give unto you the spirit of wisdom and revelation in the knowledge of him:\n",
      "  The eyes of your understanding being enlightened; that ye may know what is the hope of his calling, and what the riches of the glory of his inheritance in the saints,\n",
      "  And what is the exceeding greatness of his power to us-ward who believe, according to the working of his mighty power,\n",
      "  Which he wrought in Christ, when he raised him from the dead, and set him at his own right hand in the heavenly places,\n",
      "  Far above all principality, and power, and might, and dominion, and every name that is named, not only in this world, but also in that which is to come:\n",
      "  And hath put all things under his feet, and gave him to be the head over all things to the church,\n",
      "  Which is his body, the fulness of him that filleth all in all. For this cause shall a man leave his father and mother, and shall be joined unto his wife, and they two shall be one flesh. For this cause I Paul, the prisoner of Jesus Christ for you Gentiles,\n",
      "  If ye have heard of the dispensation of the grace of God which is given me to you-ward:\n",
      "  How that by revelation he made known unto me the mystery; (as I wrote afore in few words,\n",
      "  Whereby, when ye read, ye may understand my knowledge in the mystery of Christ)\n",
      "  Which in other ages was not made known unto the sons of men, as it is now revealed unto his holy apostles and prophets by the Spirit;\n",
      "  That the Gentiles should be fellowheirs, and of the same body, and partakers of his promise in Christ by the gospel:\n",
      "  Whereof I was made a minister, according to the gift of the grace of God given unto me by the effectual working of his power. For by grace are ye saved through faith; and that not of yourselves: it is the gift of God:\n",
      "  Not of works, lest any man should boast.\n"
     ]
    }
   ],
   "source": [
    "printing(ephesians)"
   ]
  },
  {
   "cell_type": "code",
   "execution_count": 197,
   "id": "63a0e5d1-73a3-4eb5-9362-ac45de82e9c7",
   "metadata": {},
   "outputs": [
    {
     "data": {
      "text/plain": [
       "' Paul, an apostle of Jesus Christ by the will of God, to the saints which are at Ephesus, and to the faithful in Christ Jesus: \"Grace be to you, and peace, from God our Father, and from the Lord Jesus Christ\" In whom also we have obtained an inheritance, being predestinated according to the purpose of him who worketh all things after the counsel of his own will,\" says Paul . The Bible says: \"We are no more strangers and foreigners, but fellowcitizens with the saints, and  of the household of God\" Unsearchable riches of Christ were intended to be known by the church . Unto me, who am less than the least of all saints, is this grace given, that I should preach among the Gentiles ... That I should prepare for you  Tychicus: We all come in the unity of the faith, and of the knowledge of the Son of God, unto a perfect man . Fornication, and all uncleanness, or covetousness, let it not be once named among you, as becometh saints;  Neither filthiness, nor foolish talking, nor jesting, which are not convenient: but rather giving of thanks . Christ also loved the church, and gave himself for it;  That he might sanctify and cleanse it with the washing of water by the word . So ought men to love their wives as their own bodies. Husbands, love your wives, even as Christ did . Put on the whole armour of God that ye may be able to stand against the wiles of the devil . And, ye fathers, provoke not your children to wrath  Praying always with all prayer and supplication in the Spirit, and watching thereunto with all perseverance and supplicence for all saints . Above all, taking the shield of faith, wherewith ye shall be able to quench all the fiery darts of the wicked . '"
      ]
     },
     "execution_count": 197,
     "metadata": {},
     "output_type": "execute_result"
    }
   ],
   "source": [
    "summarization_pipeline_consolidation(ephesians)"
   ]
  },
  {
   "cell_type": "markdown",
   "id": "a5db14b7-c4a5-47dd-beec-afea2f1b9fe8",
   "metadata": {},
   "source": [
    "## Philippians"
   ]
  },
  {
   "cell_type": "code",
   "execution_count": 117,
   "id": "1703db50-5562-4028-9ba1-69fea7e1675a",
   "metadata": {},
   "outputs": [],
   "source": [
    "philippians = get_book_text('Philippians', bible)"
   ]
  },
  {
   "cell_type": "code",
   "execution_count": 118,
   "id": "8d0ee3f3-4614-4de9-a436-eb8a24e5adc6",
   "metadata": {},
   "outputs": [
    {
     "name": "stdout",
     "output_type": "stream",
     "text": [
      "****************************\n",
      "*** TF-IDF Consolidation ***\n",
      "****************************\n",
      "Max pooling:\n",
      "------------\n",
      "Yea doubtless, and I count all things but loss for the excellency of the knowledge of Christ Jesus my Lord: for whom I have suffered the loss of all things, and do count them but dung, that I may win Christ,\n",
      "  And be found in him, not having mine own righteousness, which is of the law, but that which is through the faith of Christ, the righteousness which is of God by faith:\n",
      "  That I may know him, and the power of his resurrection, and the fellowship of his sufferings, being made conformable unto his death;\n",
      "  If by any means I might attain unto the resurrection of the dead. But if I live in the flesh, this is the fruit of my labour: yet what I shall choose I wot not. Not that I speak in respect of want: for I have learned, in whatsoever state I am, therewith to be content. For the same cause also do ye joy, and rejoice with me. All the saints salute you, chiefly they that are of Caesar's household. Nevertheless, whereto we have already attained, let us walk by the same rule, let us mind the same thing. And I intreat thee also, true yokefellow, help those women which laboured with me in the gospel, with Clement also, and with other my fellowlabourers, whose names are in the book of life. The brethren which are with me greet you. To the Philippians written from Rome, by Epaphroditus. Beware of dogs, beware of evil workers, beware of the concision. Amen. Some indeed preach Christ even of envy and strife; and some also of good will:\n",
      "  The one preach Christ of contention, not sincerely, supposing to add affliction to my bonds:\n",
      "  But the other of love, knowing that I am set for the defence of the gospel. To write the same things to you, to me indeed is not grievous, but for you it is safe. Wherefore, my beloved, as ye have always obeyed, not as in my presence only, but now much more in my absence, work out your own salvation with fear and trembling. The Lord is at hand.\n",
      "============================================================\n",
      "Sum pooling:\n",
      "------------\n",
      "Paul and Timotheus, the servants of Jesus Christ, to all the saints in Christ Jesus which are at Philippi, with the bishops and deacons:\n",
      "  Grace be unto you, and peace, from God our Father, and from the Lord Jesus Christ. I sent him therefore the more carefully, that, when ye see him again, ye may rejoice, and that I may be the less sorrowful. Finally, brethren, whatsoever things are true, whatsoever things are honest, whatsoever things are just, whatsoever things are pure, whatsoever things are lovely, whatsoever things are of good report; if there be any virtue, and if there be any praise, think on these things. And this I pray, that your love may abound yet more and more in knowledge and in all judgment;\n",
      "  That ye may approve things that are excellent; that ye may be sincere and without offence till the day of Christ;\n",
      "  Being filled with the fruits of righteousness, which are by Jesus Christ, unto the glory and praise of God. But I would ye should understand, brethren, that the things which happened unto me have fallen out rather unto the furtherance of the gospel;\n",
      "  So that my bonds in Christ are manifest in all the palace, and in all other places;\n",
      "  And many of the brethren in the Lord, waxing confident by my bonds, are much more bold to speak the word without fear. Those things, which ye have both learned, and received, and heard, and seen in me, do: and the God of peace shall be with you. Only let your conversation be as it becometh the gospel of Christ: that whether I come and see you, or else be absent, I may hear of your affairs, that ye stand fast in one spirit, with one mind striving together for the faith of the gospel;\n",
      "  And in nothing terrified by your adversaries: which is to them an evident token of perdition, but to you of salvation, and that of God. For I know that this shall turn to my salvation through your prayer, and the supply of the Spirit of Jesus Christ,\n",
      "  According to my earnest expectation and my hope, that in nothing I shall be ashamed, but that with all boldness, as always, so now also Christ shall be magnified in my body, whether it be by life, or by death.\n",
      "\n",
      "**********************************\n",
      "*** Transformers Consolidation ***\n",
      "**********************************\n",
      "Sentence pooling:\n",
      "-----------------\n",
      "And having this confidence, I know that I shall abide and continue with you all for your furtherance and joy of faith;\n",
      "  That your rejoicing may be more abundant in Jesus Christ for me by my coming to you again. For indeed he was sick nigh unto death: but God had mercy on him; and not on him only, but on me also, lest I should have sorrow upon sorrow. For all seek their own, not the things which are Jesus Christ's. But I have all, and abound: I am full, having received of Epaphroditus the things which were sent from you, an odour of a sweet smell, a sacrifice acceptable, wellpleasing to God. Now unto God and our Father be glory for ever and ever. For unto you it is given in the behalf of Christ, not only to believe on him, but also to suffer for his sake;\n",
      "  Having the same conflict which ye saw in me, and now hear to be in me. But if I live in the flesh, this is the fruit of my labour: yet what I shall choose I wot not. But I rejoiced in the Lord greatly, that now at the last your care of me hath flourished again; wherein ye were also careful, but ye lacked opportunity. If there be therefore any consolation in Christ, if any comfort of love, if any fellowship of the Spirit, if any bowels and mercies,\n",
      "  Fulfil ye my joy, that ye be likeminded, having the same love, being of one accord, of one mind. Those things, which ye have both learned, and received, and heard, and seen in me, do: and the God of peace shall be with you. Be careful for nothing; but in every thing by prayer and supplication with thanksgiving let your requests be made known unto God. Let this mind be in you, which was also in Christ Jesus:\n",
      "  Who, being in the form of God, thought it not robbery to be equal with God:\n",
      "  But made himself of no reputation, and took upon him the form of a servant, and was made in the likeness of men:\n",
      "  And being found in fashion as a man, he humbled himself, and became obedient unto death, even the death of the cross. I can do all things through Christ which strengtheneth me.\n",
      "============================================================\n",
      "Chunk pooling:\n",
      "--------------\n",
      "I thank my God upon every remembrance of you,\n",
      "  Always in every prayer of mine for you all making request with joy,\n",
      "  For your fellowship in the gospel from the first day until now;\n",
      "  Being confident of this very thing, that he which hath begun a good work in you will perform it until the day of Jesus Christ:\n",
      "  Even as it is meet for me to think this of you all, because I have you in my heart; inasmuch as both in my bonds, and in the defence and confirmation of the gospel, ye all are partakers of my grace. But if I live in the flesh, this is the fruit of my labour: yet what I shall choose I wot not. To the Philippians written from Rome, by Epaphroditus. Yea doubtless, and I count all things but loss for the excellency of the knowledge of Christ Jesus my Lord: for whom I have suffered the loss of all things, and do count them but dung, that I may win Christ,\n",
      "  And be found in him, not having mine own righteousness, which is of the law, but that which is through the faith of Christ, the righteousness which is of God by faith:\n",
      "  That I may know him, and the power of his resurrection, and the fellowship of his sufferings, being made conformable unto his death;\n",
      "  If by any means I might attain unto the resurrection of the dead. Let this mind be in you, which was also in Christ Jesus:\n",
      "  Who, being in the form of God, thought it not robbery to be equal with God:\n",
      "  But made himself of no reputation, and took upon him the form of a servant, and was made in the likeness of men:\n",
      "  And being found in fashion as a man, he humbled himself, and became obedient unto death, even the death of the cross. For even in Thessalonica ye sent once and again unto my necessity. Do all things without murmurings and disputings:\n",
      "  That ye may be blameless and harmless, the sons of God, without rebuke, in the midst of a crooked and perverse nation, among whom ye shine as lights in the world;\n",
      "  Holding forth the word of life; that I may rejoice in the day of Christ, that I have not run in vain, neither laboured in vain.\n"
     ]
    }
   ],
   "source": [
    "printing(philippians)"
   ]
  },
  {
   "cell_type": "code",
   "execution_count": 200,
   "id": "359fbb6a-7da8-40dd-a4f1-01a49c5d726a",
   "metadata": {},
   "outputs": [
    {
     "data": {
      "text/plain": [
       "' Paul and Timotheus, the servants of Jesus Christ, to all the saints in Christ Jesus which are at Philippi, with the bishops and deacons: Grace be unto you, and peace . The one preach Christ of contention, not sincerely, supposing to add affliction to my bonds: but the other of love, knowing that I am set for the defence of the gospel. What then? notwithstanding, every way, whether in pretence, or in truth, Christ is preached; and I therein do rejoice, yea, and will rejoice. For now also Christ shall be magnified in my body, whether it be by life, or by death. For to me to live is Christ, and to die is gain. But if I live in the flesh, this is the fruit of my labour: yet what I shall choose I wot not  For I am in a strait betwixt two, having a desire to depart, and to be with Christ; which is far better . Nevertheless to abide in the flesh is more needful for you. And having this confidence, I know that I shall abide and continue with you all for your furtherance and joy of faith . Fulfil ye my joy, that ye be likeminded, having the same love, being of one accord, of one mind . Let nothing be done through strife or vainglory; but in lowliness of mind let each esteem other better than themselves. Look not every man on his own things, but every man also on the things of others. Let this mind be in you, which was also in Christ Jesus: who, being in the form of God, thought it not robbery to be  I trust in the Lord Jesus to send Timotheus shortly unto you, that I also may be of good comfort, when I know your state . Yet I supposed it necessary to send to you Epaphroditus, my brother, and companion in labour, and fellowsoldier, but your messenger, and he ministered to my wants . He longed after you all, and was full of heaviness, because that ye had heard that he had been sick . For indeed he was sick nigh unto death, not regarding his life, to supply your lack of service toward me . But God had mercy on him; and not on him only, but on me also, lest I should have sorrow upon sorrowful . To write the same things to you, to me indeed is not grievous, but for you it is safe  I count not myself to have apprehended, but this one thing I do, forgetting those things which are behind . Brethren, be followers together of me, and mark them which walk so as ye have us for an ensample. Let us therefore, as many as be perfect, be thus minded: and if in any thing ye be otherwise minded, God shall reveal even this unto you. For our conversation is in heaven; from whence also we look for the Saviour, the Lord Jesus Christ:  Who shall change our vile body, that it may be fashioned like unto his glorious body, according to the working whereby he is able even to subdue all things unto himself. Therefore, my brethren dearly beloved and longed for, my joy and crown, so stand fast in the Lord, my love and crown , so standfast in the lord, my dearly beloved  Philippians written from Rome, by Epaphroditus . Philippians: Be careful for nothing; but in every thing by prayer and supplication with thanksgiving let your requests be made known unto God . And I intreat thee also, true yokefellow, help those women which laboured with me in the gospel, with Clement also, and with other my fellowlabourers, whose names are in the book of life. Rejoice in the Lord alway: and again I say, Rejoice. Let your moderation be known unto all men. The Lord is at hand. The peace of God, which passeth all understanding, shall keep your hearts and minds through Christ Jesus. Amen Amen. Salute every saint in Christ Jesus . To the Philippians, please pray and thank you. '"
      ]
     },
     "execution_count": 200,
     "metadata": {},
     "output_type": "execute_result"
    }
   ],
   "source": [
    "summarization_pipeline_consolidation(philippians)"
   ]
  },
  {
   "cell_type": "markdown",
   "id": "d8c67472-82a5-46a1-abdf-5f937aef53ea",
   "metadata": {},
   "source": [
    "## Colossians"
   ]
  },
  {
   "cell_type": "code",
   "execution_count": 119,
   "id": "a903c6de-3290-4984-b0df-76bc8bc5111f",
   "metadata": {},
   "outputs": [],
   "source": [
    "colossians = get_book_text('Colossians', bible)"
   ]
  },
  {
   "cell_type": "code",
   "execution_count": 158,
   "id": "b2ce3bc7-b671-40e3-85b8-a11213f1c6db",
   "metadata": {},
   "outputs": [
    {
     "name": "stdout",
     "output_type": "stream",
     "text": [
      "****************************\n",
      "*** TF-IDF Consolidation ***\n",
      "****************************\n",
      "Max pooling:\n",
      "------------\n",
      "For this cause we also, since the day we heard it, do not cease to pray for you, and to desire that ye might be filled with the knowledge of his will in all wisdom and spiritual understanding;\n",
      "  That ye might walk worthy of the Lord unto all pleasing, being fruitful in every good work, and increasing in the knowledge of God;\n",
      "  Strengthened with all might, according to his glorious power, unto all patience and longsuffering with joyfulness;\n",
      "  Giving thanks unto the Father, which hath made us meet to be partakers of the inheritance of the saints in light:\n",
      "  Who hath delivered us from the power of darkness, and hath translated us into the kingdom of his dear Son:\n",
      "  In whom we have redemption through his blood, even the forgiveness of sins:\n",
      "  Who is the image of the invisible God, the firstborn of every creature:\n",
      "  For by him were all things created, that are in heaven, and that are in earth, visible and invisible, whether they be thrones, or dominions, or principalities, or powers: all things were created by him, and for him:\n",
      "  And he is before all things, and by him all things consist. Beware lest any man spoil you through philosophy and vain deceit, after the tradition of men, after the rudiments of the world, and not after Christ. Continue in prayer, and watch in the same with thanksgiving;\n",
      "  Withal praying also for us, that God would open unto us a door of utterance, to speak the mystery of Christ, for which I am also in bonds:\n",
      "  That I may make it manifest, as I ought to speak. All my state shall Tychicus declare unto you, who is a beloved brother, and a faithful minister and fellowservant in the Lord:\n",
      "  Whom I have sent unto you for the same purpose, that he might know your estate, and comfort your hearts;\n",
      "  With Onesimus, a faithful and beloved brother, who is one of you. For in him dwelleth all the fulness of the Godhead bodily. Husbands, love your wives, and be not bitter against them. Salute the brethren which are in Laodicea, and Nymphas, and the church which is in his house. The salutation by the hand of me Paul. Grace be with you. Amen.\n",
      "============================================================\n",
      "Sum pooling:\n",
      "------------\n",
      "We give thanks to God and the Father of our Lord Jesus Christ, praying always for you,\n",
      "  Since we heard of your faith in Christ Jesus, and of the love which ye have to all the saints,\n",
      "  For the hope which is laid up for you in heaven, whereof ye heard before in the word of the truth of the gospel;\n",
      "  Which is come unto you, as it is in all the world; and bringeth forth fruit, as it doth also in you, since the day ye heard of it, and knew the grace of God in truth:\n",
      "  As ye also learned of Epaphras our dear fellowservant, who is for you a faithful minister of Christ;\n",
      "  Who also declared unto us your love in the Spirit. Servants, obey in all things your masters according to the flesh; not with eyeservice, as menpleasers; but in singleness of heart, fearing God:\n",
      "  And whatsoever ye do, do it heartily, as to the Lord, and not unto men;\n",
      "  Knowing that of the Lord ye shall receive the reward of the inheritance: for ye serve the Lord Christ. For it pleased the Father that in him should all fulness dwell;\n",
      "  And, having made peace through the blood of his cross, by him to reconcile all things unto himself; by him, I say, whether they be things in earth, or things in heaven. And ye are complete in him, which is the head of all principality and power:\n",
      "  In whom also ye are circumcised with the circumcision made without hands, in putting off the body of the sins of the flesh by the circumcision of Christ:\n",
      "  Buried with him in baptism, wherein also ye are risen with him through the faith of the operation of God, who hath raised him from the dead. If ye then be risen with Christ, seek those things which are above, where Christ sitteth on the right hand of God. Let your speech be alway with grace, seasoned with salt, that ye may know how ye ought to answer every man. Mortify therefore your members which are upon the earth; fornication, uncleanness, inordinate affection, evil concupiscence, and covetousness, which is idolatry:\n",
      "  For which things' sake the wrath of God cometh on the children of disobedience:\n",
      "  In the which ye also walked some time, when ye lived in them.\n",
      "\n",
      "**********************************\n",
      "*** Transformers Consolidation ***\n",
      "**********************************\n",
      "Sentence pooling:\n",
      "-----------------\n",
      "For it pleased the Father that in him should all fulness dwell;\n",
      "  And, having made peace through the blood of his cross, by him to reconcile all things unto himself; by him, I say, whether they be things in earth, or things in heaven. Wives, submit yourselves unto your own husbands, as it is fit in the Lord. Continue in prayer, and watch in the same with thanksgiving;\n",
      "  Withal praying also for us, that God would open unto us a door of utterance, to speak the mystery of Christ, for which I am also in bonds:\n",
      "  That I may make it manifest, as I ought to speak. Beware lest any man spoil you through philosophy and vain deceit, after the tradition of men, after the rudiments of the world, and not after Christ. Epaphras, who is one of you, a servant of Christ, saluteth you, always labouring fervently for you in prayers, that ye may stand perfect and complete in all the will of God. Masters, give unto your servants that which is just and equal; knowing that ye also have a Master in heaven.\n",
      "============================================================\n",
      "Chunk pooling:\n",
      "--------------\n",
      "And you, that were sometime alienated and enemies in your mind by wicked works, yet now hath he reconciled\n",
      "  In the body of his flesh through death, to present you holy and unblameable and unreproveable in his sight:\n",
      "  If ye continue in the faith grounded and settled, and be not moved away from the hope of the gospel, which ye have heard, and which was preached to every creature which is under heaven; whereof I Paul am made a minister;\n",
      "  Who now rejoice in my sufferings for you, and fill up that which is behind of the afflictions of Christ in my flesh for his body's sake, which is the church:\n",
      "  Whereof I am made a minister, according to the dispensation of God which is given to me for you, to fulfil the word of God;\n",
      "  Even the mystery which hath been hid from ages and from generations, but now is made manifest to his saints:\n",
      "  To whom God would make known what is the riches of the glory of this mystery among the Gentiles; which is Christ in you, the hope of glory:\n",
      "  Whom we preach, warning every man, and teaching every man in all wisdom; that we may present every man perfect in Christ Jesus:\n",
      "  Whereunto I also labour, striving according to his working, which worketh in me mightily. And whatsoever ye do in word or deed, do all in the name of the Lord Jesus, giving thanks to God and the Father by him. Continue in prayer, and watch in the same with thanksgiving;\n",
      "  Withal praying also for us, that God would open unto us a door of utterance, to speak the mystery of Christ, for which I am also in bonds:\n",
      "  That I may make it manifest, as I ought to speak. Which things have indeed a shew of wisdom in will worship, and humility, and neglecting of the body; not in any honour to the satisfying of the flesh. Put on therefore, as the elect of God, holy and beloved, bowels of mercies, kindness, humbleness of mind, meekness, longsuffering;\n",
      "  Forbearing one another, and forgiving one another, if any man have a quarrel against any: even as Christ forgave you, so also do ye.\n"
     ]
    }
   ],
   "source": [
    "printing(colossians)"
   ]
  },
  {
   "cell_type": "code",
   "execution_count": 203,
   "id": "aaa55936-77bf-4c5b-b09e-0b0e188377f4",
   "metadata": {},
   "outputs": [
    {
     "data": {
      "text/plain": [
       "' Paul, an apostle of Jesus Christ by the will of God, and Timotheus our brother, are at Colosse: Grace be unto you, and peace . We give thanks to God and the Father of our Lord Jesus Christ, praying always for you, with all patience and longsuffering with joyfulness . For the hope which is laid up for you in heaven, whereof ye heard before in the word of the truth of the gospel; ... And we also, since the day we heard it, do not cease to pray for you. That ye might walk worthy of the Lord unto all pleasing, being fruitful in every good work, and increasing in the knowledge of God . By him he is the image of the invisible God, the firstborn of every creature: He is before all things, and by him all things consist  Paul: If ye continue in the faith grounded and settled, and be not moved away from the hope of the gospel, which ye have heard, and which was preached to every creature which is under heaven . And you, that were sometime alienated and enemies in your mind by wicked works, yet now hath he reconciled them with him . He said: \"I would that ye knew what great conflict I have for you, and for them at Laodicea,  and for as many as have not seen my face in the flesh; that their hearts might be comforted\" But this I say, lest any man should beguile you with enticing words. For in him dwelleth all the fulness of the Godhead bodily. In him\\xa0dwelles all the ...  In whom also ye are circumcised with the circumcision made without hands, in putting off the body of the sins of the flesh by the circumcision of Christ . Buried with him in baptism, \\xa0also ye are risen with him through the faith of the operation of God . And ye are complete in him, which is the head of all principality and power: The body is of Christ. Let no man therefore judge you in meat, or in drink, or respect of an holyday, or of the new moon, or ... of the sabbath days: But the bodies of Christ are a shadow of things to come; but the body is Christian . Mortify therefore your members which are upon the earth; fornication, uncleanness, inordinate affection, evil concupiscence, and covetousness, which... is idolatry: (  Put on therefore, as the elect of God, holy and beloved, bowels of mercies, kindness, humbleness of mind, meekness, longsuffering;  Forbearing one another, and forgiving one another . And above all these things put on charity, which is the bond of perfectness. Lie not one to another, seeing that ye have put off the old man with his deeds . Wives submit yourselves unto your own husbands, as it is fit in the Lord. Husbands, love your wives, and be not bitter against them. Children obey your parents in all things: for this is well pleasing unto the Lord . Masters, give unto your servants that which is just and equal; knowing that ye also have a Master in heaven. Continue in prayer, and watch in the same with thanksgiving  Tychicus and Onesimus sent the letter from Rome to Colossians . He saluted them for their service, which has been a comfort unto me . Epaphras, who is one of you, saluteth you, always labouring fervently for you in prayers . Luke, the beloved physician, and Demas, greet you. Salute the brethren which are in Laodicea, and Nymphas, and the church which is in his house . And say to Archippus, Take heed to the ministry which thou hast received in the Lord, that thou fulfil it. Remember my bonds. Grace be with you . '"
      ]
     },
     "execution_count": 203,
     "metadata": {},
     "output_type": "execute_result"
    }
   ],
   "source": [
    "summarization_pipeline_consolidation(colossians)"
   ]
  },
  {
   "cell_type": "markdown",
   "id": "1f75370c-7583-4532-a75e-9e8380cd243d",
   "metadata": {},
   "source": [
    "## 1 Thessalonians"
   ]
  },
  {
   "cell_type": "code",
   "execution_count": 121,
   "id": "8326bba6-62d9-401f-bd52-c6d602cb4ab2",
   "metadata": {},
   "outputs": [],
   "source": [
    "thessalonians1 = get_book_text('1 Thessalonians', bible)"
   ]
  },
  {
   "cell_type": "code",
   "execution_count": 122,
   "id": "f62a6688-dd86-46ca-9d26-3cc4e40e2670",
   "metadata": {},
   "outputs": [
    {
     "name": "stdout",
     "output_type": "stream",
     "text": [
      "****************************\n",
      "*** TF-IDF Consolidation ***\n",
      "****************************\n",
      "Max pooling:\n",
      "------------\n",
      "And the very God of peace sanctify you wholly; and I pray God your whole spirit and soul and body be preserved blameless unto the coming of our Lord Jesus Christ. But let us, who are of the day, be sober, putting on the breastplate of faith and love; and for an helmet, the hope of salvation. And ye became followers of us, and of the Lord, having received the word in much affliction, with joy of the Holy Ghost:\n",
      "  So that ye were ensamples to all that believe in Macedonia and Achaia. Wherefore when we could no longer forbear, we thought it good to be left at Athens alone;\n",
      "  And sent Timotheus, our brother, and minister of God, and our fellowlabourer in the gospel of Christ, to establish you, and to comfort you concerning your faith:\n",
      "  That no man should be moved by these afflictions: for yourselves know that we are appointed thereunto. But we, brethren, being taken from you for a short time in presence, not in heart, endeavoured the more abundantly to see your face with great desire. Abstain from all appearance of evil. For they that sleep sleep in the night; and they that be drunken are drunken in the night. Rejoice evermore. Despise not prophesyings. Faithful is he that calleth you, who also will do it. Amen. For when they shall say, Peace and safety; then sudden destruction cometh upon them, as travail upon a woman with child; and they shall not escape. For neither at any time used we flattering words, as ye know, nor a cloke of covetousness; God is witness:\n",
      "  Nor of men sought we glory, neither of you, nor yet of others, when we might have been burdensome, as the apostles of Christ. Now we exhort you, brethren, warn them that are unruly, comfort the feebleminded, support the weak, be patient toward all men. But of the times and the seasons, brethren, ye have no need that I write unto you.\n",
      "============================================================\n",
      "Sum pooling:\n",
      "------------\n",
      "Paul, and Silvanus, and Timotheus, unto the church of the Thessalonians which is in God the Father and in the Lord Jesus Christ: Grace be unto you, and peace, from God our Father, and the Lord Jesus Christ. And indeed ye do it toward all the brethren which are in all Macedonia: but we beseech you, brethren, that ye increase more and more;\n",
      "  And that ye study to be quiet, and to do your own business, and to work with your own hands, as we commanded you;\n",
      "  That ye may walk honestly toward them that are without, and that ye may have lack of nothing. For ye remember, brethren, our labour and travail: for labouring night and day, because we would not be chargeable unto any of you, we preached unto you the gospel of God. For ye, brethren, became followers of the churches of God which in Judaea are in Christ Jesus: for ye also have suffered like things of your own countrymen, even as they have of the Jews:\n",
      "  Who both killed the Lord Jesus, and their own prophets, and have persecuted us; and they please not God, and are contrary to all men:\n",
      "  Forbidding us to speak to the Gentiles that they might be saved, to fill up their sins alway: for the wrath is come upon them to the uttermost. For this cause also thank we God without ceasing, because, when ye received the word of God which ye heard of us, ye received it not as the word of men, but as it is in truth, the word of God, which effectually worketh also in you that believe. For ye know what commandments we gave you by the Lord Jesus. But now when Timotheus came from you unto us, and brought us good tidings of your faith and charity, and that ye have good remembrance of us always, desiring greatly to see us, as we also to see you:\n",
      "  Therefore, brethren, we were comforted over you in all our affliction and distress by your faith:\n",
      "  For now we live, if ye stand fast in the Lord. I charge you by the Lord that this epistle be read unto all the holy brethren. But as touching brotherly love ye need not that I write unto you: for ye yourselves are taught of God to love one another.\n",
      "\n",
      "**********************************\n",
      "*** Transformers Consolidation ***\n",
      "**********************************\n",
      "Sentence pooling:\n",
      "-----------------\n",
      "For our gospel came not unto you in word only, but also in power, and in the Holy Ghost, and in much assurance; as ye know what manner of men we were among you for your sake. Brethren, pray for us. And the very God of peace sanctify you wholly; and I pray God your whole spirit and soul and body be preserved blameless unto the coming of our Lord Jesus Christ. For this we say unto you by the word of the Lord, that we which are alive and remain unto the coming of the Lord shall not prevent them which are asleep. And indeed ye do it toward all the brethren which are in all Macedonia: but we beseech you, brethren, that ye increase more and more;\n",
      "  And that ye study to be quiet, and to do your own business, and to work with your own hands, as we commanded you;\n",
      "  That ye may walk honestly toward them that are without, and that ye may have lack of nothing. But now when Timotheus came from you unto us, and brought us good tidings of your faith and charity, and that ye have good remembrance of us always, desiring greatly to see us, as we also to see you:\n",
      "  Therefore, brethren, we were comforted over you in all our affliction and distress by your faith:\n",
      "  For now we live, if ye stand fast in the Lord. Furthermore then we beseech you, brethren, and exhort you by the Lord Jesus, that as ye have received of us how ye ought to walk and to please God, so ye would abound more and more. For ye are our glory and joy. For this cause, when I could no longer forbear, I sent to know your faith, lest by some means the tempter have tempted you, and our labour be in vain. For yourselves know perfectly that the day of the Lord so cometh as a thief in the night. And the Lord make you to increase and abound in love one toward another, and toward all men, even as we do toward you:\n",
      "  To the end he may stablish your hearts unblameable in holiness before God, even our Father, at the coming of our Lord Jesus Christ with all his saints.\n",
      "============================================================\n",
      "Chunk pooling:\n",
      "--------------\n",
      "For our gospel came not unto you in word only, but also in power, and in the Holy Ghost, and in much assurance; as ye know what manner of men we were among you for your sake. And indeed ye do it toward all the brethren which are in all Macedonia: but we beseech you, brethren, that ye increase more and more;\n",
      "  And that ye study to be quiet, and to do your own business, and to work with your own hands, as we commanded you;\n",
      "  That ye may walk honestly toward them that are without, and that ye may have lack of nothing. We give thanks to God always for you all, making mention of you in our prayers;\n",
      "  Remembering without ceasing your work of faith, and labour of love, and patience of hope in our Lord Jesus Christ, in the sight of God and our Father;\n",
      "  Knowing, brethren beloved, your election of God. Paul, and Silvanus, and Timotheus, unto the church of the Thessalonians which is in God the Father and in the Lord Jesus Christ: Grace be unto you, and peace, from God our Father, and the Lord Jesus Christ. But I would not have you to be ignorant, brethren, concerning them which are asleep, that ye sorrow not, even as others which have no hope. For ye, brethren, became followers of the churches of God which in Judaea are in Christ Jesus: for ye also have suffered like things of your own countrymen, even as they have of the Jews:\n",
      "  Who both killed the Lord Jesus, and their own prophets, and have persecuted us; and they please not God, and are contrary to all men:\n",
      "  Forbidding us to speak to the Gentiles that they might be saved, to fill up their sins alway: for the wrath is come upon them to the uttermost. For this is the will of God, even your sanctification, that ye should abstain from fornication:\n",
      "  That every one of you should know how to possess his vessel in sanctification and honour;\n",
      "  Not in the lust of concupiscence, even as the Gentiles which know not God:\n",
      "  That no man go beyond and defraud his brother in any matter: because that the Lord is the avenger of all such, as we also have forewarned you and testified.\n"
     ]
    }
   ],
   "source": [
    "printing(thessalonians1)"
   ]
  },
  {
   "cell_type": "code",
   "execution_count": 206,
   "id": "d7907ff6-714c-4ec1-9196-e8be8fa765be",
   "metadata": {},
   "outputs": [
    {
     "data": {
      "text/plain": [
       "' Paul, and Silvanus, and Timotheus, unto the church of the Thessalonians which is in God the Father and in the Lord Jesus Christ: Grace be unto you, and peace, from God our Father . We give thanks to God always for you all, making mention of you in our prayers;  Remembering without ceasing your work of faith, and labour of love, and patience of hope in the sight of God and our Father;  Knowing, brethren beloved, your election of God. For our gospel came not only in word only, but also in power, and in Holy Ghost, and assurance; as ye know what manner of men we were among you for your sake . And ye became followers of us, and of the Lord, having received the word in much affliction, with joy of the Holy Ghost  For ye remember, brethren, our labour and travail: for labouring night and day, because we preached unto you the gospel of God . Ye are witnesses, and God also, how holily and justly and unblameably we behaved ourselves among you that believe:  As ye know how we exhorted and comforted and charged every one of you, as a father doth . But we endeavoured more abundantly to see your face with great desire. Wherefore we would have come unto you, even I Paul, once and again; but Satan hindered us. For this cause, when I could no longer forbear, I sent to know your faith, lest by some means the tempter have tempted you, and our labour be in vain. For what is our hope, or joy, or  Timotheus was comforted over you in all our affliction and distress by your faith . We beseech you, brethren, and exhort you by the Lord Jesus, that as ye have received of us how ye ought to walk and to please God, so ye would abound more and more . For this is the will of God, even your sanctification, that ye should abstain from fornication: That every one of you should know how to possess his vessel in sanctification and honour . Not in the lust of concupiscence, even as the Gentiles which know not God: That no man go beyond and defraud his brother in any matter: because that the Lord is the avenger of all such, as we also have forewarned you and testified . But as touching brotherly love ye need not that I write  For if we believe that Jesus died and rose again, even so them also which sleep in Jesus will God bring with him . The Lord himself shall descend from heaven with a shout, with the voice of the archangel, and with the trump of God: and the dead in Christ shall rise first:  Then we which are alive and remain shall be caught up together with them in the clouds, to meet the Lord in the air: and so shall we ever be with the Lord . But of the times and the seasons, brethren, ye have no need that I write unto you. For yourselves know perfectly that the day of the Lord so cometh as a thief in the night; but let us watch and be sober . And we exhort you to warn them that are unruly, comfort the feebleminded, support the weak,  The first epistle to the Thessalonians was written from Athens . Greet all the brethren with an holy kiss. Abstain from all appearance of evil. And I pray God your whole spirit and soul and body be preserved blameless unto the coming of our Lord Jesus Christ . '"
      ]
     },
     "execution_count": 206,
     "metadata": {},
     "output_type": "execute_result"
    }
   ],
   "source": [
    "summarization_pipeline_consolidation(thessalonians1)"
   ]
  },
  {
   "cell_type": "markdown",
   "id": "f07c0caa-5a3d-4056-8732-70796f45cb2d",
   "metadata": {},
   "source": [
    "## 2 Thessalonians"
   ]
  },
  {
   "cell_type": "code",
   "execution_count": 123,
   "id": "2ecadbed-c53e-4532-8e04-6dfd00ef6903",
   "metadata": {},
   "outputs": [],
   "source": [
    "thessalonians2 = get_book_text('2 Thessalonians', bible)"
   ]
  },
  {
   "cell_type": "code",
   "execution_count": 124,
   "id": "5083f7eb-c846-49cf-92c5-a8868f28cb75",
   "metadata": {},
   "outputs": [
    {
     "name": "stdout",
     "output_type": "stream",
     "text": [
      "****************************\n",
      "*** TF-IDF Consolidation ***\n",
      "****************************\n",
      "Max pooling:\n",
      "------------\n",
      "Paul, and Silvanus, and Timotheus, unto the church of the Thessalonians in God our Father and the Lord Jesus Christ:\n",
      "  Grace unto you, and peace, from God our Father and the Lord Jesus Christ. And then shall that Wicked be revealed, whom the Lord shall consume with the spirit of his mouth, and shall destroy with the brightness of his coming:\n",
      "  Even him, whose coming is after the working of Satan with all power and signs and lying wonders,\n",
      "  And with all deceivableness of unrighteousness in them that perish; because they received not the love of the truth, that they might be saved. Therefore, brethren, stand fast, and hold the traditions which ye have been taught, whether by word, or our epistle. For the mystery of iniquity doth already work: only he who now letteth will let, until he be taken out of the way. Amen. Yet count him not as an enemy, but admonish him as a brother. For yourselves know how ye ought to follow us: for we behaved not ourselves disorderly among you;\n",
      "  Neither did we eat any man's bread for nought; but wrought with labour and travail night and day, that we might not be chargeable to any of you:\n",
      "  Not because we have not power, but to make ourselves an ensample unto you to follow us. And we have confidence in the Lord touching you, that ye both do and will do the things which we command you. Finally, brethren, pray for us, that the word of the Lord may have free course, and be glorified, even as it is with you:\n",
      "  And that we may be delivered from unreasonable and wicked men: for all men have not faith. For we hear that there are some which walk among you disorderly, working not at all, but are busybodies. Let no man deceive you by any means: for that day shall not come, except there come a falling away first, and that man of sin be revealed, the son of perdition;\n",
      "  Who opposeth and exalteth himself above all that is called God, or that is worshipped; so that he as God sitteth in the temple of God, shewing himself that he is God.\n",
      "============================================================\n",
      "Sum pooling:\n",
      "------------\n",
      "Wherefore also we pray always for you, that our God would count you worthy of this calling, and fulfil all the good pleasure of his goodness, and the work of faith with power:\n",
      "  That the name of our Lord Jesus Christ may be glorified in you, and ye in him, according to the grace of our God and the Lord Jesus Christ. Now we command you, brethren, in the name of our Lord Jesus Christ, that ye withdraw yourselves from every brother that walketh disorderly, and not after the tradition which he received of us. Now we beseech you, brethren, by the coming of our Lord Jesus Christ, and by our gathering together unto him,\n",
      "  That ye be not soon shaken in mind, or be troubled, neither by spirit, nor by word, nor by letter as from us, as that the day of Christ is at hand. The Lord be with you all. But we are bound to give thanks alway to God for you, brethren beloved of the Lord, because God hath from the beginning chosen you to salvation through sanctification of the Spirit and belief of the truth:\n",
      "  Whereunto he called you by our gospel, to the obtaining of the glory of our Lord Jesus Christ. Now them that are such we command and exhort by our Lord Jesus Christ, that with quietness they work, and eat their own bread. The second epistle to the Thessalonians was written from Athens. Paul, and Silvanus, and Timotheus, unto the church of the Thessalonians in God our Father and the Lord Jesus Christ:\n",
      "  Grace unto you, and peace, from God our Father and the Lord Jesus Christ. And now ye know what withholdeth that he might be revealed in his time.\n",
      "\n",
      "**********************************\n",
      "*** Transformers Consolidation ***\n",
      "**********************************\n",
      "Sentence pooling:\n",
      "-----------------\n",
      "Now we beseech you, brethren, by the coming of our Lord Jesus Christ, and by our gathering together unto him,\n",
      "  That ye be not soon shaken in mind, or be troubled, neither by spirit, nor by word, nor by letter as from us, as that the day of Christ is at hand. But the Lord is faithful, who shall stablish you, and keep you from evil. And if any man obey not our word by this epistle, note that man, and have no company with him, that he may be ashamed. Wherefore also we pray always for you, that our God would count you worthy of this calling, and fulfil all the good pleasure of his goodness, and the work of faith with power:\n",
      "  That the name of our Lord Jesus Christ may be glorified in you, and ye in him, according to the grace of our God and the Lord Jesus Christ. Paul, and Silvanus, and Timotheus, unto the church of the Thessalonians in God our Father and the Lord Jesus Christ:\n",
      "  Grace unto you, and peace, from God our Father and the Lord Jesus Christ. The Lord be with you all. And for this cause God shall send them strong delusion, that they should believe a lie:\n",
      "  That they all might be damned who believed not the truth, but had pleasure in unrighteousness. And we have confidence in the Lord touching you, that ye both do and will do the things which we command you. For yourselves know how ye ought to follow us: for we behaved not ourselves disorderly among you;\n",
      "  Neither did we eat any man's bread for nought; but wrought with labour and travail night and day, that we might not be chargeable to any of you:\n",
      "  Not because we have not power, but to make ourselves an ensample unto you to follow us. Now we command you, brethren, in the name of our Lord Jesus Christ, that ye withdraw yourselves from every brother that walketh disorderly, and not after the tradition which he received of us. And the Lord direct your hearts into the love of God, and into the patient waiting for Christ. But ye, brethren, be not weary in well doing. For the mystery of iniquity doth already work: only he who now letteth will let, until he be taken out of the way.\n",
      "============================================================\n",
      "Chunk pooling:\n",
      "--------------\n",
      "We are bound to thank God always for you, brethren, as it is meet, because that your faith groweth exceedingly, and the charity of every one of you all toward each other aboundeth;\n",
      "  So that we ourselves glory in you in the churches of God for your patience and faith in all your persecutions and tribulations that ye endure:\n",
      "  Which is a manifest token of the righteous judgment of God, that ye may be counted worthy of the kingdom of God, for which ye also suffer:\n",
      "  Seeing it is a righteous thing with God to recompense tribulation to them that trouble you;\n",
      "  And to you who are troubled rest with us, when the Lord Jesus shall be revealed from heaven with his mighty angels,\n",
      "  In flaming fire taking vengeance on them that know not God, and that obey not the gospel of our Lord Jesus Christ:\n",
      "  Who shall be punished with everlasting destruction from the presence of the Lord, and from the glory of his power;\n",
      "  When he shall come to be glorified in his saints, and to be admired in all them that believe (because our testimony among you was believed) in that day. The second epistle to the Thessalonians was written from Athens. Let no man deceive you by any means: for that day shall not come, except there come a falling away first, and that man of sin be revealed, the son of perdition;\n",
      "  Who opposeth and exalteth himself above all that is called God, or that is worshipped; so that he as God sitteth in the temple of God, shewing himself that he is God. Paul, and Silvanus, and Timotheus, unto the church of the Thessalonians in God our Father and the Lord Jesus Christ:\n",
      "  Grace unto you, and peace, from God our Father and the Lord Jesus Christ. Now them that are such we command and exhort by our Lord Jesus Christ, that with quietness they work, and eat their own bread. Now we command you, brethren, in the name of our Lord Jesus Christ, that ye withdraw yourselves from every brother that walketh disorderly, and not after the tradition which he received of us. And if any man obey not our word by this epistle, note that man, and have no company with him, that he may be ashamed.\n"
     ]
    }
   ],
   "source": [
    "printing(thessalonians2)"
   ]
  },
  {
   "cell_type": "code",
   "execution_count": 209,
   "id": "a1aa5f80-0260-4f49-8bcc-bce994425ff0",
   "metadata": {},
   "outputs": [
    {
     "data": {
      "text/plain": [
       "\" Paul, Silvanus, and Timotheus, wrote to Thessalonians: Grace unto you, and peace, from God our Father and the Lord Jesus Christ . We are bound to thank God always for you, brethren, as it is meet, because that your faith groweth exceedingly . So that we ourselves glory in you in the churches of God for your patience and faith in all your persecutions and tribulations that ye endure:  Which is a manifest token of the righteous judgment of God, that ye may be counted worthy of the kingdom of God . When he shall come to be glorified in his saints, and to be admired in all them that believe (because our testimony among you was believed) in that day. Let no man deceive you by any means: For that day shall not come, except there come a falling away first,  We are bound to give thanks alway to God for you, brethren beloved of the Lord, because God has from the beginning chosen you to salvation through sanctification of the Spirit and belief of the truth . And for this cause God shall send them strong delusion, that they should believe a lie:  That they all might be damned who believed not the truth, but had pleasure in unrighteousness . But we have confidence in the Lord touching you, that ye both do and will do the things which we command you. And the Lord direct your hearts into the love of God, and into the patient waiting for Christ . Finally, brethren, pray for us, that the word of the lord may have free course, and be glorified, even as it is with you:  And that we may be delivered from unreasonable and wicked men . Not because we have not faith  The second epistle to the Thessalonians was written from Athens . Paul's salutation of Paul with mine own hand: So I write. The grace of our Lord Jesus Christ be with you all . \""
      ]
     },
     "execution_count": 209,
     "metadata": {},
     "output_type": "execute_result"
    }
   ],
   "source": [
    "summarization_pipeline_consolidation(thessalonians2)"
   ]
  },
  {
   "cell_type": "markdown",
   "id": "fe41d55d-8487-406f-b451-b3caae4cf812",
   "metadata": {},
   "source": [
    "## 1 Timothy"
   ]
  },
  {
   "cell_type": "code",
   "execution_count": 125,
   "id": "c629f1d6-e197-4470-b5c5-decdfd9342d3",
   "metadata": {},
   "outputs": [],
   "source": [
    "timothy1 = get_book_text('1 Timothy', bible)"
   ]
  },
  {
   "cell_type": "code",
   "execution_count": 126,
   "id": "833e7aed-05ef-4b30-8e32-10e42fe075d0",
   "metadata": {},
   "outputs": [
    {
     "name": "stdout",
     "output_type": "stream",
     "text": [
      "****************************\n",
      "*** TF-IDF Consolidation ***\n",
      "****************************\n",
      "Max pooling:\n",
      "------------\n",
      "I give thee charge in the sight of God, who quickeneth all things, and before Christ Jesus, who before Pontius Pilate witnessed a good confession;\n",
      "  That thou keep this commandment without spot, unrebukeable, until the appearing of our Lord Jesus Christ:\n",
      "  Which in his times he shall shew, who is the blessed and only Potentate, the King of kings, and Lord of lords;\n",
      "  Who only hath immortality, dwelling in the light which no man can approach unto; whom no man hath seen, nor can see: to whom be honour and power everlasting. Rebuke not an elder, but intreat him as a father; and the younger men as brethren;\n",
      "  The elder women as mothers; the younger as sisters, with all purity. Likewise must the deacons be grave, not doubletongued, not given to much wine, not greedy of filthy lucre;\n",
      "  Holding the mystery of the faith in a pure conscience. And let these also first be proved; then let them use the office of a deacon, being found blameless. And Adam was not deceived, but the woman being deceived was in the transgression. Not a novice, lest being lifted up with pride he fall into the condemnation of the devil. This is a faithful saying and worthy of all acceptation. But godliness with contentment is great gain. Amen. Till I come, give attendance to reading, to exhortation, to doctrine. But she that liveth in pleasure is dead while she liveth. For we brought nothing into this world, and it is certain we can carry nothing out. The first to Timothy was written from Laodicea, which is the chiefest city of Phrygia Pacatiana. For some are already turned aside after Satan. And withal they learn to be idle, wandering about from house to house; and not only idle, but tattlers also and busybodies, speaking things which they ought not. Now she that is a widow indeed, and desolate, trusteth in God, and continueth in supplications and prayers night and day.\n",
      "============================================================\n",
      "Sum pooling:\n",
      "------------\n",
      "Paul, an apostle of Jesus Christ by the commandment of God our Saviour, and Lord Jesus Christ, which is our hope;\n",
      "  Unto Timothy, my own son in the faith: Grace, mercy, and peace, from God our Father and Jesus Christ our Lord. Charge them that are rich in this world, that they be not highminded, nor trust in uncertain riches, but in the living God, who giveth us richly all things to enjoy;\n",
      "  That they do good, that they be rich in good works, ready to distribute, willing to communicate;\n",
      "  Laying up in store for themselves a good foundation against the time to come, that they may lay hold on eternal life. These things write I unto thee, hoping to come unto thee shortly:\n",
      "  But if I tarry long, that thou mayest know how thou oughtest to behave thyself in the house of God, which is the church of the living God, the pillar and ground of the truth. And let these also first be proved; then let them use the office of a deacon, being found blameless. Amen. If thou put the brethren in remembrance of these things, thou shalt be a good minister of Jesus Christ, nourished up in the words of faith and of good doctrine, whereunto thou hast attained. But I suffer not a woman to teach, nor to usurp authority over the man, but to be in silence. This is a faithful saying and worthy of all acceptation. Likewise must the deacons be grave, not doubletongued, not given to much wine, not greedy of filthy lucre;\n",
      "  Holding the mystery of the faith in a pure conscience. Some men's sins are open beforehand, going before to judgment; and some men they follow after. Honour widows that are widows indeed. And without controversy great is the mystery of godliness: God was manifest in the flesh, justified in the Spirit, seen of angels, preached unto the Gentiles, believed on in the world, received up into glory.\n",
      "\n",
      "**********************************\n",
      "*** Transformers Consolidation ***\n",
      "**********************************\n",
      "Sentence pooling:\n",
      "-----------------\n",
      "If thou put the brethren in remembrance of these things, thou shalt be a good minister of Jesus Christ, nourished up in the words of faith and of good doctrine, whereunto thou hast attained. But she that liveth in pleasure is dead while she liveth. Some men's sins are open beforehand, going before to judgment; and some men they follow after. But the younger widows refuse: for when they have begun to wax wanton against Christ, they will marry;\n",
      "  Having damnation, because they have cast off their first faith. This is a faithful saying and worthy of all acceptation. Howbeit for this cause I obtained mercy, that in me first Jesus Christ might shew forth all longsuffering, for a pattern to them which should hereafter believe on him to life everlasting. A bishop then must be blameless, the husband of one wife, vigilant, sober, of good behaviour, given to hospitality, apt to teach;\n",
      "  Not given to wine, no striker, not greedy of filthy lucre; but patient, not a brawler, not covetous;\n",
      "  One that ruleth well his own house, having his children in subjection with all gravity;\n",
      "  (For if a man know not how to rule his own house, how shall he take care of the church of God?) I will therefore that men pray every where, lifting up holy hands, without wrath and doubting. But refuse profane and old wives' fables, and exercise thyself rather unto godliness. But thou, O man of God, flee these things; and follow after righteousness, godliness, faith, love, patience, meekness. If any man teach otherwise, and consent not to wholesome words, even the words of our Lord Jesus Christ, and to the doctrine which is according to godliness;\n",
      "  He is proud, knowing nothing, but doting about questions and strifes of words, whereof cometh envy, strife, railings, evil surmisings,\n",
      "  Perverse disputings of men of corrupt minds, and destitute of the truth, supposing that gain is godliness: from such withdraw thyself.\n",
      "============================================================\n",
      "Chunk pooling:\n",
      "--------------\n",
      "If thou put the brethren in remembrance of these things, thou shalt be a good minister of Jesus Christ, nourished up in the words of faith and of good doctrine, whereunto thou hast attained. Against an elder receive not an accusation, but before two or three witnesses. A bishop then must be blameless, the husband of one wife, vigilant, sober, of good behaviour, given to hospitality, apt to teach;\n",
      "  Not given to wine, no striker, not greedy of filthy lucre; but patient, not a brawler, not covetous;\n",
      "  One that ruleth well his own house, having his children in subjection with all gravity;\n",
      "  (For if a man know not how to rule his own house, how shall he take care of the church of God?) For the love of money is the root of all evil: which while some coveted after, they have erred from the faith, and pierced themselves through with many sorrows. Howbeit for this cause I obtained mercy, that in me first Jesus Christ might shew forth all longsuffering, for a pattern to them which should hereafter believe on him to life everlasting. But the younger widows refuse: for when they have begun to wax wanton against Christ, they will marry;\n",
      "  Having damnation, because they have cast off their first faith. But we know that the law is good, if a man use it lawfully;\n",
      "  Knowing this, that the law is not made for a righteous man, but for the lawless and disobedient, for the ungodly and for sinners, for unholy and profane, for murderers of fathers and murderers of mothers, for manslayers,\n",
      "  For whoremongers, for them that defile themselves with mankind, for menstealers, for liars, for perjured persons, and if there be any other thing that is contrary to sound doctrine;\n",
      "  According to the glorious gospel of the blessed God, which was committed to my trust. For therefore we both labour and suffer reproach, because we trust in the living God, who is the Saviour of all men, specially of those that believe.\n"
     ]
    }
   ],
   "source": [
    "printing(timothy1)"
   ]
  },
  {
   "cell_type": "code",
   "execution_count": 212,
   "id": "970b9169-eb93-4a2b-a0c5-fa4b1722d132",
   "metadata": {},
   "outputs": [
    {
     "data": {
      "text/plain": [
       "\" Paul, an apostle of Jesus Christ by the commandment of God our Saviour, and Lord Jesus Christ, which is our hope; . Unto Timothy, my own son in the faith: Grace, mercy, and peace, from God our Father and Jesus Christ our Lord . As I besought thee to abide still at Ephesus, when I went into Macedonia, that thou mightest charge some that they teach no other doctrine . Neither give heed to fables and endless genealogies, which minister questions, rather than godly edifying which is in faith: so do . The law is not made for a righteous man, but for the lawless and disobedient, for the ungodly and for sinners, for unholy and profane . For murderers of fathers and murderers of mothers, for manslayers, for menstealers, for  I exhort that men pray every where, lifting up holy hands, without wrath and doubting . In like manner also that women adorn themselves in modest apparel, with shamefacedness and sobriety . But I suffer not a woman to teach, nor to usurp authority over the man, but to be in silence . A bishop then must be blameless, the husband of one wife, vigilant, sober, of good behaviour, given to hospitality, apt to teach . And let these also first be proved; then let them use the office of a deacon, being found blameless . Not a novice, lest being lifted up with pride he fall into the condemnation of the devil . Also must the deacons be grave, not doubletongued. Not a brawler, not greedy of filthy lucre;  Holding the mystery of the faith  The deacons must be the husbands of one wife, ruling their children and their own houses well . Even so must their wives be grave, not slanderers, sober, faithful in all things . But refuse profane and old wives' fables, and exercise thyself rather unto godliness. For bodily exercise profiteth little: but godliness is profitable unto all things, having promise of the life that now is, and of that which is to come. Neglect not the gift that is in thee, which was given thee by prophecy, with the laying on of the hands of the presbytery. Meditate upon these things; give thyself wholly to them; that thy profiting may appear to all. Take heed unto thyself, and unto the doctrine; continue in them. This is a faithful saying and worthy of all acceptation.  Let not a widow be taken into the number under threescore years old having been the wife of one man, having been reported of for good works . If any widow have children or nephews, let them learn first to shew piety at home, and to requite their parents . Rebuke not an elder, but intreat him as a father; and the younger men as brethren;  The elder women as mothers; the younger as sisters, with all purity . Honour widows that are widows indeed. But if any provide not for his own, and specially for those of his own house, he hath denied the faith, and is worse than an infidel . For some are already turned aside after Satan . And withal they learn to be idle, wandering about from house to house; and not only  Some men's sins are open beforehand, going before to judgment; and some men they follow after . Let as many servants as are under the yoke count their own masters worthy of all honour, that the name of God and his doctrine be not blasphemed . And they that have believing masters, let them not despise them, but rather do them service, because they are faithful and beloved, partakers of the benefit. These things teach and exhort. If any man teach otherwise, and consent not to wholesome words, even the words of our Lord Jesus Christ, and to the doctrine which is according to godliness; he is proud, knowing nothing, but doting about questions and strifes of words, whereof cometh envy, strife, railings of words .  The first to Timothy was written from Laodicea, which is the chiefest city of Phrygia Pacatiana . Charge them that are rich in this world, that they be not highminded, nor trust in uncertain riches, but in the living God, who gives us richly all things to enjoy . \""
      ]
     },
     "execution_count": 212,
     "metadata": {},
     "output_type": "execute_result"
    }
   ],
   "source": [
    "summarization_pipeline_consolidation(timothy1)"
   ]
  },
  {
   "cell_type": "markdown",
   "id": "3e8310ae-6e93-47a2-9483-e01b885b00eb",
   "metadata": {},
   "source": [
    "## 2 Timothy"
   ]
  },
  {
   "cell_type": "code",
   "execution_count": 127,
   "id": "4dc21923-0cb9-4610-929e-c08bc7011ad7",
   "metadata": {},
   "outputs": [],
   "source": [
    "timothy2 = get_book_text('2 Timothy', bible)"
   ]
  },
  {
   "cell_type": "code",
   "execution_count": 128,
   "id": "121cf45d-94e4-4473-9987-4ad55eb448c9",
   "metadata": {},
   "outputs": [
    {
     "name": "stdout",
     "output_type": "stream",
     "text": [
      "****************************\n",
      "*** TF-IDF Consolidation ***\n",
      "****************************\n",
      "Max pooling:\n",
      "------------\n",
      "Be not thou therefore ashamed of the testimony of our Lord, nor of me his prisoner: but be thou partaker of the afflictions of the gospel according to the power of God;\n",
      "  Who hath saved us, and called us with an holy calling, not according to our works, but according to his own purpose and grace, which was given us in Christ Jesus before the world began,\n",
      "  But is now made manifest by the appearing of our Saviour Jesus Christ, who hath abolished death, and hath brought life and immortality to light through the gospel:\n",
      "  Whereunto I am appointed a preacher, and an apostle, and a teacher of the Gentiles. For the time will come when they will not endure sound doctrine; but after their own lusts shall they heap to themselves teachers, having itching ears;\n",
      "  And they shall turn away their ears from the truth, and shall be turned unto fables. I thank God, whom I serve from my forefathers with pure conscience, that without ceasing I have remembrance of thee in my prayers night and day;\n",
      "  Greatly desiring to see thee, being mindful of thy tears, that I may be filled with joy;\n",
      "  When I call to remembrance the unfeigned faith that is in thee, which dwelt first in thy grandmother Lois, and thy mother Eunice; and I am persuaded that in thee also. But in a great house there are not only vessels of gold and of silver, but also of wood and of earth; and some to honour, and some to dishonour. Only Luke is with me. Amen. And if a man also strive for masteries, yet is he not crowned, except he strive lawfully. But foolish and unlearned questions avoid, knowing that they do gender strifes. And Tychicus have I sent to Ephesus. Salute Prisca and Aquila, and the household of Onesiphorus. Erastus abode at Corinth: but Trophimus have I left at Miletum sick. But shun profane and vain babblings: for they will increase unto more ungodliness. And their word will eat as doth a canker: of whom is Hymenaeus and Philetus;\n",
      "  Who concerning the truth have erred, saying that the resurrection is past already; and overthrow the faith of some.\n",
      "============================================================\n",
      "Sum pooling:\n",
      "------------\n",
      "Paul, an apostle of Jesus Christ by the will of God, according to the promise of life which is in Christ Jesus,\n",
      "  To Timothy, my dearly beloved son: Grace, mercy, and peace, from God the Father and Christ Jesus our Lord. And the things that thou hast heard of me among many witnesses, the same commit thou to faithful men, who shall be able to teach others also. Do thy diligence to come shortly unto me:\n",
      "  For Demas hath forsaken me, having loved this present world, and is departed unto Thessalonica; Crescens to Galatia, Titus unto Dalmatia. The Lord grant unto him that he may find mercy of the Lord in that day: and in how many things he ministered unto me at Ephesus, thou knowest very well. For the time will come when they will not endure sound doctrine; but after their own lusts shall they heap to themselves teachers, having itching ears;\n",
      "  And they shall turn away their ears from the truth, and shall be turned unto fables. I thank God, whom I serve from my forefathers with pure conscience, that without ceasing I have remembrance of thee in my prayers night and day;\n",
      "  Greatly desiring to see thee, being mindful of thy tears, that I may be filled with joy;\n",
      "  When I call to remembrance the unfeigned faith that is in thee, which dwelt first in thy grandmother Lois, and thy mother Eunice; and I am persuaded that in thee also. Amen. All scripture is given by inspiration of God, and is profitable for doctrine, for reproof, for correction, for instruction in righteousness:\n",
      "  That the man of God may be perfect, throughly furnished unto all good works. Alexander the coppersmith did me much evil: the Lord reward him according to his works:\n",
      "  Of whom be thou ware also; for he hath greatly withstood our words. But thou hast fully known my doctrine, manner of life, purpose, faith, longsuffering, charity, patience,\n",
      "  Persecutions, afflictions, which came unto me at Antioch, at Iconium, at Lystra; what persecutions I endured: but out of them all the Lord delivered me.\n",
      "\n",
      "**********************************\n",
      "*** Transformers Consolidation ***\n",
      "**********************************\n",
      "Sentence pooling:\n",
      "-----------------\n",
      "And the servant of the Lord must not strive; but be gentle unto all men, apt to teach, patient,\n",
      "  In meekness instructing those that oppose themselves; if God peradventure will give them repentance to the acknowledging of the truth;\n",
      "  And that they may recover themselves out of the snare of the devil, who are taken captive by him at his will. The cloke that I left at Troas with Carpus, when thou comest, bring with thee, and the books, but especially the parchments. Do thy diligence to come shortly unto me:\n",
      "  For Demas hath forsaken me, having loved this present world, and is departed unto Thessalonica; Crescens to Galatia, Titus unto Dalmatia. That good thing which was committed unto thee keep by the Holy Ghost which dwelleth in us. I charge thee therefore before God, and the Lord Jesus Christ, who shall judge the quick and the dead at his appearing and his kingdom;\n",
      "  Preach the word; be instant in season, out of season; reprove, rebuke, exhort with all longsuffering and doctrine. But thou hast fully known my doctrine, manner of life, purpose, faith, longsuffering, charity, patience,\n",
      "  Persecutions, afflictions, which came unto me at Antioch, at Iconium, at Lystra; what persecutions I endured: but out of them all the Lord delivered me. Thou therefore, my son, be strong in the grace that is in Christ Jesus. Flee also youthful lusts: but follow righteousness, faith, charity, peace, with them that call on the Lord out of a pure heart. Consider what I say; and the Lord give thee understanding in all things. And, Let every one that nameth the name of Christ depart from iniquity. The Lord Jesus Christ be with thy spirit. But they shall proceed no further: for their folly shall be manifest unto all men, as theirs also was. No man that warreth entangleth himself with the affairs of this life; that he may please him who hath chosen him to be a soldier.\n",
      "============================================================\n",
      "Chunk pooling:\n",
      "--------------\n",
      "Be not thou therefore ashamed of the testimony of our Lord, nor of me his prisoner: but be thou partaker of the afflictions of the gospel according to the power of God;\n",
      "  Who hath saved us, and called us with an holy calling, not according to our works, but according to his own purpose and grace, which was given us in Christ Jesus before the world began,\n",
      "  But is now made manifest by the appearing of our Saviour Jesus Christ, who hath abolished death, and hath brought life and immortality to light through the gospel:\n",
      "  Whereunto I am appointed a preacher, and an apostle, and a teacher of the Gentiles. But in a great house there are not only vessels of gold and of silver, but also of wood and of earth; and some to honour, and some to dishonour. For men shall be lovers of their own selves, covetous, boasters, proud, blasphemers, disobedient to parents, unthankful, unholy,\n",
      "  Without natural affection, trucebreakers, false accusers, incontinent, fierce, despisers of those that are good,\n",
      "  Traitors, heady, highminded, lovers of pleasures more than lovers of God;\n",
      "  Having a form of godliness, but denying the power thereof: from such turn away. And their word will eat as doth a canker: of whom is Hymenaeus and Philetus;\n",
      "  Who concerning the truth have erred, saying that the resurrection is past already; and overthrow the faith of some. The Lord grant unto him that he may find mercy of the Lord in that day: and in how many things he ministered unto me at Ephesus, thou knowest very well. Thou therefore endure hardness, as a good soldier of Jesus Christ. Paul, an apostle of Jesus Christ by the will of God, according to the promise of life which is in Christ Jesus,\n",
      "  To Timothy, my dearly beloved son: Grace, mercy, and peace, from God the Father and Christ Jesus our Lord. But thou hast fully known my doctrine, manner of life, purpose, faith, longsuffering, charity, patience,\n",
      "  Persecutions, afflictions, which came unto me at Antioch, at Iconium, at Lystra; what persecutions I endured: but out of them all the Lord delivered me.\n"
     ]
    }
   ],
   "source": [
    "printing(timothy2)"
   ]
  },
  {
   "cell_type": "code",
   "execution_count": 215,
   "id": "9ced2fdf-1f9e-4934-a0a0-da056dd9f7e8",
   "metadata": {},
   "outputs": [
    {
     "data": {
      "text/plain": [
       "' To Timothy, my dearly beloved son: Grace, mercy, and peace, from God the Father and Christ Jesus our Lord . I thank God, whom I serve from my forefathers with pure conscience, that without ceasing I have remembrance of thee in my prayers night and day;  Greatly desiring to see thee, being mindful of thy tears, that I may be filled with joy;  When I call to remembrance the unfeigned faith that is in thee, which dwelt first in thy grandmother Lois, and thy mother Eunice; and I am persuaded that in thee also . Be not ashamed of the testimony of our Lord, nor of me his prisoner: but be thou partaker of the afflictions of the gospel according to the power of God . All they which are in Asia be turned away from me  No man that warreth entangle himself with the affairs of this life; that he may please him who has chosen him to be a soldier . And if a man also strive for masteries, yet is he not crowned, except he strive lawfully . Study to shew thyself approved unto God, a workman that needeth not to be ashamed, rightly dividing the word of truth . But shun profane and vain babblings: for they will increase unto more ungodliness . Flee also youthful lusts: but follow righteousness, faith, charity, peace, with them that call on the Lord out of a pure heart . The things that thou hast heard of me among many witnesses, the same commit thou to faithful men, who shall be able to teach others also. Remember that Jesus Christ of the seed of David was raised  Persecutions, afflictions, which came unto me at Antioch, at Iconium, at Lystra; what persecutions I endured: but out of them all the Lord delivered me . Yea, and all that will live godly in Christ Jesus shall suffer persecution. But evil men and seducers shall wax worse and worse, deceiving, and being deceived. All scripture is given by inspiration of God, and is profitable for doctrine, for reproof, for correction, for instruction in righteousness . That the man of God may be perfect, throughly furnished unto all good works. I charge thee therefore before God,  Preach the word; be instant in season, out of season; reprove, rebuke, exhort with all longsuffering and doctrine. And the servant of the Lord must not strive  The second epistle unto Timotheus, ordained the first bishop of the church of the Ephesians, was written from Rome, when Paul was brought before Nero the second time . Do thy diligence to come shortly unto me: for I am now ready to be offered, and the time of my departure is at hand . For the time will come when they will not endure sound doctrine; but after their own lusts shall they heap to themselves teachers, having itching ears . And they shall turn away their ears from the truth, and shall be turned unto fables. But watch thou in all things, endure afflictions, do the work of an evangelist, make full proof of thy ministry.  For Demas has forsaken me, having loved this present world, and is departed unto Thessalonica . '"
      ]
     },
     "execution_count": 215,
     "metadata": {},
     "output_type": "execute_result"
    }
   ],
   "source": [
    "summarization_pipeline_consolidation(timothy2)"
   ]
  },
  {
   "cell_type": "markdown",
   "id": "bfae231f-c76d-44ee-8649-311fbd759b8e",
   "metadata": {},
   "source": [
    "## Titus"
   ]
  },
  {
   "cell_type": "code",
   "execution_count": 129,
   "id": "8908d8cf-0dce-4e50-9796-6fd61b9d0783",
   "metadata": {},
   "outputs": [],
   "source": [
    "titus = get_book_text('Titus', bible)"
   ]
  },
  {
   "cell_type": "code",
   "execution_count": 130,
   "id": "0981063c-5f83-4b07-92b8-78c6db7e9d82",
   "metadata": {},
   "outputs": [
    {
     "name": "stdout",
     "output_type": "stream",
     "text": [
      "****************************\n",
      "*** TF-IDF Consolidation ***\n",
      "****************************\n",
      "Max pooling:\n",
      "------------\n",
      "The aged women likewise, that they be in behaviour as becometh holiness, not false accusers, not given to much wine, teachers of good things;\n",
      "  That they may teach the young women to be sober, to love their husbands, to love their children,\n",
      "  To be discreet, chaste, keepers at home, good, obedient to their own husbands, that the word of God be not blasphemed. Wherefore rebuke them sharply, that they may be sound in the faith;\n",
      "  Not giving heed to Jewish fables, and commandments of men, that turn from the truth. For the grace of God that bringeth salvation hath appeared to all men,\n",
      "  Teaching us that, denying ungodliness and worldly lusts, we should live soberly, righteously, and godly, in this present world;\n",
      "  Looking for that blessed hope, and the glorious appearing of the great God and our Saviour Jesus Christ;\n",
      "  Who gave himself for us, that he might redeem us from all iniquity, and purify unto himself a peculiar people, zealous of good works. Let no man despise thee. One of themselves, even a prophet of their own, said, The Cretians are alway liars, evil beasts, slow bellies. This witness is true. But avoid foolish questions, and genealogies, and contentions, and strivings about the law; for they are unprofitable and vain. Amen. Bring Zenas the lawyer and Apollos on their journey diligently, that nothing be wanting unto them. In all things shewing thyself a pattern of good works: in doctrine shewing uncorruptness, gravity, sincerity,\n",
      "  Sound speech, that cannot be condemned; that he that is of the contrary part may be ashamed, having no evil thing to say of you. Unto the pure all things are pure: but unto them that are defiled and unbelieving is nothing pure; but even their mind and conscience is defiled. For there are many unruly and vain talkers and deceivers, specially they of the circumcision:\n",
      "  Whose mouths must be stopped, who subvert whole houses, teaching things which they ought not, for filthy lucre's sake.\n",
      "============================================================\n",
      "Sum pooling:\n",
      "------------\n",
      "These things are good and profitable unto men. Paul, a servant of God, and an apostle of Jesus Christ, according to the faith of God's elect, and the acknowledging of the truth which is after godliness;\n",
      "  In hope of eternal life, which God, that cannot lie, promised before the world began;\n",
      "  But hath in due times manifested his word through preaching, which is committed unto me according to the commandment of God our Saviour;\n",
      "  To Titus, mine own son after the common faith: Grace, mercy, and peace, from God the Father and the Lord Jesus Christ our Saviour. Let no man despise thee. For a bishop must be blameless, as the steward of God; not selfwilled, not soon angry, not given to wine, no striker, not given to filthy lucre;\n",
      "  But a lover of hospitality, a lover of good men, sober, just, holy, temperate;\n",
      "  Holding fast the faithful word as he hath been taught, that he may be able by sound doctrine both to exhort and to convince the gainsayers. In all things shewing thyself a pattern of good works: in doctrine shewing uncorruptness, gravity, sincerity,\n",
      "  Sound speech, that cannot be condemned; that he that is of the contrary part may be ashamed, having no evil thing to say of you. This is a faithful saying, and these things I will that thou affirm constantly, that they which have believed in God might be careful to maintain good works. These things speak, and exhort, and rebuke with all authority. For we ourselves also were sometimes foolish, disobedient, deceived, serving divers lusts and pleasures, living in malice and envy, hateful, and hating one another. The aged women likewise, that they be in behaviour as becometh holiness, not false accusers, not given to much wine, teachers of good things;\n",
      "  That they may teach the young women to be sober, to love their husbands, to love their children,\n",
      "  To be discreet, chaste, keepers at home, good, obedient to their own husbands, that the word of God be not blasphemed. They profess that they know God; but in works they deny him, being abominable, and disobedient, and unto every good work reprobate.\n",
      "\n",
      "**********************************\n",
      "*** Transformers Consolidation ***\n",
      "**********************************\n",
      "Sentence pooling:\n",
      "-----------------\n",
      "Exhort servants to be obedient unto their own masters, and to please them well in all things; not answering again;\n",
      "  Not purloining, but shewing all good fidelity; that they may adorn the doctrine of God our Saviour in all things. This witness is true. Let no man despise thee. But speak thou the things which become sound doctrine:\n",
      "  That the aged men be sober, grave, temperate, sound in faith, in charity, in patience. But avoid foolish questions, and genealogies, and contentions, and strivings about the law; for they are unprofitable and vain. One of themselves, even a prophet of their own, said, The Cretians are alway liars, evil beasts, slow bellies. For the grace of God that bringeth salvation hath appeared to all men,\n",
      "  Teaching us that, denying ungodliness and worldly lusts, we should live soberly, righteously, and godly, in this present world;\n",
      "  Looking for that blessed hope, and the glorious appearing of the great God and our Saviour Jesus Christ;\n",
      "  Who gave himself for us, that he might redeem us from all iniquity, and purify unto himself a peculiar people, zealous of good works. For this cause left I thee in Crete, that thou shouldest set in order the things that are wanting, and ordain elders in every city, as I had appointed thee:\n",
      "  If any be blameless, the husband of one wife, having faithful children not accused of riot or unruly. Bring Zenas the lawyer and Apollos on their journey diligently, that nothing be wanting unto them. These things are good and profitable unto men. For there are many unruly and vain talkers and deceivers, specially they of the circumcision:\n",
      "  Whose mouths must be stopped, who subvert whole houses, teaching things which they ought not, for filthy lucre's sake. This is a faithful saying, and these things I will that thou affirm constantly, that they which have believed in God might be careful to maintain good works. Greet them that love us in the faith. Amen. All that are with me salute thee.\n",
      "============================================================\n",
      "Chunk pooling:\n",
      "--------------\n",
      "The aged women likewise, that they be in behaviour as becometh holiness, not false accusers, not given to much wine, teachers of good things;\n",
      "  That they may teach the young women to be sober, to love their husbands, to love their children,\n",
      "  To be discreet, chaste, keepers at home, good, obedient to their own husbands, that the word of God be not blasphemed. Paul, a servant of God, and an apostle of Jesus Christ, according to the faith of God's elect, and the acknowledging of the truth which is after godliness;\n",
      "  In hope of eternal life, which God, that cannot lie, promised before the world began;\n",
      "  But hath in due times manifested his word through preaching, which is committed unto me according to the commandment of God our Saviour;\n",
      "  To Titus, mine own son after the common faith: Grace, mercy, and peace, from God the Father and the Lord Jesus Christ our Saviour. For a bishop must be blameless, as the steward of God; not selfwilled, not soon angry, not given to wine, no striker, not given to filthy lucre;\n",
      "  But a lover of hospitality, a lover of good men, sober, just, holy, temperate;\n",
      "  Holding fast the faithful word as he hath been taught, that he may be able by sound doctrine both to exhort and to convince the gainsayers. For this cause left I thee in Crete, that thou shouldest set in order the things that are wanting, and ordain elders in every city, as I had appointed thee:\n",
      "  If any be blameless, the husband of one wife, having faithful children not accused of riot or unruly. This is a faithful saying, and these things I will that thou affirm constantly, that they which have believed in God might be careful to maintain good works. For the grace of God that bringeth salvation hath appeared to all men,\n",
      "  Teaching us that, denying ungodliness and worldly lusts, we should live soberly, righteously, and godly, in this present world;\n",
      "  Looking for that blessed hope, and the glorious appearing of the great God and our Saviour Jesus Christ;\n",
      "  Who gave himself for us, that he might redeem us from all iniquity, and purify unto himself a peculiar people, zealous of good works.\n"
     ]
    }
   ],
   "source": [
    "printing(titus)"
   ]
  },
  {
   "cell_type": "code",
   "execution_count": 218,
   "id": "3b19c2d4-e02d-4479-a087-f428649c11a3",
   "metadata": {},
   "outputs": [
    {
     "data": {
      "text/plain": [
       "\" Paul was a servant of God, and an apostle of Jesus Christ, according to the faith of God's elect, and the acknowledging of the truth which is after godliness . For this cause left I thee in Crete, that thou shouldest set in order the things that are wanting, and ordain elders in every city, as I had appointed thee: If any be blameless, the husband of one wife, having faithful children not accused of riot or unruly . For there are many unruly and vain talkers and deceivers, specially they of the circumcision: Whose mouths must be stopped, who subvert whole houses, teaching things which they ought not, for filthy lucre's sake . One of themselves, even a prophet of their own, said, The Cretians are alway liars, evil beasts, slow bellies. This witness is true  In all things shewing thyself a pattern of good works: in doctrine shewing uncorruptness, gravity, sincerity, and sound speech . Exhort servants to be obedient unto their own masters, and to please them well in all things . Not purloining, but shewing all good fidelity; that they may adorn the doctrine of God our Saviour . For the grace of God that bring salvation hath appeared to all men,  Teaching us that, denying ungodliness and worldly lusts, we should live soberly, righteously, and godly, in this present world . But avoid foolish questions, and genealogies, and contentions, and strivings about the law; for they are unprofitable and vain . These things are good and profitable unto men. Avoid foolish questions ... Let no man despise thee.  It was written to Titus, ordained the first bishop of the church of the Cretians, from Nicopolis of Macedonia . All that are with me salute thee. Greet them that love us in the faith . \""
      ]
     },
     "execution_count": 218,
     "metadata": {},
     "output_type": "execute_result"
    }
   ],
   "source": [
    "summarization_pipeline_consolidation(titus)"
   ]
  },
  {
   "cell_type": "markdown",
   "id": "ac01c48f-997b-430c-8ada-dc710aeb3fbb",
   "metadata": {},
   "source": [
    "## Philemon"
   ]
  },
  {
   "cell_type": "code",
   "execution_count": 131,
   "id": "b45d6ce4-6354-442e-b17f-28b0e46377a7",
   "metadata": {},
   "outputs": [],
   "source": [
    "philemon = get_book_text('Philemon', bible)"
   ]
  },
  {
   "cell_type": "code",
   "execution_count": 132,
   "id": "da43c4f0-a8a5-44c6-a3ab-f3f6b70dfe2b",
   "metadata": {},
   "outputs": [
    {
     "name": "stdout",
     "output_type": "stream",
     "text": [
      "****************************\n",
      "*** TF-IDF Consolidation ***\n",
      "****************************\n",
      "Max pooling:\n",
      "------------\n",
      "Paul, a prisoner of Jesus Christ, and Timothy our brother, unto Philemon our dearly beloved, and fellowlabourer,\n",
      "  And to our beloved Apphia, and Archippus our fellowsoldier, and to the church in thy house:\n",
      "  Grace to you, and peace, from God our Father and the Lord Jesus Christ. If thou count me therefore a partner, receive him as myself. Amen. If he hath wronged thee, or oweth thee ought, put that on mine account;\n",
      "  I Paul have written it with mine own hand, I will repay it: albeit I do not say to thee how thou owest unto me even thine own self besides. But withal prepare me also a lodging: for I trust that through your prayers I shall be given unto you. For we have great joy and consolation in thy love, because the bowels of the saints are refreshed by thee, brother. Written from Rome to Philemon, by Onesimus a servant. There salute thee Epaphras, my fellowprisoner in Christ Jesus;\n",
      "  Marcus, Aristarchus, Demas, Lucas, my fellowlabourers. I beseech thee for my son Onesimus, whom I have begotten in my bonds:\n",
      "  Which in time past was to thee unprofitable, but now profitable to thee and to me:\n",
      "  Whom I have sent again: thou therefore receive him, that is, mine own bowels:\n",
      "  Whom I would have retained with me, that in thy stead he might have ministered unto me in the bonds of the gospel:\n",
      "  But without thy mind would I do nothing; that thy benefit should not be as it were of necessity, but willingly. I thank my God, making mention of thee always in my prayers,\n",
      "  Hearing of thy love and faith, which thou hast toward the Lord Jesus, and toward all saints;\n",
      "  That the communication of thy faith may become effectual by the acknowledging of every good thing which is in you in Christ Jesus. Having confidence in thy obedience I wrote unto thee, knowing that thou wilt also do more than I say. For perhaps he therefore departed for a season, that thou shouldest receive him for ever;\n",
      "  Not now as a servant, but above a servant, a brother beloved, specially to me, but how much more unto thee, both in the flesh, and in the Lord?\n",
      "============================================================\n",
      "Sum pooling:\n",
      "------------\n",
      "Paul, a prisoner of Jesus Christ, and Timothy our brother, unto Philemon our dearly beloved, and fellowlabourer,\n",
      "  And to our beloved Apphia, and Archippus our fellowsoldier, and to the church in thy house:\n",
      "  Grace to you, and peace, from God our Father and the Lord Jesus Christ. I beseech thee for my son Onesimus, whom I have begotten in my bonds:\n",
      "  Which in time past was to thee unprofitable, but now profitable to thee and to me:\n",
      "  Whom I have sent again: thou therefore receive him, that is, mine own bowels:\n",
      "  Whom I would have retained with me, that in thy stead he might have ministered unto me in the bonds of the gospel:\n",
      "  But without thy mind would I do nothing; that thy benefit should not be as it were of necessity, but willingly. Yea, brother, let me have joy of thee in the Lord: refresh my bowels in the Lord. For perhaps he therefore departed for a season, that thou shouldest receive him for ever;\n",
      "  Not now as a servant, but above a servant, a brother beloved, specially to me, but how much more unto thee, both in the flesh, and in the Lord? If he hath wronged thee, or oweth thee ought, put that on mine account;\n",
      "  I Paul have written it with mine own hand, I will repay it: albeit I do not say to thee how thou owest unto me even thine own self besides. I thank my God, making mention of thee always in my prayers,\n",
      "  Hearing of thy love and faith, which thou hast toward the Lord Jesus, and toward all saints;\n",
      "  That the communication of thy faith may become effectual by the acknowledging of every good thing which is in you in Christ Jesus. There salute thee Epaphras, my fellowprisoner in Christ Jesus;\n",
      "  Marcus, Aristarchus, Demas, Lucas, my fellowlabourers. Amen. Wherefore, though I might be much bold in Christ to enjoin thee that which is convenient,\n",
      "  Yet for love's sake I rather beseech thee, being such an one as Paul the aged, and now also a prisoner of Jesus Christ. Having confidence in thy obedience I wrote unto thee, knowing that thou wilt also do more than I say.\n",
      "\n",
      "**********************************\n",
      "*** Transformers Consolidation ***\n",
      "**********************************\n",
      "Sentence pooling:\n",
      "-----------------\n",
      "I beseech thee for my son Onesimus, whom I have begotten in my bonds:\n",
      "  Which in time past was to thee unprofitable, but now profitable to thee and to me:\n",
      "  Whom I have sent again: thou therefore receive him, that is, mine own bowels:\n",
      "  Whom I would have retained with me, that in thy stead he might have ministered unto me in the bonds of the gospel:\n",
      "  But without thy mind would I do nothing; that thy benefit should not be as it were of necessity, but willingly. I thank my God, making mention of thee always in my prayers,\n",
      "  Hearing of thy love and faith, which thou hast toward the Lord Jesus, and toward all saints;\n",
      "  That the communication of thy faith may become effectual by the acknowledging of every good thing which is in you in Christ Jesus. Paul, a prisoner of Jesus Christ, and Timothy our brother, unto Philemon our dearly beloved, and fellowlabourer,\n",
      "  And to our beloved Apphia, and Archippus our fellowsoldier, and to the church in thy house:\n",
      "  Grace to you, and peace, from God our Father and the Lord Jesus Christ. Yea, brother, let me have joy of thee in the Lord: refresh my bowels in the Lord. Having confidence in thy obedience I wrote unto thee, knowing that thou wilt also do more than I say. For perhaps he therefore departed for a season, that thou shouldest receive him for ever;\n",
      "  Not now as a servant, but above a servant, a brother beloved, specially to me, but how much more unto thee, both in the flesh, and in the Lord? There salute thee Epaphras, my fellowprisoner in Christ Jesus;\n",
      "  Marcus, Aristarchus, Demas, Lucas, my fellowlabourers. But withal prepare me also a lodging: for I trust that through your prayers I shall be given unto you. The grace of our Lord Jesus Christ be with your spirit. If thou count me therefore a partner, receive him as myself. If he hath wronged thee, or oweth thee ought, put that on mine account;\n",
      "  I Paul have written it with mine own hand, I will repay it: albeit I do not say to thee how thou owest unto me even thine own self besides. Amen.\n",
      "============================================================\n",
      "Chunk pooling:\n",
      "--------------\n",
      "Paul, a prisoner of Jesus Christ, and Timothy our brother, unto Philemon our dearly beloved, and fellowlabourer,\n",
      "  And to our beloved Apphia, and Archippus our fellowsoldier, and to the church in thy house:\n",
      "  Grace to you, and peace, from God our Father and the Lord Jesus Christ. Yea, brother, let me have joy of thee in the Lord: refresh my bowels in the Lord. I thank my God, making mention of thee always in my prayers,\n",
      "  Hearing of thy love and faith, which thou hast toward the Lord Jesus, and toward all saints;\n",
      "  That the communication of thy faith may become effectual by the acknowledging of every good thing which is in you in Christ Jesus. I beseech thee for my son Onesimus, whom I have begotten in my bonds:\n",
      "  Which in time past was to thee unprofitable, but now profitable to thee and to me:\n",
      "  Whom I have sent again: thou therefore receive him, that is, mine own bowels:\n",
      "  Whom I would have retained with me, that in thy stead he might have ministered unto me in the bonds of the gospel:\n",
      "  But without thy mind would I do nothing; that thy benefit should not be as it were of necessity, but willingly. There salute thee Epaphras, my fellowprisoner in Christ Jesus;\n",
      "  Marcus, Aristarchus, Demas, Lucas, my fellowlabourers. But withal prepare me also a lodging: for I trust that through your prayers I shall be given unto you. For perhaps he therefore departed for a season, that thou shouldest receive him for ever;\n",
      "  Not now as a servant, but above a servant, a brother beloved, specially to me, but how much more unto thee, both in the flesh, and in the Lord? Wherefore, though I might be much bold in Christ to enjoin thee that which is convenient,\n",
      "  Yet for love's sake I rather beseech thee, being such an one as Paul the aged, and now also a prisoner of Jesus Christ. Written from Rome to Philemon, by Onesimus a servant. Having confidence in thy obedience I wrote unto thee, knowing that thou wilt also do more than I say.\n"
     ]
    }
   ],
   "source": [
    "printing(philemon)"
   ]
  },
  {
   "cell_type": "code",
   "execution_count": 221,
   "id": "6fdee821-d7a6-44a7-9d83-37702a9f1964",
   "metadata": {},
   "outputs": [
    {
     "data": {
      "text/plain": [
       "\"Paul, a prisoner of Jesus Christ, and Timothy our brother, unto Philemon our dearly beloved, and fellowlabourer,\\n  And to our beloved Apphia, and Archippus our fellowsoldier, and to the church in thy house:\\n  Grace to you, and peace, from God our Father and the Lord Jesus Christ.\\n  I thank my God, making mention of thee always in my prayers,\\n  Hearing of thy love and faith, which thou hast toward the Lord Jesus, and toward all saints;\\n  That the communication of thy faith may become effectual by the acknowledging of every good thing which is in you in Christ Jesus.\\n  For we have great joy and consolation in thy love, because the bowels of the saints are refreshed by thee, brother.\\n  Wherefore, though I might be much bold in Christ to enjoin thee that which is convenient,\\n  Yet for love's sake I rather beseech thee, being such an one as Paul the aged, and now also a prisoner of Jesus Christ.\\n  I beseech thee for my son Onesimus, whom I have begotten in my bonds:\\n  Which in time past was to thee unprofitable, but now profitable to thee and to me:\\n  Whom I have sent again: thou therefore receive him, that is, mine own bowels:\\n  Whom I would have retained with me, that in thy stead he might have ministered unto me in the bonds of the gospel:\\n  But without thy mind would I do nothing; that thy benefit should not be as it were of necessity, but willingly.\\n  For perhaps he therefore departed for a season, that thou shouldest receive him for ever;\\n  Not now as a servant, but above a servant, a brother beloved, specially to me, but how much more unto thee, both in the flesh, and in the Lord?\\n  If thou count me therefore a partner, receive him as myself.\\n  If he hath wronged thee, or oweth thee ought, put that on mine account;\\n  I Paul have written it with mine own hand, I will repay it: albeit I do not say to thee how thou owest unto me even thine own self besides.\\n  Yea, brother, let me have joy of thee in the Lord: refresh my bowels in the Lord.\\n  Having confidence in thy obedience I wrote unto thee, knowing that thou wilt also do more than I say.\\n  But withal prepare me also a lodging: for I trust that through your prayers I shall be given unto you.\\n  There salute thee Epaphras, my fellowprisoner in Christ Jesus;\\n  Marcus, Aristarchus, Demas, Lucas, my fellowlabourers.\\n  The grace of our Lord Jesus Christ be with your spirit. Amen. Written from Rome to Philemon, by Onesimus a servant.\""
      ]
     },
     "execution_count": 221,
     "metadata": {},
     "output_type": "execute_result"
    }
   ],
   "source": [
    "summarization_pipeline_consolidation(philemon)"
   ]
  },
  {
   "cell_type": "markdown",
   "id": "ebfa7ad5-f975-491b-bda7-815e1917b5dc",
   "metadata": {},
   "source": [
    "## James"
   ]
  },
  {
   "cell_type": "code",
   "execution_count": 133,
   "id": "ae25565e-8e25-4daf-896e-d539960cedd3",
   "metadata": {},
   "outputs": [],
   "source": [
    "james = get_book_text('James', bible)"
   ]
  },
  {
   "cell_type": "code",
   "execution_count": 159,
   "id": "6aa7a22a-024f-42dc-a158-57622ea232ef",
   "metadata": {},
   "outputs": [
    {
     "name": "stdout",
     "output_type": "stream",
     "text": [
      "****************************\n",
      "*** TF-IDF Consolidation ***\n",
      "****************************\n",
      "Max pooling:\n",
      "------------\n",
      "let him call for the elders of the church; and let them pray over him, anointing him with oil in the name of the Lord:\n",
      "  And the prayer of faith shall save the sick, and the Lord shall raise him up; and if he have committed sins, they shall be forgiven him. For if there come unto your assembly a man with a gold ring, in goodly apparel, and there come in also a poor man in vile raiment;\n",
      "  And ye have respect to him that weareth the gay clothing, and say unto him, Sit thou here in a good place; and say to the poor, Stand thou there, or sit here under my footstool:\n",
      "  Are ye not then partial in yourselves, and are become judges of evil thoughts? Behold, the husbandman waiteth for the precious fruit of the earth, and hath long patience for it, until he receive the early and latter rain. Even so the tongue is a little member, and boasteth great things. Likewise also was not Rahab the harlot justified by works, when she had received the messengers, and had sent them out another way? Do not rich men oppress you, and draw you before the judgment seats? Pure religion and undefiled before God and the Father is this, To visit the fatherless and widows in their affliction, and to keep himself unspotted from the world. Can the fig tree, my brethren, bear olive berries? Of his own will begat he us with the word of truth, that we should be a kind of firstfruits of his creatures. so can no fountain both yield salt water and fresh. For he that wavereth is like a wave of the sea driven with the wind and tossed. For he that said, Do not commit adultery, said also, Do not kill. Out of the same mouth proceedeth blessing and cursing. This wisdom descendeth not from above, but is earthly, sensual, devilish. Resist the devil, and he will flee from you. For what is your life? Your riches are corrupted, and your garments are motheaten. Is any among you afflicted? Is any merry? either a vine, figs? But he giveth more grace.\n",
      "============================================================\n",
      "Sum pooling:\n",
      "------------\n",
      "Ye see then how that by works a man is justified, and not by faith only. let him call for the elders of the church; and let them pray over him, anointing him with oil in the name of the Lord:\n",
      "  And the prayer of faith shall save the sick, and the Lord shall raise him up; and if he have committed sins, they shall be forgiven him. Speak not evil one of another, brethren. Now if thou commit no adultery, yet if thou kill, thou art become a transgressor of the law. And the scripture was fulfilled which saith, Abraham believed God, and it was imputed unto him for righteousness: and he was called the Friend of God. Hearken, my beloved brethren, Hath not God chosen the poor of this world rich in faith, and heirs of the kingdom which he hath promised to them that love him? But let patience have her perfect work, that ye may be perfect and entire, wanting nothing. If a brother or sister be naked, and destitute of daily food,\n",
      "  And one of you say unto them, Depart in peace, be ye warmed and filled; notwithstanding ye give them not those things which are needful to the body; what doth it profit? Be ye also patient; stablish your hearts: for the coming of the Lord draweth nigh. Go to now, ye rich men, weep and howl for your miseries that shall come upon you. But above all things, my brethren, swear not, neither by heaven, neither by the earth, neither by any other oath: but let your yea be yea; and your nay, nay; lest ye fall into condemnation. Ye adulterers and adulteresses, know ye not that the friendship of the world is enmity with God? For if there come unto your assembly a man with a gold ring, in goodly apparel, and there come in also a poor man in vile raiment;\n",
      "  And ye have respect to him that weareth the gay clothing, and say unto him, Sit thou here in a good place; and say to the poor, Stand thou there, or sit here under my footstool:\n",
      "  Are ye not then partial in yourselves, and are become judges of evil thoughts? Behold, how great a matter a little fire kindleth!\n",
      "\n",
      "**********************************\n",
      "*** Transformers Consolidation ***\n",
      "**********************************\n",
      "Sentence pooling:\n",
      "-----------------\n",
      "My brethren, be not many masters, knowing that we shall receive the greater condemnation. For the sun is no sooner risen with a burning heat, but it withereth the grass, and the flower thereof falleth, and the grace of the fashion of it perisheth: so also shall the rich man fade away in his ways. He that speaketh evil of his brother, and judgeth his brother, speaketh evil of the law, and judgeth the law: but if thou judge the law, thou art not a doer of the law, but a judge. Wherefore lay apart all filthiness and superfluity of naughtiness, and receive with meekness the engrafted word, which is able to save your souls. If any man among you seem to be religious, and bridleth not his tongue, but deceiveth his own heart, this man's religion is vain. And the fruit of righteousness is sown in peace of them that make peace. Hearken, my beloved brethren, Hath not God chosen the poor of this world rich in faith, and heirs of the kingdom which he hath promised to them that love him? But if ye have bitter envying and strife in your hearts, glory not, and lie not against the truth. Ye have heard of the patience of Job, and have seen the end of the Lord; that the Lord is very pitiful, and of tender mercy. Resist the devil, and he will flee from you. Out of the same mouth proceedeth blessing and cursing. For as the body without the spirit is dead, so faith without works is dead also. Of his own will begat he us with the word of truth, that we should be a kind of firstfruits of his creatures. Wherefore he saith, God resisteth the proud, but giveth grace unto the humble. Ye have lived in pleasure on the earth, and been wanton; ye have nourished your hearts, as in a day of slaughter. Your gold and silver is cankered; and the rust of them shall be a witness against you, and shall eat your flesh as it were fire.\n",
      "============================================================\n",
      "Chunk pooling:\n",
      "--------------\n",
      "Wherefore, my beloved brethren, let every man be swift to hear, slow to speak, slow to wrath:\n",
      "  For the wrath of man worketh not the righteousness of God. Let the brother of low degree rejoice in that he is exalted:\n",
      "  But the rich, in that he is made low: because as the flower of the grass he shall pass away. If ye fulfil the royal law according to the scripture, Thou shalt love thy neighbour as thyself, ye do well:\n",
      "  But if ye have respect to persons, ye commit sin, and are convinced of the law as transgressors. For he shall have judgment without mercy, that hath shewed no mercy; and mercy rejoiceth against judgment. Behold, the hire of the labourers who have reaped down your fields, which is of you kept back by fraud, crieth: and the cries of them which have reaped are entered into the ears of the Lord of sabaoth. Brethren, if any of you do err from the truth, and one convert him;\n",
      "  Let him know, that he which converteth the sinner from the error of his way shall save a soul from death, and shall hide a multitude of sins. Hearken, my beloved brethren, Hath not God chosen the poor of this world rich in faith, and heirs of the kingdom which he hath promised to them that love him? But wilt thou know, O vain man, that faith without works is dead? This wisdom descendeth not from above, but is earthly, sensual, devilish. Ye have lived in pleasure on the earth, and been wanton; ye have nourished your hearts, as in a day of slaughter. Be ye also patient; stablish your hearts: for the coming of the Lord draweth nigh. My brethren, count it all joy when ye fall into divers temptations;\n",
      "  Knowing this, that the trying of your faith worketh patience. Of his own will begat he us with the word of truth, that we should be a kind of firstfruits of his creatures. Elias was a man subject to like passions as we are, and he prayed earnestly that it might not rain: and it rained not on the earth by the space of three years and six months.\n"
     ]
    }
   ],
   "source": [
    "printing(james)"
   ]
  },
  {
   "cell_type": "code",
   "execution_count": 224,
   "id": "547d8f42-7c58-4dcd-89db-3084c658ce33",
   "metadata": {},
   "outputs": [
    {
     "data": {
      "text/plain": [
       "\" James, a servant of God and of the Lord Jesus Christ, to the twelve tribes which are scattered abroad, greeting. My brethren, count it all joy when ye fall into divers temptations;  Knowing this, that the trying of your faith worketh patience . If any of you lack wisdom, let him ask of God, that giveth to all men liberally, and upbraideth not; and it shall be given him. For he that wavereth is like a wave of the sea driven with the wind and tossed. A double minded man is unstable in all his ways. Let the brother of low degree rejoice in that he is exalted:  But the rich, in that they are made low: because as the flower of the grass he shall pass away. For the sun is no sooner  If any man among you seem to be religious, and bridleth not his tongue, but deceiveth his own heart, this man's religion is vain . Pure religion and undefiled before God and the Father is this, To visit the fatherless and widows in their affliction, and to keep himself unspotted from the world . For if any be a hearer of the word, and not a doer, he is like a man beholding his natural face in a glass:  For he beholdeth himself, and goeth his way, and straightway forgetteth what manner of man he was. But whosoever looketh into the perfect law of liberty, and continueth therein, he being not a forgetful hearer, but a doe of the work,. this man shall be blessed in his deed  Abraham was justified by works, not by faith only . For as the body without the spirit is dead, so faith without works is dead also . Behold, how great a matter a little fire kindleth! And the tongue is a fire, a world of iniquity: so is the tongue among our members, that it defileth the whole body, and setteth on fire the course of nature; and it is set on fire of hell. Therewith bless we God, even the Father; and therewith curse we men, which are made after the similitude of God . If a brother or sister be naked, and destitute of daily food,  And one of you say unto them, Depart in peace, be ye warmed and filled, be ... what doth it profit? Even so faith, if it hath not works, is dead  There is confusion and every evil work where envying and strife is, there is confusion . The wisdom descendeth not from above, but is earthly, sensual, devilish . From whence come wars and fightings among you? come they not hence, even of your lusts that war in your members? Do ye think that the scripture saith in vain, The spirit that dwelleth in us lusteth to envy? But he giveth more grace unto the humble . Submit yourselves therefore to God. Resist the devil, and he will flee from you. Draw nigh to God, and it will draw close to you. Cleanse your hands, ye sinners; and purify your hearts, ye double minded. Be afflicted, and mourn, and weep: let your laughter be turned to mourning  There is one lawgiver, who is able to save and to destroy: who art thou that judgest another? Go to now, ye rich men, weep and howl for your miseries that shall come upon you . Your riches are corrupted, and your garments are motheaten. Your gold and silver is cankered; and the rust of them shall be a witness against you, and shall eat your flesh as it were fire . Be patient therefore, brethren, unto the coming of the Lord. Grudge not one against another, lest ye be condemned: behold, the judge standeth before the door. The husbandman waiteth for the precious fruit of the earth, and hath long patience for it, until he receive the early and latter rain . But above all things, my brethren, swear not, neither by heaven,  Elias was a man subject to like passions as we are, and he prayed earnestly that it might not rain: and it rained not on the earth by the space of three years and six months . Confess your faults one to another, and pray one for another, that ye may be healed . The effectual fervent prayer of a righteous man availeth much. Let him know, that he which converteth the sinner from the error of his way shall save a soul from death . \""
      ]
     },
     "execution_count": 224,
     "metadata": {},
     "output_type": "execute_result"
    }
   ],
   "source": [
    "summarization_pipeline_consolidation(james)"
   ]
  },
  {
   "cell_type": "markdown",
   "id": "642ffab7-ebbd-4d85-be03-f1488c63bc63",
   "metadata": {},
   "source": [
    "## 1 Peter"
   ]
  },
  {
   "cell_type": "code",
   "execution_count": 135,
   "id": "fb21b08b-7b4a-467e-9702-017f5fa25de4",
   "metadata": {},
   "outputs": [],
   "source": [
    "peter1 = get_book_text('1 Peter', bible)"
   ]
  },
  {
   "cell_type": "code",
   "execution_count": 162,
   "id": "9580d881-820f-461f-abd9-583b8998b2ab",
   "metadata": {},
   "outputs": [
    {
     "name": "stdout",
     "output_type": "stream",
     "text": [
      "****************************\n",
      "*** TF-IDF Consolidation ***\n",
      "****************************\n",
      "Max pooling:\n",
      "------------\n",
      "But and if ye suffer for righteousness' sake, happy are ye: and be not afraid of their terror, neither be troubled;\n",
      "  But sanctify the Lord God in your hearts: and be ready always to give an answer to every man that asketh you a reason of the hope that is in you with meekness and fear:\n",
      "  Having a good conscience; that, whereas they speak evil of you, as of evildoers, they may be ashamed that falsely accuse your good conversation in Christ. For for this cause was the gospel preached also to them that are dead, that they might be judged according to men in the flesh, but live according to God in the spirit. Unto you therefore which believe he is precious: but unto them which be disobedient, the stone which the builders disallowed, the same is made the head of the corner,\n",
      "  And a stone of stumbling, and a rock of offence, even to them which stumble at the word, being disobedient: whereunto also they were appointed. And above all things have fervent charity among yourselves: for charity shall cover the multitude of sins. Honour the king. But the God of all grace, who hath called us unto his eternal glory by Christ Jesus, after that ye have suffered a while, make you perfect, stablish, strengthen, settle you. Be sober, be vigilant; because your adversary the devil, as a roaring lion, walketh about, seeking whom he may devour:\n",
      "  Whom resist stedfast in the faith, knowing that the same afflictions are accomplished in your brethren that are in the world. Love the brotherhood. Use hospitality one to another without grudging. Amen. The church that is at Babylon, elected together with you, saluteth you; and so doth Marcus my son. The grass withereth, and the flower thereof falleth away:\n",
      "  But the word of the Lord endureth for ever. Humble yourselves therefore under the mighty hand of God, that he may exalt you in due time:\n",
      "  Casting all your care upon him; for he careth for you.\n",
      "============================================================\n",
      "Sum pooling:\n",
      "------------\n",
      "Wherein ye greatly rejoice, though now for a season, if need be, ye are in heaviness through manifold temptations:\n",
      "  That the trial of your faith, being much more precious than of gold that perisheth, though it be tried with fire, might be found unto praise and honour and glory at the appearing of Jesus Christ:\n",
      "  Whom having not seen, ye love; in whom, though now ye see him not, yet believing, ye rejoice with joy unspeakable and full of glory:\n",
      "  Receiving the end of your faith, even the salvation of your souls. If any man speak, let him speak as the oracles of God; if any man minister, let him do it as of the ability which God giveth: that God in all things may be glorified through Jesus Christ, to whom be praise and dominion for ever and ever. And this is the word which by the gospel is preached unto you. Blessed be the God and Father of our Lord Jesus Christ, which according to his abundant mercy hath begotten us again unto a lively hope by the resurrection of Jesus Christ from the dead,\n",
      "  To an inheritance incorruptible, and undefiled, and that fadeth not away, reserved in heaven for you,\n",
      "  Who are kept by the power of God through faith unto salvation ready to be revealed in the last time. For it is better, if the will of God be so, that ye suffer for well doing, than for evil doing. Amen. But and if ye suffer for righteousness' sake, happy are ye: and be not afraid of their terror, neither be troubled;\n",
      "  But sanctify the Lord God in your hearts: and be ready always to give an answer to every man that asketh you a reason of the hope that is in you with meekness and fear:\n",
      "  Having a good conscience; that, whereas they speak evil of you, as of evildoers, they may be ashamed that falsely accuse your good conversation in Christ.\n",
      "\n",
      "**********************************\n",
      "*** Transformers Consolidation ***\n",
      "**********************************\n",
      "Sentence pooling:\n",
      "-----------------\n",
      "Wherein ye greatly rejoice, though now for a season, if need be, ye are in heaviness through manifold temptations:\n",
      "  That the trial of your faith, being much more precious than of gold that perisheth, though it be tried with fire, might be found unto praise and honour and glory at the appearing of Jesus Christ:\n",
      "  Whom having not seen, ye love; in whom, though now ye see him not, yet believing, ye rejoice with joy unspeakable and full of glory:\n",
      "  Receiving the end of your faith, even the salvation of your souls. For so is the will of God, that with well doing ye may put to silence the ignorance of foolish men:\n",
      "  As free, and not using your liberty for a cloke of maliciousness, but as the servants of God. The elders which are among you I exhort, who am also an elder, and a witness of the sufferings of Christ, and also a partaker of the glory that shall be revealed:\n",
      "  Feed the flock of God which is among you, taking the oversight thereof, not by constraint, but willingly; not for filthy lucre, but of a ready mind;\n",
      "  Neither as being lords over God's heritage, but being ensamples to the flock. Peace be with you all that are in Christ Jesus. As every man hath received the gift, even so minister the same one to another, as good stewards of the manifold grace of God. And if ye call on the Father, who without respect of persons judgeth according to every man's work, pass the time of your sojourning here in fear:\n",
      "  Forasmuch as ye know that ye were not redeemed with corruptible things, as silver and gold, from your vain conversation received by tradition from your fathers;\n",
      "  But with the precious blood of Christ, as of a lamb without blemish and without spot:\n",
      "  Who verily was foreordained before the foundation of the world, but was manifest in these last times for you,\n",
      "  Who by him do believe in God, that raised him up from the dead, and gave him glory; that your faith and hope might be in God. Humble yourselves therefore under the mighty hand of God, that he may exalt you in due time:\n",
      "  Casting all your care upon him; for he careth for you. And this is the word which by the gospel is preached unto you.\n",
      "============================================================\n",
      "Chunk pooling:\n",
      "--------------\n",
      "Wherein ye greatly rejoice, though now for a season, if need be, ye are in heaviness through manifold temptations:\n",
      "  That the trial of your faith, being much more precious than of gold that perisheth, though it be tried with fire, might be found unto praise and honour and glory at the appearing of Jesus Christ:\n",
      "  Whom having not seen, ye love; in whom, though now ye see him not, yet believing, ye rejoice with joy unspeakable and full of glory:\n",
      "  Receiving the end of your faith, even the salvation of your souls. And if ye call on the Father, who without respect of persons judgeth according to every man's work, pass the time of your sojourning here in fear:\n",
      "  Forasmuch as ye know that ye were not redeemed with corruptible things, as silver and gold, from your vain conversation received by tradition from your fathers;\n",
      "  But with the precious blood of Christ, as of a lamb without blemish and without spot:\n",
      "  Who verily was foreordained before the foundation of the world, but was manifest in these last times for you,\n",
      "  Who by him do believe in God, that raised him up from the dead, and gave him glory; that your faith and hope might be in God. For the eyes of the Lord are over the righteous, and his ears are open unto their prayers: but the face of the Lord is against them that do evil. To whom coming, as unto a living stone, disallowed indeed of men, but chosen of God, and precious,\n",
      "  Ye also, as lively stones, are built up a spiritual house, an holy priesthood, to offer up spiritual sacrifices, acceptable to God by Jesus Christ. For even hereunto were ye called: because Christ also suffered for us, leaving us an example, that ye should follow his steps:\n",
      "  Who did no sin, neither was guile found in his mouth:\n",
      "  Who, when he was reviled, reviled not again; when he suffered, he threatened not; but committed himself to him that judgeth righteously:\n",
      "  Who his own self bare our sins in his own body on the tree, that we, being dead to sins, should live unto righteousness: by whose stripes ye were healed.\n"
     ]
    }
   ],
   "source": [
    "printing(peter1)"
   ]
  },
  {
   "cell_type": "code",
   "execution_count": 227,
   "id": "c36f4d8b-7fa0-4309-a7db-932808ed1054",
   "metadata": {},
   "outputs": [
    {
     "data": {
      "text/plain": [
       "' Peter, an apostle of Jesus Christ, to the strangers scattered throughout Pontus, Galatia, Cappadocia, Asia, and Bithynia: Grace unto you, and peace, be multiplied . The trial of your faith, being much more precious than of gold that perisheth, though it be tried with fire, might be found unto praise and honour and glory at the appearing of Lord Jesus Christ . As obedient children, not fashioning yourselves according to the former lusts in your ignorance: But as he which hath called you is holy, so be ye holy in all manner of conversation; because it is written, Be ye holy; for I am holy. To an inheritance incorruptible, and undefiled,   With the precious blood of Christ, as of a lamb without blemish and without spot: \\'Being born again, not of corruptible seed, but of incorruptible, by the word of God, which liveth and abideth for ever. Forasmuch as ye know that ye were not redeemed with corruptible things, as silver and gold, from your vain conversation received by tradition from your fathers; but with the precious Blood of Christ . That your faith and hope might be in God. And if ye call on the Father, who without respect of persons judgeth according to every man\\'s work, pass the time of your sojourning here in fear: \"I am not afraid,\" he says . But ye are a chosen generation, a royal priesthood, an holy nation, a peculiar people, a special nation, and precious, say it is  Dearly beloved, I beseech you as strangers and pilgrims, abstain from fleshly lusts, which war against the soul . Submit yourselves to every ordinance of man for the Lord\\'s sake . Honour all men. Love the brotherhood. Fear God. Be subject to your masters with all fear; not only to the good and gentle, but also to the froward . For this is thankworthy, if a man for conscience toward God endure grief, suffering wrongfully . For what glory is it, if, when ye be buffeted for your faults, ye shall take it patiently? But if,  when ye do well, and suffer for it, ye take it calmly, this is acceptable with God . Whose adorning let it not be that outward adorment of plaiting the hair, and of  For after this manner in the old time the holy women also, who trusted in God, adorned themselves, being in subjection unto their own husbands . Even as Sara obeyed Abraham, calling him lord: whose daughters ye are, as long as ye do well, and are not afraid with any amazement. Likewise, ye husbands, dwell with them according to knowledge, giving honour unto the wife, as unto the weaker vessel, and as being heirs together of the grace of life; that your prayers be not hindered. Finally, be ye all of one mind, having compassion one of another, love as brethren, be pitiful, be courteous:  Not rendering evil for evil, or railing for railing: but contrariwise blessing . For he that will love life, and see good days, let him refrain his tongue from evil, and  The time past of our life may suffice us to have wrought the will of the Gentiles, when we walked in lasciviousness, lusts, excess of wine, revellings, banquetings, and abominable idolatries . For this cause was the gospel preached also to them that are dead, that they might be judged according to men in the flesh, but live according to God in the spirit . But the end of all things is at hand: be ye therefore sober, and watch unto prayer . And above all things have fervent charity among yourselves: for charity shall cover the multitude of sins . Use hospitality one to another without grudging. As every man receives the gift, even so minister the same one toAnother, as good stewards of the manifold grace of God . Amen.  If any man speak, let him speak  The elders which are among you I exhort, who am also an elder, and a witness of the sufferings of Christ, and also a partaker of the glory that shall be revealed: Feed the flock of God which is among you, taking the oversight thereof, not by constraint, but willingly; not for filthy lucre, but of a ready mind . Humble yourselves therefore under the mighty hand of God, that he may exalt you in due time: Casting all your care upon him; for he careth for you . Be sober, be vigilant; because your adversary the devil, as a roaring lion, walketh about, seeking whom he may devour:  Whom resist stedfast in the faith . '"
      ]
     },
     "execution_count": 227,
     "metadata": {},
     "output_type": "execute_result"
    }
   ],
   "source": [
    "summarization_pipeline_consolidation(peter1)"
   ]
  },
  {
   "cell_type": "markdown",
   "id": "4eb1a68a-76c5-45e3-95b3-2340f544ace3",
   "metadata": {},
   "source": [
    "## 2 Peter"
   ]
  },
  {
   "cell_type": "code",
   "execution_count": 137,
   "id": "89efa051-0952-4499-b294-8b9b4fdfaa2b",
   "metadata": {},
   "outputs": [],
   "source": [
    "peter2 = get_book_text('2 Peter', bible)"
   ]
  },
  {
   "cell_type": "code",
   "execution_count": 138,
   "id": "f0723968-340d-436f-b080-24b22a00ac70",
   "metadata": {},
   "outputs": [
    {
     "name": "stdout",
     "output_type": "stream",
     "text": [
      "****************************\n",
      "*** TF-IDF Consolidation ***\n",
      "****************************\n",
      "Max pooling:\n",
      "------------\n",
      "Simon Peter, a servant and an apostle of Jesus Christ, to them that have obtained like precious faith with us through the righteousness of God and our Saviour Jesus Christ:\n",
      "  Grace and peace be multiplied unto you through the knowledge of God, and of Jesus our Lord,\n",
      "  According as his divine power hath given unto us all things that pertain unto life and godliness, through the knowledge of him that hath called us to glory and virtue:\n",
      "  Whereby are given unto us exceeding great and precious promises: that by these ye might be partakers of the divine nature, having escaped the corruption that is in the world through lust. And through covetousness shall they with feigned words make merchandise of you: whose judgment now of a long time lingereth not, and their damnation slumbereth not. These are wells without water, clouds that are carried with a tempest; to whom the mist of darkness is reserved for ever. And this voice which came from heaven we heard, when we were with him in the holy mount. This second epistle, beloved, I now write unto you; in both which I stir up your pure minds by way of remembrance:\n",
      "  That ye may be mindful of the words which were spoken before by the holy prophets, and of the commandment of us the apostles of the Lord and Saviour:\n",
      "  Knowing this first, that there shall come in the last days scoffers, walking after their own lusts,\n",
      "  And saying, Where is the promise of his coming? Presumptuous are they, selfwilled, they are not afraid to speak evil of dignities. Amen. for since the fathers fell asleep, all things continue as they were from the beginning of the creation. Spots they are and blemishes, sporting themselves with their own deceivings while they feast with you;\n",
      "  Having eyes full of adultery, and that cannot cease from sin; beguiling unstable souls: an heart they have exercised with covetous practices; cursed children:\n",
      "  Which have forsaken the right way, and are gone astray, following the way of Balaam the son of Bosor, who loved the wages of unrighteousness;\n",
      "  But was rebuked for his iniquity: the dumb ass speaking with man's voice forbad the madness of the prophet.\n",
      "============================================================\n",
      "Sum pooling:\n",
      "------------\n",
      "Simon Peter, a servant and an apostle of Jesus Christ, to them that have obtained like precious faith with us through the righteousness of God and our Saviour Jesus Christ:\n",
      "  Grace and peace be multiplied unto you through the knowledge of God, and of Jesus our Lord,\n",
      "  According as his divine power hath given unto us all things that pertain unto life and godliness, through the knowledge of him that hath called us to glory and virtue:\n",
      "  Whereby are given unto us exceeding great and precious promises: that by these ye might be partakers of the divine nature, having escaped the corruption that is in the world through lust. This second epistle, beloved, I now write unto you; in both which I stir up your pure minds by way of remembrance:\n",
      "  That ye may be mindful of the words which were spoken before by the holy prophets, and of the commandment of us the apostles of the Lord and Saviour:\n",
      "  Knowing this first, that there shall come in the last days scoffers, walking after their own lusts,\n",
      "  And saying, Where is the promise of his coming? Wherefore the rather, brethren, give diligence to make your calling and election sure: for if ye do these things, ye shall never fall:\n",
      "  For so an entrance shall be ministered unto you abundantly into the everlasting kingdom of our Lord and Saviour Jesus Christ. Seeing then that all these things shall be dissolved, what manner of persons ought ye to be in all holy conversation and godliness,\n",
      "  Looking for and hasting unto the coming of the day of God, wherein the heavens being on fire shall be dissolved, and the elements shall melt with fervent heat? For this they willingly are ignorant of, that by the word of God the heavens were of old, and the earth standing out of the water and in the water:\n",
      "  Whereby the world that then was, being overflowed with water, perished:\n",
      "  But the heavens and the earth, which are now, by the same word are kept in store, reserved unto fire against the day of judgment and perdition of ungodly men. Presumptuous are they, selfwilled, they are not afraid to speak evil of dignities. For he received from God the Father honour and glory, when there came such a voice to him from the excellent glory, This is my beloved Son, in whom I am well pleased.\n",
      "\n",
      "**********************************\n",
      "*** Transformers Consolidation ***\n",
      "**********************************\n",
      "Sentence pooling:\n",
      "-----------------\n",
      "For if God spared not the angels that sinned, but cast them down to hell, and delivered them into chains of darkness, to be reserved unto judgment;\n",
      "  And spared not the old world, but saved Noah the eighth person, a preacher of righteousness, bringing in the flood upon the world of the ungodly;\n",
      "  And turning the cities of Sodom and Gomorrha into ashes condemned them with an overthrow, making them an ensample unto those that after should live ungodly;\n",
      "  And delivered just Lot, vexed with the filthy conversation of the wicked:\n",
      "  (For that righteous man dwelling among them, in seeing and hearing, vexed his righteous soul from day to day with their unlawful deeds;)\n",
      "  The Lord knoweth how to deliver the godly out of temptations, and to reserve the unjust unto the day of judgment to be punished:\n",
      "  But chiefly them that walk after the flesh in the lust of uncleanness, and despise government. Wherefore I will not be negligent to put you always in remembrance of these things, though ye know them, and be established in the present truth. And this voice which came from heaven we heard, when we were with him in the holy mount. And many shall follow their pernicious ways; by reason of whom the way of truth shall be evil spoken of. Nevertheless we, according to his promise, look for new heavens and a new earth, wherein dwelleth righteousness. This second epistle, beloved, I now write unto you; in both which I stir up your pure minds by way of remembrance:\n",
      "  That ye may be mindful of the words which were spoken before by the holy prophets, and of the commandment of us the apostles of the Lord and Saviour:\n",
      "  Knowing this first, that there shall come in the last days scoffers, walking after their own lusts,\n",
      "  And saying, Where is the promise of his coming? For if these things be in you, and abound, they make you that ye shall neither be barren nor unfruitful in the knowledge of our Lord Jesus Christ. And through covetousness shall they with feigned words make merchandise of you: whose judgment now of a long time lingereth not, and their damnation slumbereth not.\n",
      "============================================================\n",
      "Chunk pooling:\n",
      "--------------\n",
      "For if God spared not the angels that sinned, but cast them down to hell, and delivered them into chains of darkness, to be reserved unto judgment;\n",
      "  And spared not the old world, but saved Noah the eighth person, a preacher of righteousness, bringing in the flood upon the world of the ungodly;\n",
      "  And turning the cities of Sodom and Gomorrha into ashes condemned them with an overthrow, making them an ensample unto those that after should live ungodly;\n",
      "  And delivered just Lot, vexed with the filthy conversation of the wicked:\n",
      "  (For that righteous man dwelling among them, in seeing and hearing, vexed his righteous soul from day to day with their unlawful deeds;)\n",
      "  The Lord knoweth how to deliver the godly out of temptations, and to reserve the unjust unto the day of judgment to be punished:\n",
      "  But chiefly them that walk after the flesh in the lust of uncleanness, and despise government. Simon Peter, a servant and an apostle of Jesus Christ, to them that have obtained like precious faith with us through the righteousness of God and our Saviour Jesus Christ:\n",
      "  Grace and peace be multiplied unto you through the knowledge of God, and of Jesus our Lord,\n",
      "  According as his divine power hath given unto us all things that pertain unto life and godliness, through the knowledge of him that hath called us to glory and virtue:\n",
      "  Whereby are given unto us exceeding great and precious promises: that by these ye might be partakers of the divine nature, having escaped the corruption that is in the world through lust. And account that the longsuffering of our Lord is salvation; even as our beloved brother Paul also according to the wisdom given unto him hath written unto you;\n",
      "  As also in all his epistles, speaking in them of these things; in which are some things hard to be understood, which they that are unlearned and unstable wrest, as they do also the other scriptures, unto their own destruction. For the prophecy came not in old time by the will of man: but holy men of God spake as they were moved by the Holy Ghost.\n"
     ]
    }
   ],
   "source": [
    "printing(peter2)"
   ]
  },
  {
   "cell_type": "code",
   "execution_count": 230,
   "id": "d5f804af-29de-4d25-9230-7753d244c96d",
   "metadata": {},
   "outputs": [
    {
     "data": {
      "text/plain": [
       "' Simon Peter, a servant and an apostle of Jesus Christ, to them that have obtained like precious faith with us through the righteousness of God and our Saviour Jesus Christ: . By these ye might be partakers of the divine nature, having escaped the corruption that is in the world through lust . And beside this, giving all diligence, add to your faith virtue; and to virtue knowledge . And to godliness brotherly kindness charity. For if these things be in you, and abound, they make you that ye shall neither be barren nor unfruitful in the knowledge of our Lord Jesus Christ. But he that lacketh these things is blind, and cannot see afar off, and hath forgotten that he was purged from his old sins. Yea, I think it meet, as long as I am in this tabernacle, to stir you up  There were false prophets also among the people, even as there shall be false teachers among you, who privily shall bring in damnable heresies . And many shall follow their pernicious ways; by reason of whom the way of truth shall be evil spoken of . But chiefly them that walk after the flesh in the lust of uncleanness, and despise government. Presumptuous are they, selfwilled, they are not afraid to speak evil of dignities. Whereas angels, which are greater in power and might, bring not railing accusation against them before the Lord. But these, as natural brute beasts, made to be taken and destroyed, speak evil . They shall utterly perish in their own corruption. And shall receive the reward of unrighteousness, as they that count it pleasure to riot in the day time. The Lord know how to deliver the godly  These are wells without water, clouds that are carried with a tempest; to whom the mist of darkness is reserved for ever . For when they speak great swelling words of vanity, they allure through the lusts of the flesh, through much wantonness, those that were clean escaped from them who live in error . While they promise them liberty, they themselves are the servants of corruption: for of whom a man is overcome, of the same is he brought in bondage . This second epistle, beloved, I now write unto you; in both which I stir up your pure minds by way of remembrance:  That ye may be mindful of the words which were spoken before by the holy prophets, and of the commandment of us the apostles of the Lord and Saviour Jesus Christ . The Lord is not slack concerning his promise  Looking for and hasting unto the coming of the day of God, wherein the heavens being on fire shall be dissolved, and the elements shall melt with fervent heat? Nevertheless we, according to his promise, look for new heavens and a new earth, wherein dwelleth righteousness . Be diligent that ye may be found of him in peace, without spot, and blameless. And account that the longsuffering of our Lord is salvation; even as our beloved brother Paul also according to the wisdom given unto him hath written unto you . '"
      ]
     },
     "execution_count": 230,
     "metadata": {},
     "output_type": "execute_result"
    }
   ],
   "source": [
    "summarization_pipeline_consolidation(peter2)"
   ]
  },
  {
   "cell_type": "markdown",
   "id": "51ea82ae-1be5-4bc0-b203-ecd16d06858d",
   "metadata": {},
   "source": [
    "## 1 John"
   ]
  },
  {
   "cell_type": "code",
   "execution_count": 139,
   "id": "5b5a993a-7848-485e-860d-e129cf228b28",
   "metadata": {},
   "outputs": [],
   "source": [
    "john1 = get_book_text('1 John', bible)"
   ]
  },
  {
   "cell_type": "code",
   "execution_count": 140,
   "id": "5a9422ab-3757-4912-b39d-9fcbfc40cbda",
   "metadata": {},
   "outputs": [
    {
     "name": "stdout",
     "output_type": "stream",
     "text": [
      "****************************\n",
      "*** TF-IDF Consolidation ***\n",
      "****************************\n",
      "Max pooling:\n",
      "------------\n",
      "That which was from the beginning, which we have heard, which we have seen with our eyes, which we have looked upon, and our hands have handled, of the Word of life;\n",
      "  (For the life was manifested, and we have seen it, and bear witness, and shew unto you that eternal life, which was with the Father, and was manifested unto us;)\n",
      "  That which we have seen and heard declare we unto you, that ye also may have fellowship with us: and truly our fellowship is with the Father, and with his Son Jesus Christ. We know that whosoever is born of God sinneth not; but he that is begotten of God keepeth himself, and that wicked one toucheth him not. And now, little children, abide in him; that, when he shall appear, we may have confidence, and not be ashamed before him at his coming. Herein is our love made perfect, that we may have boldness in the day of judgment: because as he is, so are we in this world. And whatsoever we ask, we receive of him, because we keep his commandments, and do those things that are pleasing in his sight. He that loveth his brother abideth in the light, and there is none occasion of stumbling in him. And every man that hath this hope in him purifieth himself, even as he is pure. If we say that we have no sin, we deceive ourselves, and the truth is not in us. If we confess our sins, he is faithful and just to forgive us our sins, and to cleanse us from all unrighteousness. Beloved, believe not every spirit, but try the spirits whether they are of God: because many false prophets are gone out into the world. They went out from us, but they were not of us; for if they had been of us, they would no doubt have continued with us: but they went out, that they might be made manifest that they were not all of us. And wherefore slew he him? Amen. But whoso hath this world's good, and seeth his brother have need, and shutteth up his bowels of compassion from him, how dwelleth the love of God in him?\n",
      "============================================================\n",
      "Sum pooling:\n",
      "------------\n",
      "By this we know that we love the children of God, when we love God, and keep his commandments. That which was from the beginning, which we have heard, which we have seen with our eyes, which we have looked upon, and our hands have handled, of the Word of life;\n",
      "  (For the life was manifested, and we have seen it, and bear witness, and shew unto you that eternal life, which was with the Father, and was manifested unto us;)\n",
      "  That which we have seen and heard declare we unto you, that ye also may have fellowship with us: and truly our fellowship is with the Father, and with his Son Jesus Christ. My little children, these things write I unto you, that ye sin not. He that loveth not his brother abideth in death. Who is he that overcometh the world, but he that believeth that Jesus is the Son of God? These things have I written unto you that believe on the name of the Son of God; that ye may know that ye have eternal life, and that ye may believe on the name of the Son of God. Hereby know ye the Spirit of God: Every spirit that confesseth that Jesus Christ is come in the flesh is of God:\n",
      "  And every spirit that confesseth not that Jesus Christ is come in the flesh is not of God: and this is that spirit of antichrist, whereof ye have heard that it should come; and even now already is it in the world. If a man say, I love God, and hateth his brother, he is a liar: for he that loveth not his brother whom he hath seen, how can he love God whom he hath not seen? Whosoever denieth the Son, the same hath not the Father: (but) he that acknowledgeth the Son hath the Father also. Beloved, now are we the sons of God, and it doth not yet appear what we shall be: but we know that, when he shall appear, we shall be like him; for we shall see him as he is. For this is the message that ye heard from the beginning, that we should love one another.\n",
      "\n",
      "**********************************\n",
      "*** Transformers Consolidation ***\n",
      "**********************************\n",
      "Sentence pooling:\n",
      "-----------------\n",
      "Behold, what manner of love the Father hath bestowed upon us, that we should be called the sons of God: therefore the world knoweth us not, because it knew him not. He that committeth sin is of the devil; for the devil sinneth from the beginning. Again, a new commandment I write unto you, which thing is true in him and in you: because the darkness is past, and the true light now shineth. Whosoever shall confess that Jesus is the Son of God, God dwelleth in him, and he in God. And this is the promise that he hath promised us, even eternal life. And it is the Spirit that beareth witness, because the Spirit is truth. This is he that came by water and blood, even Jesus Christ; not by water only, but by water and blood. For if our heart condemn us, God is greater than our heart, and knoweth all things. And this commandment have we from him, That he who loveth God love his brother also. But the anointing which ye have received of him abideth in you, and ye need not that any man teach you: but as the same anointing teacheth you of all things, and is truth, and is no lie, and even as it hath taught you, ye shall abide in him. I write unto you, little children, because your sins are forgiven you for his name's sake. Hereby know we that we dwell in him, and he in us, because he hath given us of his Spirit. These things have I written unto you that believe on the name of the Son of God; that ye may know that ye have eternal life, and that ye may believe on the name of the Son of God. And the world passeth away, and the lust thereof: but he that doeth the will of God abideth for ever. We know that whosoever is born of God sinneth not; but he that is begotten of God keepeth himself, and that wicked one toucheth him not. And now, little children, abide in him; that, when he shall appear, we may have confidence, and not be ashamed before him at his coming.\n",
      "============================================================\n",
      "Chunk pooling:\n",
      "--------------\n",
      "These things have I written unto you that believe on the name of the Son of God; that ye may know that ye have eternal life, and that ye may believe on the name of the Son of God. If a man say, I love God, and hateth his brother, he is a liar: for he that loveth not his brother whom he hath seen, how can he love God whom he hath not seen? Whosoever believeth that Jesus is the Christ is born of God: and every one that loveth him that begat loveth him also that is begotten of him. If we say that we have fellowship with him, and walk in darkness, we lie, and do not the truth:\n",
      "  But if we walk in the light, as he is in the light, we have fellowship one with another, and the blood of Jesus Christ his Son cleanseth us from all sin. Beloved, if our heart condemn us not, then have we confidence toward God. In this the children of God are manifest, and the children of the devil: whosoever doeth not righteousness is not of God, neither he that loveth not his brother. Hereby know ye the Spirit of God: Every spirit that confesseth that Jesus Christ is come in the flesh is of God:\n",
      "  And every spirit that confesseth not that Jesus Christ is come in the flesh is not of God: and this is that spirit of antichrist, whereof ye have heard that it should come; and even now already is it in the world. He that saith, I know him, and keepeth not his commandments, is a liar, and the truth is not in him. God is love; and he that dwelleth in love dwelleth in God, and God in him. Behold, what manner of love the Father hath bestowed upon us, that we should be called the sons of God: therefore the world knoweth us not, because it knew him not. And now, little children, abide in him; that, when he shall appear, we may have confidence, and not be ashamed before him at his coming. And hereby we know that we are of the truth, and shall assure our hearts before him.\n"
     ]
    }
   ],
   "source": [
    "printing(john1)"
   ]
  },
  {
   "cell_type": "code",
   "execution_count": 233,
   "id": "aaa694e6-de3c-466c-a208-44c6b88e12aa",
   "metadata": {},
   "outputs": [
    {
     "data": {
      "text/plain": [
       "\" This then is the message which we have heard of him, and declare unto you, that God is light, and in him is no darkness at all . He that saith he abideth in him ought himself also so to walk, even as he walked . If we say that we have no sin, we deceive ourselves, and the truth is not in us. But whoso keepeth his word, in him verily is the love of God perfected: hereby know we that we are in him. And hereby we do know that we know him, if we keep his commandments. The old commandment is the word which ye have heard from the beginning. Again, a new commandment I write unto you,. which thing is true in him and in you: because the darkness is past,  the true light now shineth. He that hateth his brother  I write unto you, fathers, because ye have known him that is from the beginning . I write to you, little children, because your sins are forgiven you for his name's sake . But he that hateth his brother is in darkness and walketh in darkness, and knoweth not whither he goeth, because that darkness hath blinded his eyes . Love not the world, nor the things that are in the world. If any man love the world it is not in him, the love of the Father is not  in him . And this is the promise that he hath promised us, even eternal life. Let that which ye have heard from the start shall remain in you, ye also shall continue in the Son, and in the Father. And this ...  Behold, what manner the Father bestowed upon us, that we should be called the sons of God: therefore the world knoweth us not, because it knew him not . And now, little children, abide in him; that, when he shall appear, we may have confidence, and not be ashamed before him at his coming . The Son of God was manifested to take away our sins; and in him is no sin. Whosoever abideth in him sinneth not: whosoever sinner hath not seen him, neither known him . Marvel not, my brethren, if the world hate you. We know that we have passed from death unto life unto life, because we love the brethren . For this is the message that ye heard from the beginning, that they should love one another. Not as Cain ...  Let us not love in word, neither in tongue; but in deed and in truth, as he gave us commandment . For if our heart condemns us, God is greater than our heart, and knoweth all things . Beloved, believe not every spirit, but try the spirits whether they are of God . And this is his commandment, That we should believe on the name of his Son Jesus Christ, and love one another . Every spirit that confesseth that Jesus Christ is come in the flesh is of God:  And every spirit who confesseth not that Jesus\\xa0is not of God is not a prophet . Herein is love, not that we loved God, but that he loved us, and sent his Son to be the propitiation for our sins. In this was manifested the love of God toward us, which we might live through him  If we love one another, God dwelleth in us, and his love is perfected in us . We know that we love the children of God, when we love God, and keep his commandments . For whatsoever is born of God overcometh the world: and this is the victory that overcomes the world, even our faith . And it is the Spirit that beareth witness, because the Spirit is truth. There is no fear in love; but perfect love casteth out fear: because fear hath torment. No man hath seen God at any time. We love him, because he first loved us. By this we know that they love them, and their commandments are not grievous. This is the love of God’s own commandment have we from him. The Bible  He that believes on the Son of God hath the witness in himself: he that believeth not God hath made him a liar . And this is the record, that God gave to us eternal life, and this life is in his Son . Little children, keep yourselves from idols. This is the true God, and eternal life. Amen Amen. We know that whosoever is born of God sinneth not; but he that is begotten of God keepeth himself, and that wicked one toucheth him not . If any man see his brother sin a sin which is not unto death, he shall ask, and he shall give him life . \""
      ]
     },
     "execution_count": 233,
     "metadata": {},
     "output_type": "execute_result"
    }
   ],
   "source": [
    "summarization_pipeline_consolidation(john1)"
   ]
  },
  {
   "cell_type": "markdown",
   "id": "331e4101-96ed-4cbe-9b18-f6a0347eca35",
   "metadata": {},
   "source": [
    "## 2 John"
   ]
  },
  {
   "cell_type": "code",
   "execution_count": 141,
   "id": "c439b944-ffa3-4174-b16e-2256340c6145",
   "metadata": {},
   "outputs": [],
   "source": [
    "john2 = get_book_text('2 John', bible)"
   ]
  },
  {
   "cell_type": "code",
   "execution_count": 142,
   "id": "88d03c5f-5b12-4826-985d-430d5ef1c161",
   "metadata": {},
   "outputs": [
    {
     "name": "stdout",
     "output_type": "stream",
     "text": [
      "****************************\n",
      "*** TF-IDF Consolidation ***\n",
      "****************************\n",
      "Max pooling:\n",
      "------------\n",
      "The elder unto the elect lady and her children, whom I love in the truth; and not I only, but also all they that have known the truth;\n",
      "  For the truth's sake, which dwelleth in us, and shall be with us for ever. Grace be with you, mercy, and peace, from God the Father, and from the Lord Jesus Christ, the Son of the Father, in truth and love. I rejoiced greatly that I found of thy children walking in truth, as we have received a commandment from the Father. And now I beseech thee, lady, not as though I wrote a new commandment unto thee, but that which we had from the beginning, that we love one another. And this is love, that we walk after his commandments. This is the commandment, That, as ye have heard from the beginning, ye should walk in it. For many deceivers are entered into the world, who confess not that Jesus Christ is come in the flesh. This is a deceiver and an antichrist. Look to yourselves, that we lose not those things which we have wrought, but that we receive a full reward. Whosoever transgresseth, and abideth not in the doctrine of Christ, hath not God. He that abideth in the doctrine of Christ, he hath both the Father and the Son. If there come any unto you, and bring not this doctrine, receive him not into your house, neither bid him God speed:\n",
      "  For he that biddeth him God speed is partaker of his evil deeds. Having many things to write unto you, I would not write with paper and ink: but I trust to come unto you, and speak face to face, that our joy may be full. The children of thy elect sister greet thee. Amen.\n",
      "============================================================\n",
      "Sum pooling:\n",
      "------------\n",
      "The elder unto the elect lady and her children, whom I love in the truth; and not I only, but also all they that have known the truth;\n",
      "  For the truth's sake, which dwelleth in us, and shall be with us for ever. Grace be with you, mercy, and peace, from God the Father, and from the Lord Jesus Christ, the Son of the Father, in truth and love. I rejoiced greatly that I found of thy children walking in truth, as we have received a commandment from the Father. And now I beseech thee, lady, not as though I wrote a new commandment unto thee, but that which we had from the beginning, that we love one another. And this is love, that we walk after his commandments. This is the commandment, That, as ye have heard from the beginning, ye should walk in it. For many deceivers are entered into the world, who confess not that Jesus Christ is come in the flesh. This is a deceiver and an antichrist. Look to yourselves, that we lose not those things which we have wrought, but that we receive a full reward. Whosoever transgresseth, and abideth not in the doctrine of Christ, hath not God. He that abideth in the doctrine of Christ, he hath both the Father and the Son. If there come any unto you, and bring not this doctrine, receive him not into your house, neither bid him God speed:\n",
      "  For he that biddeth him God speed is partaker of his evil deeds. Having many things to write unto you, I would not write with paper and ink: but I trust to come unto you, and speak face to face, that our joy may be full. The children of thy elect sister greet thee. Amen.\n",
      "\n",
      "**********************************\n",
      "*** Transformers Consolidation ***\n",
      "**********************************\n",
      "Sentence pooling:\n",
      "-----------------\n",
      "The elder unto the elect lady and her children, whom I love in the truth; and not I only, but also all they that have known the truth;\n",
      "  For the truth's sake, which dwelleth in us, and shall be with us for ever. Grace be with you, mercy, and peace, from God the Father, and from the Lord Jesus Christ, the Son of the Father, in truth and love. I rejoiced greatly that I found of thy children walking in truth, as we have received a commandment from the Father. And now I beseech thee, lady, not as though I wrote a new commandment unto thee, but that which we had from the beginning, that we love one another. And this is love, that we walk after his commandments. This is the commandment, That, as ye have heard from the beginning, ye should walk in it. For many deceivers are entered into the world, who confess not that Jesus Christ is come in the flesh. This is a deceiver and an antichrist. Look to yourselves, that we lose not those things which we have wrought, but that we receive a full reward. Whosoever transgresseth, and abideth not in the doctrine of Christ, hath not God. He that abideth in the doctrine of Christ, he hath both the Father and the Son. If there come any unto you, and bring not this doctrine, receive him not into your house, neither bid him God speed:\n",
      "  For he that biddeth him God speed is partaker of his evil deeds. Having many things to write unto you, I would not write with paper and ink: but I trust to come unto you, and speak face to face, that our joy may be full. The children of thy elect sister greet thee. Amen.\n",
      "============================================================\n",
      "Chunk pooling:\n",
      "--------------\n",
      "The elder unto the elect lady and her children, whom I love in the truth; and not I only, but also all they that have known the truth;\n",
      "  For the truth's sake, which dwelleth in us, and shall be with us for ever. Grace be with you, mercy, and peace, from God the Father, and from the Lord Jesus Christ, the Son of the Father, in truth and love. I rejoiced greatly that I found of thy children walking in truth, as we have received a commandment from the Father. And now I beseech thee, lady, not as though I wrote a new commandment unto thee, but that which we had from the beginning, that we love one another. And this is love, that we walk after his commandments. This is the commandment, That, as ye have heard from the beginning, ye should walk in it. For many deceivers are entered into the world, who confess not that Jesus Christ is come in the flesh. This is a deceiver and an antichrist. Look to yourselves, that we lose not those things which we have wrought, but that we receive a full reward. Whosoever transgresseth, and abideth not in the doctrine of Christ, hath not God. He that abideth in the doctrine of Christ, he hath both the Father and the Son. If there come any unto you, and bring not this doctrine, receive him not into your house, neither bid him God speed:\n",
      "  For he that biddeth him God speed is partaker of his evil deeds. Having many things to write unto you, I would not write with paper and ink: but I trust to come unto you, and speak face to face, that our joy may be full. The children of thy elect sister greet thee. Amen.\n"
     ]
    }
   ],
   "source": [
    "printing(john2)"
   ]
  },
  {
   "cell_type": "code",
   "execution_count": 236,
   "id": "a8eeaf76-42e6-4132-b8a3-ef294121bcc8",
   "metadata": {},
   "outputs": [
    {
     "data": {
      "text/plain": [
       "\"The elder unto the elect lady and her children, whom I love in the truth; and not I only, but also all they that have known the truth;\\n  For the truth's sake, which dwelleth in us, and shall be with us for ever.\\n  Grace be with you, mercy, and peace, from God the Father, and from the Lord Jesus Christ, the Son of the Father, in truth and love.\\n  I rejoiced greatly that I found of thy children walking in truth, as we have received a commandment from the Father.\\n  And now I beseech thee, lady, not as though I wrote a new commandment unto thee, but that which we had from the beginning, that we love one another.\\n  And this is love, that we walk after his commandments. This is the commandment, That, as ye have heard from the beginning, ye should walk in it.\\n  For many deceivers are entered into the world, who confess not that Jesus Christ is come in the flesh. This is a deceiver and an antichrist.\\n  Look to yourselves, that we lose not those things which we have wrought, but that we receive a full reward.\\n  Whosoever transgresseth, and abideth not in the doctrine of Christ, hath not God. He that abideth in the doctrine of Christ, he hath both the Father and the Son.\\n  If there come any unto you, and bring not this doctrine, receive him not into your house, neither bid him God speed:\\n  For he that biddeth him God speed is partaker of his evil deeds.\\n  Having many things to write unto you, I would not write with paper and ink: but I trust to come unto you, and speak face to face, that our joy may be full.\\n  The children of thy elect sister greet thee. Amen.\""
      ]
     },
     "execution_count": 236,
     "metadata": {},
     "output_type": "execute_result"
    }
   ],
   "source": [
    "summarization_pipeline_consolidation(john2)"
   ]
  },
  {
   "cell_type": "markdown",
   "id": "4a42250e-02b2-460a-9e60-96bc3b9f7387",
   "metadata": {},
   "source": [
    "## 3 John"
   ]
  },
  {
   "cell_type": "code",
   "execution_count": 143,
   "id": "fcba4d06-8f39-4601-a7f1-b130f7d4377b",
   "metadata": {},
   "outputs": [],
   "source": [
    "john3 = get_book_text('3 John', bible)"
   ]
  },
  {
   "cell_type": "code",
   "execution_count": 144,
   "id": "72377544-156b-4b55-8c77-67cc93715fd8",
   "metadata": {},
   "outputs": [
    {
     "name": "stdout",
     "output_type": "stream",
     "text": [
      "****************************\n",
      "*** TF-IDF Consolidation ***\n",
      "****************************\n",
      "Max pooling:\n",
      "------------\n",
      "The elder unto the wellbeloved Gaius, whom I love in the truth. Beloved, I wish above all things that thou mayest prosper and be in health, even as thy soul prospereth. For I rejoiced greatly, when the brethren came and testified of the truth that is in thee, even as thou walkest in the truth. I have no greater joy than to hear that my children walk in truth. Beloved, thou doest faithfully whatsoever thou doest to the brethren, and to strangers;\n",
      "  Which have borne witness of thy charity before the church: whom if thou bring forward on their journey after a godly sort, thou shalt do well:\n",
      "  Because that for his name's sake they went forth, taking nothing of the Gentiles. We therefore ought to receive such, that we might be fellowhelpers to the truth. I wrote unto the church: but Diotrephes, who loveth to have the preeminence among them, receiveth us not. Wherefore, if I come, I will remember his deeds which he doeth, prating against us with malicious words: and not content therewith, neither doth he himself receive the brethren, and forbiddeth them that would, and casteth them out of the church. Beloved, follow not that which is evil, but that which is good. He that doeth good is of God: but he that doeth evil hath not seen God. Demetrius hath good report of all men, and of the truth itself: yea, and we also bear record; and ye know that our record is true. I had many things to write, but I will not with ink and pen write unto thee:\n",
      "  But I trust I shall shortly see thee, and we shall speak face to face. Peace be to thee. Our friends salute thee. Greet the friends by name.\n",
      "============================================================\n",
      "Sum pooling:\n",
      "------------\n",
      "The elder unto the wellbeloved Gaius, whom I love in the truth. Beloved, I wish above all things that thou mayest prosper and be in health, even as thy soul prospereth. For I rejoiced greatly, when the brethren came and testified of the truth that is in thee, even as thou walkest in the truth. I have no greater joy than to hear that my children walk in truth. Beloved, thou doest faithfully whatsoever thou doest to the brethren, and to strangers;\n",
      "  Which have borne witness of thy charity before the church: whom if thou bring forward on their journey after a godly sort, thou shalt do well:\n",
      "  Because that for his name's sake they went forth, taking nothing of the Gentiles. We therefore ought to receive such, that we might be fellowhelpers to the truth. I wrote unto the church: but Diotrephes, who loveth to have the preeminence among them, receiveth us not. Wherefore, if I come, I will remember his deeds which he doeth, prating against us with malicious words: and not content therewith, neither doth he himself receive the brethren, and forbiddeth them that would, and casteth them out of the church. Beloved, follow not that which is evil, but that which is good. He that doeth good is of God: but he that doeth evil hath not seen God. Demetrius hath good report of all men, and of the truth itself: yea, and we also bear record; and ye know that our record is true. I had many things to write, but I will not with ink and pen write unto thee:\n",
      "  But I trust I shall shortly see thee, and we shall speak face to face. Peace be to thee. Our friends salute thee. Greet the friends by name.\n",
      "\n",
      "**********************************\n",
      "*** Transformers Consolidation ***\n",
      "**********************************\n",
      "Sentence pooling:\n",
      "-----------------\n",
      "The elder unto the wellbeloved Gaius, whom I love in the truth. Beloved, I wish above all things that thou mayest prosper and be in health, even as thy soul prospereth. For I rejoiced greatly, when the brethren came and testified of the truth that is in thee, even as thou walkest in the truth. I have no greater joy than to hear that my children walk in truth. Beloved, thou doest faithfully whatsoever thou doest to the brethren, and to strangers;\n",
      "  Which have borne witness of thy charity before the church: whom if thou bring forward on their journey after a godly sort, thou shalt do well:\n",
      "  Because that for his name's sake they went forth, taking nothing of the Gentiles. We therefore ought to receive such, that we might be fellowhelpers to the truth. I wrote unto the church: but Diotrephes, who loveth to have the preeminence among them, receiveth us not. Wherefore, if I come, I will remember his deeds which he doeth, prating against us with malicious words: and not content therewith, neither doth he himself receive the brethren, and forbiddeth them that would, and casteth them out of the church. Beloved, follow not that which is evil, but that which is good. He that doeth good is of God: but he that doeth evil hath not seen God. Demetrius hath good report of all men, and of the truth itself: yea, and we also bear record; and ye know that our record is true. I had many things to write, but I will not with ink and pen write unto thee:\n",
      "  But I trust I shall shortly see thee, and we shall speak face to face. Peace be to thee. Our friends salute thee. Greet the friends by name.\n",
      "============================================================\n",
      "Chunk pooling:\n",
      "--------------\n",
      "The elder unto the wellbeloved Gaius, whom I love in the truth. Beloved, I wish above all things that thou mayest prosper and be in health, even as thy soul prospereth. For I rejoiced greatly, when the brethren came and testified of the truth that is in thee, even as thou walkest in the truth. I have no greater joy than to hear that my children walk in truth. Beloved, thou doest faithfully whatsoever thou doest to the brethren, and to strangers;\n",
      "  Which have borne witness of thy charity before the church: whom if thou bring forward on their journey after a godly sort, thou shalt do well:\n",
      "  Because that for his name's sake they went forth, taking nothing of the Gentiles. We therefore ought to receive such, that we might be fellowhelpers to the truth. I wrote unto the church: but Diotrephes, who loveth to have the preeminence among them, receiveth us not. Wherefore, if I come, I will remember his deeds which he doeth, prating against us with malicious words: and not content therewith, neither doth he himself receive the brethren, and forbiddeth them that would, and casteth them out of the church. Beloved, follow not that which is evil, but that which is good. He that doeth good is of God: but he that doeth evil hath not seen God. Demetrius hath good report of all men, and of the truth itself: yea, and we also bear record; and ye know that our record is true. I had many things to write, but I will not with ink and pen write unto thee:\n",
      "  But I trust I shall shortly see thee, and we shall speak face to face. Peace be to thee. Our friends salute thee. Greet the friends by name.\n"
     ]
    }
   ],
   "source": [
    "printing(john3)"
   ]
  },
  {
   "cell_type": "code",
   "execution_count": 239,
   "id": "82639429-976b-4351-93bd-af441aac5314",
   "metadata": {},
   "outputs": [
    {
     "data": {
      "text/plain": [
       "\"The elder unto the wellbeloved Gaius, whom I love in the truth.\\n  Beloved, I wish above all things that thou mayest prosper and be in health, even as thy soul prospereth.\\n  For I rejoiced greatly, when the brethren came and testified of the truth that is in thee, even as thou walkest in the truth.\\n  I have no greater joy than to hear that my children walk in truth.\\n  Beloved, thou doest faithfully whatsoever thou doest to the brethren, and to strangers;\\n  Which have borne witness of thy charity before the church: whom if thou bring forward on their journey after a godly sort, thou shalt do well:\\n  Because that for his name's sake they went forth, taking nothing of the Gentiles.\\n  We therefore ought to receive such, that we might be fellowhelpers to the truth.\\n  I wrote unto the church: but Diotrephes, who loveth to have the preeminence among them, receiveth us not.\\n  Wherefore, if I come, I will remember his deeds which he doeth, prating against us with malicious words: and not content therewith, neither doth he himself receive the brethren, and forbiddeth them that would, and casteth them out of the church.\\n  Beloved, follow not that which is evil, but that which is good. He that doeth good is of God: but he that doeth evil hath not seen God.\\n  Demetrius hath good report of all men, and of the truth itself: yea, and we also bear record; and ye know that our record is true.\\n  I had many things to write, but I will not with ink and pen write unto thee:\\n  But I trust I shall shortly see thee, and we shall speak face to face. Peace be to thee. Our friends salute thee. Greet the friends by name.\""
      ]
     },
     "execution_count": 239,
     "metadata": {},
     "output_type": "execute_result"
    }
   ],
   "source": [
    "summarization_pipeline_consolidation(john3)"
   ]
  },
  {
   "cell_type": "markdown",
   "id": "baa90bda-4e89-4d56-a44a-c6ab6026a3f1",
   "metadata": {},
   "source": [
    "## Jude"
   ]
  },
  {
   "cell_type": "code",
   "execution_count": 145,
   "id": "cfafaaee-828f-4083-96ad-129f989ed675",
   "metadata": {},
   "outputs": [],
   "source": [
    "jude = get_book_text('Jude', bible)"
   ]
  },
  {
   "cell_type": "code",
   "execution_count": 146,
   "id": "4ec88fdb-b61c-4e53-b7e0-51639ffcdeaf",
   "metadata": {},
   "outputs": [
    {
     "name": "stdout",
     "output_type": "stream",
     "text": [
      "****************************\n",
      "*** TF-IDF Consolidation ***\n",
      "****************************\n",
      "Max pooling:\n",
      "------------\n",
      "But ye, beloved, building up yourselves on your most holy faith, praying in the Holy Ghost,\n",
      "  Keep yourselves in the love of God, looking for the mercy of our Lord Jesus Christ unto eternal life. These are murmurers, complainers, walking after their own lusts; and their mouth speaketh great swelling words, having men's persons in admiration because of advantage. These are spots in your feasts of charity, when they feast with you, feeding themselves without fear: clouds they are without water, carried about of winds; trees whose fruit withereth, without fruit, twice dead, plucked up by the roots;\n",
      "  Raging waves of the sea, foaming out their own shame; wandering stars, to whom is reserved the blackness of darkness for ever. But these speak evil of those things which they know not: but what they know naturally, as brute beasts, in those things they corrupt themselves. for they have gone in the way of Cain, and ran greedily after the error of Balaam for reward, and perished in the gainsaying of Core. Amen. And Enoch also, the seventh from Adam, prophesied of these, saying, Behold, the Lord cometh with ten thousands of his saints,\n",
      "  To execute judgment upon all, and to convince all that are ungodly among them of all their ungodly deeds which they have ungodly committed, and of all their hard speeches which ungodly sinners have spoken against him. Yet Michael the archangel, when contending with the devil he disputed about the body of Moses, durst not bring against him a railing accusation, but said, The Lord rebuke thee. Now unto him that is able to keep you from falling, and to present you faultless before the presence of his glory with exceeding joy,\n",
      "  To the only wise God our Saviour, be glory and majesty, dominion and power, both now and ever. And of some have compassion, making a difference:\n",
      "  And others save with fear, pulling them out of the fire; hating even the garment spotted by the flesh. Even as Sodom and Gomorrha, and the cities about them in like manner, giving themselves over to fornication, and going after strange flesh, are set forth for an example, suffering the vengeance of eternal fire.\n",
      "============================================================\n",
      "Sum pooling:\n",
      "------------\n",
      "But ye, beloved, building up yourselves on your most holy faith, praying in the Holy Ghost,\n",
      "  Keep yourselves in the love of God, looking for the mercy of our Lord Jesus Christ unto eternal life. These are murmurers, complainers, walking after their own lusts; and their mouth speaketh great swelling words, having men's persons in admiration because of advantage. And Enoch also, the seventh from Adam, prophesied of these, saying, Behold, the Lord cometh with ten thousands of his saints,\n",
      "  To execute judgment upon all, and to convince all that are ungodly among them of all their ungodly deeds which they have ungodly committed, and of all their hard speeches which ungodly sinners have spoken against him. Likewise also these filthy dreamers defile the flesh, despise dominion, and speak evil of dignities. These are spots in your feasts of charity, when they feast with you, feeding themselves without fear: clouds they are without water, carried about of winds; trees whose fruit withereth, without fruit, twice dead, plucked up by the roots;\n",
      "  Raging waves of the sea, foaming out their own shame; wandering stars, to whom is reserved the blackness of darkness for ever. Woe unto them! I will therefore put you in remembrance, though ye once knew this, how that the Lord, having saved the people out of the land of Egypt, afterward destroyed them that believed not. For there are certain men crept in unawares, who were before of old ordained to this condemnation, ungodly men, turning the grace of our God into lasciviousness, and denying the only Lord God, and our Lord Jesus Christ. for they have gone in the way of Cain, and ran greedily after the error of Balaam for reward, and perished in the gainsaying of Core. Amen. Now unto him that is able to keep you from falling, and to present you faultless before the presence of his glory with exceeding joy,\n",
      "  To the only wise God our Saviour, be glory and majesty, dominion and power, both now and ever. But, beloved, remember ye the words which were spoken before of the apostles of our Lord Jesus Christ;\n",
      "  How that they told you there should be mockers in the last time, who should walk after their own ungodly lusts.\n",
      "\n",
      "**********************************\n",
      "*** Transformers Consolidation ***\n",
      "**********************************\n",
      "Sentence pooling:\n",
      "-----------------\n",
      "For there are certain men crept in unawares, who were before of old ordained to this condemnation, ungodly men, turning the grace of our God into lasciviousness, and denying the only Lord God, and our Lord Jesus Christ. Beloved, when I gave all diligence to write unto you of the common salvation, it was needful for me to write unto you, and exhort you that ye should earnestly contend for the faith which was once delivered unto the saints. And of some have compassion, making a difference:\n",
      "  And others save with fear, pulling them out of the fire; hating even the garment spotted by the flesh. Likewise also these filthy dreamers defile the flesh, despise dominion, and speak evil of dignities. But, beloved, remember ye the words which were spoken before of the apostles of our Lord Jesus Christ;\n",
      "  How that they told you there should be mockers in the last time, who should walk after their own ungodly lusts. Woe unto them! These are spots in your feasts of charity, when they feast with you, feeding themselves without fear: clouds they are without water, carried about of winds; trees whose fruit withereth, without fruit, twice dead, plucked up by the roots;\n",
      "  Raging waves of the sea, foaming out their own shame; wandering stars, to whom is reserved the blackness of darkness for ever. And the angels which kept not their first estate, but left their own habitation, he hath reserved in everlasting chains under darkness unto the judgment of the great day. Even as Sodom and Gomorrha, and the cities about them in like manner, giving themselves over to fornication, and going after strange flesh, are set forth for an example, suffering the vengeance of eternal fire. Yet Michael the archangel, when contending with the devil he disputed about the body of Moses, durst not bring against him a railing accusation, but said, The Lord rebuke thee. I will therefore put you in remembrance, though ye once knew this, how that the Lord, having saved the people out of the land of Egypt, afterward destroyed them that believed not. These be they who separate themselves, sensual, having not the Spirit.\n",
      "============================================================\n",
      "Chunk pooling:\n",
      "--------------\n",
      "And Enoch also, the seventh from Adam, prophesied of these, saying, Behold, the Lord cometh with ten thousands of his saints,\n",
      "  To execute judgment upon all, and to convince all that are ungodly among them of all their ungodly deeds which they have ungodly committed, and of all their hard speeches which ungodly sinners have spoken against him. These are spots in your feasts of charity, when they feast with you, feeding themselves without fear: clouds they are without water, carried about of winds; trees whose fruit withereth, without fruit, twice dead, plucked up by the roots;\n",
      "  Raging waves of the sea, foaming out their own shame; wandering stars, to whom is reserved the blackness of darkness for ever. Jude, the servant of Jesus Christ, and brother of James, to them that are sanctified by God the Father, and preserved in Jesus Christ, and called:\n",
      "  Mercy unto you, and peace, and love, be multiplied. But, beloved, remember ye the words which were spoken before of the apostles of our Lord Jesus Christ;\n",
      "  How that they told you there should be mockers in the last time, who should walk after their own ungodly lusts. I will therefore put you in remembrance, though ye once knew this, how that the Lord, having saved the people out of the land of Egypt, afterward destroyed them that believed not. Even as Sodom and Gomorrha, and the cities about them in like manner, giving themselves over to fornication, and going after strange flesh, are set forth for an example, suffering the vengeance of eternal fire. And the angels which kept not their first estate, but left their own habitation, he hath reserved in everlasting chains under darkness unto the judgment of the great day. For there are certain men crept in unawares, who were before of old ordained to this condemnation, ungodly men, turning the grace of our God into lasciviousness, and denying the only Lord God, and our Lord Jesus Christ. These be they who separate themselves, sensual, having not the Spirit. Likewise also these filthy dreamers defile the flesh, despise dominion, and speak evil of dignities.\n"
     ]
    }
   ],
   "source": [
    "printing(jude)"
   ]
  },
  {
   "cell_type": "code",
   "execution_count": 242,
   "id": "1895f689-f2bc-4510-bb4f-60e6bd89e0a0",
   "metadata": {},
   "outputs": [
    {
     "data": {
      "text/plain": [
       "\"Jude, the servant of Jesus Christ, and brother of James, to them that are sanctified by God the Father, and preserved in Jesus Christ, and called:\\n  Mercy unto you, and peace, and love, be multiplied.\\n  Beloved, when I gave all diligence to write unto you of the common salvation, it was needful for me to write unto you, and exhort you that ye should earnestly contend for the faith which was once delivered unto the saints.\\n  For there are certain men crept in unawares, who were before of old ordained to this condemnation, ungodly men, turning the grace of our God into lasciviousness, and denying the only Lord God, and our Lord Jesus Christ.\\n  I will therefore put you in remembrance, though ye once knew this, how that the Lord, having saved the people out of the land of Egypt, afterward destroyed them that believed not.\\n  And the angels which kept not their first estate, but left their own habitation, he hath reserved in everlasting chains under darkness unto the judgment of the great day.\\n  Even as Sodom and Gomorrha, and the cities about them in like manner, giving themselves over to fornication, and going after strange flesh, are set forth for an example, suffering the vengeance of eternal fire.\\n  Likewise also these filthy dreamers defile the flesh, despise dominion, and speak evil of dignities.\\n  Yet Michael the archangel, when contending with the devil he disputed about the body of Moses, durst not bring against him a railing accusation, but said, The Lord rebuke thee.\\n  But these speak evil of those things which they know not: but what they know naturally, as brute beasts, in those things they corrupt themselves.\\n  Woe unto them! for they have gone in the way of Cain, and ran greedily after the error of Balaam for reward, and perished in the gainsaying of Core.\\n  These are spots in your feasts of charity, when they feast with you, feeding themselves without fear: clouds they are without water, carried about of winds; trees whose fruit withereth, without fruit, twice dead, plucked up by the roots;\\n  Raging waves of the sea, foaming out their own shame; wandering stars, to whom is reserved the blackness of darkness for ever.\\n  And Enoch also, the seventh from Adam, prophesied of these, saying, Behold, the Lord cometh with ten thousands of his saints,\\n  To execute judgment upon all, and to convince all that are ungodly among them of all their ungodly deeds which they have ungodly committed, and of all their hard speeches which ungodly sinners have spoken against him.\\n  These are murmurers, complainers, walking after their own lusts; and their mouth speaketh great swelling words, having men's persons in admiration because of advantage.\\n  But, beloved, remember ye the words which were spoken before of the apostles of our Lord Jesus Christ;\\n  How that they told you there should be mockers in the last time, who should walk after their own ungodly lusts.\\n  These be they who separate themselves, sensual, having not the Spirit.\\n  But ye, beloved, building up yourselves on your most holy faith, praying in the Holy Ghost,\\n  Keep yourselves in the love of God, looking for the mercy of our Lord Jesus Christ unto eternal life.\\n  And of some have compassion, making a difference:\\n  And others save with fear, pulling them out of the fire; hating even the garment spotted by the flesh.\\n  Now unto him that is able to keep you from falling, and to present you faultless before the presence of his glory with exceeding joy,\\n  To the only wise God our Saviour, be glory and majesty, dominion and power, both now and ever. Amen.\""
      ]
     },
     "execution_count": 242,
     "metadata": {},
     "output_type": "execute_result"
    }
   ],
   "source": [
    "summarization_pipeline_consolidation(jude)"
   ]
  },
  {
   "cell_type": "markdown",
   "id": "143d124e-3231-475b-be89-b38bb5a6b2c4",
   "metadata": {},
   "source": [
    "## Revelation"
   ]
  },
  {
   "cell_type": "code",
   "execution_count": 147,
   "id": "3365e3f9-0197-4689-af0f-cfad569a17c9",
   "metadata": {},
   "outputs": [],
   "source": [
    "revelation = get_book_text('Revelation', bible)"
   ]
  },
  {
   "cell_type": "code",
   "execution_count": 148,
   "id": "1c6c0725-e5be-4a38-82db-76305d80b389",
   "metadata": {},
   "outputs": [
    {
     "name": "stdout",
     "output_type": "stream",
     "text": [
      "****************************\n",
      "*** TF-IDF Consolidation ***\n",
      "****************************\n",
      "Max pooling:\n",
      "------------\n",
      "And the third angel followed them, saying with a loud voice, If any man worship the beast and his image, and receive his mark in his forehead, or in his hand,\n",
      "  The same shall drink of the wine of the wrath of God, which is poured out without mixture into the cup of his indignation; and he shall be tormented with fire and brimstone in the presence of the holy angels, and in the presence of the Lamb:\n",
      "  And the smoke of their torment ascendeth up for ever and ever: and they have no rest day nor night, who worship the beast and his image, and whosoever receiveth the mark of his name. John to the seven churches which are in Asia: Grace be unto you, and peace, from him which is, and which was, and which is to come; and from the seven Spirits which are before his throne;\n",
      "  And from Jesus Christ, who is the faithful witness, and the first begotten of the dead, and the prince of the kings of the earth. And he laid hold on the dragon, that old serpent, which is the Devil, and Satan, and bound him a thousand years,\n",
      "  And cast him into the bottomless pit, and shut him up, and set a seal upon him, that he should deceive the nations no more, till the thousand years should be fulfilled: and after that he must be loosed a little season. And unto the angel of the church in Thyatira write; These things saith the Son of God, who hath his eyes like unto a flame of fire, and his feet are like fine brass;\n",
      "  I know thy works, and charity, and service, and faith, and thy patience, and thy works; and the last to be more than the first. And I beheld when he had opened the sixth seal, and, lo, there was a great earthquake; and the sun became black as sackcloth of hair, and the moon became as blood;\n",
      "  And the stars of heaven fell unto the earth, even as a fig tree casteth her untimely figs, when she is shaken of a mighty wind. And the four beasts said, Amen. And the remnant were slain with the sword of him that sat upon the horse, which sword proceeded out of his mouth: and all the fowls were filled with their flesh.\n",
      "============================================================\n",
      "Sum pooling:\n",
      "------------\n",
      "And I heard a great voice out of heaven saying, Behold, the tabernacle of God is with men, and he will dwell with them, and they shall be his people, and God himself shall be with them, and be their God. And unto the angel of the church in Sardis write; These things saith he that hath the seven Spirits of God, and the seven stars; I know thy works, that thou hast a name that thou livest, and art dead. And after these things I saw another angel come down from heaven, having great power; and the earth was lightened with his glory. And they worshipped the dragon which gave power unto the beast: and they worshipped the beast, saying, Who is like unto the beast? And there came one of the seven angels which had the seven vials, and talked with me, saying unto me, Come hither; I will shew unto thee the judgment of the great whore that sitteth upon many waters:\n",
      "  With whom the kings of the earth have committed fornication, and the inhabitants of the earth have been made drunk with the wine of her fornication. He that hath an ear, let him hear what the Spirit saith unto the churches; He that overcometh shall not be hurt of the second death. And the voice which I heard from heaven spake unto me again, and said, Go and take the little book which is open in the hand of the angel which standeth upon the sea and upon the earth. Of the tribe of Juda were sealed twelve thousand. Fear none of those things which thou shalt suffer: behold, the devil shall cast some of you into prison, that ye may be tried; and ye shall have tribulation ten days: be thou faithful unto death, and I will give thee a crown of life. For I testify unto every man that heareth the words of the prophecy of this book, If any man shall add unto these things, God shall add unto him the plagues that are written in this book:\n",
      "  And if any man shall take away from the words of the book of this prophecy, God shall take away his part out of the book of life, and out of the holy city, and from the things which are written in this book.\n",
      "\n",
      "**********************************\n",
      "*** Transformers Consolidation ***\n",
      "**********************************\n",
      "Sentence pooling:\n",
      "-----------------\n",
      "And I beheld, and, lo, in the midst of the throne and of the four beasts, and in the midst of the elders, stood a Lamb as it had been slain, having seven horns and seven eyes, which are the seven Spirits of God sent forth into all the earth. And men were scorched with great heat, and blasphemed the name of God, which hath power over these plagues: and they repented not to give him glory. And whosoever will, let him take the water of life freely. And he saith unto me, Seal not the sayings of the prophecy of this book: for the time is at hand. For her sins have reached unto heaven, and God hath remembered her iniquities. And out of his mouth goeth a sharp sword, that with it he should smite the nations: and he shall rule them with a rod of iron: and he treadeth the winepress of the fierceness and wrath of Almighty God. And another angel came out of the temple, crying with a loud voice to him that sat on the cloud, Thrust in thy sickle, and reap: for the time is come for thee to reap; for the harvest of the earth is ripe. And I heard a great voice out of heaven saying, Behold, the tabernacle of God is with men, and he will dwell with them, and they shall be his people, and God himself shall be with them, and be their God. And the dragon was wroth with the woman, and went to make war with the remnant of her seed, which keep the commandments of God, and have the testimony of Jesus Christ. But the fearful, and unbelieving, and the abominable, and murderers, and whoremongers, and sorcerers, and idolaters, and all liars, shall have their part in the lake which burneth with fire and brimstone: which is the second death. And I saw heaven opened, and behold a white horse; and he that sat upon him was called Faithful and True, and in righteousness he doth judge and make war.\n",
      "============================================================\n",
      "Chunk pooling:\n",
      "--------------\n",
      "And I beheld, and, lo, in the midst of the throne and of the four beasts, and in the midst of the elders, stood a Lamb as it had been slain, having seven horns and seven eyes, which are the seven Spirits of God sent forth into all the earth. And men were scorched with great heat, and blasphemed the name of God, which hath power over these plagues: and they repented not to give him glory. And a mighty angel took up a stone like a great millstone, and cast it into the sea, saying, Thus with violence shall that great city Babylon be thrown down, and shall be found no more at all. For they have shed the blood of saints and prophets, and thou hast given them blood to drink; for they are worthy. But the fearful, and unbelieving, and the abominable, and murderers, and whoremongers, and sorcerers, and idolaters, and all liars, shall have their part in the lake which burneth with fire and brimstone: which is the second death. And the merchants of the earth shall weep and mourn over her; for no man buyeth their merchandise any more:\n",
      "  The merchandise of gold, and silver, and precious stones, and of pearls, and fine linen, and purple, and silk, and scarlet, and all thyine wood, and all manner vessels of ivory, and all manner vessels of most precious wood, and of brass, and iron, and marble,\n",
      "  And cinnamon, and odours, and ointments, and frankincense, and wine, and oil, and fine flour, and wheat, and beasts, and sheep, and horses, and chariots, and slaves, and souls of men. He that hath an ear, let him hear what the Spirit saith unto the churches; To him that overcometh will I give to eat of the hidden manna, and will give him a white stone, and in the stone a new name written, which no man knoweth saving he that receiveth it. And I heard the angel of the waters say, Thou art righteous, O Lord, which art, and wast, and shalt be, because thou hast judged thus.\n"
     ]
    }
   ],
   "source": [
    "printing(revelation)"
   ]
  },
  {
   "cell_type": "code",
   "execution_count": 245,
   "id": "573db1b8-d3d0-482a-ab17-865cfc154041",
   "metadata": {},
   "outputs": [
    {
     "data": {
      "text/plain": [
       "' In the midst of the seven candlesticks one like unto the Son of man, clothed with a garment down to the foot, and girt about the paps with a golden girdle . He had in his right hand seven stars: and out of his mouth went a sharp twoedged sword . After this I looked, and, behold, a door was opened in heaven . There were seven lamps of fire burning before the throne are the seven Spirits of God . All the angels stood round about the throne, and about the elders and the four beasts, and worshipped God, saying, Amen . They shall hunger no more, neither thirst any more; neither shall the sun light on them, nor any heat . And there were voices, and thunderings, and lightnings, and an earthquake . To him that overcometh will  And thus I saw the horses in the vision, and them that sat on them, having breastplates of fire, and of jacinth, and brimstone . The heads of the horses were as the heads of lions; and out of their mouths issued fire and smoke and brimstones . By these three was the third part of men killed, by the fire,  by the smoke, and by the brimstone, which issued  In the days of the voice of the seventh angel, when he shall begin to sound, the mystery of God should be finished . These are the two olive trees, and the two candlesticks standing before  And I beheld another beast coming up out of the earth; and he had two horns like a lamb, and he spake as a dragon . One of the four beasts gave unto the seven angels seven golden vials full of the  The sound of a millstone shall be heard no more at all at all  in thee’ –\\xa0and the light of a  a great voice of much people in heaven, said, Alleluia . And I saw heaven opened, and behold a white horse; and he that sat upon him was called Faithful and True, and in righteousness he doth judge and make war . This is the first resurrection. On such the second death hath no power . '"
      ]
     },
     "execution_count": 245,
     "metadata": {},
     "output_type": "execute_result"
    }
   ],
   "source": [
    "summarization_pipeline_consolidation(revelation)"
   ]
  }
 ],
 "metadata": {
  "kernelspec": {
   "display_name": "Python 3 (ipykernel)",
   "language": "python",
   "name": "python3"
  },
  "language_info": {
   "codemirror_mode": {
    "name": "ipython",
    "version": 3
   },
   "file_extension": ".py",
   "mimetype": "text/x-python",
   "name": "python",
   "nbconvert_exporter": "python",
   "pygments_lexer": "ipython3",
   "version": "3.13.5"
  }
 },
 "nbformat": 4,
 "nbformat_minor": 5
}
